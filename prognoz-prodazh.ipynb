{
 "cells": [
  {
   "cell_type": "markdown",
   "metadata": {},
   "source": [
    "# Прогнозирование оттока клиентов в сети отелей «Как в гостях»"
   ]
  },
  {
   "cell_type": "markdown",
   "metadata": {},
   "source": [
    "## Описание и цели проекта\n",
    "\n",
    "Заказчик этого исследования — сеть отелей «Как в гостях».\n",
    "\n",
    "Чтобы привлечь клиентов, эта сеть добавила на свой сайт возможность забронировать номер без предоплаты. Однако если клиент отменял бронирование, то компания терпела убытки. Сотрудники отеля могли, например, закупить продукты к приезду гостя или просто не успеть найти другого клиента.\n",
    "\n",
    "Чтобы решить эту проблему, нужно разработать систему, которая предсказывает отказ от брони. Если модель покажет, что бронь будет отменена, то клиенту предлагается внести депозит. Размер депозита — 80% от стоимости номера за одни сутки и затрат на разовую уборку. Деньги будут списаны со счёта клиента, если он всё же отменит бронь.\n",
    "\n",
    "В отеле есть несколько типов номеров. В зависимости от типа номера назначается стоимость за одну ночь. Есть также затраты на уборку. Если клиент снял номер надолго, то убираются каждые два дня.\n",
    "\n",
    "Стоимость номеров отеля:\n",
    "- категория A: за ночь — 1 000, разовое обслуживание — 400;\n",
    "- категория B: за ночь — 800, разовое обслуживание — 350;\n",
    "- категория C: за ночь — 600, разовое обслуживание — 350;\n",
    "- категория D: за ночь — 550, разовое обслуживание — 150;\n",
    "- категория E: за ночь — 500, разовое обслуживание — 150;\n",
    "- категория F: за ночь — 450, разовое обслуживание — 150;\n",
    "- категория G: за ночь — 350, разовое обслуживание — 150.\n",
    "\n",
    "В ценовой политике отеля используются сезонные коэффициенты: весной и осенью цены повышаются на 20%, летом — на 40%.\n",
    "\n",
    "Убытки отеля в случае отмены брони номера — это стоимость одной уборки и одной ночи с учётом сезонного коэффициента.\n",
    "\n",
    "На разработку системы прогнозирования заложен бюджет — 400 000. При этом необходимо учесть, что внедрение модели должно окупиться за тестовый период. Затраты на разработку должны быть меньше той выручки, которую система принесёт компании.\n",
    "\n",
    "**ОПИСАНИЕ ДАННЫХ**\n",
    "\n",
    "В таблицах `hotel_train` и `hotel_test` содержатся одинаковые столбцы:\n",
    "- `id` — номер записи;\n",
    "- `adults` — количество взрослых постояльцев;\n",
    "- `arrival_date_year` — год заезда;\n",
    "- `arrival_date_month` — месяц заезда;\n",
    "- `arrival_date_week_number` — неделя заезда;\n",
    "- `arrival_date_day_of_month` — день заезда;\n",
    "- `babies` — количество младенцев;\n",
    "- `booking_changes` — количество изменений параметров заказа;\n",
    "- `children` — количество детей от 3 до 14 лет;\n",
    "- `country` — гражданство постояльца;\n",
    "- `customer_type` — тип заказчика:\n",
    "  - `Contract` — договор с юридическим лицом;\n",
    "  - `Group` — групповой заезд;\n",
    "  - `Transient` — не связано с договором или групповым заездом;\n",
    "  - `Transient-party` — не связано с договором или групповым заездом, но связано с бронированием типа Transient.\n",
    "- `days_in_waiting_list` — сколько дней заказ ожидал подтверждения;\n",
    "- `distribution_channel` — канал дистрибуции заказа;\n",
    "- `is_canceled` — отмена заказа;\n",
    "- `is_repeated_guest` — признак того, что гость бронирует номер второй раз;\n",
    "- `lead_time` — количество дней между датой бронирования и датой прибытия;\n",
    "- `meal` — опции заказа:\n",
    "  - `SC` — нет дополнительных опций;\n",
    "  - `BB` — включён завтрак;\n",
    "  - `HB` — включён завтрак и обед;\n",
    "  - `FB` — включён завтрак, обед и ужин.\n",
    "- `previous_bookings_not_canceled` — количество подтверждённых заказов у клиента;\n",
    "- `previous_cancellations` — количество отменённых заказов у клиента;\n",
    "- `required_car_parking_spaces` — необходимость места для автомобиля;\n",
    "- `reserved_room_type` — тип забронированной комнаты;\n",
    "- `stays_in_weekend_nights` — количество ночей в выходные дни;\n",
    "- `stays_in_week_nights` — количество ночей в будние дни;\n",
    "- `total_nights` — общее количество ночей;\n",
    "- \n",
    "`total_of_special_requests` — количество специальных отметок."
   ]
  },
  {
   "cell_type": "code",
   "execution_count": 1,
   "metadata": {},
   "outputs": [
    {
     "name": "stdout",
     "output_type": "stream",
     "text": [
      "Requirement already satisfied: pandas_profiling[notebook] in /opt/conda/lib/python3.9/site-packages (3.6.6)\n",
      "Requirement already satisfied: ydata-profiling in /opt/conda/lib/python3.9/site-packages (from pandas_profiling[notebook]) (4.5.1)\n",
      "Requirement already satisfied: jupyter-client>=5.3.4 in /opt/conda/lib/python3.9/site-packages (from pandas_profiling[notebook]) (6.1.12)\n",
      "Requirement already satisfied: jupyter-core>=4.6.3 in /opt/conda/lib/python3.9/site-packages (from pandas_profiling[notebook]) (4.7.1)\n",
      "Requirement already satisfied: ipywidgets>=7.5.1 in /opt/conda/lib/python3.9/site-packages (from pandas_profiling[notebook]) (7.6.3)\n",
      "Requirement already satisfied: widgetsnbextension~=3.5.0 in /opt/conda/lib/python3.9/site-packages (from ipywidgets>=7.5.1->pandas_profiling[notebook]) (3.5.2)\n",
      "Requirement already satisfied: ipython>=4.0.0 in /opt/conda/lib/python3.9/site-packages (from ipywidgets>=7.5.1->pandas_profiling[notebook]) (7.25.0)\n",
      "Requirement already satisfied: jupyterlab-widgets>=1.0.0 in /opt/conda/lib/python3.9/site-packages (from ipywidgets>=7.5.1->pandas_profiling[notebook]) (3.0.2)\n",
      "Requirement already satisfied: traitlets>=4.3.1 in /opt/conda/lib/python3.9/site-packages (from ipywidgets>=7.5.1->pandas_profiling[notebook]) (5.0.5)\n",
      "Requirement already satisfied: nbformat>=4.2.0 in /opt/conda/lib/python3.9/site-packages (from ipywidgets>=7.5.1->pandas_profiling[notebook]) (5.1.3)\n",
      "Requirement already satisfied: ipykernel>=4.5.1 in /opt/conda/lib/python3.9/site-packages (from ipywidgets>=7.5.1->pandas_profiling[notebook]) (6.0.1)\n",
      "Requirement already satisfied: tornado>=4.2 in /opt/conda/lib/python3.9/site-packages (from ipykernel>=4.5.1->ipywidgets>=7.5.1->pandas_profiling[notebook]) (6.1)\n",
      "Requirement already satisfied: debugpy>=1.0.0 in /opt/conda/lib/python3.9/site-packages (from ipykernel>=4.5.1->ipywidgets>=7.5.1->pandas_profiling[notebook]) (1.3.0)\n",
      "Requirement already satisfied: matplotlib-inline in /opt/conda/lib/python3.9/site-packages (from ipython>=4.0.0->ipywidgets>=7.5.1->pandas_profiling[notebook]) (0.1.2)\n",
      "Requirement already satisfied: setuptools>=18.5 in /opt/conda/lib/python3.9/site-packages (from ipython>=4.0.0->ipywidgets>=7.5.1->pandas_profiling[notebook]) (49.6.0.post20210108)\n",
      "Requirement already satisfied: backcall in /opt/conda/lib/python3.9/site-packages (from ipython>=4.0.0->ipywidgets>=7.5.1->pandas_profiling[notebook]) (0.2.0)\n",
      "Requirement already satisfied: jedi>=0.16 in /opt/conda/lib/python3.9/site-packages (from ipython>=4.0.0->ipywidgets>=7.5.1->pandas_profiling[notebook]) (0.18.0)\n",
      "Requirement already satisfied: pexpect>4.3 in /opt/conda/lib/python3.9/site-packages (from ipython>=4.0.0->ipywidgets>=7.5.1->pandas_profiling[notebook]) (4.8.0)\n",
      "Requirement already satisfied: decorator in /opt/conda/lib/python3.9/site-packages (from ipython>=4.0.0->ipywidgets>=7.5.1->pandas_profiling[notebook]) (5.0.9)\n",
      "Requirement already satisfied: prompt-toolkit!=3.0.0,!=3.0.1,<3.1.0,>=2.0.0 in /opt/conda/lib/python3.9/site-packages (from ipython>=4.0.0->ipywidgets>=7.5.1->pandas_profiling[notebook]) (3.0.19)\n",
      "Requirement already satisfied: pygments in /opt/conda/lib/python3.9/site-packages (from ipython>=4.0.0->ipywidgets>=7.5.1->pandas_profiling[notebook]) (2.9.0)\n",
      "Requirement already satisfied: pickleshare in /opt/conda/lib/python3.9/site-packages (from ipython>=4.0.0->ipywidgets>=7.5.1->pandas_profiling[notebook]) (0.7.5)\n",
      "Requirement already satisfied: parso<0.9.0,>=0.8.0 in /opt/conda/lib/python3.9/site-packages (from jedi>=0.16->ipython>=4.0.0->ipywidgets>=7.5.1->pandas_profiling[notebook]) (0.8.2)\n",
      "Requirement already satisfied: pyzmq>=13 in /opt/conda/lib/python3.9/site-packages (from jupyter-client>=5.3.4->pandas_profiling[notebook]) (22.1.0)\n",
      "Requirement already satisfied: python-dateutil>=2.1 in /opt/conda/lib/python3.9/site-packages (from jupyter-client>=5.3.4->pandas_profiling[notebook]) (2.8.1)\n",
      "Requirement already satisfied: jsonschema!=2.5.0,>=2.4 in /opt/conda/lib/python3.9/site-packages (from nbformat>=4.2.0->ipywidgets>=7.5.1->pandas_profiling[notebook]) (3.2.0)\n",
      "Requirement already satisfied: ipython-genutils in /opt/conda/lib/python3.9/site-packages (from nbformat>=4.2.0->ipywidgets>=7.5.1->pandas_profiling[notebook]) (0.2.0)\n",
      "Requirement already satisfied: pyrsistent>=0.14.0 in /opt/conda/lib/python3.9/site-packages (from jsonschema!=2.5.0,>=2.4->nbformat>=4.2.0->ipywidgets>=7.5.1->pandas_profiling[notebook]) (0.17.3)\n",
      "Requirement already satisfied: attrs>=17.4.0 in /opt/conda/lib/python3.9/site-packages (from jsonschema!=2.5.0,>=2.4->nbformat>=4.2.0->ipywidgets>=7.5.1->pandas_profiling[notebook]) (21.2.0)\n",
      "Requirement already satisfied: six>=1.11.0 in /opt/conda/lib/python3.9/site-packages (from jsonschema!=2.5.0,>=2.4->nbformat>=4.2.0->ipywidgets>=7.5.1->pandas_profiling[notebook]) (1.16.0)\n",
      "Requirement already satisfied: ptyprocess>=0.5 in /opt/conda/lib/python3.9/site-packages (from pexpect>4.3->ipython>=4.0.0->ipywidgets>=7.5.1->pandas_profiling[notebook]) (0.7.0)\n",
      "Requirement already satisfied: wcwidth in /opt/conda/lib/python3.9/site-packages (from prompt-toolkit!=3.0.0,!=3.0.1,<3.1.0,>=2.0.0->ipython>=4.0.0->ipywidgets>=7.5.1->pandas_profiling[notebook]) (0.2.5)\n",
      "Requirement already satisfied: notebook>=4.4.1 in /opt/conda/lib/python3.9/site-packages (from widgetsnbextension~=3.5.0->ipywidgets>=7.5.1->pandas_profiling[notebook]) (6.4.0)\n",
      "Requirement already satisfied: argon2-cffi in /opt/conda/lib/python3.9/site-packages (from notebook>=4.4.1->widgetsnbextension~=3.5.0->ipywidgets>=7.5.1->pandas_profiling[notebook]) (20.1.0)\n",
      "Requirement already satisfied: jinja2 in /opt/conda/lib/python3.9/site-packages (from notebook>=4.4.1->widgetsnbextension~=3.5.0->ipywidgets>=7.5.1->pandas_profiling[notebook]) (3.0.1)\n",
      "Requirement already satisfied: nbconvert in /opt/conda/lib/python3.9/site-packages (from notebook>=4.4.1->widgetsnbextension~=3.5.0->ipywidgets>=7.5.1->pandas_profiling[notebook]) (6.1.0)\n",
      "Requirement already satisfied: Send2Trash>=1.5.0 in /opt/conda/lib/python3.9/site-packages (from notebook>=4.4.1->widgetsnbextension~=3.5.0->ipywidgets>=7.5.1->pandas_profiling[notebook]) (1.7.1)\n",
      "Requirement already satisfied: prometheus-client in /opt/conda/lib/python3.9/site-packages (from notebook>=4.4.1->widgetsnbextension~=3.5.0->ipywidgets>=7.5.1->pandas_profiling[notebook]) (0.11.0)\n",
      "Requirement already satisfied: terminado>=0.8.3 in /opt/conda/lib/python3.9/site-packages (from notebook>=4.4.1->widgetsnbextension~=3.5.0->ipywidgets>=7.5.1->pandas_profiling[notebook]) (0.10.1)\n",
      "Requirement already satisfied: cffi>=1.0.0 in /opt/conda/lib/python3.9/site-packages (from argon2-cffi->notebook>=4.4.1->widgetsnbextension~=3.5.0->ipywidgets>=7.5.1->pandas_profiling[notebook]) (1.14.5)\n",
      "Requirement already satisfied: pycparser in /opt/conda/lib/python3.9/site-packages (from cffi>=1.0.0->argon2-cffi->notebook>=4.4.1->widgetsnbextension~=3.5.0->ipywidgets>=7.5.1->pandas_profiling[notebook]) (2.20)\n",
      "Requirement already satisfied: MarkupSafe>=2.0 in /opt/conda/lib/python3.9/site-packages (from jinja2->notebook>=4.4.1->widgetsnbextension~=3.5.0->ipywidgets>=7.5.1->pandas_profiling[notebook]) (2.1.1)\n",
      "Requirement already satisfied: mistune<2,>=0.8.1 in /opt/conda/lib/python3.9/site-packages (from nbconvert->notebook>=4.4.1->widgetsnbextension~=3.5.0->ipywidgets>=7.5.1->pandas_profiling[notebook]) (0.8.4)\n",
      "Requirement already satisfied: testpath in /opt/conda/lib/python3.9/site-packages (from nbconvert->notebook>=4.4.1->widgetsnbextension~=3.5.0->ipywidgets>=7.5.1->pandas_profiling[notebook]) (0.5.0)\n",
      "Requirement already satisfied: entrypoints>=0.2.2 in /opt/conda/lib/python3.9/site-packages (from nbconvert->notebook>=4.4.1->widgetsnbextension~=3.5.0->ipywidgets>=7.5.1->pandas_profiling[notebook]) (0.3)\n",
      "Requirement already satisfied: defusedxml in /opt/conda/lib/python3.9/site-packages (from nbconvert->notebook>=4.4.1->widgetsnbextension~=3.5.0->ipywidgets>=7.5.1->pandas_profiling[notebook]) (0.7.1)\n",
      "Requirement already satisfied: pandocfilters>=1.4.1 in /opt/conda/lib/python3.9/site-packages (from nbconvert->notebook>=4.4.1->widgetsnbextension~=3.5.0->ipywidgets>=7.5.1->pandas_profiling[notebook]) (1.4.2)\n",
      "Requirement already satisfied: jupyterlab-pygments in /opt/conda/lib/python3.9/site-packages (from nbconvert->notebook>=4.4.1->widgetsnbextension~=3.5.0->ipywidgets>=7.5.1->pandas_profiling[notebook]) (0.1.2)\n",
      "Requirement already satisfied: bleach in /opt/conda/lib/python3.9/site-packages (from nbconvert->notebook>=4.4.1->widgetsnbextension~=3.5.0->ipywidgets>=7.5.1->pandas_profiling[notebook]) (3.3.0)\n",
      "Requirement already satisfied: nbclient<0.6.0,>=0.5.0 in /opt/conda/lib/python3.9/site-packages (from nbconvert->notebook>=4.4.1->widgetsnbextension~=3.5.0->ipywidgets>=7.5.1->pandas_profiling[notebook]) (0.5.3)\n",
      "Requirement already satisfied: nest-asyncio in /opt/conda/lib/python3.9/site-packages (from nbclient<0.6.0,>=0.5.0->nbconvert->notebook>=4.4.1->widgetsnbextension~=3.5.0->ipywidgets>=7.5.1->pandas_profiling[notebook]) (1.5.1)\n",
      "Requirement already satisfied: async-generator in /opt/conda/lib/python3.9/site-packages (from nbclient<0.6.0,>=0.5.0->nbconvert->notebook>=4.4.1->widgetsnbextension~=3.5.0->ipywidgets>=7.5.1->pandas_profiling[notebook]) (1.10)\n",
      "Requirement already satisfied: packaging in /opt/conda/lib/python3.9/site-packages (from bleach->nbconvert->notebook>=4.4.1->widgetsnbextension~=3.5.0->ipywidgets>=7.5.1->pandas_profiling[notebook]) (21.3)\n",
      "Requirement already satisfied: webencodings in /opt/conda/lib/python3.9/site-packages (from bleach->nbconvert->notebook>=4.4.1->widgetsnbextension~=3.5.0->ipywidgets>=7.5.1->pandas_profiling[notebook]) (0.5.1)\n",
      "Requirement already satisfied: pyparsing!=3.0.5,>=2.0.2 in /opt/conda/lib/python3.9/site-packages (from packaging->bleach->nbconvert->notebook>=4.4.1->widgetsnbextension~=3.5.0->ipywidgets>=7.5.1->pandas_profiling[notebook]) (2.4.7)\n",
      "Requirement already satisfied: wordcloud>=1.9.1 in /opt/conda/lib/python3.9/site-packages (from ydata-profiling->pandas_profiling[notebook]) (1.9.2)\n",
      "Requirement already satisfied: pandas!=1.4.0,<2.1,>1.1 in /opt/conda/lib/python3.9/site-packages (from ydata-profiling->pandas_profiling[notebook]) (1.2.4)\n",
      "Requirement already satisfied: dacite>=1.8 in /opt/conda/lib/python3.9/site-packages (from ydata-profiling->pandas_profiling[notebook]) (1.8.1)\n",
      "Requirement already satisfied: seaborn<0.13,>=0.10.1 in /opt/conda/lib/python3.9/site-packages (from ydata-profiling->pandas_profiling[notebook]) (0.11.1)\n",
      "Requirement already satisfied: imagehash==4.3.1 in /opt/conda/lib/python3.9/site-packages (from ydata-profiling->pandas_profiling[notebook]) (4.3.1)\n",
      "Requirement already satisfied: phik<0.13,>=0.11.1 in /opt/conda/lib/python3.9/site-packages (from ydata-profiling->pandas_profiling[notebook]) (0.12.3)\n",
      "Requirement already satisfied: tqdm<5,>=4.48.2 in /opt/conda/lib/python3.9/site-packages (from ydata-profiling->pandas_profiling[notebook]) (4.61.2)\n",
      "Requirement already satisfied: statsmodels<1,>=0.13.2 in /opt/conda/lib/python3.9/site-packages (from ydata-profiling->pandas_profiling[notebook]) (0.13.2)\n",
      "Requirement already satisfied: typeguard<3,>=2.13.2 in /opt/conda/lib/python3.9/site-packages (from ydata-profiling->pandas_profiling[notebook]) (2.13.3)\n",
      "Requirement already satisfied: scipy<1.12,>=1.4.1 in /opt/conda/lib/python3.9/site-packages (from ydata-profiling->pandas_profiling[notebook]) (1.9.1)\n",
      "Requirement already satisfied: pydantic<2,>=1.8.1 in /opt/conda/lib/python3.9/site-packages (from ydata-profiling->pandas_profiling[notebook]) (1.8.2)\n",
      "Requirement already satisfied: visions[type_image_path]==0.7.5 in /opt/conda/lib/python3.9/site-packages (from ydata-profiling->pandas_profiling[notebook]) (0.7.5)\n",
      "Requirement already satisfied: matplotlib<4,>=3.2 in /opt/conda/lib/python3.9/site-packages (from ydata-profiling->pandas_profiling[notebook]) (3.3.4)\n",
      "Requirement already satisfied: multimethod<2,>=1.4 in /opt/conda/lib/python3.9/site-packages (from ydata-profiling->pandas_profiling[notebook]) (1.9.1)\n",
      "Requirement already satisfied: numpy<1.24,>=1.16.0 in /opt/conda/lib/python3.9/site-packages (from ydata-profiling->pandas_profiling[notebook]) (1.21.1)\n",
      "Requirement already satisfied: requests<3,>=2.24.0 in /opt/conda/lib/python3.9/site-packages (from ydata-profiling->pandas_profiling[notebook]) (2.25.1)\n",
      "Requirement already satisfied: htmlmin==0.1.12 in /opt/conda/lib/python3.9/site-packages (from ydata-profiling->pandas_profiling[notebook]) (0.1.12)\n",
      "Requirement already satisfied: PyYAML<6.1,>=5.0.0 in /opt/conda/lib/python3.9/site-packages (from ydata-profiling->pandas_profiling[notebook]) (6.0)\n",
      "Requirement already satisfied: PyWavelets in /opt/conda/lib/python3.9/site-packages (from imagehash==4.3.1->ydata-profiling->pandas_profiling[notebook]) (1.4.1)\n",
      "Requirement already satisfied: pillow in /opt/conda/lib/python3.9/site-packages (from imagehash==4.3.1->ydata-profiling->pandas_profiling[notebook]) (8.4.0)\n",
      "Requirement already satisfied: networkx>=2.4 in /opt/conda/lib/python3.9/site-packages (from visions[type_image_path]==0.7.5->ydata-profiling->pandas_profiling[notebook]) (3.1)\n",
      "Requirement already satisfied: tangled-up-in-unicode>=0.0.4 in /opt/conda/lib/python3.9/site-packages (from visions[type_image_path]==0.7.5->ydata-profiling->pandas_profiling[notebook]) (0.2.0)\n",
      "Requirement already satisfied: kiwisolver>=1.0.1 in /opt/conda/lib/python3.9/site-packages (from matplotlib<4,>=3.2->ydata-profiling->pandas_profiling[notebook]) (1.4.4)\n",
      "Requirement already satisfied: cycler>=0.10 in /opt/conda/lib/python3.9/site-packages (from matplotlib<4,>=3.2->ydata-profiling->pandas_profiling[notebook]) (0.11.0)\n",
      "Requirement already satisfied: pytz>=2017.3 in /opt/conda/lib/python3.9/site-packages (from pandas!=1.4.0,<2.1,>1.1->ydata-profiling->pandas_profiling[notebook]) (2021.1)\n",
      "Requirement already satisfied: joblib>=0.14.1 in /opt/conda/lib/python3.9/site-packages (from phik<0.13,>=0.11.1->ydata-profiling->pandas_profiling[notebook]) (1.1.0)\n",
      "Requirement already satisfied: typing-extensions>=3.7.4.3 in /opt/conda/lib/python3.9/site-packages (from pydantic<2,>=1.8.1->ydata-profiling->pandas_profiling[notebook]) (4.3.0)\n",
      "Requirement already satisfied: chardet<5,>=3.0.2 in /opt/conda/lib/python3.9/site-packages (from requests<3,>=2.24.0->ydata-profiling->pandas_profiling[notebook]) (4.0.0)\n",
      "Requirement already satisfied: urllib3<1.27,>=1.21.1 in /opt/conda/lib/python3.9/site-packages (from requests<3,>=2.24.0->ydata-profiling->pandas_profiling[notebook]) (1.26.6)\n",
      "Requirement already satisfied: idna<3,>=2.5 in /opt/conda/lib/python3.9/site-packages (from requests<3,>=2.24.0->ydata-profiling->pandas_profiling[notebook]) (2.10)\n",
      "Requirement already satisfied: certifi>=2017.4.17 in /opt/conda/lib/python3.9/site-packages (from requests<3,>=2.24.0->ydata-profiling->pandas_profiling[notebook]) (2022.6.15)\n",
      "Requirement already satisfied: patsy>=0.5.2 in /opt/conda/lib/python3.9/site-packages (from statsmodels<1,>=0.13.2->ydata-profiling->pandas_profiling[notebook]) (0.5.2)\n"
     ]
    }
   ],
   "source": [
    "# Проинсталируем ydata-profiling\n",
    "!pip install pandas_profiling[notebook]"
   ]
  },
  {
   "cell_type": "code",
   "execution_count": 2,
   "metadata": {},
   "outputs": [
    {
     "name": "stdout",
     "output_type": "stream",
     "text": [
      "Requirement already satisfied: scikit-learn==1.1.3 in /opt/conda/lib/python3.9/site-packages (1.1.3)\n",
      "Requirement already satisfied: numpy>=1.17.3 in /opt/conda/lib/python3.9/site-packages (from scikit-learn==1.1.3) (1.21.1)\n",
      "Requirement already satisfied: threadpoolctl>=2.0.0 in /opt/conda/lib/python3.9/site-packages (from scikit-learn==1.1.3) (3.1.0)\n",
      "Requirement already satisfied: scipy>=1.3.2 in /opt/conda/lib/python3.9/site-packages (from scikit-learn==1.1.3) (1.9.1)\n",
      "Requirement already satisfied: joblib>=1.0.0 in /opt/conda/lib/python3.9/site-packages (from scikit-learn==1.1.3) (1.1.0)\n"
     ]
    }
   ],
   "source": [
    "!pip install scikit-learn==1.1.3"
   ]
  },
  {
   "cell_type": "markdown",
   "metadata": {},
   "source": [
    "## Шаг 1. Откройте файлы с данными"
   ]
  },
  {
   "cell_type": "code",
   "execution_count": 3,
   "metadata": {},
   "outputs": [
    {
     "name": "stderr",
     "output_type": "stream",
     "text": [
      "/tmp/ipykernel_301/2813956462.py:5: DeprecationWarning: `import pandas_profiling` is going to be deprecated by April 1st. Please use `import ydata_profiling` instead.\n",
      "  import pandas_profiling\n"
     ]
    }
   ],
   "source": [
    "import pandas as pd\n",
    "import seaborn as sns\n",
    "import matplotlib.pyplot as plt\n",
    "import math\n",
    "import pandas_profiling\n",
    "from termcolor import colored\n",
    "from pandas_profiling import ProfileReport\n",
    "from sklearn.preprocessing import OneHotEncoder, StandardScaler\n",
    "from sklearn.tree import DecisionTreeClassifier\n",
    "from sklearn.ensemble import RandomForestClassifier\n",
    "from sklearn.linear_model import LogisticRegression\n",
    "from sklearn.model_selection import cross_val_score, RandomizedSearchCV, GridSearchCV\n",
    "from sklearn.metrics import f1_score, accuracy_score, roc_auc_score"
   ]
  },
  {
   "cell_type": "code",
   "execution_count": 4,
   "metadata": {},
   "outputs": [],
   "source": [
    "try:\n",
    "    df_train = pd.read_csv('/datasets/hotel_train.csv')\n",
    "    df_test = pd.read_csv('/datasets/hotel_test.csv')\n",
    "except:\n",
    "    df_train = pd.read_csv('https://code.s3.yandex.net/datasets/hotel_train.csv')\n",
    "    df_test = pd.read_csv('https://code.s3.yandex.net/datasets/hotel_test.csv')\n",
    "pd.set_option('display.max_columns', None)\n",
    "pd.set_option('display.float_format', '{:,.2f}'.format)"
   ]
  },
  {
   "cell_type": "code",
   "execution_count": 5,
   "metadata": {},
   "outputs": [
    {
     "data": {
      "text/html": [
       "<div>\n",
       "<style scoped>\n",
       "    .dataframe tbody tr th:only-of-type {\n",
       "        vertical-align: middle;\n",
       "    }\n",
       "\n",
       "    .dataframe tbody tr th {\n",
       "        vertical-align: top;\n",
       "    }\n",
       "\n",
       "    .dataframe thead th {\n",
       "        text-align: right;\n",
       "    }\n",
       "</style>\n",
       "<table border=\"1\" class=\"dataframe\">\n",
       "  <thead>\n",
       "    <tr style=\"text-align: right;\">\n",
       "      <th></th>\n",
       "      <th>id</th>\n",
       "      <th>is_canceled</th>\n",
       "      <th>lead_time</th>\n",
       "      <th>arrival_date_year</th>\n",
       "      <th>arrival_date_month</th>\n",
       "      <th>arrival_date_week_number</th>\n",
       "      <th>arrival_date_day_of_month</th>\n",
       "      <th>stays_in_weekend_nights</th>\n",
       "      <th>stays_in_week_nights</th>\n",
       "      <th>adults</th>\n",
       "      <th>children</th>\n",
       "      <th>babies</th>\n",
       "      <th>meal</th>\n",
       "      <th>country</th>\n",
       "      <th>distribution_channel</th>\n",
       "      <th>is_repeated_guest</th>\n",
       "      <th>previous_cancellations</th>\n",
       "      <th>previous_bookings_not_canceled</th>\n",
       "      <th>reserved_room_type</th>\n",
       "      <th>booking_changes</th>\n",
       "      <th>days_in_waiting_list</th>\n",
       "      <th>customer_type</th>\n",
       "      <th>required_car_parking_spaces</th>\n",
       "      <th>total_of_special_requests</th>\n",
       "      <th>total_nights</th>\n",
       "    </tr>\n",
       "  </thead>\n",
       "  <tbody>\n",
       "    <tr>\n",
       "      <th>0</th>\n",
       "      <td>0</td>\n",
       "      <td>0</td>\n",
       "      <td>7.00</td>\n",
       "      <td>2015</td>\n",
       "      <td>July</td>\n",
       "      <td>27</td>\n",
       "      <td>1</td>\n",
       "      <td>0</td>\n",
       "      <td>1</td>\n",
       "      <td>1.00</td>\n",
       "      <td>0.00</td>\n",
       "      <td>0.00</td>\n",
       "      <td>BB</td>\n",
       "      <td>GBR</td>\n",
       "      <td>Direct</td>\n",
       "      <td>0</td>\n",
       "      <td>0</td>\n",
       "      <td>0</td>\n",
       "      <td>A</td>\n",
       "      <td>0</td>\n",
       "      <td>0</td>\n",
       "      <td>Transient</td>\n",
       "      <td>0</td>\n",
       "      <td>0</td>\n",
       "      <td>1</td>\n",
       "    </tr>\n",
       "    <tr>\n",
       "      <th>1</th>\n",
       "      <td>1</td>\n",
       "      <td>0</td>\n",
       "      <td>14.00</td>\n",
       "      <td>2015</td>\n",
       "      <td>July</td>\n",
       "      <td>27</td>\n",
       "      <td>1</td>\n",
       "      <td>0</td>\n",
       "      <td>2</td>\n",
       "      <td>2.00</td>\n",
       "      <td>0.00</td>\n",
       "      <td>0.00</td>\n",
       "      <td>BB</td>\n",
       "      <td>GBR</td>\n",
       "      <td>TA/TO</td>\n",
       "      <td>0</td>\n",
       "      <td>0</td>\n",
       "      <td>0</td>\n",
       "      <td>A</td>\n",
       "      <td>0</td>\n",
       "      <td>0</td>\n",
       "      <td>Transient</td>\n",
       "      <td>0</td>\n",
       "      <td>1</td>\n",
       "      <td>2</td>\n",
       "    </tr>\n",
       "    <tr>\n",
       "      <th>2</th>\n",
       "      <td>2</td>\n",
       "      <td>0</td>\n",
       "      <td>0.00</td>\n",
       "      <td>2015</td>\n",
       "      <td>July</td>\n",
       "      <td>27</td>\n",
       "      <td>1</td>\n",
       "      <td>0</td>\n",
       "      <td>2</td>\n",
       "      <td>2.00</td>\n",
       "      <td>0.00</td>\n",
       "      <td>0.00</td>\n",
       "      <td>BB</td>\n",
       "      <td>PRT</td>\n",
       "      <td>Direct</td>\n",
       "      <td>0</td>\n",
       "      <td>0</td>\n",
       "      <td>0</td>\n",
       "      <td>C</td>\n",
       "      <td>0</td>\n",
       "      <td>0</td>\n",
       "      <td>Transient</td>\n",
       "      <td>0</td>\n",
       "      <td>0</td>\n",
       "      <td>2</td>\n",
       "    </tr>\n",
       "    <tr>\n",
       "      <th>3</th>\n",
       "      <td>3</td>\n",
       "      <td>0</td>\n",
       "      <td>9.00</td>\n",
       "      <td>2015</td>\n",
       "      <td>July</td>\n",
       "      <td>27</td>\n",
       "      <td>1</td>\n",
       "      <td>0</td>\n",
       "      <td>2</td>\n",
       "      <td>2.00</td>\n",
       "      <td>0.00</td>\n",
       "      <td>0.00</td>\n",
       "      <td>FB</td>\n",
       "      <td>PRT</td>\n",
       "      <td>Direct</td>\n",
       "      <td>0</td>\n",
       "      <td>0</td>\n",
       "      <td>0</td>\n",
       "      <td>C</td>\n",
       "      <td>0</td>\n",
       "      <td>0</td>\n",
       "      <td>Transient</td>\n",
       "      <td>0</td>\n",
       "      <td>1</td>\n",
       "      <td>2</td>\n",
       "    </tr>\n",
       "    <tr>\n",
       "      <th>4</th>\n",
       "      <td>4</td>\n",
       "      <td>1</td>\n",
       "      <td>85.00</td>\n",
       "      <td>2015</td>\n",
       "      <td>July</td>\n",
       "      <td>27</td>\n",
       "      <td>1</td>\n",
       "      <td>0</td>\n",
       "      <td>3</td>\n",
       "      <td>2.00</td>\n",
       "      <td>0.00</td>\n",
       "      <td>0.00</td>\n",
       "      <td>BB</td>\n",
       "      <td>PRT</td>\n",
       "      <td>TA/TO</td>\n",
       "      <td>0</td>\n",
       "      <td>0</td>\n",
       "      <td>0</td>\n",
       "      <td>A</td>\n",
       "      <td>0</td>\n",
       "      <td>0</td>\n",
       "      <td>Transient</td>\n",
       "      <td>0</td>\n",
       "      <td>1</td>\n",
       "      <td>3</td>\n",
       "    </tr>\n",
       "  </tbody>\n",
       "</table>\n",
       "</div>"
      ],
      "text/plain": [
       "   id  is_canceled  lead_time  arrival_date_year arrival_date_month  \\\n",
       "0   0            0       7.00               2015               July   \n",
       "1   1            0      14.00               2015               July   \n",
       "2   2            0       0.00               2015               July   \n",
       "3   3            0       9.00               2015               July   \n",
       "4   4            1      85.00               2015               July   \n",
       "\n",
       "   arrival_date_week_number  arrival_date_day_of_month  \\\n",
       "0                        27                          1   \n",
       "1                        27                          1   \n",
       "2                        27                          1   \n",
       "3                        27                          1   \n",
       "4                        27                          1   \n",
       "\n",
       "   stays_in_weekend_nights  stays_in_week_nights  adults  children  babies  \\\n",
       "0                        0                     1    1.00      0.00    0.00   \n",
       "1                        0                     2    2.00      0.00    0.00   \n",
       "2                        0                     2    2.00      0.00    0.00   \n",
       "3                        0                     2    2.00      0.00    0.00   \n",
       "4                        0                     3    2.00      0.00    0.00   \n",
       "\n",
       "        meal country distribution_channel  is_repeated_guest  \\\n",
       "0  BB            GBR               Direct                  0   \n",
       "1  BB            GBR                TA/TO                  0   \n",
       "2  BB            PRT               Direct                  0   \n",
       "3  FB            PRT               Direct                  0   \n",
       "4  BB            PRT                TA/TO                  0   \n",
       "\n",
       "   previous_cancellations  previous_bookings_not_canceled reserved_room_type  \\\n",
       "0                       0                               0   A                  \n",
       "1                       0                               0   A                  \n",
       "2                       0                               0   C                  \n",
       "3                       0                               0   C                  \n",
       "4                       0                               0   A                  \n",
       "\n",
       "   booking_changes  days_in_waiting_list customer_type  \\\n",
       "0                0                     0     Transient   \n",
       "1                0                     0     Transient   \n",
       "2                0                     0     Transient   \n",
       "3                0                     0     Transient   \n",
       "4                0                     0     Transient   \n",
       "\n",
       "   required_car_parking_spaces  total_of_special_requests  total_nights  \n",
       "0                            0                          0             1  \n",
       "1                            0                          1             2  \n",
       "2                            0                          0             2  \n",
       "3                            0                          1             2  \n",
       "4                            0                          1             3  "
      ]
     },
     "execution_count": 5,
     "metadata": {},
     "output_type": "execute_result"
    }
   ],
   "source": [
    "df_train.head()"
   ]
  },
  {
   "cell_type": "code",
   "execution_count": 6,
   "metadata": {},
   "outputs": [
    {
     "name": "stdout",
     "output_type": "stream",
     "text": [
      "<class 'pandas.core.frame.DataFrame'>\n",
      "RangeIndex: 65229 entries, 0 to 65228\n",
      "Data columns (total 25 columns):\n",
      " #   Column                          Non-Null Count  Dtype  \n",
      "---  ------                          --------------  -----  \n",
      " 0   id                              65229 non-null  int64  \n",
      " 1   is_canceled                     65229 non-null  int64  \n",
      " 2   lead_time                       65229 non-null  float64\n",
      " 3   arrival_date_year               65229 non-null  int64  \n",
      " 4   arrival_date_month              65229 non-null  object \n",
      " 5   arrival_date_week_number        65229 non-null  int64  \n",
      " 6   arrival_date_day_of_month       65229 non-null  int64  \n",
      " 7   stays_in_weekend_nights         65229 non-null  int64  \n",
      " 8   stays_in_week_nights            65229 non-null  int64  \n",
      " 9   adults                          65229 non-null  float64\n",
      " 10  children                        65229 non-null  float64\n",
      " 11  babies                          65229 non-null  float64\n",
      " 12  meal                            65229 non-null  object \n",
      " 13  country                         65229 non-null  object \n",
      " 14  distribution_channel            65229 non-null  object \n",
      " 15  is_repeated_guest               65229 non-null  int64  \n",
      " 16  previous_cancellations          65229 non-null  int64  \n",
      " 17  previous_bookings_not_canceled  65229 non-null  int64  \n",
      " 18  reserved_room_type              65229 non-null  object \n",
      " 19  booking_changes                 65229 non-null  int64  \n",
      " 20  days_in_waiting_list            65229 non-null  int64  \n",
      " 21  customer_type                   65229 non-null  object \n",
      " 22  required_car_parking_spaces     65229 non-null  int64  \n",
      " 23  total_of_special_requests       65229 non-null  int64  \n",
      " 24  total_nights                    65229 non-null  int64  \n",
      "dtypes: float64(4), int64(15), object(6)\n",
      "memory usage: 12.4+ MB\n"
     ]
    }
   ],
   "source": [
    "df_train.info()"
   ]
  },
  {
   "cell_type": "code",
   "execution_count": 7,
   "metadata": {},
   "outputs": [
    {
     "data": {
      "text/html": [
       "<div>\n",
       "<style scoped>\n",
       "    .dataframe tbody tr th:only-of-type {\n",
       "        vertical-align: middle;\n",
       "    }\n",
       "\n",
       "    .dataframe tbody tr th {\n",
       "        vertical-align: top;\n",
       "    }\n",
       "\n",
       "    .dataframe thead th {\n",
       "        text-align: right;\n",
       "    }\n",
       "</style>\n",
       "<table border=\"1\" class=\"dataframe\">\n",
       "  <thead>\n",
       "    <tr style=\"text-align: right;\">\n",
       "      <th></th>\n",
       "      <th>id</th>\n",
       "      <th>is_canceled</th>\n",
       "      <th>lead_time</th>\n",
       "      <th>arrival_date_year</th>\n",
       "      <th>arrival_date_month</th>\n",
       "      <th>arrival_date_week_number</th>\n",
       "      <th>arrival_date_day_of_month</th>\n",
       "      <th>stays_in_weekend_nights</th>\n",
       "      <th>stays_in_week_nights</th>\n",
       "      <th>adults</th>\n",
       "      <th>children</th>\n",
       "      <th>babies</th>\n",
       "      <th>meal</th>\n",
       "      <th>country</th>\n",
       "      <th>distribution_channel</th>\n",
       "      <th>is_repeated_guest</th>\n",
       "      <th>previous_cancellations</th>\n",
       "      <th>previous_bookings_not_canceled</th>\n",
       "      <th>reserved_room_type</th>\n",
       "      <th>booking_changes</th>\n",
       "      <th>days_in_waiting_list</th>\n",
       "      <th>customer_type</th>\n",
       "      <th>required_car_parking_spaces</th>\n",
       "      <th>total_of_special_requests</th>\n",
       "      <th>total_nights</th>\n",
       "    </tr>\n",
       "  </thead>\n",
       "  <tbody>\n",
       "    <tr>\n",
       "      <th>0</th>\n",
       "      <td>6086</td>\n",
       "      <td>1</td>\n",
       "      <td>74.00</td>\n",
       "      <td>2017</td>\n",
       "      <td>January</td>\n",
       "      <td>1</td>\n",
       "      <td>1</td>\n",
       "      <td>1</td>\n",
       "      <td>0</td>\n",
       "      <td>2.00</td>\n",
       "      <td>0.00</td>\n",
       "      <td>0.00</td>\n",
       "      <td>BB</td>\n",
       "      <td>PRT</td>\n",
       "      <td>TA/TO</td>\n",
       "      <td>0</td>\n",
       "      <td>0</td>\n",
       "      <td>0</td>\n",
       "      <td>A</td>\n",
       "      <td>0</td>\n",
       "      <td>0</td>\n",
       "      <td>Transient</td>\n",
       "      <td>0</td>\n",
       "      <td>0</td>\n",
       "      <td>1</td>\n",
       "    </tr>\n",
       "    <tr>\n",
       "      <th>1</th>\n",
       "      <td>6087</td>\n",
       "      <td>1</td>\n",
       "      <td>62.00</td>\n",
       "      <td>2017</td>\n",
       "      <td>January</td>\n",
       "      <td>1</td>\n",
       "      <td>1</td>\n",
       "      <td>2</td>\n",
       "      <td>2</td>\n",
       "      <td>2.00</td>\n",
       "      <td>0.00</td>\n",
       "      <td>0.00</td>\n",
       "      <td>BB</td>\n",
       "      <td>AUT</td>\n",
       "      <td>TA/TO</td>\n",
       "      <td>0</td>\n",
       "      <td>0</td>\n",
       "      <td>0</td>\n",
       "      <td>A</td>\n",
       "      <td>0</td>\n",
       "      <td>0</td>\n",
       "      <td>Transient</td>\n",
       "      <td>0</td>\n",
       "      <td>1</td>\n",
       "      <td>4</td>\n",
       "    </tr>\n",
       "    <tr>\n",
       "      <th>2</th>\n",
       "      <td>6088</td>\n",
       "      <td>1</td>\n",
       "      <td>62.00</td>\n",
       "      <td>2017</td>\n",
       "      <td>January</td>\n",
       "      <td>1</td>\n",
       "      <td>1</td>\n",
       "      <td>2</td>\n",
       "      <td>2</td>\n",
       "      <td>2.00</td>\n",
       "      <td>0.00</td>\n",
       "      <td>0.00</td>\n",
       "      <td>BB</td>\n",
       "      <td>AUT</td>\n",
       "      <td>TA/TO</td>\n",
       "      <td>0</td>\n",
       "      <td>0</td>\n",
       "      <td>0</td>\n",
       "      <td>A</td>\n",
       "      <td>0</td>\n",
       "      <td>0</td>\n",
       "      <td>Transient</td>\n",
       "      <td>0</td>\n",
       "      <td>1</td>\n",
       "      <td>4</td>\n",
       "    </tr>\n",
       "    <tr>\n",
       "      <th>3</th>\n",
       "      <td>6089</td>\n",
       "      <td>1</td>\n",
       "      <td>71.00</td>\n",
       "      <td>2017</td>\n",
       "      <td>January</td>\n",
       "      <td>1</td>\n",
       "      <td>1</td>\n",
       "      <td>2</td>\n",
       "      <td>2</td>\n",
       "      <td>1.00</td>\n",
       "      <td>0.00</td>\n",
       "      <td>0.00</td>\n",
       "      <td>BB</td>\n",
       "      <td>PRT</td>\n",
       "      <td>TA/TO</td>\n",
       "      <td>0</td>\n",
       "      <td>0</td>\n",
       "      <td>0</td>\n",
       "      <td>A</td>\n",
       "      <td>0</td>\n",
       "      <td>0</td>\n",
       "      <td>Transient</td>\n",
       "      <td>0</td>\n",
       "      <td>1</td>\n",
       "      <td>4</td>\n",
       "    </tr>\n",
       "    <tr>\n",
       "      <th>4</th>\n",
       "      <td>6090</td>\n",
       "      <td>1</td>\n",
       "      <td>172.00</td>\n",
       "      <td>2017</td>\n",
       "      <td>January</td>\n",
       "      <td>1</td>\n",
       "      <td>1</td>\n",
       "      <td>2</td>\n",
       "      <td>5</td>\n",
       "      <td>2.00</td>\n",
       "      <td>0.00</td>\n",
       "      <td>0.00</td>\n",
       "      <td>BB</td>\n",
       "      <td>BEL</td>\n",
       "      <td>TA/TO</td>\n",
       "      <td>0</td>\n",
       "      <td>0</td>\n",
       "      <td>0</td>\n",
       "      <td>A</td>\n",
       "      <td>0</td>\n",
       "      <td>0</td>\n",
       "      <td>Transient</td>\n",
       "      <td>0</td>\n",
       "      <td>0</td>\n",
       "      <td>7</td>\n",
       "    </tr>\n",
       "  </tbody>\n",
       "</table>\n",
       "</div>"
      ],
      "text/plain": [
       "     id  is_canceled  lead_time  arrival_date_year arrival_date_month  \\\n",
       "0  6086            1      74.00               2017            January   \n",
       "1  6087            1      62.00               2017            January   \n",
       "2  6088            1      62.00               2017            January   \n",
       "3  6089            1      71.00               2017            January   \n",
       "4  6090            1     172.00               2017            January   \n",
       "\n",
       "   arrival_date_week_number  arrival_date_day_of_month  \\\n",
       "0                         1                          1   \n",
       "1                         1                          1   \n",
       "2                         1                          1   \n",
       "3                         1                          1   \n",
       "4                         1                          1   \n",
       "\n",
       "   stays_in_weekend_nights  stays_in_week_nights  adults  children  babies  \\\n",
       "0                        1                     0    2.00      0.00    0.00   \n",
       "1                        2                     2    2.00      0.00    0.00   \n",
       "2                        2                     2    2.00      0.00    0.00   \n",
       "3                        2                     2    1.00      0.00    0.00   \n",
       "4                        2                     5    2.00      0.00    0.00   \n",
       "\n",
       "        meal country distribution_channel  is_repeated_guest  \\\n",
       "0  BB            PRT                TA/TO                  0   \n",
       "1  BB            AUT                TA/TO                  0   \n",
       "2  BB            AUT                TA/TO                  0   \n",
       "3  BB            PRT                TA/TO                  0   \n",
       "4  BB            BEL                TA/TO                  0   \n",
       "\n",
       "   previous_cancellations  previous_bookings_not_canceled reserved_room_type  \\\n",
       "0                       0                               0   A                  \n",
       "1                       0                               0   A                  \n",
       "2                       0                               0   A                  \n",
       "3                       0                               0   A                  \n",
       "4                       0                               0   A                  \n",
       "\n",
       "   booking_changes  days_in_waiting_list customer_type  \\\n",
       "0                0                     0     Transient   \n",
       "1                0                     0     Transient   \n",
       "2                0                     0     Transient   \n",
       "3                0                     0     Transient   \n",
       "4                0                     0     Transient   \n",
       "\n",
       "   required_car_parking_spaces  total_of_special_requests  total_nights  \n",
       "0                            0                          0             1  \n",
       "1                            0                          1             4  \n",
       "2                            0                          1             4  \n",
       "3                            0                          1             4  \n",
       "4                            0                          0             7  "
      ]
     },
     "execution_count": 7,
     "metadata": {},
     "output_type": "execute_result"
    }
   ],
   "source": [
    "df_test.head()"
   ]
  },
  {
   "cell_type": "code",
   "execution_count": 8,
   "metadata": {},
   "outputs": [
    {
     "name": "stdout",
     "output_type": "stream",
     "text": [
      "<class 'pandas.core.frame.DataFrame'>\n",
      "RangeIndex: 32412 entries, 0 to 32411\n",
      "Data columns (total 25 columns):\n",
      " #   Column                          Non-Null Count  Dtype  \n",
      "---  ------                          --------------  -----  \n",
      " 0   id                              32412 non-null  int64  \n",
      " 1   is_canceled                     32412 non-null  int64  \n",
      " 2   lead_time                       32412 non-null  float64\n",
      " 3   arrival_date_year               32412 non-null  int64  \n",
      " 4   arrival_date_month              32412 non-null  object \n",
      " 5   arrival_date_week_number        32412 non-null  int64  \n",
      " 6   arrival_date_day_of_month       32412 non-null  int64  \n",
      " 7   stays_in_weekend_nights         32412 non-null  int64  \n",
      " 8   stays_in_week_nights            32412 non-null  int64  \n",
      " 9   adults                          32412 non-null  float64\n",
      " 10  children                        32412 non-null  float64\n",
      " 11  babies                          32412 non-null  float64\n",
      " 12  meal                            32412 non-null  object \n",
      " 13  country                         32412 non-null  object \n",
      " 14  distribution_channel            32412 non-null  object \n",
      " 15  is_repeated_guest               32412 non-null  int64  \n",
      " 16  previous_cancellations          32412 non-null  int64  \n",
      " 17  previous_bookings_not_canceled  32412 non-null  int64  \n",
      " 18  reserved_room_type              32412 non-null  object \n",
      " 19  booking_changes                 32412 non-null  int64  \n",
      " 20  days_in_waiting_list            32412 non-null  int64  \n",
      " 21  customer_type                   32412 non-null  object \n",
      " 22  required_car_parking_spaces     32412 non-null  int64  \n",
      " 23  total_of_special_requests       32412 non-null  int64  \n",
      " 24  total_nights                    32412 non-null  int64  \n",
      "dtypes: float64(4), int64(15), object(6)\n",
      "memory usage: 6.2+ MB\n"
     ]
    }
   ],
   "source": [
    "df_test.info()"
   ]
  },
  {
   "cell_type": "markdown",
   "metadata": {},
   "source": [
    "### Вывод:\n",
    "- Представлены два датасета, один для обучения модели, другой - для тестирования. Данные для обучения и тестирования соотносятся, примерно, как 2:1.\n",
    "- Данные содержат **25 признаков**, в том исле: 11 категориальных и 14 числовых"
   ]
  },
  {
   "cell_type": "markdown",
   "metadata": {},
   "source": [
    "## Шаг 2. Предобработка и исследовательский анализ данных"
   ]
  },
  {
   "cell_type": "code",
   "execution_count": null,
   "metadata": {
    "scrolled": true
   },
   "outputs": [],
   "source": [
    "# Поскольку данных много, воспользуемся быстрым анализом данных из pandas_profiling\n",
    "pandas_profiling.ProfileReport(df_train)"
   ]
  },
  {
   "cell_type": "code",
   "execution_count": null,
   "metadata": {
    "scrolled": true
   },
   "outputs": [],
   "source": [
    "pandas_profiling.ProfileReport(df_test)"
   ]
  },
  {
   "cell_type": "code",
   "execution_count": 11,
   "metadata": {},
   "outputs": [
    {
     "data": {
      "text/plain": [
       "0"
      ]
     },
     "execution_count": 11,
     "metadata": {},
     "output_type": "execute_result"
    }
   ],
   "source": [
    "# Дополнительно проверим на дубликаты по ID\n",
    "df_train.id.duplicated().sum()"
   ]
  },
  {
   "cell_type": "code",
   "execution_count": 12,
   "metadata": {},
   "outputs": [
    {
     "data": {
      "text/plain": [
       "September    4443\n",
       "October      4284\n",
       "August       3116\n",
       "December     2370\n",
       "July         2185\n",
       "November     1930\n",
       "Name: arrival_date_month, dtype: int64"
      ]
     },
     "execution_count": 12,
     "metadata": {},
     "output_type": "execute_result"
    }
   ],
   "source": [
    "# Посмотрим с какого периода начинаются данные в обучающем датасете\n",
    "df_train.query('arrival_date_year == 2015').arrival_date_month.value_counts()"
   ]
  },
  {
   "cell_type": "code",
   "execution_count": 13,
   "metadata": {},
   "outputs": [],
   "source": [
    "# Уберем лишние пробелы в названиях признаков типа object\n",
    "df_train[df_train.select_dtypes(include=['object']).columns] = \\\n",
    "df_train[df_train.select_dtypes(include=['object']).columns].apply(lambda x: x.str.strip())\n",
    "\n",
    "df_test[df_test.select_dtypes(include=['object']).columns] = \\\n",
    "df_test[df_test.select_dtypes(include=['object']).columns].apply(lambda x: x.str.strip())"
   ]
  },
  {
   "cell_type": "code",
   "execution_count": 14,
   "metadata": {},
   "outputs": [
    {
     "data": {
      "text/plain": [
       "((65229, 25), (32412, 25))"
      ]
     },
     "execution_count": 14,
     "metadata": {},
     "output_type": "execute_result"
    }
   ],
   "source": [
    "#Сделаем копии датасетов для дальнейшей работы и сделаем замер датасетов до преобразований\n",
    "df_train_new = df_train\n",
    "df_test_new = df_test\n",
    "\n",
    "df_train_new.shape, df_test_new.shape"
   ]
  },
  {
   "cell_type": "code",
   "execution_count": 15,
   "metadata": {},
   "outputs": [],
   "source": [
    "# Удалим столбцы с лишней информацией: id, arrival_date_year, arrival_date_week_number, total_nights \n",
    "df_train_new.drop(['id','arrival_date_year', 'arrival_date_week_number', 'total_nights',\n",
    "                   'is_repeated_guest'], axis=1, inplace=True)\n",
    "df_test_new.drop(['id','arrival_date_year', 'arrival_date_week_number', 'total_nights', \n",
    "                  'is_repeated_guest'], axis=1, inplace=True)"
   ]
  },
  {
   "cell_type": "code",
   "execution_count": 16,
   "metadata": {
    "scrolled": true
   },
   "outputs": [
    {
     "name": "stdout",
     "output_type": "stream",
     "text": [
      "is_canceled                        int64\n",
      "lead_time                          int64\n",
      "arrival_date_month                object\n",
      "arrival_date_day_of_month          int64\n",
      "stays_in_weekend_nights            int64\n",
      "stays_in_week_nights               int64\n",
      "adults                             int64\n",
      "children                           int64\n",
      "babies                             int64\n",
      "meal                              object\n",
      "country                           object\n",
      "distribution_channel              object\n",
      "previous_cancellations             int64\n",
      "previous_bookings_not_canceled     int64\n",
      "reserved_room_type                object\n",
      "booking_changes                    int64\n",
      "days_in_waiting_list               int64\n",
      "customer_type                     object\n",
      "required_car_parking_spaces        int64\n",
      "total_of_special_requests          int64\n",
      "dtype: object \n",
      " -------------------------------------- \n",
      " is_canceled                        int64\n",
      "lead_time                          int64\n",
      "arrival_date_month                object\n",
      "arrival_date_day_of_month          int64\n",
      "stays_in_weekend_nights            int64\n",
      "stays_in_week_nights               int64\n",
      "adults                             int64\n",
      "children                           int64\n",
      "babies                             int64\n",
      "meal                              object\n",
      "country                           object\n",
      "distribution_channel              object\n",
      "previous_cancellations             int64\n",
      "previous_bookings_not_canceled     int64\n",
      "reserved_room_type                object\n",
      "booking_changes                    int64\n",
      "days_in_waiting_list               int64\n",
      "customer_type                     object\n",
      "required_car_parking_spaces        int64\n",
      "total_of_special_requests          int64\n",
      "dtype: object\n"
     ]
    }
   ],
   "source": [
    "# Изменим типы данных float на int в обоих датасетах\n",
    "df_train_new = df_train_new.astype({ \n",
    "    'lead_time': 'int',\n",
    "    'adults': 'int',\n",
    "    'children': 'int',\n",
    "    'babies': 'int'\n",
    "})\n",
    "\n",
    "df_test_new = df_test_new.astype({ \n",
    "    'lead_time': 'int',\n",
    "    'adults': 'int',\n",
    "    'children': 'int',\n",
    "    'babies': 'int'\n",
    "})\n",
    "\n",
    "# Проверим изменения\n",
    "print(df_train_new.dtypes, '\\n', '--------------------------------------',\n",
    "      '\\n', df_test_new.dtypes)"
   ]
  },
  {
   "cell_type": "code",
   "execution_count": 17,
   "metadata": {},
   "outputs": [],
   "source": [
    "#Удалим аномальные значения по столбцу babies и adults\n",
    "df_train_new = df_train_new[(df_train_new['babies'] < 2) & (df_train_new['adults'] != 0)]\\\n",
    ".rename(columns={'babies':'has_babies'})\n",
    "\n",
    "df_test_new = df_test_new[(df_test_new['babies'] < 2) & (df_test_new['adults'] != 0)]\\\n",
    ".rename(columns={'babies':'has_babies'})\n"
   ]
  },
  {
   "cell_type": "markdown",
   "metadata": {},
   "source": [
    "Визуализируем некоторые категориальные признаки. Построим барплот и посмотрим на долю отмен по каждой категории признака"
   ]
  },
  {
   "cell_type": "code",
   "execution_count": 18,
   "metadata": {},
   "outputs": [],
   "source": [
    "# Создаим словарь с датасетами\n",
    "df_group = {'df_train': df_train,'df_test': df_test}\n",
    "# Создадим список признаков для исследоания\n",
    "col_list = ['arrival_date_month', 'adults', 'children', 'reserved_room_type', \\\n",
    "            'customer_type', 'required_car_parking_spaces']"
   ]
  },
  {
   "cell_type": "code",
   "execution_count": 19,
   "metadata": {},
   "outputs": [
    {
     "name": "stdout",
     "output_type": "stream",
     "text": [
      "\u001b[1m------------------------------Графики для df_train------------------------------\u001b[0m\n",
      "--------------------------------------------------------------------------------\n"
     ]
    },
    {
     "data": {
      "image/png": "[encoded data removed]",
      "text/plain": [
       "<Figure size 720x360 with 1 Axes>"
      ]
     },
     "metadata": {
      "needs_background": "light"
     },
     "output_type": "display_data"
    },
    {
     "name": "stdout",
     "output_type": "stream",
     "text": [
      "--------------------------------------------------------------------------------\n"
     ]
    },
    {
     "data": {
      "image/png": "[encoded data removed]",
      "text/plain": [
       "<Figure size 720x360 with 1 Axes>"
      ]
     },
     "metadata": {
      "needs_background": "light"
     },
     "output_type": "display_data"
    },
    {
     "name": "stdout",
     "output_type": "stream",
     "text": [
      "--------------------------------------------------------------------------------\n"
     ]
    },
    {
     "data": {
      "image/png": "[encoded data removed]",
      "text/plain": [
       "<Figure size 720x360 with 1 Axes>"
      ]
     },
     "metadata": {
      "needs_background": "light"
     },
     "output_type": "display_data"
    },
    {
     "name": "stdout",
     "output_type": "stream",
     "text": [
      "--------------------------------------------------------------------------------\n"
     ]
    },
    {
     "data": {
      "image/png": "[encoded data removed]",
      "text/plain": [
       "<Figure size 720x360 with 1 Axes>"
      ]
     },
     "metadata": {
      "needs_background": "light"
     },
     "output_type": "display_data"
    },
    {
     "name": "stdout",
     "output_type": "stream",
     "text": [
      "--------------------------------------------------------------------------------\n"
     ]
    },
    {
     "data": {
      "image/png": "[encoded data removed]",
      "text/plain": [
       "<Figure size 720x360 with 1 Axes>"
      ]
     },
     "metadata": {
      "needs_background": "light"
     },
     "output_type": "display_data"
    },
    {
     "name": "stdout",
     "output_type": "stream",
     "text": [
      "--------------------------------------------------------------------------------\n"
     ]
    },
    {
     "data": {
      "image/png": "[encoded data removed]",
      "text/plain": [
       "<Figure size 720x360 with 1 Axes>"
      ]
     },
     "metadata": {
      "needs_background": "light"
     },
     "output_type": "display_data"
    },
    {
     "name": "stdout",
     "output_type": "stream",
     "text": [
      "\u001b[1m------------------------------Графики для df_test-------------------------------\u001b[0m\n",
      "--------------------------------------------------------------------------------\n"
     ]
    },
    {
     "data": {
      "image/png": "[encoded data removed]",
      "text/plain": [
       "<Figure size 720x360 with 1 Axes>"
      ]
     },
     "metadata": {
      "needs_background": "light"
     },
     "output_type": "display_data"
    },
    {
     "name": "stdout",
     "output_type": "stream",
     "text": [
      "--------------------------------------------------------------------------------\n"
     ]
    },
    {
     "data": {
      "image/png": "[encoded data removed]",
      "text/plain": [
       "<Figure size 720x360 with 1 Axes>"
      ]
     },
     "metadata": {
      "needs_background": "light"
     },
     "output_type": "display_data"
    },
    {
     "name": "stdout",
     "output_type": "stream",
     "text": [
      "--------------------------------------------------------------------------------\n"
     ]
    },
    {
     "data": {
      "image/png": "[encoded data removed]",
      "text/plain": [
       "<Figure size 720x360 with 1 Axes>"
      ]
     },
     "metadata": {
      "needs_background": "light"
     },
     "output_type": "display_data"
    },
    {
     "name": "stdout",
     "output_type": "stream",
     "text": [
      "--------------------------------------------------------------------------------\n"
     ]
    },
    {
     "data": {
      "image/png": "[encoded data removed]",
      "text/plain": [
       "<Figure size 720x360 with 1 Axes>"
      ]
     },
     "metadata": {
      "needs_background": "light"
     },
     "output_type": "display_data"
    },
    {
     "name": "stdout",
     "output_type": "stream",
     "text": [
      "--------------------------------------------------------------------------------\n"
     ]
    },
    {
     "data": {
      "image/png": "[encoded data removed]",
      "text/plain": [
       "<Figure size 720x360 with 1 Axes>"
      ]
     },
     "metadata": {
      "needs_background": "light"
     },
     "output_type": "display_data"
    },
    {
     "name": "stdout",
     "output_type": "stream",
     "text": [
      "--------------------------------------------------------------------------------\n"
     ]
    },
    {
     "data": {
      "image/png": "[encoded data removed]",
      "text/plain": [
       "<Figure size 720x360 with 1 Axes>"
      ]
     },
     "metadata": {
      "needs_background": "light"
     },
     "output_type": "display_data"
    }
   ],
   "source": [
    "# Создадим цикл для построения графиков \n",
    "for name,i in df_group.items():\n",
    "    text = \"Графики для \" + name\n",
    "    print(colored(text.center(80, '-'), attrs=['bold'],)) \n",
    "    for col in col_list:\n",
    "        plt.figure(figsize=(10,5)) \n",
    "        plt.title(\"График для признака \" + col, fontsize = 20, pad = 10)\n",
    "        sns.barplot(data=i, x=col, y='is_canceled')\n",
    "        plt.xlabel(col, fontsize = 12, labelpad = 5)\n",
    "        plt.ylabel(\"Доля отмененных бронирований\", fontsize = 12, labelpad = 5);\n",
    "        print('--------------------------------------------------------------------------------')\n",
    "\n",
    "        plt.show() "
   ]
  },
  {
   "cell_type": "markdown",
   "metadata": {},
   "source": [
    "Как видно из графиков, доля отмен по месяцам разнятся у датасетов, это связано с разным временным периодом исследуемых данных. Но в обоих случаях видно, что большая часть отмен приходится на высокий сезон.\n",
    "\n",
    "По количеству взрослых лидером по отменам брони в тренировочном датасете является номер на двоих.\n",
    "\n",
    "Также видно, что больше отмен при бронировании когда нет детей, здесь самый маленький доверительный интервал.\n",
    "\n",
    "Самая популярная категория номера при отмене - \"А\"\n",
    "\n",
    "Отменяют бронь клиенты без автомобилей и не связанные с групповым бронированием"
   ]
  },
  {
   "cell_type": "markdown",
   "metadata": {},
   "source": [
    "Теперь визуализируем некоторые численные признаки в обоих датасетах. Построим для каждого из них график распределения и диаграмму размаха"
   ]
  },
  {
   "cell_type": "code",
   "execution_count": 20,
   "metadata": {},
   "outputs": [],
   "source": [
    "# Создаим словарь с датасетами\n",
    "df_group = {'df_train': df_train,'df_test': df_test}\n",
    "# Создадим список признаков для исследоания\n",
    "column_list = ['lead_time', 'previous_cancellations', 'previous_bookings_not_canceled', \\\n",
    "               'booking_changes', 'days_in_waiting_list']"
   ]
  },
  {
   "cell_type": "code",
   "execution_count": 21,
   "metadata": {},
   "outputs": [
    {
     "name": "stdout",
     "output_type": "stream",
     "text": [
      "\u001b[1m------------------------------Графики для df_train------------------------------\u001b[0m\n",
      "--------------------------------------------------------------------------------\n"
     ]
    },
    {
     "data": {
      "image/png": "[encoded data removed]",
      "text/plain": [
       "<Figure size 720x576 with 2 Axes>"
      ]
     },
     "metadata": {
      "needs_background": "light"
     },
     "output_type": "display_data"
    },
    {
     "name": "stdout",
     "output_type": "stream",
     "text": [
      "--------------------------------------------------------------------------------\n"
     ]
    },
    {
     "data": {
      "image/png": "[encoded data removed]",
      "text/plain": [
       "<Figure size 720x576 with 2 Axes>"
      ]
     },
     "metadata": {
      "needs_background": "light"
     },
     "output_type": "display_data"
    },
    {
     "name": "stdout",
     "output_type": "stream",
     "text": [
      "--------------------------------------------------------------------------------\n"
     ]
    },
    {
     "data": {
      "image/png": "[encoded data removed]",
      "text/plain": [
       "<Figure size 720x576 with 2 Axes>"
      ]
     },
     "metadata": {
      "needs_background": "light"
     },
     "output_type": "display_data"
    },
    {
     "name": "stdout",
     "output_type": "stream",
     "text": [
      "--------------------------------------------------------------------------------\n"
     ]
    },
    {
     "data": {
      "image/png": "[encoded data removed]",
      "text/plain": [
       "<Figure size 720x576 with 2 Axes>"
      ]
     },
     "metadata": {
      "needs_background": "light"
     },
     "output_type": "display_data"
    },
    {
     "name": "stdout",
     "output_type": "stream",
     "text": [
      "--------------------------------------------------------------------------------\n"
     ]
    },
    {
     "data": {
      "image/png": "[encoded data removed]",
      "text/plain": [
       "<Figure size 720x576 with 2 Axes>"
      ]
     },
     "metadata": {
      "needs_background": "light"
     },
     "output_type": "display_data"
    },
    {
     "name": "stdout",
     "output_type": "stream",
     "text": [
      "\u001b[1m------------------------------Графики для df_test-------------------------------\u001b[0m\n",
      "--------------------------------------------------------------------------------\n"
     ]
    },
    {
     "data": {
      "image/png": "[encoded data removed]",
      "text/plain": [
       "<Figure size 720x576 with 2 Axes>"
      ]
     },
     "metadata": {
      "needs_background": "light"
     },
     "output_type": "display_data"
    },
    {
     "name": "stdout",
     "output_type": "stream",
     "text": [
      "--------------------------------------------------------------------------------\n"
     ]
    },
    {
     "data": {
      "image/png": "[encoded data removed]",
      "text/plain": [
       "<Figure size 720x576 with 2 Axes>"
      ]
     },
     "metadata": {
      "needs_background": "light"
     },
     "output_type": "display_data"
    },
    {
     "name": "stdout",
     "output_type": "stream",
     "text": [
      "--------------------------------------------------------------------------------\n"
     ]
    },
    {
     "data": {
      "image/png": "[encoded data removed]",
      "text/plain": [
       "<Figure size 720x576 with 2 Axes>"
      ]
     },
     "metadata": {
      "needs_background": "light"
     },
     "output_type": "display_data"
    },
    {
     "name": "stdout",
     "output_type": "stream",
     "text": [
      "--------------------------------------------------------------------------------\n"
     ]
    },
    {
     "data": {
      "image/png": "[encoded data removed]",
      "text/plain": [
       "<Figure size 720x576 with 2 Axes>"
      ]
     },
     "metadata": {
      "needs_background": "light"
     },
     "output_type": "display_data"
    },
    {
     "name": "stdout",
     "output_type": "stream",
     "text": [
      "--------------------------------------------------------------------------------\n"
     ]
    },
    {
     "data": {
      "image/png": "[encoded data removed]",
      "text/plain": [
       "<Figure size 720x576 with 2 Axes>"
      ]
     },
     "metadata": {
      "needs_background": "light"
     },
     "output_type": "display_data"
    }
   ],
   "source": [
    "# Создадим цикл для построения диаграмм размаха и графиков распределения \n",
    "for name,i in df_group.items():\n",
    "    text = \"Графики для \" + name\n",
    "    print(colored(text.center(80, '-'), attrs=['bold'],)) \n",
    "    for col in column_list:\n",
    "        # Создадим два подграфика\n",
    "        f, (ax_box, ax_hist) = \\\n",
    "        plt.subplots(nrows = 2, # из двух строк\n",
    "        ncols = 1, # и одного столбца\n",
    "        sharex = True, # оставим только нижние подписи к оси Х\n",
    "        gridspec_kw = {'height_ratios': (.15, .85)}, # зададим разную высоту строк\n",
    "        figsize = (10,8)) # зададим размер графика\n",
    "        \n",
    "        # в первом подграфике построим boxplot\n",
    "        sns.boxplot(x = i[col],\n",
    "            ax = ax_box,\n",
    "            showmeans=True, # покажем среднее значение\n",
    "            meanprops={\"marker\": \"o\",\n",
    "                       \"markeredgecolor\": \"white\",\n",
    "                       \"markersize\": \"15\"})\n",
    "        # во втором гистограмму\n",
    "        sns.histplot(data = i[col], bins = 15, ax = ax_hist)\n",
    "\n",
    "        # зададим заголовок и подписи к осям\n",
    "        ax_box.set_title('Распределение для признака ' + col, fontsize = 17)\n",
    "        ax_hist.set_xlabel(col, fontsize = 15)\n",
    "        ax_hist.set_ylabel('Количество', fontsize = 15)\n",
    "        print('--------------------------------------------------------------------------------')\n",
    "\n",
    "        plt.show() \n",
    "    "
   ]
  },
  {
   "cell_type": "markdown",
   "metadata": {},
   "source": [
    "На графиках видно, что исследуемые признаки имеют выбросы. Их достатлчно много, поэтому удалять не будем, а обрежем по верхней границе. Определим границы для каждого признака отдельно. Критерием для определения будет доля отмен бронирования, которая приходится на эту часть данных"
   ]
  },
  {
   "cell_type": "code",
   "execution_count": 22,
   "metadata": {},
   "outputs": [
    {
     "data": {
      "text/plain": [
       "0.48758126354392395"
      ]
     },
     "execution_count": 22,
     "metadata": {},
     "output_type": "execute_result"
    }
   ],
   "source": [
    "# Посмотрим какой процент отмен приходится на изменения в бронировании больше 3 \n",
    "total_canceled = len(df_train_new[df_train_new['is_canceled']==1])\n",
    "\n",
    "df_train_new.query('booking_changes >= 3 & is_canceled == 1').is_canceled.count()\\\n",
    "/ total_canceled * 100"
   ]
  },
  {
   "cell_type": "code",
   "execution_count": 23,
   "metadata": {},
   "outputs": [],
   "source": [
    "# Присвоим значение 3 тем показателям, которые его превышают\n",
    "df_train_new.loc[df_train_new['booking_changes'] > 3, 'booking_changes'] = 3"
   ]
  },
  {
   "cell_type": "code",
   "execution_count": 24,
   "metadata": {},
   "outputs": [
    {
     "data": {
      "text/plain": [
       "1.1710285047507918"
      ]
     },
     "execution_count": 24,
     "metadata": {},
     "output_type": "execute_result"
    }
   ],
   "source": [
    "# Посмотрим какой процент отмен приходится на заказы с подтверждением более 100 дней\n",
    "df_train_new.query('days_in_waiting_list >= 100 & is_canceled == 1').is_canceled.count()\\\n",
    "/ total_canceled *100"
   ]
  },
  {
   "cell_type": "code",
   "execution_count": 25,
   "metadata": {},
   "outputs": [],
   "source": [
    "# Присвоим значение 100 тем показателям, которые его превышают\n",
    "df_train_new.loc[df_train_new['days_in_waiting_list'] > 100, 'days_in_waiting_list'] = 100"
   ]
  },
  {
   "cell_type": "code",
   "execution_count": 26,
   "metadata": {},
   "outputs": [
    {
     "data": {
      "text/plain": [
       "0.26254375729288215"
      ]
     },
     "execution_count": 26,
     "metadata": {},
     "output_type": "execute_result"
    }
   ],
   "source": [
    "# Посмотрим какой процент отмен приходится на клиентов с двумя и более подтверденными заказами\n",
    "df_train_new.query('previous_bookings_not_canceled >= 2 & is_canceled == 1').is_canceled.count()\\\n",
    "/ total_canceled *100"
   ]
  },
  {
   "cell_type": "code",
   "execution_count": 27,
   "metadata": {},
   "outputs": [],
   "source": [
    "# Присвоим значение 2 тем показателям, которые его превышают\n",
    "df_train_new.loc[df_train_new['previous_bookings_not_canceled'] > 2, \\\n",
    "                 'previous_bookings_not_canceled'] = 2"
   ]
  },
  {
   "cell_type": "code",
   "execution_count": 28,
   "metadata": {},
   "outputs": [
    {
     "data": {
      "text/plain": [
       "0.6834472412068678"
      ]
     },
     "execution_count": 28,
     "metadata": {},
     "output_type": "execute_result"
    }
   ],
   "source": [
    "# Посмотрим какой процент отмен приходится на клиентов с двумя и более отменными заказами\n",
    "df_train_new.query('previous_cancellations >= 2 & is_canceled == 1').is_canceled.count()\\\n",
    "/ total_canceled *100"
   ]
  },
  {
   "cell_type": "code",
   "execution_count": 29,
   "metadata": {},
   "outputs": [],
   "source": [
    "# Присвоим значение 2 тем показателям, которые его превышают\n",
    "df_train_new.loc[df_train_new['previous_cancellations'] > 2, 'previous_cancellations'] = 2"
   ]
  },
  {
   "cell_type": "code",
   "execution_count": 30,
   "metadata": {},
   "outputs": [],
   "source": [
    "# Объединим часть стран, которые редко встречаются,  в новую категорию\n",
    "# для этого создадим фрейм с такими странами\n",
    "country_train = pd.DataFrame(df_train_new.country.value_counts()).query('country <= 500').index\n",
    "\n",
    "country_test = pd.DataFrame(df_test_new.country.value_counts()).query('country <= 500').index\n"
   ]
  },
  {
   "cell_type": "code",
   "execution_count": 31,
   "metadata": {},
   "outputs": [
    {
     "data": {
      "text/plain": [
       "5.280046674445741"
      ]
     },
     "execution_count": 31,
     "metadata": {},
     "output_type": "execute_result"
    }
   ],
   "source": [
    "# Посмотрим какой процент отмен приходится на редкие страны\n",
    "df_train_new[(df_train_new['country'].isin(country_train)) & (df_train_new['is_canceled'] == 1)].is_canceled.count()\\\n",
    "/total_canceled *100"
   ]
  },
  {
   "cell_type": "code",
   "execution_count": 32,
   "metadata": {},
   "outputs": [],
   "source": [
    "# Заменим редкие страны на категорию 'etc'\n",
    "def coun(row): \n",
    "    if row in country_train or row in country_test:\n",
    "        return 'etc'\n",
    "    return row\n",
    "df_train_new.country = df_train_new.country.apply(coun)\n",
    "df_test_new.country = df_test_new.country.apply(coun)"
   ]
  },
  {
   "cell_type": "code",
   "execution_count": 33,
   "metadata": {},
   "outputs": [
    {
     "data": {
      "text/plain": [
       "PRT    9877\n",
       "etc    4724\n",
       "GBR    3924\n",
       "FRA    3468\n",
       "DEU    2374\n",
       "ESP    1930\n",
       "ITA    1152\n",
       "IRL    1059\n",
       "BEL     880\n",
       "BRA     876\n",
       "USA     769\n",
       "NLD     707\n",
       "CHE     599\n",
       "Name: country, dtype: int64"
      ]
     },
     "execution_count": 33,
     "metadata": {},
     "output_type": "execute_result"
    }
   ],
   "source": [
    "df_test_new.country.value_counts()"
   ]
  },
  {
   "cell_type": "code",
   "execution_count": 34,
   "metadata": {},
   "outputs": [
    {
     "data": {
      "text/plain": [
       "((65058, 20), (32339, 20))"
      ]
     },
     "execution_count": 34,
     "metadata": {},
     "output_type": "execute_result"
    }
   ],
   "source": [
    "# Посмотрим размер датасетов после преобразований и изменений \n",
    "df_train_new.shape, df_test_new.shape"
   ]
  },
  {
   "cell_type": "markdown",
   "metadata": {},
   "source": [
    "### Вывод:\n",
    "Итоги исследования и предобработки данных:\n",
    "- Нам предлагается обучить модель на данных **2015(второе полугодие)-2016 года** (около 65 тыс.записей о брогировании) и провести тестирование на данных за **9 месяцев 2017 года** (около 32 тыс. записей о бронировании)\n",
    "- Данные не слишком дисбаллансированы. В обучающем сете 37% записей имеют статус отказа от бронирования, в тестовом  - около 39% таких записей. В обоих случаях - **доля отказов от общего количества забронированых номеров достаточно большая**.\n",
    "- Целевой признак **is_canceled** заметной корреляции с другими признаками не имеет\n",
    "- Данные в обоих датасетах **не содержат пропусков**\n",
    "- Данные в обоих датасетах **не содержат дубликатов**\n",
    "- Имеются 4 признака типа **float**, которые мы преобразовали в целочисленные. Также есть 6 признаков с типом **object**, которые в дальнейшем будем кодировать и переводить в числа\n",
    "- Мы почистили данные с признаком *object* от лишних пробелов\n",
    "- Поскольку временные границы в обучающем и тестовом сетах разные, значит есть **различия в распределении данных по месяцам**.\n",
    "- Есть два аномальных значения в обучающем сете по признаку *babies*, мы их удалили.\n",
    "- Есть выбросы в признаках **booking_changes, days_in_waiting_list,  previous_cancellations, previous_bookings_not_canceled**. Здесь мы не удалили, а обрезали данные по верхней границе, которую определили для каждого случая отдельно. Основным критерием было, чтобы на обрезанную часть не приходилась какая-то значимая часть отмен бронирования. Данные изменения мы делали только в обучающем датасете\n",
    "- Для построения более качественной модели мы удалили некоторые признаки, которые не оказывают влияние на целевой признак, либо дублируют уже имеющиеся признаки. Всего было удалено 5 столбцов:  **id, arrival_date_year, arrival_date_week_number, total_night, is_repeated_guest **\n",
    "- Признак с названием страны **country** имеет очень много уникальных значений, для сокращения этого количества, мы объединили часть стран с наименьшим числом повторений в отдельную категорию. На все объединенные страны приходится около 5% отмен бронирования. "
   ]
  },
  {
   "cell_type": "markdown",
   "metadata": {},
   "source": [
    "## Шаг 3. Формулировка ML-задачи на основе бизнес-задачи"
   ]
  },
  {
   "cell_type": "markdown",
   "metadata": {},
   "source": [
    "Посчитаем какую прибыль получила компания в 2017 году по имеющимся данным, чтоб в дальнейшем сравнить ее с результатами, которые получатся после внедрении модели."
   ]
  },
  {
   "cell_type": "code",
   "execution_count": 35,
   "metadata": {},
   "outputs": [],
   "source": [
    "# Сохраним данные для расчетов в отдельые переменные\n",
    "BUDGET = 400_000 # Бюджет на внедрении"
   ]
  },
  {
   "cell_type": "code",
   "execution_count": 36,
   "metadata": {},
   "outputs": [
    {
     "data": {
      "text/html": [
       "<div>\n",
       "<style scoped>\n",
       "    .dataframe tbody tr th:only-of-type {\n",
       "        vertical-align: middle;\n",
       "    }\n",
       "\n",
       "    .dataframe tbody tr th {\n",
       "        vertical-align: top;\n",
       "    }\n",
       "\n",
       "    .dataframe thead th {\n",
       "        text-align: right;\n",
       "    }\n",
       "</style>\n",
       "<table border=\"1\" class=\"dataframe\">\n",
       "  <thead>\n",
       "    <tr style=\"text-align: right;\">\n",
       "      <th></th>\n",
       "      <th>reserved_room_type</th>\n",
       "      <th>price_per_night</th>\n",
       "      <th>room_service</th>\n",
       "    </tr>\n",
       "  </thead>\n",
       "  <tbody>\n",
       "    <tr>\n",
       "      <th>0</th>\n",
       "      <td>A</td>\n",
       "      <td>1000</td>\n",
       "      <td>400</td>\n",
       "    </tr>\n",
       "    <tr>\n",
       "      <th>1</th>\n",
       "      <td>B</td>\n",
       "      <td>800</td>\n",
       "      <td>350</td>\n",
       "    </tr>\n",
       "    <tr>\n",
       "      <th>2</th>\n",
       "      <td>C</td>\n",
       "      <td>600</td>\n",
       "      <td>350</td>\n",
       "    </tr>\n",
       "    <tr>\n",
       "      <th>3</th>\n",
       "      <td>D</td>\n",
       "      <td>550</td>\n",
       "      <td>150</td>\n",
       "    </tr>\n",
       "    <tr>\n",
       "      <th>4</th>\n",
       "      <td>E</td>\n",
       "      <td>500</td>\n",
       "      <td>150</td>\n",
       "    </tr>\n",
       "    <tr>\n",
       "      <th>5</th>\n",
       "      <td>F</td>\n",
       "      <td>450</td>\n",
       "      <td>150</td>\n",
       "    </tr>\n",
       "    <tr>\n",
       "      <th>6</th>\n",
       "      <td>G</td>\n",
       "      <td>350</td>\n",
       "      <td>150</td>\n",
       "    </tr>\n",
       "  </tbody>\n",
       "</table>\n",
       "</div>"
      ],
      "text/plain": [
       "  reserved_room_type  price_per_night  room_service\n",
       "0                  A             1000           400\n",
       "1                  B              800           350\n",
       "2                  C              600           350\n",
       "3                  D              550           150\n",
       "4                  E              500           150\n",
       "5                  F              450           150\n",
       "6                  G              350           150"
      ]
     },
     "execution_count": 36,
     "metadata": {},
     "output_type": "execute_result"
    }
   ],
   "source": [
    "# Создадим датафрейм с тарифами за проживание и румсервис\n",
    "night_rate = pd.DataFrame({'reserved_room_type': ['A', 'B', 'C', 'D', 'E', 'F', 'G'],\n",
    "                           'price_per_night': [1000, 800, 600, 550, 500, 450, 350],\n",
    "                           'room_service': [400, 350, 350, 150, 150, 150, 150]})\n",
    "night_rate"
   ]
  },
  {
   "cell_type": "code",
   "execution_count": 37,
   "metadata": {},
   "outputs": [
    {
     "data": {
      "text/html": [
       "<div>\n",
       "<style scoped>\n",
       "    .dataframe tbody tr th:only-of-type {\n",
       "        vertical-align: middle;\n",
       "    }\n",
       "\n",
       "    .dataframe tbody tr th {\n",
       "        vertical-align: top;\n",
       "    }\n",
       "\n",
       "    .dataframe thead th {\n",
       "        text-align: right;\n",
       "    }\n",
       "</style>\n",
       "<table border=\"1\" class=\"dataframe\">\n",
       "  <thead>\n",
       "    <tr style=\"text-align: right;\">\n",
       "      <th></th>\n",
       "      <th>arrival_date_month</th>\n",
       "      <th>k1</th>\n",
       "      <th>k2</th>\n",
       "      <th>days</th>\n",
       "    </tr>\n",
       "  </thead>\n",
       "  <tbody>\n",
       "    <tr>\n",
       "      <th>0</th>\n",
       "      <td>January</td>\n",
       "      <td>1.00</td>\n",
       "      <td>1.00</td>\n",
       "      <td>31</td>\n",
       "    </tr>\n",
       "    <tr>\n",
       "      <th>1</th>\n",
       "      <td>February</td>\n",
       "      <td>1.00</td>\n",
       "      <td>1.20</td>\n",
       "      <td>28</td>\n",
       "    </tr>\n",
       "    <tr>\n",
       "      <th>2</th>\n",
       "      <td>March</td>\n",
       "      <td>1.20</td>\n",
       "      <td>1.20</td>\n",
       "      <td>31</td>\n",
       "    </tr>\n",
       "    <tr>\n",
       "      <th>3</th>\n",
       "      <td>April</td>\n",
       "      <td>1.20</td>\n",
       "      <td>1.20</td>\n",
       "      <td>30</td>\n",
       "    </tr>\n",
       "    <tr>\n",
       "      <th>4</th>\n",
       "      <td>May</td>\n",
       "      <td>1.20</td>\n",
       "      <td>1.40</td>\n",
       "      <td>31</td>\n",
       "    </tr>\n",
       "    <tr>\n",
       "      <th>5</th>\n",
       "      <td>June</td>\n",
       "      <td>1.40</td>\n",
       "      <td>1.40</td>\n",
       "      <td>30</td>\n",
       "    </tr>\n",
       "    <tr>\n",
       "      <th>6</th>\n",
       "      <td>July</td>\n",
       "      <td>1.40</td>\n",
       "      <td>1.40</td>\n",
       "      <td>31</td>\n",
       "    </tr>\n",
       "    <tr>\n",
       "      <th>7</th>\n",
       "      <td>August</td>\n",
       "      <td>1.40</td>\n",
       "      <td>1.20</td>\n",
       "      <td>31</td>\n",
       "    </tr>\n",
       "    <tr>\n",
       "      <th>8</th>\n",
       "      <td>September</td>\n",
       "      <td>1.20</td>\n",
       "      <td>1.20</td>\n",
       "      <td>30</td>\n",
       "    </tr>\n",
       "  </tbody>\n",
       "</table>\n",
       "</div>"
      ],
      "text/plain": [
       "  arrival_date_month   k1   k2  days\n",
       "0            January 1.00 1.00    31\n",
       "1           February 1.00 1.20    28\n",
       "2              March 1.20 1.20    31\n",
       "3              April 1.20 1.20    30\n",
       "4                May 1.20 1.40    31\n",
       "5               June 1.40 1.40    30\n",
       "6               July 1.40 1.40    31\n",
       "7             August 1.40 1.20    31\n",
       "8          September 1.20 1.20    30"
      ]
     },
     "execution_count": 37,
     "metadata": {},
     "output_type": "execute_result"
    }
   ],
   "source": [
    "# Создадим датафрейм с сезонными коэффициентами\n",
    "# к1 будет использоваться в расчетах когда все ночи попадают в один сезон\n",
    "# к2 - для расчетов когда заезд и выезд из отеля приходится на разные сезоны\n",
    "# days - количество дней в месяце\n",
    "season_rate = pd.DataFrame({'arrival_date_month': ['January', 'February', 'March',\n",
    "                                    'April', 'May', 'June', 'July', 'August', 'September'], \n",
    "                            'k1': [1.0, 1.0, 1.2, 1.2, 1.2, 1.4, 1.4, 1.4, 1.2],\n",
    "                            'k2': [1.0, 1.2, 1.2, 1.2, 1.4, 1.4, 1.4, 1.2, 1.2],\n",
    "                            'days': [31, 28, 31, 30, 31, 30, 31, 31, 30]})\n",
    "season_rate"
   ]
  },
  {
   "cell_type": "code",
   "execution_count": 38,
   "metadata": {},
   "outputs": [
    {
     "data": {
      "text/html": [
       "<div>\n",
       "<style scoped>\n",
       "    .dataframe tbody tr th:only-of-type {\n",
       "        vertical-align: middle;\n",
       "    }\n",
       "\n",
       "    .dataframe tbody tr th {\n",
       "        vertical-align: top;\n",
       "    }\n",
       "\n",
       "    .dataframe thead th {\n",
       "        text-align: right;\n",
       "    }\n",
       "</style>\n",
       "<table border=\"1\" class=\"dataframe\">\n",
       "  <thead>\n",
       "    <tr style=\"text-align: right;\">\n",
       "      <th></th>\n",
       "      <th>is_canceled</th>\n",
       "      <th>lead_time</th>\n",
       "      <th>arrival_date_month</th>\n",
       "      <th>arrival_date_day_of_month</th>\n",
       "      <th>stays_in_weekend_nights</th>\n",
       "      <th>stays_in_week_nights</th>\n",
       "      <th>adults</th>\n",
       "      <th>children</th>\n",
       "      <th>has_babies</th>\n",
       "      <th>meal</th>\n",
       "      <th>country</th>\n",
       "      <th>distribution_channel</th>\n",
       "      <th>previous_cancellations</th>\n",
       "      <th>previous_bookings_not_canceled</th>\n",
       "      <th>reserved_room_type</th>\n",
       "      <th>booking_changes</th>\n",
       "      <th>days_in_waiting_list</th>\n",
       "      <th>customer_type</th>\n",
       "      <th>required_car_parking_spaces</th>\n",
       "      <th>total_of_special_requests</th>\n",
       "      <th>price_per_night</th>\n",
       "      <th>room_service</th>\n",
       "      <th>k1</th>\n",
       "      <th>k2</th>\n",
       "      <th>days</th>\n",
       "      <th>predictions</th>\n",
       "    </tr>\n",
       "  </thead>\n",
       "  <tbody>\n",
       "    <tr>\n",
       "      <th>0</th>\n",
       "      <td>1</td>\n",
       "      <td>74</td>\n",
       "      <td>January</td>\n",
       "      <td>1</td>\n",
       "      <td>1</td>\n",
       "      <td>0</td>\n",
       "      <td>2</td>\n",
       "      <td>0</td>\n",
       "      <td>0</td>\n",
       "      <td>BB</td>\n",
       "      <td>PRT</td>\n",
       "      <td>TA/TO</td>\n",
       "      <td>0</td>\n",
       "      <td>0</td>\n",
       "      <td>A</td>\n",
       "      <td>0</td>\n",
       "      <td>0</td>\n",
       "      <td>Transient</td>\n",
       "      <td>0</td>\n",
       "      <td>0</td>\n",
       "      <td>1000</td>\n",
       "      <td>400</td>\n",
       "      <td>1.00</td>\n",
       "      <td>1.00</td>\n",
       "      <td>31</td>\n",
       "      <td>0</td>\n",
       "    </tr>\n",
       "    <tr>\n",
       "      <th>1</th>\n",
       "      <td>1</td>\n",
       "      <td>62</td>\n",
       "      <td>January</td>\n",
       "      <td>1</td>\n",
       "      <td>2</td>\n",
       "      <td>2</td>\n",
       "      <td>2</td>\n",
       "      <td>0</td>\n",
       "      <td>0</td>\n",
       "      <td>BB</td>\n",
       "      <td>etc</td>\n",
       "      <td>TA/TO</td>\n",
       "      <td>0</td>\n",
       "      <td>0</td>\n",
       "      <td>A</td>\n",
       "      <td>0</td>\n",
       "      <td>0</td>\n",
       "      <td>Transient</td>\n",
       "      <td>0</td>\n",
       "      <td>1</td>\n",
       "      <td>1000</td>\n",
       "      <td>400</td>\n",
       "      <td>1.00</td>\n",
       "      <td>1.00</td>\n",
       "      <td>31</td>\n",
       "      <td>0</td>\n",
       "    </tr>\n",
       "    <tr>\n",
       "      <th>2</th>\n",
       "      <td>1</td>\n",
       "      <td>62</td>\n",
       "      <td>January</td>\n",
       "      <td>1</td>\n",
       "      <td>2</td>\n",
       "      <td>2</td>\n",
       "      <td>2</td>\n",
       "      <td>0</td>\n",
       "      <td>0</td>\n",
       "      <td>BB</td>\n",
       "      <td>etc</td>\n",
       "      <td>TA/TO</td>\n",
       "      <td>0</td>\n",
       "      <td>0</td>\n",
       "      <td>A</td>\n",
       "      <td>0</td>\n",
       "      <td>0</td>\n",
       "      <td>Transient</td>\n",
       "      <td>0</td>\n",
       "      <td>1</td>\n",
       "      <td>1000</td>\n",
       "      <td>400</td>\n",
       "      <td>1.00</td>\n",
       "      <td>1.00</td>\n",
       "      <td>31</td>\n",
       "      <td>0</td>\n",
       "    </tr>\n",
       "    <tr>\n",
       "      <th>3</th>\n",
       "      <td>1</td>\n",
       "      <td>71</td>\n",
       "      <td>January</td>\n",
       "      <td>1</td>\n",
       "      <td>2</td>\n",
       "      <td>2</td>\n",
       "      <td>1</td>\n",
       "      <td>0</td>\n",
       "      <td>0</td>\n",
       "      <td>BB</td>\n",
       "      <td>PRT</td>\n",
       "      <td>TA/TO</td>\n",
       "      <td>0</td>\n",
       "      <td>0</td>\n",
       "      <td>A</td>\n",
       "      <td>0</td>\n",
       "      <td>0</td>\n",
       "      <td>Transient</td>\n",
       "      <td>0</td>\n",
       "      <td>1</td>\n",
       "      <td>1000</td>\n",
       "      <td>400</td>\n",
       "      <td>1.00</td>\n",
       "      <td>1.00</td>\n",
       "      <td>31</td>\n",
       "      <td>0</td>\n",
       "    </tr>\n",
       "    <tr>\n",
       "      <th>4</th>\n",
       "      <td>1</td>\n",
       "      <td>172</td>\n",
       "      <td>January</td>\n",
       "      <td>1</td>\n",
       "      <td>2</td>\n",
       "      <td>5</td>\n",
       "      <td>2</td>\n",
       "      <td>0</td>\n",
       "      <td>0</td>\n",
       "      <td>BB</td>\n",
       "      <td>BEL</td>\n",
       "      <td>TA/TO</td>\n",
       "      <td>0</td>\n",
       "      <td>0</td>\n",
       "      <td>A</td>\n",
       "      <td>0</td>\n",
       "      <td>0</td>\n",
       "      <td>Transient</td>\n",
       "      <td>0</td>\n",
       "      <td>0</td>\n",
       "      <td>1000</td>\n",
       "      <td>400</td>\n",
       "      <td>1.00</td>\n",
       "      <td>1.00</td>\n",
       "      <td>31</td>\n",
       "      <td>0</td>\n",
       "    </tr>\n",
       "    <tr>\n",
       "      <th>...</th>\n",
       "      <td>...</td>\n",
       "      <td>...</td>\n",
       "      <td>...</td>\n",
       "      <td>...</td>\n",
       "      <td>...</td>\n",
       "      <td>...</td>\n",
       "      <td>...</td>\n",
       "      <td>...</td>\n",
       "      <td>...</td>\n",
       "      <td>...</td>\n",
       "      <td>...</td>\n",
       "      <td>...</td>\n",
       "      <td>...</td>\n",
       "      <td>...</td>\n",
       "      <td>...</td>\n",
       "      <td>...</td>\n",
       "      <td>...</td>\n",
       "      <td>...</td>\n",
       "      <td>...</td>\n",
       "      <td>...</td>\n",
       "      <td>...</td>\n",
       "      <td>...</td>\n",
       "      <td>...</td>\n",
       "      <td>...</td>\n",
       "      <td>...</td>\n",
       "      <td>...</td>\n",
       "    </tr>\n",
       "    <tr>\n",
       "      <th>32334</th>\n",
       "      <td>0</td>\n",
       "      <td>164</td>\n",
       "      <td>August</td>\n",
       "      <td>31</td>\n",
       "      <td>2</td>\n",
       "      <td>4</td>\n",
       "      <td>2</td>\n",
       "      <td>0</td>\n",
       "      <td>0</td>\n",
       "      <td>BB</td>\n",
       "      <td>DEU</td>\n",
       "      <td>TA/TO</td>\n",
       "      <td>0</td>\n",
       "      <td>0</td>\n",
       "      <td>A</td>\n",
       "      <td>0</td>\n",
       "      <td>0</td>\n",
       "      <td>Transient</td>\n",
       "      <td>0</td>\n",
       "      <td>0</td>\n",
       "      <td>1000</td>\n",
       "      <td>400</td>\n",
       "      <td>1.40</td>\n",
       "      <td>1.20</td>\n",
       "      <td>31</td>\n",
       "      <td>0</td>\n",
       "    </tr>\n",
       "    <tr>\n",
       "      <th>32335</th>\n",
       "      <td>0</td>\n",
       "      <td>21</td>\n",
       "      <td>August</td>\n",
       "      <td>30</td>\n",
       "      <td>2</td>\n",
       "      <td>5</td>\n",
       "      <td>2</td>\n",
       "      <td>0</td>\n",
       "      <td>0</td>\n",
       "      <td>BB</td>\n",
       "      <td>BEL</td>\n",
       "      <td>TA/TO</td>\n",
       "      <td>0</td>\n",
       "      <td>0</td>\n",
       "      <td>A</td>\n",
       "      <td>0</td>\n",
       "      <td>0</td>\n",
       "      <td>Transient</td>\n",
       "      <td>0</td>\n",
       "      <td>2</td>\n",
       "      <td>1000</td>\n",
       "      <td>400</td>\n",
       "      <td>1.40</td>\n",
       "      <td>1.20</td>\n",
       "      <td>31</td>\n",
       "      <td>0</td>\n",
       "    </tr>\n",
       "    <tr>\n",
       "      <th>32336</th>\n",
       "      <td>0</td>\n",
       "      <td>23</td>\n",
       "      <td>August</td>\n",
       "      <td>30</td>\n",
       "      <td>2</td>\n",
       "      <td>5</td>\n",
       "      <td>2</td>\n",
       "      <td>0</td>\n",
       "      <td>0</td>\n",
       "      <td>BB</td>\n",
       "      <td>BEL</td>\n",
       "      <td>TA/TO</td>\n",
       "      <td>0</td>\n",
       "      <td>0</td>\n",
       "      <td>A</td>\n",
       "      <td>0</td>\n",
       "      <td>0</td>\n",
       "      <td>Transient</td>\n",
       "      <td>0</td>\n",
       "      <td>0</td>\n",
       "      <td>1000</td>\n",
       "      <td>400</td>\n",
       "      <td>1.40</td>\n",
       "      <td>1.20</td>\n",
       "      <td>31</td>\n",
       "      <td>0</td>\n",
       "    </tr>\n",
       "    <tr>\n",
       "      <th>32337</th>\n",
       "      <td>0</td>\n",
       "      <td>34</td>\n",
       "      <td>August</td>\n",
       "      <td>31</td>\n",
       "      <td>2</td>\n",
       "      <td>5</td>\n",
       "      <td>2</td>\n",
       "      <td>0</td>\n",
       "      <td>0</td>\n",
       "      <td>BB</td>\n",
       "      <td>DEU</td>\n",
       "      <td>TA/TO</td>\n",
       "      <td>0</td>\n",
       "      <td>0</td>\n",
       "      <td>D</td>\n",
       "      <td>0</td>\n",
       "      <td>0</td>\n",
       "      <td>Transient</td>\n",
       "      <td>0</td>\n",
       "      <td>4</td>\n",
       "      <td>550</td>\n",
       "      <td>150</td>\n",
       "      <td>1.40</td>\n",
       "      <td>1.20</td>\n",
       "      <td>31</td>\n",
       "      <td>0</td>\n",
       "    </tr>\n",
       "    <tr>\n",
       "      <th>32338</th>\n",
       "      <td>0</td>\n",
       "      <td>109</td>\n",
       "      <td>August</td>\n",
       "      <td>31</td>\n",
       "      <td>2</td>\n",
       "      <td>5</td>\n",
       "      <td>2</td>\n",
       "      <td>0</td>\n",
       "      <td>0</td>\n",
       "      <td>BB</td>\n",
       "      <td>GBR</td>\n",
       "      <td>TA/TO</td>\n",
       "      <td>0</td>\n",
       "      <td>0</td>\n",
       "      <td>A</td>\n",
       "      <td>0</td>\n",
       "      <td>0</td>\n",
       "      <td>Transient</td>\n",
       "      <td>0</td>\n",
       "      <td>0</td>\n",
       "      <td>1000</td>\n",
       "      <td>400</td>\n",
       "      <td>1.40</td>\n",
       "      <td>1.20</td>\n",
       "      <td>31</td>\n",
       "      <td>0</td>\n",
       "    </tr>\n",
       "  </tbody>\n",
       "</table>\n",
       "<p>32339 rows × 26 columns</p>\n",
       "</div>"
      ],
      "text/plain": [
       "       is_canceled  lead_time arrival_date_month  arrival_date_day_of_month  \\\n",
       "0                1         74            January                          1   \n",
       "1                1         62            January                          1   \n",
       "2                1         62            January                          1   \n",
       "3                1         71            January                          1   \n",
       "4                1        172            January                          1   \n",
       "...            ...        ...                ...                        ...   \n",
       "32334            0        164             August                         31   \n",
       "32335            0         21             August                         30   \n",
       "32336            0         23             August                         30   \n",
       "32337            0         34             August                         31   \n",
       "32338            0        109             August                         31   \n",
       "\n",
       "       stays_in_weekend_nights  stays_in_week_nights  adults  children  \\\n",
       "0                            1                     0       2         0   \n",
       "1                            2                     2       2         0   \n",
       "2                            2                     2       2         0   \n",
       "3                            2                     2       1         0   \n",
       "4                            2                     5       2         0   \n",
       "...                        ...                   ...     ...       ...   \n",
       "32334                        2                     4       2         0   \n",
       "32335                        2                     5       2         0   \n",
       "32336                        2                     5       2         0   \n",
       "32337                        2                     5       2         0   \n",
       "32338                        2                     5       2         0   \n",
       "\n",
       "       has_babies meal country distribution_channel  previous_cancellations  \\\n",
       "0               0   BB     PRT                TA/TO                       0   \n",
       "1               0   BB     etc                TA/TO                       0   \n",
       "2               0   BB     etc                TA/TO                       0   \n",
       "3               0   BB     PRT                TA/TO                       0   \n",
       "4               0   BB     BEL                TA/TO                       0   \n",
       "...           ...  ...     ...                  ...                     ...   \n",
       "32334           0   BB     DEU                TA/TO                       0   \n",
       "32335           0   BB     BEL                TA/TO                       0   \n",
       "32336           0   BB     BEL                TA/TO                       0   \n",
       "32337           0   BB     DEU                TA/TO                       0   \n",
       "32338           0   BB     GBR                TA/TO                       0   \n",
       "\n",
       "       previous_bookings_not_canceled reserved_room_type  booking_changes  \\\n",
       "0                                   0                  A                0   \n",
       "1                                   0                  A                0   \n",
       "2                                   0                  A                0   \n",
       "3                                   0                  A                0   \n",
       "4                                   0                  A                0   \n",
       "...                               ...                ...              ...   \n",
       "32334                               0                  A                0   \n",
       "32335                               0                  A                0   \n",
       "32336                               0                  A                0   \n",
       "32337                               0                  D                0   \n",
       "32338                               0                  A                0   \n",
       "\n",
       "       days_in_waiting_list customer_type  required_car_parking_spaces  \\\n",
       "0                         0     Transient                            0   \n",
       "1                         0     Transient                            0   \n",
       "2                         0     Transient                            0   \n",
       "3                         0     Transient                            0   \n",
       "4                         0     Transient                            0   \n",
       "...                     ...           ...                          ...   \n",
       "32334                     0     Transient                            0   \n",
       "32335                     0     Transient                            0   \n",
       "32336                     0     Transient                            0   \n",
       "32337                     0     Transient                            0   \n",
       "32338                     0     Transient                            0   \n",
       "\n",
       "       total_of_special_requests  price_per_night  room_service   k1   k2  \\\n",
       "0                              0             1000           400 1.00 1.00   \n",
       "1                              1             1000           400 1.00 1.00   \n",
       "2                              1             1000           400 1.00 1.00   \n",
       "3                              1             1000           400 1.00 1.00   \n",
       "4                              0             1000           400 1.00 1.00   \n",
       "...                          ...              ...           ...  ...  ...   \n",
       "32334                          0             1000           400 1.40 1.20   \n",
       "32335                          2             1000           400 1.40 1.20   \n",
       "32336                          0             1000           400 1.40 1.20   \n",
       "32337                          4              550           150 1.40 1.20   \n",
       "32338                          0             1000           400 1.40 1.20   \n",
       "\n",
       "       days  predictions  \n",
       "0        31            0  \n",
       "1        31            0  \n",
       "2        31            0  \n",
       "3        31            0  \n",
       "4        31            0  \n",
       "...     ...          ...  \n",
       "32334    31            0  \n",
       "32335    31            0  \n",
       "32336    31            0  \n",
       "32337    31            0  \n",
       "32338    31            0  \n",
       "\n",
       "[32339 rows x 26 columns]"
      ]
     },
     "execution_count": 38,
     "metadata": {},
     "output_type": "execute_result"
    }
   ],
   "source": [
    "# Теперь создадим датасет для расчета прибыли(выручки) отеля\n",
    "# для этого соединим новые датафреймы и наш исследуемый \n",
    "# также добавим столбец predictions, в который потом вставим предсказания модели,\n",
    "# пока все значения в этом столбце будут равны 0\n",
    "\n",
    "df_test_profit = df_test_new.merge(night_rate, how='left', on='reserved_room_type')\n",
    "\n",
    "df_test_profit = df_test_profit.merge(season_rate, how='left', on='arrival_date_month')\n",
    "\n",
    "df_test_profit['predictions'] = 0\n",
    "\n",
    "df_test_profit"
   ]
  },
  {
   "cell_type": "code",
   "execution_count": 39,
   "metadata": {},
   "outputs": [],
   "source": [
    "#Напишем функцию для расчета прибыли(выручки)\n",
    "def revenue(row):\n",
    "    \n",
    "    # Сумма депозита, если модель покажет, что бронь будет отменена\n",
    "    deposit = (row['price_per_night'] * row['k1'] + row['room_service']) * 0.8\n",
    "    \n",
    "    # Общее количество ночей\n",
    "    total_night = row['stays_in_weekend_nights'] + row['stays_in_week_nights']\n",
    "    \n",
    "    # Количество дней до конца месяца\n",
    "    days_to_end_month = row['days'] - row['arrival_date_day_of_month'] + 1\n",
    "    \n",
    "    # Сумма за обслуживание номера\n",
    "    roomservice = row['room_service'] + \\\n",
    "    (row['room_service'] * math.ceil(total_night / 2 - 1)) * (1 - row['is_canceled'])\n",
    "    \n",
    "    if total_night <= days_to_end_month:\n",
    "        total_profit = total_night * row['price_per_night'] * row['k1'] *\\\n",
    "        (1 - row['is_canceled']) - row['is_canceled'] * (row['price_per_night'] * row['k1']-\\\n",
    "        deposit * row['predictions']) - roomservice\n",
    "        return total_profit\n",
    "    else:\n",
    "        total_profit = (row['price_per_night'] * (days_to_end_month * row['k1'] +\\\n",
    "                (total_night - days_to_end_month) * row['k2']) * (1 - row['is_canceled'])) -\\\n",
    "                roomservice - row['is_canceled'] *\\\n",
    "                (row['price_per_night'] * row['k1'] - deposit * row['predictions'])\n",
    "        return total_profit\n",
    "       "
   ]
  },
  {
   "cell_type": "code",
   "execution_count": 40,
   "metadata": {},
   "outputs": [
    {
     "name": "stdout",
     "output_type": "stream",
     "text": [
      "Прибыль отеля за 2017г до внедрения модели: 35.26 млн.руб\n",
      "Ожидаемая прибыль отеля после внедрения модели, не менее: 35.66 млн.руб\n"
     ]
    }
   ],
   "source": [
    "# Посчитаем прибыль отеля за 2017 год до внедрения модели\n",
    "total_revenue = df_test_profit.apply(revenue, axis=1).sum() / 1e6\n",
    "print('Прибыль отеля за 2017г до внедрения модели:', total_revenue.round(2), 'млн.руб')\n",
    "print('Ожидаемая прибыль отеля после внедрения модели, не менее:',\n",
    "      (total_revenue + BUDGET / 1e6).round(2), 'млн.руб')"
   ]
  },
  {
   "cell_type": "markdown",
   "metadata": {},
   "source": [
    "### Вывод:\n",
    "- Прибыль отеля за 2017г (тестируемый период) до внедрения модели составила 35,26 млн.руб. По условию задания, прибыль после внедрения модели должна быть выше затарат на ее внедрение. Значит ожидаемая прибыль должна быть не менее 35,66 млн.руб.\n",
    "- ML-задача данного проекта - построить модель, которая будет определять вероятность отмены бронирования и предлагать внести депозит. Это позволит избежать убытков, которые терпела компания при отмене бронирования, а значит, увеличить прибыль."
   ]
  },
  {
   "cell_type": "markdown",
   "metadata": {},
   "source": [
    "## Шаг 4. Разработка модели ML"
   ]
  },
  {
   "cell_type": "code",
   "execution_count": 41,
   "metadata": {},
   "outputs": [],
   "source": [
    "# Выделим признаки в обучающем и тестовом датасетах\n",
    "features_train = df_train_new.drop('is_canceled', axis = 1)\n",
    "target_train = df_train_new['is_canceled']\n",
    "\n",
    "\n",
    "features_test = df_test_new.drop('is_canceled', axis = 1)\n",
    "target_test = df_test_new['is_canceled']"
   ]
  },
  {
   "cell_type": "code",
   "execution_count": 42,
   "metadata": {},
   "outputs": [
    {
     "data": {
      "text/plain": [
       "['arrival_date_month',\n",
       " 'meal',\n",
       " 'country',\n",
       " 'distribution_channel',\n",
       " 'reserved_room_type',\n",
       " 'customer_type']"
      ]
     },
     "execution_count": 42,
     "metadata": {},
     "output_type": "execute_result"
    }
   ],
   "source": [
    "# Обозначим категориальные признаки для ОНЕ\n",
    "ohe_features = features_train.select_dtypes(include='object').columns.to_list()\n",
    "ohe_features"
   ]
  },
  {
   "cell_type": "code",
   "execution_count": 43,
   "metadata": {},
   "outputs": [
    {
     "data": {
      "text/plain": [
       "['lead_time',\n",
       " 'arrival_date_day_of_month',\n",
       " 'stays_in_weekend_nights',\n",
       " 'stays_in_week_nights',\n",
       " 'adults',\n",
       " 'children',\n",
       " 'has_babies',\n",
       " 'previous_cancellations',\n",
       " 'previous_bookings_not_canceled',\n",
       " 'booking_changes',\n",
       " 'days_in_waiting_list',\n",
       " 'required_car_parking_spaces',\n",
       " 'total_of_special_requests']"
      ]
     },
     "execution_count": 43,
     "metadata": {},
     "output_type": "execute_result"
    }
   ],
   "source": [
    "# Обозначим численные признаки \n",
    "num_features = features_train.select_dtypes(include='int').columns.to_list()\n",
    "num_features"
   ]
  },
  {
   "cell_type": "code",
   "execution_count": 44,
   "metadata": {},
   "outputs": [
    {
     "data": {
      "text/html": [
       "<div>\n",
       "<style scoped>\n",
       "    .dataframe tbody tr th:only-of-type {\n",
       "        vertical-align: middle;\n",
       "    }\n",
       "\n",
       "    .dataframe tbody tr th {\n",
       "        vertical-align: top;\n",
       "    }\n",
       "\n",
       "    .dataframe thead th {\n",
       "        text-align: right;\n",
       "    }\n",
       "</style>\n",
       "<table border=\"1\" class=\"dataframe\">\n",
       "  <thead>\n",
       "    <tr style=\"text-align: right;\">\n",
       "      <th></th>\n",
       "      <th>lead_time</th>\n",
       "      <th>arrival_date_day_of_month</th>\n",
       "      <th>stays_in_weekend_nights</th>\n",
       "      <th>stays_in_week_nights</th>\n",
       "      <th>adults</th>\n",
       "      <th>children</th>\n",
       "      <th>has_babies</th>\n",
       "      <th>previous_cancellations</th>\n",
       "      <th>previous_bookings_not_canceled</th>\n",
       "      <th>booking_changes</th>\n",
       "      <th>days_in_waiting_list</th>\n",
       "      <th>required_car_parking_spaces</th>\n",
       "      <th>total_of_special_requests</th>\n",
       "      <th>arrival_date_month_August</th>\n",
       "      <th>arrival_date_month_December</th>\n",
       "      <th>arrival_date_month_February</th>\n",
       "      <th>arrival_date_month_January</th>\n",
       "      <th>arrival_date_month_July</th>\n",
       "      <th>arrival_date_month_June</th>\n",
       "      <th>arrival_date_month_March</th>\n",
       "      <th>arrival_date_month_May</th>\n",
       "      <th>arrival_date_month_November</th>\n",
       "      <th>arrival_date_month_October</th>\n",
       "      <th>arrival_date_month_September</th>\n",
       "      <th>meal_FB</th>\n",
       "      <th>meal_HB</th>\n",
       "      <th>meal_SC</th>\n",
       "      <th>country_BRA</th>\n",
       "      <th>country_CHE</th>\n",
       "      <th>country_DEU</th>\n",
       "      <th>country_ESP</th>\n",
       "      <th>country_FRA</th>\n",
       "      <th>country_GBR</th>\n",
       "      <th>country_IRL</th>\n",
       "      <th>country_ITA</th>\n",
       "      <th>country_NLD</th>\n",
       "      <th>country_PRT</th>\n",
       "      <th>country_USA</th>\n",
       "      <th>country_etc</th>\n",
       "      <th>distribution_channel_Direct</th>\n",
       "      <th>distribution_channel_GDS</th>\n",
       "      <th>distribution_channel_TA/TO</th>\n",
       "      <th>reserved_room_type_B</th>\n",
       "      <th>reserved_room_type_C</th>\n",
       "      <th>reserved_room_type_D</th>\n",
       "      <th>reserved_room_type_E</th>\n",
       "      <th>reserved_room_type_F</th>\n",
       "      <th>reserved_room_type_G</th>\n",
       "      <th>customer_type_Group</th>\n",
       "      <th>customer_type_Transient</th>\n",
       "      <th>customer_type_Transient-Party</th>\n",
       "    </tr>\n",
       "  </thead>\n",
       "  <tbody>\n",
       "    <tr>\n",
       "      <th>0</th>\n",
       "      <td>-0.93</td>\n",
       "      <td>-1.70</td>\n",
       "      <td>-0.97</td>\n",
       "      <td>-0.90</td>\n",
       "      <td>-1.78</td>\n",
       "      <td>-0.22</td>\n",
       "      <td>-0.08</td>\n",
       "      <td>-0.30</td>\n",
       "      <td>-0.15</td>\n",
       "      <td>-0.36</td>\n",
       "      <td>-0.20</td>\n",
       "      <td>-0.24</td>\n",
       "      <td>-0.68</td>\n",
       "      <td>0.00</td>\n",
       "      <td>0.00</td>\n",
       "      <td>0.00</td>\n",
       "      <td>0.00</td>\n",
       "      <td>1.00</td>\n",
       "      <td>0.00</td>\n",
       "      <td>0.00</td>\n",
       "      <td>0.00</td>\n",
       "      <td>0.00</td>\n",
       "      <td>0.00</td>\n",
       "      <td>0.00</td>\n",
       "      <td>0.00</td>\n",
       "      <td>0.00</td>\n",
       "      <td>0.00</td>\n",
       "      <td>0.00</td>\n",
       "      <td>0.00</td>\n",
       "      <td>0.00</td>\n",
       "      <td>0.00</td>\n",
       "      <td>0.00</td>\n",
       "      <td>1.00</td>\n",
       "      <td>0.00</td>\n",
       "      <td>0.00</td>\n",
       "      <td>0.00</td>\n",
       "      <td>0.00</td>\n",
       "      <td>0.00</td>\n",
       "      <td>0.00</td>\n",
       "      <td>1.00</td>\n",
       "      <td>0.00</td>\n",
       "      <td>0.00</td>\n",
       "      <td>0.00</td>\n",
       "      <td>0.00</td>\n",
       "      <td>0.00</td>\n",
       "      <td>0.00</td>\n",
       "      <td>0.00</td>\n",
       "      <td>0.00</td>\n",
       "      <td>0.00</td>\n",
       "      <td>1.00</td>\n",
       "      <td>0.00</td>\n",
       "    </tr>\n",
       "    <tr>\n",
       "      <th>1</th>\n",
       "      <td>-0.86</td>\n",
       "      <td>-1.70</td>\n",
       "      <td>-0.97</td>\n",
       "      <td>-0.17</td>\n",
       "      <td>0.34</td>\n",
       "      <td>-0.22</td>\n",
       "      <td>-0.08</td>\n",
       "      <td>-0.30</td>\n",
       "      <td>-0.15</td>\n",
       "      <td>-0.36</td>\n",
       "      <td>-0.20</td>\n",
       "      <td>-0.24</td>\n",
       "      <td>0.65</td>\n",
       "      <td>0.00</td>\n",
       "      <td>0.00</td>\n",
       "      <td>0.00</td>\n",
       "      <td>0.00</td>\n",
       "      <td>1.00</td>\n",
       "      <td>0.00</td>\n",
       "      <td>0.00</td>\n",
       "      <td>0.00</td>\n",
       "      <td>0.00</td>\n",
       "      <td>0.00</td>\n",
       "      <td>0.00</td>\n",
       "      <td>0.00</td>\n",
       "      <td>0.00</td>\n",
       "      <td>0.00</td>\n",
       "      <td>0.00</td>\n",
       "      <td>0.00</td>\n",
       "      <td>0.00</td>\n",
       "      <td>0.00</td>\n",
       "      <td>0.00</td>\n",
       "      <td>1.00</td>\n",
       "      <td>0.00</td>\n",
       "      <td>0.00</td>\n",
       "      <td>0.00</td>\n",
       "      <td>0.00</td>\n",
       "      <td>0.00</td>\n",
       "      <td>0.00</td>\n",
       "      <td>0.00</td>\n",
       "      <td>0.00</td>\n",
       "      <td>1.00</td>\n",
       "      <td>0.00</td>\n",
       "      <td>0.00</td>\n",
       "      <td>0.00</td>\n",
       "      <td>0.00</td>\n",
       "      <td>0.00</td>\n",
       "      <td>0.00</td>\n",
       "      <td>0.00</td>\n",
       "      <td>1.00</td>\n",
       "      <td>0.00</td>\n",
       "    </tr>\n",
       "    <tr>\n",
       "      <th>2</th>\n",
       "      <td>-1.00</td>\n",
       "      <td>-1.70</td>\n",
       "      <td>-0.97</td>\n",
       "      <td>-0.17</td>\n",
       "      <td>0.34</td>\n",
       "      <td>-0.22</td>\n",
       "      <td>-0.08</td>\n",
       "      <td>-0.30</td>\n",
       "      <td>-0.15</td>\n",
       "      <td>-0.36</td>\n",
       "      <td>-0.20</td>\n",
       "      <td>-0.24</td>\n",
       "      <td>-0.68</td>\n",
       "      <td>0.00</td>\n",
       "      <td>0.00</td>\n",
       "      <td>0.00</td>\n",
       "      <td>0.00</td>\n",
       "      <td>1.00</td>\n",
       "      <td>0.00</td>\n",
       "      <td>0.00</td>\n",
       "      <td>0.00</td>\n",
       "      <td>0.00</td>\n",
       "      <td>0.00</td>\n",
       "      <td>0.00</td>\n",
       "      <td>0.00</td>\n",
       "      <td>0.00</td>\n",
       "      <td>0.00</td>\n",
       "      <td>0.00</td>\n",
       "      <td>0.00</td>\n",
       "      <td>0.00</td>\n",
       "      <td>0.00</td>\n",
       "      <td>0.00</td>\n",
       "      <td>0.00</td>\n",
       "      <td>0.00</td>\n",
       "      <td>0.00</td>\n",
       "      <td>0.00</td>\n",
       "      <td>1.00</td>\n",
       "      <td>0.00</td>\n",
       "      <td>0.00</td>\n",
       "      <td>1.00</td>\n",
       "      <td>0.00</td>\n",
       "      <td>0.00</td>\n",
       "      <td>0.00</td>\n",
       "      <td>1.00</td>\n",
       "      <td>0.00</td>\n",
       "      <td>0.00</td>\n",
       "      <td>0.00</td>\n",
       "      <td>0.00</td>\n",
       "      <td>0.00</td>\n",
       "      <td>1.00</td>\n",
       "      <td>0.00</td>\n",
       "    </tr>\n",
       "    <tr>\n",
       "      <th>3</th>\n",
       "      <td>-0.91</td>\n",
       "      <td>-1.70</td>\n",
       "      <td>-0.97</td>\n",
       "      <td>-0.17</td>\n",
       "      <td>0.34</td>\n",
       "      <td>-0.22</td>\n",
       "      <td>-0.08</td>\n",
       "      <td>-0.30</td>\n",
       "      <td>-0.15</td>\n",
       "      <td>-0.36</td>\n",
       "      <td>-0.20</td>\n",
       "      <td>-0.24</td>\n",
       "      <td>0.65</td>\n",
       "      <td>0.00</td>\n",
       "      <td>0.00</td>\n",
       "      <td>0.00</td>\n",
       "      <td>0.00</td>\n",
       "      <td>1.00</td>\n",
       "      <td>0.00</td>\n",
       "      <td>0.00</td>\n",
       "      <td>0.00</td>\n",
       "      <td>0.00</td>\n",
       "      <td>0.00</td>\n",
       "      <td>0.00</td>\n",
       "      <td>1.00</td>\n",
       "      <td>0.00</td>\n",
       "      <td>0.00</td>\n",
       "      <td>0.00</td>\n",
       "      <td>0.00</td>\n",
       "      <td>0.00</td>\n",
       "      <td>0.00</td>\n",
       "      <td>0.00</td>\n",
       "      <td>0.00</td>\n",
       "      <td>0.00</td>\n",
       "      <td>0.00</td>\n",
       "      <td>0.00</td>\n",
       "      <td>1.00</td>\n",
       "      <td>0.00</td>\n",
       "      <td>0.00</td>\n",
       "      <td>1.00</td>\n",
       "      <td>0.00</td>\n",
       "      <td>0.00</td>\n",
       "      <td>0.00</td>\n",
       "      <td>1.00</td>\n",
       "      <td>0.00</td>\n",
       "      <td>0.00</td>\n",
       "      <td>0.00</td>\n",
       "      <td>0.00</td>\n",
       "      <td>0.00</td>\n",
       "      <td>1.00</td>\n",
       "      <td>0.00</td>\n",
       "    </tr>\n",
       "    <tr>\n",
       "      <th>4</th>\n",
       "      <td>-0.12</td>\n",
       "      <td>-1.70</td>\n",
       "      <td>-0.97</td>\n",
       "      <td>0.57</td>\n",
       "      <td>0.34</td>\n",
       "      <td>-0.22</td>\n",
       "      <td>-0.08</td>\n",
       "      <td>-0.30</td>\n",
       "      <td>-0.15</td>\n",
       "      <td>-0.36</td>\n",
       "      <td>-0.20</td>\n",
       "      <td>-0.24</td>\n",
       "      <td>0.65</td>\n",
       "      <td>0.00</td>\n",
       "      <td>0.00</td>\n",
       "      <td>0.00</td>\n",
       "      <td>0.00</td>\n",
       "      <td>1.00</td>\n",
       "      <td>0.00</td>\n",
       "      <td>0.00</td>\n",
       "      <td>0.00</td>\n",
       "      <td>0.00</td>\n",
       "      <td>0.00</td>\n",
       "      <td>0.00</td>\n",
       "      <td>0.00</td>\n",
       "      <td>0.00</td>\n",
       "      <td>0.00</td>\n",
       "      <td>0.00</td>\n",
       "      <td>0.00</td>\n",
       "      <td>0.00</td>\n",
       "      <td>0.00</td>\n",
       "      <td>0.00</td>\n",
       "      <td>0.00</td>\n",
       "      <td>0.00</td>\n",
       "      <td>0.00</td>\n",
       "      <td>0.00</td>\n",
       "      <td>1.00</td>\n",
       "      <td>0.00</td>\n",
       "      <td>0.00</td>\n",
       "      <td>0.00</td>\n",
       "      <td>0.00</td>\n",
       "      <td>1.00</td>\n",
       "      <td>0.00</td>\n",
       "      <td>0.00</td>\n",
       "      <td>0.00</td>\n",
       "      <td>0.00</td>\n",
       "      <td>0.00</td>\n",
       "      <td>0.00</td>\n",
       "      <td>0.00</td>\n",
       "      <td>1.00</td>\n",
       "      <td>0.00</td>\n",
       "    </tr>\n",
       "  </tbody>\n",
       "</table>\n",
       "</div>"
      ],
      "text/plain": [
       "   lead_time  arrival_date_day_of_month  stays_in_weekend_nights  \\\n",
       "0      -0.93                      -1.70                    -0.97   \n",
       "1      -0.86                      -1.70                    -0.97   \n",
       "2      -1.00                      -1.70                    -0.97   \n",
       "3      -0.91                      -1.70                    -0.97   \n",
       "4      -0.12                      -1.70                    -0.97   \n",
       "\n",
       "   stays_in_week_nights  adults  children  has_babies  previous_cancellations  \\\n",
       "0                 -0.90   -1.78     -0.22       -0.08                   -0.30   \n",
       "1                 -0.17    0.34     -0.22       -0.08                   -0.30   \n",
       "2                 -0.17    0.34     -0.22       -0.08                   -0.30   \n",
       "3                 -0.17    0.34     -0.22       -0.08                   -0.30   \n",
       "4                  0.57    0.34     -0.22       -0.08                   -0.30   \n",
       "\n",
       "   previous_bookings_not_canceled  booking_changes  days_in_waiting_list  \\\n",
       "0                           -0.15            -0.36                 -0.20   \n",
       "1                           -0.15            -0.36                 -0.20   \n",
       "2                           -0.15            -0.36                 -0.20   \n",
       "3                           -0.15            -0.36                 -0.20   \n",
       "4                           -0.15            -0.36                 -0.20   \n",
       "\n",
       "   required_car_parking_spaces  total_of_special_requests  \\\n",
       "0                        -0.24                      -0.68   \n",
       "1                        -0.24                       0.65   \n",
       "2                        -0.24                      -0.68   \n",
       "3                        -0.24                       0.65   \n",
       "4                        -0.24                       0.65   \n",
       "\n",
       "   arrival_date_month_August  arrival_date_month_December  \\\n",
       "0                       0.00                         0.00   \n",
       "1                       0.00                         0.00   \n",
       "2                       0.00                         0.00   \n",
       "3                       0.00                         0.00   \n",
       "4                       0.00                         0.00   \n",
       "\n",
       "   arrival_date_month_February  arrival_date_month_January  \\\n",
       "0                         0.00                        0.00   \n",
       "1                         0.00                        0.00   \n",
       "2                         0.00                        0.00   \n",
       "3                         0.00                        0.00   \n",
       "4                         0.00                        0.00   \n",
       "\n",
       "   arrival_date_month_July  arrival_date_month_June  arrival_date_month_March  \\\n",
       "0                     1.00                     0.00                      0.00   \n",
       "1                     1.00                     0.00                      0.00   \n",
       "2                     1.00                     0.00                      0.00   \n",
       "3                     1.00                     0.00                      0.00   \n",
       "4                     1.00                     0.00                      0.00   \n",
       "\n",
       "   arrival_date_month_May  arrival_date_month_November  \\\n",
       "0                    0.00                         0.00   \n",
       "1                    0.00                         0.00   \n",
       "2                    0.00                         0.00   \n",
       "3                    0.00                         0.00   \n",
       "4                    0.00                         0.00   \n",
       "\n",
       "   arrival_date_month_October  arrival_date_month_September  meal_FB  meal_HB  \\\n",
       "0                        0.00                          0.00     0.00     0.00   \n",
       "1                        0.00                          0.00     0.00     0.00   \n",
       "2                        0.00                          0.00     0.00     0.00   \n",
       "3                        0.00                          0.00     1.00     0.00   \n",
       "4                        0.00                          0.00     0.00     0.00   \n",
       "\n",
       "   meal_SC  country_BRA  country_CHE  country_DEU  country_ESP  country_FRA  \\\n",
       "0     0.00         0.00         0.00         0.00         0.00         0.00   \n",
       "1     0.00         0.00         0.00         0.00         0.00         0.00   \n",
       "2     0.00         0.00         0.00         0.00         0.00         0.00   \n",
       "3     0.00         0.00         0.00         0.00         0.00         0.00   \n",
       "4     0.00         0.00         0.00         0.00         0.00         0.00   \n",
       "\n",
       "   country_GBR  country_IRL  country_ITA  country_NLD  country_PRT  \\\n",
       "0         1.00         0.00         0.00         0.00         0.00   \n",
       "1         1.00         0.00         0.00         0.00         0.00   \n",
       "2         0.00         0.00         0.00         0.00         1.00   \n",
       "3         0.00         0.00         0.00         0.00         1.00   \n",
       "4         0.00         0.00         0.00         0.00         1.00   \n",
       "\n",
       "   country_USA  country_etc  distribution_channel_Direct  \\\n",
       "0         0.00         0.00                         1.00   \n",
       "1         0.00         0.00                         0.00   \n",
       "2         0.00         0.00                         1.00   \n",
       "3         0.00         0.00                         1.00   \n",
       "4         0.00         0.00                         0.00   \n",
       "\n",
       "   distribution_channel_GDS  distribution_channel_TA/TO  reserved_room_type_B  \\\n",
       "0                      0.00                        0.00                  0.00   \n",
       "1                      0.00                        1.00                  0.00   \n",
       "2                      0.00                        0.00                  0.00   \n",
       "3                      0.00                        0.00                  0.00   \n",
       "4                      0.00                        1.00                  0.00   \n",
       "\n",
       "   reserved_room_type_C  reserved_room_type_D  reserved_room_type_E  \\\n",
       "0                  0.00                  0.00                  0.00   \n",
       "1                  0.00                  0.00                  0.00   \n",
       "2                  1.00                  0.00                  0.00   \n",
       "3                  1.00                  0.00                  0.00   \n",
       "4                  0.00                  0.00                  0.00   \n",
       "\n",
       "   reserved_room_type_F  reserved_room_type_G  customer_type_Group  \\\n",
       "0                  0.00                  0.00                 0.00   \n",
       "1                  0.00                  0.00                 0.00   \n",
       "2                  0.00                  0.00                 0.00   \n",
       "3                  0.00                  0.00                 0.00   \n",
       "4                  0.00                  0.00                 0.00   \n",
       "\n",
       "   customer_type_Transient  customer_type_Transient-Party  \n",
       "0                     1.00                           0.00  \n",
       "1                     1.00                           0.00  \n",
       "2                     1.00                           0.00  \n",
       "3                     1.00                           0.00  \n",
       "4                     1.00                           0.00  "
      ]
     },
     "execution_count": 44,
     "metadata": {},
     "output_type": "execute_result"
    }
   ],
   "source": [
    "# Закодируем категориальные и стандартизируем численные признаки\n",
    "# drop='first' удаляет первый признак из закодированных:\n",
    "# таким образом обходим dummy-ловушку\n",
    "encoder_ohe = OneHotEncoder(drop='first', handle_unknown='error', sparse=False)\n",
    "\n",
    "# обучаем энкодер на заданных категориальных признаках тренировочного датасета\n",
    "encoder_ohe.fit(features_train[ohe_features])\n",
    "\n",
    "# добавляем закодированные признаки в features_train\n",
    "# encoder_ohe.get_feature_names_out() позволяет получить названия колонок\n",
    "features_train[\n",
    "    encoder_ohe.get_feature_names_out()\n",
    "] = encoder_ohe.transform(features_train[ohe_features])\n",
    "\n",
    "# удаляем незакодированные категориальные признаки (изначальные колонки)\n",
    "features_train = features_train.drop(ohe_features, axis=1)\n",
    "\n",
    "# создаём скелер\n",
    "scaler = StandardScaler()\n",
    "\n",
    "# обучаем его на численных признаках тренировочного датасета, трансформируем его же\n",
    "features_train[num_features] = scaler.fit_transform(features_train[num_features])\n",
    "\n",
    "# смотрим на результат\n",
    "features_train.head()"
   ]
  },
  {
   "cell_type": "code",
   "execution_count": 45,
   "metadata": {},
   "outputs": [
    {
     "data": {
      "text/html": [
       "<div>\n",
       "<style scoped>\n",
       "    .dataframe tbody tr th:only-of-type {\n",
       "        vertical-align: middle;\n",
       "    }\n",
       "\n",
       "    .dataframe tbody tr th {\n",
       "        vertical-align: top;\n",
       "    }\n",
       "\n",
       "    .dataframe thead th {\n",
       "        text-align: right;\n",
       "    }\n",
       "</style>\n",
       "<table border=\"1\" class=\"dataframe\">\n",
       "  <thead>\n",
       "    <tr style=\"text-align: right;\">\n",
       "      <th></th>\n",
       "      <th>lead_time</th>\n",
       "      <th>arrival_date_day_of_month</th>\n",
       "      <th>stays_in_weekend_nights</th>\n",
       "      <th>stays_in_week_nights</th>\n",
       "      <th>adults</th>\n",
       "      <th>children</th>\n",
       "      <th>has_babies</th>\n",
       "      <th>previous_cancellations</th>\n",
       "      <th>previous_bookings_not_canceled</th>\n",
       "      <th>booking_changes</th>\n",
       "      <th>days_in_waiting_list</th>\n",
       "      <th>required_car_parking_spaces</th>\n",
       "      <th>total_of_special_requests</th>\n",
       "      <th>arrival_date_month_August</th>\n",
       "      <th>arrival_date_month_December</th>\n",
       "      <th>arrival_date_month_February</th>\n",
       "      <th>arrival_date_month_January</th>\n",
       "      <th>arrival_date_month_July</th>\n",
       "      <th>arrival_date_month_June</th>\n",
       "      <th>arrival_date_month_March</th>\n",
       "      <th>arrival_date_month_May</th>\n",
       "      <th>arrival_date_month_November</th>\n",
       "      <th>arrival_date_month_October</th>\n",
       "      <th>arrival_date_month_September</th>\n",
       "      <th>meal_FB</th>\n",
       "      <th>meal_HB</th>\n",
       "      <th>meal_SC</th>\n",
       "      <th>country_BRA</th>\n",
       "      <th>country_CHE</th>\n",
       "      <th>country_DEU</th>\n",
       "      <th>country_ESP</th>\n",
       "      <th>country_FRA</th>\n",
       "      <th>country_GBR</th>\n",
       "      <th>country_IRL</th>\n",
       "      <th>country_ITA</th>\n",
       "      <th>country_NLD</th>\n",
       "      <th>country_PRT</th>\n",
       "      <th>country_USA</th>\n",
       "      <th>country_etc</th>\n",
       "      <th>distribution_channel_Direct</th>\n",
       "      <th>distribution_channel_GDS</th>\n",
       "      <th>distribution_channel_TA/TO</th>\n",
       "      <th>reserved_room_type_B</th>\n",
       "      <th>reserved_room_type_C</th>\n",
       "      <th>reserved_room_type_D</th>\n",
       "      <th>reserved_room_type_E</th>\n",
       "      <th>reserved_room_type_F</th>\n",
       "      <th>reserved_room_type_G</th>\n",
       "      <th>customer_type_Group</th>\n",
       "      <th>customer_type_Transient</th>\n",
       "      <th>customer_type_Transient-Party</th>\n",
       "    </tr>\n",
       "  </thead>\n",
       "  <tbody>\n",
       "    <tr>\n",
       "      <th>0</th>\n",
       "      <td>-0.23</td>\n",
       "      <td>-1.70</td>\n",
       "      <td>0.21</td>\n",
       "      <td>-1.64</td>\n",
       "      <td>0.34</td>\n",
       "      <td>-0.22</td>\n",
       "      <td>-0.08</td>\n",
       "      <td>-0.30</td>\n",
       "      <td>-0.15</td>\n",
       "      <td>-0.36</td>\n",
       "      <td>-0.20</td>\n",
       "      <td>-0.24</td>\n",
       "      <td>-0.68</td>\n",
       "      <td>0.00</td>\n",
       "      <td>0.00</td>\n",
       "      <td>0.00</td>\n",
       "      <td>1.00</td>\n",
       "      <td>0.00</td>\n",
       "      <td>0.00</td>\n",
       "      <td>0.00</td>\n",
       "      <td>0.00</td>\n",
       "      <td>0.00</td>\n",
       "      <td>0.00</td>\n",
       "      <td>0.00</td>\n",
       "      <td>0.00</td>\n",
       "      <td>0.00</td>\n",
       "      <td>0.00</td>\n",
       "      <td>0.00</td>\n",
       "      <td>0.00</td>\n",
       "      <td>0.00</td>\n",
       "      <td>0.00</td>\n",
       "      <td>0.00</td>\n",
       "      <td>0.00</td>\n",
       "      <td>0.00</td>\n",
       "      <td>0.00</td>\n",
       "      <td>0.00</td>\n",
       "      <td>1.00</td>\n",
       "      <td>0.00</td>\n",
       "      <td>0.00</td>\n",
       "      <td>0.00</td>\n",
       "      <td>0.00</td>\n",
       "      <td>1.00</td>\n",
       "      <td>0.00</td>\n",
       "      <td>0.00</td>\n",
       "      <td>0.00</td>\n",
       "      <td>0.00</td>\n",
       "      <td>0.00</td>\n",
       "      <td>0.00</td>\n",
       "      <td>0.00</td>\n",
       "      <td>1.00</td>\n",
       "      <td>0.00</td>\n",
       "    </tr>\n",
       "    <tr>\n",
       "      <th>1</th>\n",
       "      <td>-0.36</td>\n",
       "      <td>-1.70</td>\n",
       "      <td>1.38</td>\n",
       "      <td>-0.17</td>\n",
       "      <td>0.34</td>\n",
       "      <td>-0.22</td>\n",
       "      <td>-0.08</td>\n",
       "      <td>-0.30</td>\n",
       "      <td>-0.15</td>\n",
       "      <td>-0.36</td>\n",
       "      <td>-0.20</td>\n",
       "      <td>-0.24</td>\n",
       "      <td>0.65</td>\n",
       "      <td>0.00</td>\n",
       "      <td>0.00</td>\n",
       "      <td>0.00</td>\n",
       "      <td>1.00</td>\n",
       "      <td>0.00</td>\n",
       "      <td>0.00</td>\n",
       "      <td>0.00</td>\n",
       "      <td>0.00</td>\n",
       "      <td>0.00</td>\n",
       "      <td>0.00</td>\n",
       "      <td>0.00</td>\n",
       "      <td>0.00</td>\n",
       "      <td>0.00</td>\n",
       "      <td>0.00</td>\n",
       "      <td>0.00</td>\n",
       "      <td>0.00</td>\n",
       "      <td>0.00</td>\n",
       "      <td>0.00</td>\n",
       "      <td>0.00</td>\n",
       "      <td>0.00</td>\n",
       "      <td>0.00</td>\n",
       "      <td>0.00</td>\n",
       "      <td>0.00</td>\n",
       "      <td>0.00</td>\n",
       "      <td>0.00</td>\n",
       "      <td>1.00</td>\n",
       "      <td>0.00</td>\n",
       "      <td>0.00</td>\n",
       "      <td>1.00</td>\n",
       "      <td>0.00</td>\n",
       "      <td>0.00</td>\n",
       "      <td>0.00</td>\n",
       "      <td>0.00</td>\n",
       "      <td>0.00</td>\n",
       "      <td>0.00</td>\n",
       "      <td>0.00</td>\n",
       "      <td>1.00</td>\n",
       "      <td>0.00</td>\n",
       "    </tr>\n",
       "    <tr>\n",
       "      <th>2</th>\n",
       "      <td>-0.36</td>\n",
       "      <td>-1.70</td>\n",
       "      <td>1.38</td>\n",
       "      <td>-0.17</td>\n",
       "      <td>0.34</td>\n",
       "      <td>-0.22</td>\n",
       "      <td>-0.08</td>\n",
       "      <td>-0.30</td>\n",
       "      <td>-0.15</td>\n",
       "      <td>-0.36</td>\n",
       "      <td>-0.20</td>\n",
       "      <td>-0.24</td>\n",
       "      <td>0.65</td>\n",
       "      <td>0.00</td>\n",
       "      <td>0.00</td>\n",
       "      <td>0.00</td>\n",
       "      <td>1.00</td>\n",
       "      <td>0.00</td>\n",
       "      <td>0.00</td>\n",
       "      <td>0.00</td>\n",
       "      <td>0.00</td>\n",
       "      <td>0.00</td>\n",
       "      <td>0.00</td>\n",
       "      <td>0.00</td>\n",
       "      <td>0.00</td>\n",
       "      <td>0.00</td>\n",
       "      <td>0.00</td>\n",
       "      <td>0.00</td>\n",
       "      <td>0.00</td>\n",
       "      <td>0.00</td>\n",
       "      <td>0.00</td>\n",
       "      <td>0.00</td>\n",
       "      <td>0.00</td>\n",
       "      <td>0.00</td>\n",
       "      <td>0.00</td>\n",
       "      <td>0.00</td>\n",
       "      <td>0.00</td>\n",
       "      <td>0.00</td>\n",
       "      <td>1.00</td>\n",
       "      <td>0.00</td>\n",
       "      <td>0.00</td>\n",
       "      <td>1.00</td>\n",
       "      <td>0.00</td>\n",
       "      <td>0.00</td>\n",
       "      <td>0.00</td>\n",
       "      <td>0.00</td>\n",
       "      <td>0.00</td>\n",
       "      <td>0.00</td>\n",
       "      <td>0.00</td>\n",
       "      <td>1.00</td>\n",
       "      <td>0.00</td>\n",
       "    </tr>\n",
       "    <tr>\n",
       "      <th>3</th>\n",
       "      <td>-0.26</td>\n",
       "      <td>-1.70</td>\n",
       "      <td>1.38</td>\n",
       "      <td>-0.17</td>\n",
       "      <td>-1.78</td>\n",
       "      <td>-0.22</td>\n",
       "      <td>-0.08</td>\n",
       "      <td>-0.30</td>\n",
       "      <td>-0.15</td>\n",
       "      <td>-0.36</td>\n",
       "      <td>-0.20</td>\n",
       "      <td>-0.24</td>\n",
       "      <td>0.65</td>\n",
       "      <td>0.00</td>\n",
       "      <td>0.00</td>\n",
       "      <td>0.00</td>\n",
       "      <td>1.00</td>\n",
       "      <td>0.00</td>\n",
       "      <td>0.00</td>\n",
       "      <td>0.00</td>\n",
       "      <td>0.00</td>\n",
       "      <td>0.00</td>\n",
       "      <td>0.00</td>\n",
       "      <td>0.00</td>\n",
       "      <td>0.00</td>\n",
       "      <td>0.00</td>\n",
       "      <td>0.00</td>\n",
       "      <td>0.00</td>\n",
       "      <td>0.00</td>\n",
       "      <td>0.00</td>\n",
       "      <td>0.00</td>\n",
       "      <td>0.00</td>\n",
       "      <td>0.00</td>\n",
       "      <td>0.00</td>\n",
       "      <td>0.00</td>\n",
       "      <td>0.00</td>\n",
       "      <td>1.00</td>\n",
       "      <td>0.00</td>\n",
       "      <td>0.00</td>\n",
       "      <td>0.00</td>\n",
       "      <td>0.00</td>\n",
       "      <td>1.00</td>\n",
       "      <td>0.00</td>\n",
       "      <td>0.00</td>\n",
       "      <td>0.00</td>\n",
       "      <td>0.00</td>\n",
       "      <td>0.00</td>\n",
       "      <td>0.00</td>\n",
       "      <td>0.00</td>\n",
       "      <td>1.00</td>\n",
       "      <td>0.00</td>\n",
       "    </tr>\n",
       "    <tr>\n",
       "      <th>4</th>\n",
       "      <td>0.79</td>\n",
       "      <td>-1.70</td>\n",
       "      <td>1.38</td>\n",
       "      <td>2.05</td>\n",
       "      <td>0.34</td>\n",
       "      <td>-0.22</td>\n",
       "      <td>-0.08</td>\n",
       "      <td>-0.30</td>\n",
       "      <td>-0.15</td>\n",
       "      <td>-0.36</td>\n",
       "      <td>-0.20</td>\n",
       "      <td>-0.24</td>\n",
       "      <td>-0.68</td>\n",
       "      <td>0.00</td>\n",
       "      <td>0.00</td>\n",
       "      <td>0.00</td>\n",
       "      <td>1.00</td>\n",
       "      <td>0.00</td>\n",
       "      <td>0.00</td>\n",
       "      <td>0.00</td>\n",
       "      <td>0.00</td>\n",
       "      <td>0.00</td>\n",
       "      <td>0.00</td>\n",
       "      <td>0.00</td>\n",
       "      <td>0.00</td>\n",
       "      <td>0.00</td>\n",
       "      <td>0.00</td>\n",
       "      <td>0.00</td>\n",
       "      <td>0.00</td>\n",
       "      <td>0.00</td>\n",
       "      <td>0.00</td>\n",
       "      <td>0.00</td>\n",
       "      <td>0.00</td>\n",
       "      <td>0.00</td>\n",
       "      <td>0.00</td>\n",
       "      <td>0.00</td>\n",
       "      <td>0.00</td>\n",
       "      <td>0.00</td>\n",
       "      <td>0.00</td>\n",
       "      <td>0.00</td>\n",
       "      <td>0.00</td>\n",
       "      <td>1.00</td>\n",
       "      <td>0.00</td>\n",
       "      <td>0.00</td>\n",
       "      <td>0.00</td>\n",
       "      <td>0.00</td>\n",
       "      <td>0.00</td>\n",
       "      <td>0.00</td>\n",
       "      <td>0.00</td>\n",
       "      <td>1.00</td>\n",
       "      <td>0.00</td>\n",
       "    </tr>\n",
       "  </tbody>\n",
       "</table>\n",
       "</div>"
      ],
      "text/plain": [
       "   lead_time  arrival_date_day_of_month  stays_in_weekend_nights  \\\n",
       "0      -0.23                      -1.70                     0.21   \n",
       "1      -0.36                      -1.70                     1.38   \n",
       "2      -0.36                      -1.70                     1.38   \n",
       "3      -0.26                      -1.70                     1.38   \n",
       "4       0.79                      -1.70                     1.38   \n",
       "\n",
       "   stays_in_week_nights  adults  children  has_babies  previous_cancellations  \\\n",
       "0                 -1.64    0.34     -0.22       -0.08                   -0.30   \n",
       "1                 -0.17    0.34     -0.22       -0.08                   -0.30   \n",
       "2                 -0.17    0.34     -0.22       -0.08                   -0.30   \n",
       "3                 -0.17   -1.78     -0.22       -0.08                   -0.30   \n",
       "4                  2.05    0.34     -0.22       -0.08                   -0.30   \n",
       "\n",
       "   previous_bookings_not_canceled  booking_changes  days_in_waiting_list  \\\n",
       "0                           -0.15            -0.36                 -0.20   \n",
       "1                           -0.15            -0.36                 -0.20   \n",
       "2                           -0.15            -0.36                 -0.20   \n",
       "3                           -0.15            -0.36                 -0.20   \n",
       "4                           -0.15            -0.36                 -0.20   \n",
       "\n",
       "   required_car_parking_spaces  total_of_special_requests  \\\n",
       "0                        -0.24                      -0.68   \n",
       "1                        -0.24                       0.65   \n",
       "2                        -0.24                       0.65   \n",
       "3                        -0.24                       0.65   \n",
       "4                        -0.24                      -0.68   \n",
       "\n",
       "   arrival_date_month_August  arrival_date_month_December  \\\n",
       "0                       0.00                         0.00   \n",
       "1                       0.00                         0.00   \n",
       "2                       0.00                         0.00   \n",
       "3                       0.00                         0.00   \n",
       "4                       0.00                         0.00   \n",
       "\n",
       "   arrival_date_month_February  arrival_date_month_January  \\\n",
       "0                         0.00                        1.00   \n",
       "1                         0.00                        1.00   \n",
       "2                         0.00                        1.00   \n",
       "3                         0.00                        1.00   \n",
       "4                         0.00                        1.00   \n",
       "\n",
       "   arrival_date_month_July  arrival_date_month_June  arrival_date_month_March  \\\n",
       "0                     0.00                     0.00                      0.00   \n",
       "1                     0.00                     0.00                      0.00   \n",
       "2                     0.00                     0.00                      0.00   \n",
       "3                     0.00                     0.00                      0.00   \n",
       "4                     0.00                     0.00                      0.00   \n",
       "\n",
       "   arrival_date_month_May  arrival_date_month_November  \\\n",
       "0                    0.00                         0.00   \n",
       "1                    0.00                         0.00   \n",
       "2                    0.00                         0.00   \n",
       "3                    0.00                         0.00   \n",
       "4                    0.00                         0.00   \n",
       "\n",
       "   arrival_date_month_October  arrival_date_month_September  meal_FB  meal_HB  \\\n",
       "0                        0.00                          0.00     0.00     0.00   \n",
       "1                        0.00                          0.00     0.00     0.00   \n",
       "2                        0.00                          0.00     0.00     0.00   \n",
       "3                        0.00                          0.00     0.00     0.00   \n",
       "4                        0.00                          0.00     0.00     0.00   \n",
       "\n",
       "   meal_SC  country_BRA  country_CHE  country_DEU  country_ESP  country_FRA  \\\n",
       "0     0.00         0.00         0.00         0.00         0.00         0.00   \n",
       "1     0.00         0.00         0.00         0.00         0.00         0.00   \n",
       "2     0.00         0.00         0.00         0.00         0.00         0.00   \n",
       "3     0.00         0.00         0.00         0.00         0.00         0.00   \n",
       "4     0.00         0.00         0.00         0.00         0.00         0.00   \n",
       "\n",
       "   country_GBR  country_IRL  country_ITA  country_NLD  country_PRT  \\\n",
       "0         0.00         0.00         0.00         0.00         1.00   \n",
       "1         0.00         0.00         0.00         0.00         0.00   \n",
       "2         0.00         0.00         0.00         0.00         0.00   \n",
       "3         0.00         0.00         0.00         0.00         1.00   \n",
       "4         0.00         0.00         0.00         0.00         0.00   \n",
       "\n",
       "   country_USA  country_etc  distribution_channel_Direct  \\\n",
       "0         0.00         0.00                         0.00   \n",
       "1         0.00         1.00                         0.00   \n",
       "2         0.00         1.00                         0.00   \n",
       "3         0.00         0.00                         0.00   \n",
       "4         0.00         0.00                         0.00   \n",
       "\n",
       "   distribution_channel_GDS  distribution_channel_TA/TO  reserved_room_type_B  \\\n",
       "0                      0.00                        1.00                  0.00   \n",
       "1                      0.00                        1.00                  0.00   \n",
       "2                      0.00                        1.00                  0.00   \n",
       "3                      0.00                        1.00                  0.00   \n",
       "4                      0.00                        1.00                  0.00   \n",
       "\n",
       "   reserved_room_type_C  reserved_room_type_D  reserved_room_type_E  \\\n",
       "0                  0.00                  0.00                  0.00   \n",
       "1                  0.00                  0.00                  0.00   \n",
       "2                  0.00                  0.00                  0.00   \n",
       "3                  0.00                  0.00                  0.00   \n",
       "4                  0.00                  0.00                  0.00   \n",
       "\n",
       "   reserved_room_type_F  reserved_room_type_G  customer_type_Group  \\\n",
       "0                  0.00                  0.00                 0.00   \n",
       "1                  0.00                  0.00                 0.00   \n",
       "2                  0.00                  0.00                 0.00   \n",
       "3                  0.00                  0.00                 0.00   \n",
       "4                  0.00                  0.00                 0.00   \n",
       "\n",
       "   customer_type_Transient  customer_type_Transient-Party  \n",
       "0                     1.00                           0.00  \n",
       "1                     1.00                           0.00  \n",
       "2                     1.00                           0.00  \n",
       "3                     1.00                           0.00  \n",
       "4                     1.00                           0.00  "
      ]
     },
     "execution_count": 45,
     "metadata": {},
     "output_type": "execute_result"
    }
   ],
   "source": [
    "# энкодером, который обучен на ТРЕНИРОВОЧНОМ датасете, кодируем тестовый\n",
    "features_test[\n",
    "    encoder_ohe.get_feature_names_out()\n",
    "] = encoder_ohe.transform(features_test[ohe_features])\n",
    "\n",
    "features_test = features_test.drop(ohe_features, axis=1)\n",
    "\n",
    "# скелером, который обучен на ТРЕНИРОВОЧНОМ датасете, масштабируем тестовый\n",
    "features_test[num_features] = scaler.transform(\n",
    "    features_test[num_features]\n",
    ")\n",
    "\n",
    "# смотрим на результат\n",
    "features_test.head()"
   ]
  },
  {
   "cell_type": "markdown",
   "metadata": {},
   "source": [
    "Признаки подготовлены, теперь построим модели. Проверим три модели для задачи классификации: решающего дерева, случайного леса и логистической регрессии. Оценим их качество кросс-валидацией\n",
    "Поскольку дисбаланс классов есть, хоть и не слишком большой, применим в моделях параметр *class_weight='balanced'*. \n",
    "\n",
    "По отдельности полнота и точность не слишком информативны. Высокий показатель *Recall* может привести к обратному эффекту - прибыль отеля может уменьшиться из-за клиентов, которые передумали бронировать при условии внесения депозита. Высокий показатель *Precision* может не дать нужного количества депозитов, для покрытия расходов. Поэтому для оценки качества модели, в данном случае, лучше выбрать метрику *F1*, для того чтобы учитывать одновременно и точность и полноту."
   ]
  },
  {
   "cell_type": "code",
   "execution_count": 46,
   "metadata": {},
   "outputs": [
    {
     "name": "stdout",
     "output_type": "stream",
     "text": [
      "Лучшая средняя оценка f1 качества модели DTC: 0.6899500682906495 при параметрах:\n",
      "{'ccp_alpha': 0.0, 'class_weight': 'balanced', 'criterion': 'gini', 'max_depth': 4, 'max_features': None, 'max_leaf_nodes': None, 'min_impurity_decrease': 0.0, 'min_samples_leaf': 2, 'min_samples_split': 2, 'min_weight_fraction_leaf': 0.0, 'random_state': 12345, 'splitter': 'best'}\n"
     ]
    }
   ],
   "source": [
    "# Построим и обучим модель решающего дерева\n",
    "# Подберем лучшие параметры max_depth, min_samples_split, min_samples_leaf в цикле\n",
    "\n",
    "best_f1_dtc = 0\n",
    "\n",
    "for depth in range(1,10,1):\n",
    "    for split in range(2,10,2):\n",
    "        for leaf in range(2,10,2):\n",
    "            model_dtc = DecisionTreeClassifier(max_depth=depth,\n",
    "                                               min_samples_split=split,\n",
    "                                               min_samples_leaf=leaf,\n",
    "                                               class_weight='balanced',\n",
    "                                               random_state=12345)\n",
    "            scores = cross_val_score(model_dtc,features_train, target_train, cv=5, scoring='f1')\n",
    "            final_score = sum(scores)/len(scores)\n",
    "            if final_score > best_f1_dtc:\n",
    "                params_dtc = model_dtc.get_params()\n",
    "                best_f1_dtc = final_score                    \n",
    "print('Лучшая средняя оценка f1 качества модели DTC:', best_f1_dtc, 'при параметрах:')\n",
    "print(params_dtc)"
   ]
  },
  {
   "cell_type": "code",
   "execution_count": 47,
   "metadata": {},
   "outputs": [
    {
     "name": "stdout",
     "output_type": "stream",
     "text": [
      "Лучшая средняя оценка f1 качества модели RFC: 0.6430623050596129 при параметрах:\n",
      "{'bootstrap': True, 'ccp_alpha': 0.0, 'class_weight': 'balanced', 'criterion': 'gini', 'max_depth': 4, 'max_features': 'sqrt', 'max_leaf_nodes': None, 'max_samples': None, 'min_impurity_decrease': 0.0, 'min_samples_leaf': 1, 'min_samples_split': 2, 'min_weight_fraction_leaf': 0.0, 'n_estimators': 5, 'n_jobs': None, 'oob_score': False, 'random_state': 12345, 'verbose': 0, 'warm_start': False}\n"
     ]
    }
   ],
   "source": [
    "# Построим и обучим модель случайного леса\n",
    "# Подберем лучшие параметры в цикле\n",
    "\n",
    "bootstrap = [True, False]\n",
    "criterion = ['gini','entropy']\n",
    "\n",
    "best_f1_rfc = 0\n",
    "\n",
    "for est in range(1,10,1):\n",
    "    for depth in range(1,10,1):\n",
    "        for crit in criterion:\n",
    "            for boot in bootstrap:\n",
    "                model_rfc = RandomForestClassifier(max_depth=depth,\n",
    "                                                   class_weight='balanced',\n",
    "                                                   n_estimators=est,\n",
    "                                                   criterion=crit,\n",
    "                                                   bootstrap=boot,\n",
    "                                                   random_state=12345)\n",
    "                scores = cross_val_score(model_rfc, features_train, target_train, cv = 5,\n",
    "                                         scoring = 'f1')\n",
    "                final_score = sum(scores) / len(scores)\n",
    "                if final_score > best_f1_rfc:\n",
    "                    best_f1_rfc = final_score\n",
    "                    params_rfc = model_rfc.get_params()\n",
    "                    \n",
    "print('Лучшая средняя оценка f1 качества модели RFC:', best_f1_rfc, 'при параметрах:')\n",
    "print(params_rfc)"
   ]
  },
  {
   "cell_type": "code",
   "execution_count": 48,
   "metadata": {},
   "outputs": [
    {
     "name": "stderr",
     "output_type": "stream",
     "text": [
      "/opt/conda/lib/python3.9/site-packages/sklearn/linear_model/_logistic.py:444: ConvergenceWarning: lbfgs failed to converge (status=1):\n",
      "STOP: TOTAL NO. of ITERATIONS REACHED LIMIT.\n",
      "\n",
      "Increase the number of iterations (max_iter) or scale the data as shown in:\n",
      "    https://scikit-learn.org/stable/modules/preprocessing.html\n",
      "Please also refer to the documentation for alternative solver options:\n",
      "    https://scikit-learn.org/stable/modules/linear_model.html#logistic-regression\n",
      "  n_iter_i = _check_optimize_result(\n",
      "/opt/conda/lib/python3.9/site-packages/sklearn/linear_model/_logistic.py:444: ConvergenceWarning: lbfgs failed to converge (status=1):\n",
      "STOP: TOTAL NO. of ITERATIONS REACHED LIMIT.\n",
      "\n",
      "Increase the number of iterations (max_iter) or scale the data as shown in:\n",
      "    https://scikit-learn.org/stable/modules/preprocessing.html\n",
      "Please also refer to the documentation for alternative solver options:\n",
      "    https://scikit-learn.org/stable/modules/linear_model.html#logistic-regression\n",
      "  n_iter_i = _check_optimize_result(\n",
      "/opt/conda/lib/python3.9/site-packages/sklearn/linear_model/_logistic.py:444: ConvergenceWarning: lbfgs failed to converge (status=1):\n",
      "STOP: TOTAL NO. of ITERATIONS REACHED LIMIT.\n",
      "\n",
      "Increase the number of iterations (max_iter) or scale the data as shown in:\n",
      "    https://scikit-learn.org/stable/modules/preprocessing.html\n",
      "Please also refer to the documentation for alternative solver options:\n",
      "    https://scikit-learn.org/stable/modules/linear_model.html#logistic-regression\n",
      "  n_iter_i = _check_optimize_result(\n",
      "/opt/conda/lib/python3.9/site-packages/sklearn/linear_model/_logistic.py:444: ConvergenceWarning: lbfgs failed to converge (status=1):\n",
      "STOP: TOTAL NO. of ITERATIONS REACHED LIMIT.\n",
      "\n",
      "Increase the number of iterations (max_iter) or scale the data as shown in:\n",
      "    https://scikit-learn.org/stable/modules/preprocessing.html\n",
      "Please also refer to the documentation for alternative solver options:\n",
      "    https://scikit-learn.org/stable/modules/linear_model.html#logistic-regression\n",
      "  n_iter_i = _check_optimize_result(\n",
      "/opt/conda/lib/python3.9/site-packages/sklearn/linear_model/_logistic.py:444: ConvergenceWarning: lbfgs failed to converge (status=1):\n",
      "STOP: TOTAL NO. of ITERATIONS REACHED LIMIT.\n",
      "\n",
      "Increase the number of iterations (max_iter) or scale the data as shown in:\n",
      "    https://scikit-learn.org/stable/modules/preprocessing.html\n",
      "Please also refer to the documentation for alternative solver options:\n",
      "    https://scikit-learn.org/stable/modules/linear_model.html#logistic-regression\n",
      "  n_iter_i = _check_optimize_result(\n",
      "/opt/conda/lib/python3.9/site-packages/sklearn/linear_model/_logistic.py:444: ConvergenceWarning: lbfgs failed to converge (status=1):\n",
      "STOP: TOTAL NO. of ITERATIONS REACHED LIMIT.\n",
      "\n",
      "Increase the number of iterations (max_iter) or scale the data as shown in:\n",
      "    https://scikit-learn.org/stable/modules/preprocessing.html\n",
      "Please also refer to the documentation for alternative solver options:\n",
      "    https://scikit-learn.org/stable/modules/linear_model.html#logistic-regression\n",
      "  n_iter_i = _check_optimize_result(\n",
      "/opt/conda/lib/python3.9/site-packages/sklearn/linear_model/_logistic.py:444: ConvergenceWarning: lbfgs failed to converge (status=1):\n",
      "STOP: TOTAL NO. of ITERATIONS REACHED LIMIT.\n",
      "\n",
      "Increase the number of iterations (max_iter) or scale the data as shown in:\n",
      "    https://scikit-learn.org/stable/modules/preprocessing.html\n",
      "Please also refer to the documentation for alternative solver options:\n",
      "    https://scikit-learn.org/stable/modules/linear_model.html#logistic-regression\n",
      "  n_iter_i = _check_optimize_result(\n",
      "/opt/conda/lib/python3.9/site-packages/sklearn/linear_model/_logistic.py:444: ConvergenceWarning: lbfgs failed to converge (status=1):\n",
      "STOP: TOTAL NO. of ITERATIONS REACHED LIMIT.\n",
      "\n",
      "Increase the number of iterations (max_iter) or scale the data as shown in:\n",
      "    https://scikit-learn.org/stable/modules/preprocessing.html\n",
      "Please also refer to the documentation for alternative solver options:\n",
      "    https://scikit-learn.org/stable/modules/linear_model.html#logistic-regression\n",
      "  n_iter_i = _check_optimize_result(\n",
      "/opt/conda/lib/python3.9/site-packages/sklearn/linear_model/_logistic.py:444: ConvergenceWarning: lbfgs failed to converge (status=1):\n",
      "STOP: TOTAL NO. of ITERATIONS REACHED LIMIT.\n",
      "\n",
      "Increase the number of iterations (max_iter) or scale the data as shown in:\n",
      "    https://scikit-learn.org/stable/modules/preprocessing.html\n",
      "Please also refer to the documentation for alternative solver options:\n",
      "    https://scikit-learn.org/stable/modules/linear_model.html#logistic-regression\n",
      "  n_iter_i = _check_optimize_result(\n",
      "/opt/conda/lib/python3.9/site-packages/sklearn/linear_model/_logistic.py:444: ConvergenceWarning: lbfgs failed to converge (status=1):\n",
      "STOP: TOTAL NO. of ITERATIONS REACHED LIMIT.\n",
      "\n",
      "Increase the number of iterations (max_iter) or scale the data as shown in:\n",
      "    https://scikit-learn.org/stable/modules/preprocessing.html\n",
      "Please also refer to the documentation for alternative solver options:\n",
      "    https://scikit-learn.org/stable/modules/linear_model.html#logistic-regression\n",
      "  n_iter_i = _check_optimize_result(\n",
      "/opt/conda/lib/python3.9/site-packages/sklearn/linear_model/_logistic.py:444: ConvergenceWarning: lbfgs failed to converge (status=1):\n",
      "STOP: TOTAL NO. of ITERATIONS REACHED LIMIT.\n",
      "\n",
      "Increase the number of iterations (max_iter) or scale the data as shown in:\n",
      "    https://scikit-learn.org/stable/modules/preprocessing.html\n",
      "Please also refer to the documentation for alternative solver options:\n",
      "    https://scikit-learn.org/stable/modules/linear_model.html#logistic-regression\n",
      "  n_iter_i = _check_optimize_result(\n",
      "/opt/conda/lib/python3.9/site-packages/sklearn/linear_model/_logistic.py:444: ConvergenceWarning: lbfgs failed to converge (status=1):\n",
      "STOP: TOTAL NO. of ITERATIONS REACHED LIMIT.\n",
      "\n",
      "Increase the number of iterations (max_iter) or scale the data as shown in:\n",
      "    https://scikit-learn.org/stable/modules/preprocessing.html\n",
      "Please also refer to the documentation for alternative solver options:\n",
      "    https://scikit-learn.org/stable/modules/linear_model.html#logistic-regression\n",
      "  n_iter_i = _check_optimize_result(\n",
      "/opt/conda/lib/python3.9/site-packages/sklearn/linear_model/_logistic.py:444: ConvergenceWarning: lbfgs failed to converge (status=1):\n",
      "STOP: TOTAL NO. of ITERATIONS REACHED LIMIT.\n",
      "\n",
      "Increase the number of iterations (max_iter) or scale the data as shown in:\n",
      "    https://scikit-learn.org/stable/modules/preprocessing.html\n",
      "Please also refer to the documentation for alternative solver options:\n",
      "    https://scikit-learn.org/stable/modules/linear_model.html#logistic-regression\n",
      "  n_iter_i = _check_optimize_result(\n"
     ]
    },
    {
     "name": "stdout",
     "output_type": "stream",
     "text": [
      "Лучшая средняя оценка f1 качества модели LR: 0.6096384619848019 при параметрах:\n",
      "{'C': 0.001, 'class_weight': 'balanced', 'dual': False, 'fit_intercept': True, 'intercept_scaling': 1, 'l1_ratio': None, 'max_iter': 50, 'multi_class': 'auto', 'n_jobs': None, 'penalty': 'l2', 'random_state': 12345, 'solver': 'lbfgs', 'tol': 0.0001, 'verbose': 0, 'warm_start': False}\n"
     ]
    }
   ],
   "source": [
    "# Построим и обучим модель логистической регрессии\n",
    "# Подберем лучшие параметры в цикле\n",
    "solver = ['newton-cg', 'lbfgs', 'liblinear', 'sag', 'saga']\n",
    "max_iter = [20, 50]\n",
    "C = [0.001, 0.01]\n",
    "\n",
    "best_f1_lr = 0\n",
    "\n",
    "for sol in solver:\n",
    "    for c in C:\n",
    "        for itr in max_iter:\n",
    "            model_lr = LogisticRegression(solver=sol,\n",
    "                                          max_iter=itr,\n",
    "                                          C=c,\n",
    "                                          class_weight='balanced',\n",
    "                                          random_state=12345)\n",
    "            scores = cross_val_score(model_lr, features_train, target_train, cv = 5, \n",
    "                                    scoring = 'f1')\n",
    "            final_score = sum(scores) / len(scores)\n",
    "            if final_score > best_f1_lr:\n",
    "                best_f1_lr = final_score\n",
    "                params_lr = model_lr.get_params()\n",
    "                    \n",
    "print('Лучшая средняя оценка f1 качества модели LR:', best_f1_lr, 'при параметрах:')\n",
    "print(params_lr)"
   ]
  },
  {
   "cell_type": "markdown",
   "metadata": {},
   "source": [
    "Лучший показатель метрики *F1* - `0.6899500682906495` получился у модели решающего дерева, при глубине равной 4. Проверим эту модель на тестовом датасете и посчитаем прибыль"
   ]
  },
  {
   "cell_type": "code",
   "execution_count": 49,
   "metadata": {},
   "outputs": [
    {
     "name": "stdout",
     "output_type": "stream",
     "text": [
      "Метрики, полуенные на тестовом датасете:\n",
      "f1 0.6564336529539128\n",
      "auc-roc 0.7900596173706721\n",
      "accuracy 0.7252234144531371\n"
     ]
    }
   ],
   "source": [
    "model_dtc_best = DecisionTreeClassifier(**params_dtc)\n",
    "model_dtc_best.fit(features_train, target_train)\n",
    "predictions = model_dtc_best.predict(features_test)\n",
    "predictions_prob = model_dtc_best.predict_proba(features_test)\n",
    "\n",
    "f1 = f1_score(target_test, predictions)\n",
    "auc_roc = roc_auc_score(target_test, predictions_prob[:, 1])\n",
    "accuracy = accuracy_score(target_test, predictions)\n",
    "\n",
    "print('Метрики, полуенные на тестовом датасете:')\n",
    "print('f1', f1)\n",
    "print('auc-roc', auc_roc)\n",
    "print('accuracy', accuracy)"
   ]
  },
  {
   "cell_type": "code",
   "execution_count": 50,
   "metadata": {},
   "outputs": [
    {
     "name": "stdout",
     "output_type": "stream",
     "text": [
      "Прибыль отеля за 2017г после внедрения модели: 45.13 млн.руб\n",
      "Увеличение прибыли на: 9.87 млн.руб\n"
     ]
    }
   ],
   "source": [
    "# Для расчета прибыли сохраним предсказания в столбец predictions\n",
    "df_test_profit['predictions'] = predictions\n",
    "\n",
    "# Посчитаем прибыль после внедрения модели\n",
    "total_revenue_mod = df_test_profit.apply(revenue, axis=1).sum() / 1e6\n",
    "print('Прибыль отеля за 2017г после внедрения модели:', total_revenue_mod.round(2), 'млн.руб')\n",
    "print('Увеличение прибыли на:', (total_revenue_mod - total_revenue).round(2), 'млн.руб')"
   ]
  },
  {
   "cell_type": "markdown",
   "metadata": {},
   "source": [
    "Посмотрим на реализацию \"худшего сценария\", когда клиенты, которых модель выбрала ошибочно, откажутся от бронирования из-за необходимости внести депозит. Допустим это будет каждый второй клиент"
   ]
  },
  {
   "cell_type": "code",
   "execution_count": 51,
   "metadata": {},
   "outputs": [
    {
     "name": "stdout",
     "output_type": "stream",
     "text": [
      "Возможная потеря прибыли от отказа клиентов от депозита 7.13 млн.руб\n"
     ]
    }
   ],
   "source": [
    "# Выделим таких клиентов из общего количества\n",
    "df_client_error = df_test_profit[(df_test_profit.is_canceled == 0) \\\n",
    "                                 & (df_test_profit.predictions == 1)]\n",
    "\n",
    "# Посчитаем прибыль, которую отель может потерять из-за отказов таких клиентов\n",
    "total_revenue_err = df_client_error.apply(revenue, axis=1).sum() / 1e6\n",
    "print('Возможная потеря прибыли от отказа клиентов от депозита',\n",
    "      total_revenue_err.round(2) * 0.5, 'млн.руб')"
   ]
  },
  {
   "cell_type": "markdown",
   "metadata": {},
   "source": [
    "### Вывод:\n",
    "Для разработки и проверки модели мы сначала подготовили признаки. Категориальные признаки закодировали методом *One-Hot-Encoding*, а численные - масштабировали.\n",
    "На подготовленных данных мы построили три модели - решающего дерева, случайного леса и логистической регрессии. Оценили их качество кросс-валидацией с метрикой *F1*. Глубина и количество деревьев были подобраны в цикле, для более точного результата использовали параметр *class_weight='balanced'* (т.к. имелся небольшой дисбаланс классов)\n",
    "\n",
    "По итогам проверки моделей лучший показатель *F1* оказался у рещающего дерева, с глубиной равной 4. Эту модель мы и проверили на тестовом датасете. Метрики, которые выдала модель на тесте следующие:\n",
    "\n",
    "- f1 - чуть ниже. чем на тренировочном датасете - 0.6564336529539128\n",
    "- accuracy - 0.7252234144531371\n",
    "- auc-roc 0.7900596173706721\n",
    " \n",
    "Бизнес-метрика - прибыль, которую мог получить отель при внедрении данной модели, получилась `45,13 млн.руб.`, что на 9,87 млн.руб. больше фактической. Таким образом затраты на внедрении модели окупятся, при этом отель сможет заработать почти на 10 млн.руб. больше. Даже при условии, что половина клиентов, которым предложат внести депозит откажется от бронирования, прибыль отеля все равно вырастет на 2,34 млн.руб."
   ]
  },
  {
   "cell_type": "markdown",
   "metadata": {},
   "source": [
    "## Шаг 5. Опишите портрет «ненадёжного» клиента"
   ]
  },
  {
   "cell_type": "code",
   "execution_count": 52,
   "metadata": {},
   "outputs": [
    {
     "name": "stdout",
     "output_type": "stream",
     "text": [
      "is_canceled\n",
      "1    8489\n",
      "Name: is_canceled, dtype: int64\n",
      "lead_time\n",
      "56     158\n",
      "28     136\n",
      "38     132\n",
      "156    113\n",
      "59     102\n",
      "      ... \n",
      "249      1\n",
      "282      1\n",
      "329      1\n",
      "349      1\n",
      "353      1\n",
      "Name: lead_time, Length: 347, dtype: int64\n",
      "arrival_date_month\n",
      "May         1646\n",
      "April       1588\n",
      "June        1496\n",
      "March       1021\n",
      "July         740\n",
      "February     699\n",
      "January      686\n",
      "August       613\n",
      "Name: arrival_date_month, dtype: int64\n",
      "arrival_date_day_of_month\n",
      "15    476\n",
      "26    378\n",
      "8     357\n",
      "25    335\n",
      "19    335\n",
      "9     331\n",
      "1     327\n",
      "23    310\n",
      "14    310\n",
      "21    297\n",
      "3     276\n",
      "28    273\n",
      "2     272\n",
      "27    269\n",
      "4     267\n",
      "6     265\n",
      "5     263\n",
      "12    262\n",
      "13    260\n",
      "17    260\n",
      "20    252\n",
      "30    246\n",
      "18    243\n",
      "16    239\n",
      "24    232\n",
      "10    229\n",
      "11    226\n",
      "22    212\n",
      "29    184\n",
      "7     174\n",
      "31    129\n",
      "Name: arrival_date_day_of_month, dtype: int64\n",
      "stays_in_weekend_nights\n",
      "0    3804\n",
      "2    2437\n",
      "1    2218\n",
      "4      17\n",
      "3      13\n",
      "Name: stays_in_weekend_nights, dtype: int64\n",
      "stays_in_week_nights\n",
      "2    2621\n",
      "3    2304\n",
      "1    1804\n",
      "4     700\n",
      "5     639\n",
      "0     365\n",
      "6      56\n",
      "Name: stays_in_week_nights, dtype: int64\n",
      "adults\n",
      "2    6657\n",
      "1    1359\n",
      "3     469\n",
      "4       4\n",
      "Name: adults, dtype: int64\n",
      "children\n",
      "0    8031\n",
      "1     281\n",
      "2     176\n",
      "3       1\n",
      "Name: children, dtype: int64\n",
      "has_babies\n",
      "0    8479\n",
      "1      10\n",
      "Name: has_babies, dtype: int64\n",
      "meal\n",
      "BB    6975\n",
      "SC    1047\n",
      "HB     454\n",
      "FB      13\n",
      "Name: meal, dtype: int64\n",
      "country\n",
      "PRT    5159\n",
      "etc     780\n",
      "GBR     504\n",
      "FRA     430\n",
      "DEU     328\n",
      "ITA     279\n",
      "ESP     261\n",
      "BRA     174\n",
      "IRL     163\n",
      "USA     117\n",
      "BEL     117\n",
      "CHE      91\n",
      "NLD      86\n",
      "Name: country, dtype: int64\n",
      "distribution_channel\n",
      "TA/TO        7823\n",
      "Direct        384\n",
      "Corporate     274\n",
      "GDS             8\n",
      "Name: distribution_channel, dtype: int64\n",
      "previous_cancellations\n",
      "0    8474\n",
      "1      10\n",
      "3       2\n",
      "4       2\n",
      "2       1\n",
      "Name: previous_cancellations, dtype: int64\n",
      "previous_bookings_not_canceled\n",
      "0     8473\n",
      "1        6\n",
      "2        3\n",
      "10       2\n",
      "13       2\n",
      "11       1\n",
      "14       1\n",
      "7        1\n",
      "Name: previous_bookings_not_canceled, dtype: int64\n",
      "reserved_room_type\n",
      "A    6640\n",
      "D    1292\n",
      "E     311\n",
      "F     103\n",
      "G      80\n",
      "C      47\n",
      "B      16\n",
      "Name: reserved_room_type, dtype: int64\n",
      "booking_changes\n",
      "0    8250\n",
      "2     121\n",
      "1      98\n",
      "3      12\n",
      "4       6\n",
      "5       2\n",
      "Name: booking_changes, dtype: int64\n",
      "days_in_waiting_list\n",
      "0      8387\n",
      "71        5\n",
      "59        5\n",
      "26        4\n",
      "46        4\n",
      "44        4\n",
      "16        4\n",
      "28        4\n",
      "17        4\n",
      "7         3\n",
      "5         3\n",
      "60        3\n",
      "34        3\n",
      "11        2\n",
      "14        2\n",
      "22        2\n",
      "9         2\n",
      "20        2\n",
      "56        2\n",
      "27        2\n",
      "21        2\n",
      "23        2\n",
      "18        2\n",
      "30        1\n",
      "117       1\n",
      "175       1\n",
      "165       1\n",
      "111       1\n",
      "32        1\n",
      "63        1\n",
      "47        1\n",
      "15        1\n",
      "39        1\n",
      "38        1\n",
      "54        1\n",
      "31        1\n",
      "93        1\n",
      "33        1\n",
      "84        1\n",
      "53        1\n",
      "13        1\n",
      "57        1\n",
      "73        1\n",
      "113       1\n",
      "121       1\n",
      "2         1\n",
      "10        1\n",
      "25        1\n",
      "50        1\n",
      "35        1\n",
      "43        1\n",
      "99        1\n",
      "4         1\n",
      "12        1\n",
      "80        1\n",
      "76        1\n",
      "49        1\n",
      "100       1\n",
      "183       1\n",
      "Name: days_in_waiting_list, dtype: int64\n",
      "customer_type\n",
      "Transient          7865\n",
      "Transient-Party     579\n",
      "Contract             40\n",
      "Group                 5\n",
      "Name: customer_type, dtype: int64\n",
      "required_car_parking_spaces\n",
      "0    8489\n",
      "Name: required_car_parking_spaces, dtype: int64\n",
      "total_of_special_requests\n",
      "0    7947\n",
      "1     438\n",
      "2      89\n",
      "3      10\n",
      "4       4\n",
      "5       1\n",
      "Name: total_of_special_requests, dtype: int64\n",
      "price_per_night\n",
      "1000    6640\n",
      "550     1292\n",
      "500      311\n",
      "450      103\n",
      "350       80\n",
      "600       47\n",
      "800       16\n",
      "Name: price_per_night, dtype: int64\n",
      "room_service\n",
      "400    6640\n",
      "150    1786\n",
      "350      63\n",
      "Name: room_service, dtype: int64\n",
      "k1\n",
      "1.20    4255\n",
      "1.40    2849\n",
      "1.00    1385\n",
      "Name: k1, dtype: int64\n",
      "k2\n",
      "1.20    3921\n",
      "1.40    3882\n",
      "1.00     686\n",
      "Name: k2, dtype: int64\n",
      "days\n",
      "31    4706\n",
      "30    3084\n",
      "28     699\n",
      "Name: days, dtype: int64\n",
      "predictions\n",
      "1    8489\n",
      "Name: predictions, dtype: int64\n"
     ]
    },
    {
     "name": "stderr",
     "output_type": "stream",
     "text": [
      "/tmp/ipykernel_301/3852961671.py:4: UserWarning: Pandas doesn't allow columns to be created via a new attribute name - see https://pandas.pydata.org/pandas-docs/stable/indexing.html#attribute-access\n",
      "  df_client.total_night = df_client.stays_in_weekend_nights + df_client.stays_in_week_nights\n"
     ]
    }
   ],
   "source": [
    "# Выделим из датасета информацию о клиентах, отменивших бронирование\n",
    "df_client = df_test_profit[(df_test_profit.is_canceled == 1) \\\n",
    "                           & (df_test_profit.predictions == 1)]\n",
    "df_client.total_night = df_client.stays_in_weekend_nights + df_client.stays_in_week_nights\n",
    "\n",
    "# рассмотрим детальнее признаки таких клиентов\n",
    "feature_names = df_client.columns.tolist() \n",
    "for column in feature_names: \n",
    "    print(column) \n",
    "    print(df_client[column].value_counts(dropna=False))"
   ]
  },
  {
   "cell_type": "markdown",
   "metadata": {},
   "source": [
    "### Вывод:\n",
    "\n",
    "Портрет \"ненадежного клиента\" выглядит следующим образом:\n",
    "\n",
    "- бронирует, как правило, зараннее, за месяц-два до заезда\n",
    "- бронирует номер на весенний сезон и начало лета\n",
    "- короткий период проживания 1-4 ночи, преимущественно в рабочие дни\n",
    "- бронирует номер с завтраком на двоих взрослых, без детей\n",
    "- житель Португалии (видимо отель находится в этой стране и заказчик местный, не приезжий)\n",
    "- не нужно парковочное место\n",
    "- как правило, не бронировал номер ранее\n",
    "- бронирует самый дорогой тип номера\n",
    "- заказчик не связан с договором или групповым заездом"
   ]
  },
  {
   "cell_type": "markdown",
   "metadata": {},
   "source": [
    "## Шаг 6. Общий вывод"
   ]
  },
  {
   "cell_type": "markdown",
   "metadata": {},
   "source": [
    "\n",
    "\n",
    "\n"
   ]
  },
  {
   "cell_type": "markdown",
   "metadata": {},
   "source": [
    "В ходе данного проекта мы провели исследование базы данных отеля за период со второго полугодия 2015 года по 9 месяцев 2017 года. На базе 2015-2016 годов мы построили и обучили несколько моделей, помогающих предсказать отказ бронирования, затем выбрали из них лучшую и протестировали на данных 2017 года. \n",
    "\n",
    "Данные не слишком дисбаллансированы. В обучающем сете 37% записей имеют статус отказа от бронирования, в тестовом  - около 39% таких записей. В обоих случаях - **доля отказов от общего количества забронированых номеров достаточно большая**\n",
    "\n",
    "Предоставленные для анализа данные не содержали пропусков и дубликатов, однако некоторые столбцы имели существенные выбросы. Мы не стали их удалять, а обрезали данные по верхней границе, которую определили для каждого случая отдельно. Основным критерием было, чтобы на обрезанную часть не приходилась какая-то значимая часть отмен бронирования. Также мы очистили данные с признаком object от лишних пробелов. \n",
    "\n",
    "Кроме этого, мы удалили из анализа некоторые признаки, которые посчитали \"лишними\", они не оказывают влияние на целевой признак или дублируют другие признаки. Всего было удалено 4 столбца:  **id, arrival_date_year, arrival_date_week_number, total_night**\n",
    "\n",
    "Перед построением модели мы посчитали бизнес-метрику этого проекта - `прибыль отеля за тестируемый период` (2017г). Она составила `35,26 млн.руб.` По условию задания, прибыль после внедрения модели должна быть выше затарат на ее внедрение - 400 тыс.руб. Значит ожидаемая прибыль должна быть не менее 35,66 млн.руб.\n",
    "\n",
    "Для разработки и проверки модели мы подготовили признаки, а затем на подготовленных данных построили  модели - решающего дерева, случайного леса и логистической регрессии. Оценили их качество кросс-валидацией с метрикой *F1*. Для оценки качества модели мы выбрали именно эту метрику, чтобы учитывать одновременно точность и полноту предсказаний. По отдельности полнота и точность не слишком информативны. Высокий показатель *Recall* может привести к обратному эффекту - прибыль отеля может уменьшиться из-за клиентов, которые передумали бронировать при условии внесения депозита. Высокий показатель *Precision* может не дать нужного количества депозитов, для покрытия расходов.\n",
    "\n",
    "По итогам проверки моделей лучший показатель *F1* оказался у рещающего дерева, с глубиной равной 4. Эту модель мы и проверили на тестовом датасете. Метрики, которые выдала модель на тесте следующие:\n",
    "\n",
    "- f1 - 0.6564336529539128\n",
    "- accuracy - 0.7252234144531371\n",
    "- auc-roc 0.7900596173706721\n",
    " \n",
    "Бизнес-метрика - `прибыль, которую мог получить отель при внедрении данной модели, получилась 45,13 млн.руб.`, что на 9,87 млн.руб. больше фактической. Таким образом затраты на внедрении модели окупятся, при этом отель сможет заработать почти на 9,5 млн.руб. больше.\n",
    "\n",
    "**Исходя из этого, мы можем предложить использовать нашу модель для увеличения прибыли отеля. Но необходимо помнить, что расчетный результат может отличаться от фактического, т.к. будет часть клиентов, которые откажутся от бронирования при необходимости внести депозит. Проверить это можно только на А\\В тестировании. По расчетным данным \"худшего сценария\", при отказе 50% клиентов, отель все равно заработает на 2,34 млн.руб. больше.**\n",
    "\n",
    "В результате нашей работы мы смогли описать портрет \"ненадежного \" клиента, которому соответствует **житель Португалии, зараннее бронирующий на пару ночей самый дорогой номер на двоих с завтраком на весенний сезон, он не делал этого ранее и ему не нужно парковочное место**."
   ]
  }
 ],
 "metadata": {
  "ExecuteTimeLog": [
   {
    "duration": 440,
    "start_time": "2023-08-08T13:35:44.063Z"
   },
   {
    "duration": 648,
    "start_time": "2023-08-08T13:35:45.124Z"
   },
   {
    "duration": 23,
    "start_time": "2023-08-08T13:36:37.220Z"
   },
   {
    "duration": 65,
    "start_time": "2023-08-08T13:38:51.814Z"
   },
   {
    "duration": 16,
    "start_time": "2023-08-08T13:43:41.993Z"
   },
   {
    "duration": 131,
    "start_time": "2023-08-08T13:46:46.474Z"
   },
   {
    "duration": 9,
    "start_time": "2023-08-08T13:51:45.421Z"
   },
   {
    "duration": 18239,
    "start_time": "2023-08-08T13:53:17.957Z"
   },
   {
    "duration": 1970,
    "start_time": "2023-08-08T13:53:43.263Z"
   },
   {
    "duration": 259,
    "start_time": "2023-08-08T13:54:21.655Z"
   },
   {
    "duration": 23,
    "start_time": "2023-08-08T13:54:24.351Z"
   },
   {
    "duration": 138,
    "start_time": "2023-08-08T13:54:25.719Z"
   },
   {
    "duration": 47536,
    "start_time": "2023-08-08T13:54:29.615Z"
   },
   {
    "duration": 35,
    "start_time": "2023-08-08T13:57:34.466Z"
   },
   {
    "duration": 3586,
    "start_time": "2023-08-08T15:55:27.485Z"
   },
   {
    "duration": 219,
    "start_time": "2023-08-08T15:56:04.437Z"
   },
   {
    "duration": 250,
    "start_time": "2023-08-08T15:56:07.601Z"
   },
   {
    "duration": 18,
    "start_time": "2023-08-08T15:56:10.431Z"
   },
   {
    "duration": 27,
    "start_time": "2023-08-08T15:56:12.571Z"
   },
   {
    "duration": 128,
    "start_time": "2023-08-08T15:56:17.385Z"
   },
   {
    "duration": 34458,
    "start_time": "2023-08-08T16:06:01.197Z"
   },
   {
    "duration": 43675,
    "start_time": "2023-08-08T16:07:09.660Z"
   },
   {
    "duration": 7,
    "start_time": "2023-08-08T16:19:54.914Z"
   },
   {
    "duration": 20,
    "start_time": "2023-08-08T18:48:44.029Z"
   },
   {
    "duration": 42933,
    "start_time": "2023-08-08T18:50:56.347Z"
   },
   {
    "duration": 2833,
    "start_time": "2023-08-08T19:46:51.347Z"
   },
   {
    "duration": 4,
    "start_time": "2023-08-08T19:46:54.183Z"
   },
   {
    "duration": 231,
    "start_time": "2023-08-08T19:46:54.189Z"
   },
   {
    "duration": 27,
    "start_time": "2023-08-08T19:46:54.422Z"
   },
   {
    "duration": 845,
    "start_time": "2023-08-08T19:46:54.451Z"
   },
   {
    "duration": 44050,
    "start_time": "2023-08-08T19:46:55.298Z"
   },
   {
    "duration": 41356,
    "start_time": "2023-08-08T19:47:39.359Z"
   },
   {
    "duration": 8,
    "start_time": "2023-08-08T19:48:20.717Z"
   },
   {
    "duration": 35,
    "start_time": "2023-08-08T19:48:20.727Z"
   },
   {
    "duration": 78,
    "start_time": "2023-08-08T20:26:19.662Z"
   },
   {
    "duration": 5,
    "start_time": "2023-08-08T20:26:38.022Z"
   },
   {
    "duration": 104,
    "start_time": "2023-08-08T20:27:26.193Z"
   },
   {
    "duration": 13,
    "start_time": "2023-08-08T20:27:41.400Z"
   },
   {
    "duration": 16,
    "start_time": "2023-08-08T20:28:18.407Z"
   },
   {
    "duration": 137,
    "start_time": "2023-08-08T20:28:44.858Z"
   },
   {
    "duration": 19,
    "start_time": "2023-08-08T20:29:06.497Z"
   },
   {
    "duration": 18,
    "start_time": "2023-08-08T20:30:01.930Z"
   },
   {
    "duration": 16,
    "start_time": "2023-08-08T20:37:27.695Z"
   },
   {
    "duration": 12,
    "start_time": "2023-08-08T21:33:34.301Z"
   },
   {
    "duration": 2964,
    "start_time": "2023-08-08T21:33:47.099Z"
   },
   {
    "duration": 3,
    "start_time": "2023-08-08T21:33:50.066Z"
   },
   {
    "duration": 256,
    "start_time": "2023-08-08T21:33:50.071Z"
   },
   {
    "duration": 30,
    "start_time": "2023-08-08T21:33:50.330Z"
   },
   {
    "duration": 19,
    "start_time": "2023-08-08T21:33:50.362Z"
   },
   {
    "duration": 43386,
    "start_time": "2023-08-08T21:33:50.383Z"
   },
   {
    "duration": 40251,
    "start_time": "2023-08-08T21:34:33.771Z"
   },
   {
    "duration": 8,
    "start_time": "2023-08-08T21:35:14.025Z"
   },
   {
    "duration": 8,
    "start_time": "2023-08-08T21:35:14.059Z"
   },
   {
    "duration": 17,
    "start_time": "2023-08-08T21:35:14.070Z"
   },
   {
    "duration": 18368,
    "start_time": "2023-08-09T18:05:05.342Z"
   },
   {
    "duration": 2566,
    "start_time": "2023-08-09T18:05:30.300Z"
   },
   {
    "duration": 549,
    "start_time": "2023-08-09T18:05:34.039Z"
   },
   {
    "duration": 28,
    "start_time": "2023-08-09T18:05:37.814Z"
   },
   {
    "duration": 20,
    "start_time": "2023-08-09T18:05:40.001Z"
   },
   {
    "duration": 168,
    "start_time": "2023-08-09T18:05:44.799Z"
   },
   {
    "duration": 10,
    "start_time": "2023-08-09T18:06:17.137Z"
   },
   {
    "duration": 3102,
    "start_time": "2023-08-09T18:06:22.040Z"
   },
   {
    "duration": 4,
    "start_time": "2023-08-09T18:06:25.144Z"
   },
   {
    "duration": 283,
    "start_time": "2023-08-09T18:06:25.149Z"
   },
   {
    "duration": 40,
    "start_time": "2023-08-09T18:06:25.435Z"
   },
   {
    "duration": 37,
    "start_time": "2023-08-09T18:06:25.478Z"
   },
   {
    "duration": 16,
    "start_time": "2023-08-09T18:06:25.517Z"
   },
   {
    "duration": 0,
    "start_time": "2023-08-09T18:06:25.535Z"
   },
   {
    "duration": 0,
    "start_time": "2023-08-09T18:06:25.536Z"
   },
   {
    "duration": 0,
    "start_time": "2023-08-09T18:06:25.537Z"
   },
   {
    "duration": 0,
    "start_time": "2023-08-09T18:06:25.538Z"
   },
   {
    "duration": 34435,
    "start_time": "2023-08-09T18:13:24.778Z"
   },
   {
    "duration": 3936,
    "start_time": "2023-08-09T18:15:15.279Z"
   },
   {
    "duration": 3014,
    "start_time": "2023-08-09T18:15:39.390Z"
   },
   {
    "duration": 72,
    "start_time": "2023-08-09T18:16:32.430Z"
   },
   {
    "duration": 3105,
    "start_time": "2023-08-09T18:17:34.535Z"
   },
   {
    "duration": 3,
    "start_time": "2023-08-09T18:18:06.179Z"
   },
   {
    "duration": 261,
    "start_time": "2023-08-09T18:18:07.875Z"
   },
   {
    "duration": 30,
    "start_time": "2023-08-09T18:18:08.911Z"
   },
   {
    "duration": 21,
    "start_time": "2023-08-09T18:18:10.296Z"
   },
   {
    "duration": 34883,
    "start_time": "2023-08-09T18:18:10.924Z"
   },
   {
    "duration": 41006,
    "start_time": "2023-08-09T18:19:10.674Z"
   },
   {
    "duration": 3160,
    "start_time": "2023-08-09T18:21:04.969Z"
   },
   {
    "duration": 1871,
    "start_time": "2023-08-09T18:21:08.132Z"
   },
   {
    "duration": 257,
    "start_time": "2023-08-09T18:21:10.005Z"
   },
   {
    "duration": 48,
    "start_time": "2023-08-09T18:21:10.265Z"
   },
   {
    "duration": 19,
    "start_time": "2023-08-09T18:21:10.315Z"
   },
   {
    "duration": 204,
    "start_time": "2023-08-09T18:21:10.337Z"
   },
   {
    "duration": 0,
    "start_time": "2023-08-09T18:21:10.543Z"
   },
   {
    "duration": 0,
    "start_time": "2023-08-09T18:21:10.544Z"
   },
   {
    "duration": 0,
    "start_time": "2023-08-09T18:21:10.545Z"
   },
   {
    "duration": 0,
    "start_time": "2023-08-09T18:21:10.546Z"
   },
   {
    "duration": 33883,
    "start_time": "2023-08-09T18:23:12.993Z"
   },
   {
    "duration": 4869,
    "start_time": "2023-08-09T18:26:55.948Z"
   },
   {
    "duration": 808,
    "start_time": "2023-08-09T18:27:25.228Z"
   },
   {
    "duration": 249,
    "start_time": "2023-08-09T18:27:28.701Z"
   },
   {
    "duration": 29,
    "start_time": "2023-08-09T18:27:30.212Z"
   },
   {
    "duration": 20,
    "start_time": "2023-08-09T18:27:31.684Z"
   },
   {
    "duration": 36542,
    "start_time": "2023-08-09T18:27:32.614Z"
   },
   {
    "duration": 30219,
    "start_time": "2023-08-09T18:28:26.160Z"
   },
   {
    "duration": 209,
    "start_time": "2023-08-09T18:29:57.679Z"
   },
   {
    "duration": 2792,
    "start_time": "2023-08-09T18:31:12.438Z"
   },
   {
    "duration": 3099,
    "start_time": "2023-08-09T18:34:41.896Z"
   },
   {
    "duration": 67,
    "start_time": "2023-08-09T18:35:12.815Z"
   },
   {
    "duration": 262,
    "start_time": "2023-08-09T18:35:16.039Z"
   },
   {
    "duration": 41,
    "start_time": "2023-08-09T18:35:17.344Z"
   },
   {
    "duration": 43,
    "start_time": "2023-08-09T18:35:17.951Z"
   },
   {
    "duration": 47004,
    "start_time": "2023-08-09T18:36:34.701Z"
   },
   {
    "duration": 2861,
    "start_time": "2023-08-09T18:37:55.188Z"
   },
   {
    "duration": 2047,
    "start_time": "2023-08-09T18:37:58.051Z"
   },
   {
    "duration": 282,
    "start_time": "2023-08-09T18:38:00.100Z"
   },
   {
    "duration": 29,
    "start_time": "2023-08-09T18:38:00.387Z"
   },
   {
    "duration": 61,
    "start_time": "2023-08-09T18:38:00.417Z"
   },
   {
    "duration": 45408,
    "start_time": "2023-08-09T18:38:00.481Z"
   },
   {
    "duration": 1118,
    "start_time": "2023-08-09T18:48:18.652Z"
   },
   {
    "duration": 2063,
    "start_time": "2023-08-09T18:48:19.775Z"
   },
   {
    "duration": 271,
    "start_time": "2023-08-09T18:48:21.840Z"
   },
   {
    "duration": 29,
    "start_time": "2023-08-09T18:48:22.113Z"
   },
   {
    "duration": 40,
    "start_time": "2023-08-09T18:48:22.144Z"
   },
   {
    "duration": 45503,
    "start_time": "2023-08-09T18:48:22.186Z"
   },
   {
    "duration": 3116,
    "start_time": "2023-08-09T18:50:14.816Z"
   },
   {
    "duration": 2136,
    "start_time": "2023-08-09T18:50:17.934Z"
   },
   {
    "duration": 267,
    "start_time": "2023-08-09T18:50:20.082Z"
   },
   {
    "duration": 50,
    "start_time": "2023-08-09T18:50:20.352Z"
   },
   {
    "duration": 21,
    "start_time": "2023-08-09T18:50:20.403Z"
   },
   {
    "duration": 47095,
    "start_time": "2023-08-09T18:50:20.426Z"
   },
   {
    "duration": 44011,
    "start_time": "2023-08-09T18:51:07.523Z"
   },
   {
    "duration": 26,
    "start_time": "2023-08-09T18:51:51.537Z"
   },
   {
    "duration": 45,
    "start_time": "2023-08-09T18:51:51.565Z"
   },
   {
    "duration": 43,
    "start_time": "2023-08-09T18:51:51.613Z"
   },
   {
    "duration": 20,
    "start_time": "2023-08-09T19:19:33.087Z"
   },
   {
    "duration": 26,
    "start_time": "2023-08-09T19:20:28.292Z"
   },
   {
    "duration": 229,
    "start_time": "2023-08-09T19:21:41.993Z"
   },
   {
    "duration": 37,
    "start_time": "2023-08-09T19:21:55.303Z"
   },
   {
    "duration": 31,
    "start_time": "2023-08-09T19:22:06.810Z"
   },
   {
    "duration": 32,
    "start_time": "2023-08-09T19:22:31.502Z"
   },
   {
    "duration": 29,
    "start_time": "2023-08-09T19:23:13.811Z"
   },
   {
    "duration": 35,
    "start_time": "2023-08-09T19:23:37.179Z"
   },
   {
    "duration": 29,
    "start_time": "2023-08-09T19:24:23.199Z"
   },
   {
    "duration": 33,
    "start_time": "2023-08-09T19:25:02.397Z"
   },
   {
    "duration": 58,
    "start_time": "2023-08-09T19:25:29.054Z"
   },
   {
    "duration": 44,
    "start_time": "2023-08-09T19:25:53.168Z"
   },
   {
    "duration": 50,
    "start_time": "2023-08-09T19:26:02.852Z"
   },
   {
    "duration": 3,
    "start_time": "2023-08-09T19:33:26.223Z"
   },
   {
    "duration": 36,
    "start_time": "2023-08-09T19:33:37.333Z"
   },
   {
    "duration": 36,
    "start_time": "2023-08-09T19:34:46.783Z"
   },
   {
    "duration": 17,
    "start_time": "2023-08-09T19:40:32.622Z"
   },
   {
    "duration": 19,
    "start_time": "2023-08-09T19:51:29.373Z"
   },
   {
    "duration": 13,
    "start_time": "2023-08-09T19:52:12.112Z"
   },
   {
    "duration": 13,
    "start_time": "2023-08-09T19:52:52.928Z"
   },
   {
    "duration": 3102,
    "start_time": "2023-08-09T19:53:28.716Z"
   },
   {
    "duration": 4,
    "start_time": "2023-08-09T19:53:31.820Z"
   },
   {
    "duration": 308,
    "start_time": "2023-08-09T19:53:31.825Z"
   },
   {
    "duration": 47,
    "start_time": "2023-08-09T19:53:32.135Z"
   },
   {
    "duration": 43,
    "start_time": "2023-08-09T19:53:32.186Z"
   },
   {
    "duration": 3,
    "start_time": "2023-08-09T19:53:32.231Z"
   },
   {
    "duration": 12,
    "start_time": "2023-08-09T19:53:32.236Z"
   },
   {
    "duration": 28,
    "start_time": "2023-08-09T19:53:32.250Z"
   },
   {
    "duration": 21,
    "start_time": "2023-08-09T19:53:32.283Z"
   },
   {
    "duration": 15,
    "start_time": "2023-08-09T19:53:32.306Z"
   },
   {
    "duration": 3,
    "start_time": "2023-08-09T19:53:32.324Z"
   },
   {
    "duration": 134,
    "start_time": "2023-08-09T19:53:32.329Z"
   },
   {
    "duration": 40,
    "start_time": "2023-08-09T19:53:32.470Z"
   },
   {
    "duration": 13,
    "start_time": "2023-08-09T19:53:46.744Z"
   },
   {
    "duration": 12,
    "start_time": "2023-08-09T19:54:06.412Z"
   },
   {
    "duration": 3244,
    "start_time": "2023-08-09T19:54:21.246Z"
   },
   {
    "duration": 3,
    "start_time": "2023-08-09T19:54:24.494Z"
   },
   {
    "duration": 288,
    "start_time": "2023-08-09T19:54:24.499Z"
   },
   {
    "duration": 40,
    "start_time": "2023-08-09T19:54:24.790Z"
   },
   {
    "duration": 34,
    "start_time": "2023-08-09T19:54:24.833Z"
   },
   {
    "duration": 33,
    "start_time": "2023-08-09T19:54:24.869Z"
   },
   {
    "duration": 13,
    "start_time": "2023-08-09T19:54:24.903Z"
   },
   {
    "duration": 29,
    "start_time": "2023-08-09T19:54:24.918Z"
   },
   {
    "duration": 41,
    "start_time": "2023-08-09T19:54:24.949Z"
   },
   {
    "duration": 14,
    "start_time": "2023-08-09T19:54:24.992Z"
   },
   {
    "duration": 11,
    "start_time": "2023-08-09T19:54:25.008Z"
   },
   {
    "duration": 67,
    "start_time": "2023-08-09T19:54:25.021Z"
   },
   {
    "duration": 17,
    "start_time": "2023-08-09T19:54:25.090Z"
   },
   {
    "duration": 3471,
    "start_time": "2023-08-09T21:17:12.240Z"
   },
   {
    "duration": 2276,
    "start_time": "2023-08-09T21:17:15.714Z"
   },
   {
    "duration": 287,
    "start_time": "2023-08-09T21:17:17.992Z"
   },
   {
    "duration": 28,
    "start_time": "2023-08-09T21:17:18.286Z"
   },
   {
    "duration": 50,
    "start_time": "2023-08-09T21:17:18.316Z"
   },
   {
    "duration": 35,
    "start_time": "2023-08-09T21:17:18.368Z"
   },
   {
    "duration": 41,
    "start_time": "2023-08-09T21:17:18.404Z"
   },
   {
    "duration": 49597,
    "start_time": "2023-08-09T21:17:18.447Z"
   },
   {
    "duration": 46200,
    "start_time": "2023-08-09T21:18:08.047Z"
   },
   {
    "duration": 15,
    "start_time": "2023-08-09T21:18:54.259Z"
   },
   {
    "duration": 83,
    "start_time": "2023-08-09T21:18:54.276Z"
   },
   {
    "duration": 96,
    "start_time": "2023-08-09T21:18:54.361Z"
   },
   {
    "duration": 31,
    "start_time": "2023-08-09T21:18:54.459Z"
   },
   {
    "duration": 87,
    "start_time": "2023-08-09T21:18:54.493Z"
   },
   {
    "duration": 22,
    "start_time": "2023-08-09T21:18:54.583Z"
   },
   {
    "duration": 8,
    "start_time": "2023-08-09T21:18:54.610Z"
   },
   {
    "duration": 34,
    "start_time": "2023-08-09T21:18:54.620Z"
   },
   {
    "duration": 309,
    "start_time": "2023-08-09T21:18:54.656Z"
   },
   {
    "duration": 3,
    "start_time": "2023-08-10T19:00:00.271Z"
   },
   {
    "duration": 460,
    "start_time": "2023-08-10T19:00:00.276Z"
   },
   {
    "duration": 0,
    "start_time": "2023-08-10T19:00:00.739Z"
   },
   {
    "duration": 0,
    "start_time": "2023-08-10T19:00:00.740Z"
   },
   {
    "duration": 0,
    "start_time": "2023-08-10T19:00:00.741Z"
   },
   {
    "duration": 0,
    "start_time": "2023-08-10T19:00:00.742Z"
   },
   {
    "duration": 0,
    "start_time": "2023-08-10T19:00:00.744Z"
   },
   {
    "duration": 0,
    "start_time": "2023-08-10T19:00:00.759Z"
   },
   {
    "duration": 0,
    "start_time": "2023-08-10T19:00:00.760Z"
   },
   {
    "duration": 0,
    "start_time": "2023-08-10T19:00:00.761Z"
   },
   {
    "duration": 0,
    "start_time": "2023-08-10T19:00:00.762Z"
   },
   {
    "duration": 0,
    "start_time": "2023-08-10T19:00:00.763Z"
   },
   {
    "duration": 0,
    "start_time": "2023-08-10T19:00:00.764Z"
   },
   {
    "duration": 0,
    "start_time": "2023-08-10T19:00:00.765Z"
   },
   {
    "duration": 0,
    "start_time": "2023-08-10T19:00:00.766Z"
   },
   {
    "duration": 0,
    "start_time": "2023-08-10T19:00:00.767Z"
   },
   {
    "duration": 0,
    "start_time": "2023-08-10T19:00:00.768Z"
   },
   {
    "duration": 0,
    "start_time": "2023-08-10T19:00:00.769Z"
   },
   {
    "duration": 2,
    "start_time": "2023-08-10T19:00:40.380Z"
   },
   {
    "duration": 4,
    "start_time": "2023-08-10T19:00:40.385Z"
   },
   {
    "duration": 1051,
    "start_time": "2023-08-10T19:00:40.391Z"
   },
   {
    "duration": 22,
    "start_time": "2023-08-10T19:00:41.443Z"
   },
   {
    "duration": 29,
    "start_time": "2023-08-10T19:00:41.467Z"
   },
   {
    "duration": 15,
    "start_time": "2023-08-10T19:00:41.498Z"
   },
   {
    "duration": 36,
    "start_time": "2023-08-10T19:00:41.515Z"
   },
   {
    "duration": 19,
    "start_time": "2023-08-10T19:00:41.553Z"
   },
   {
    "duration": 25,
    "start_time": "2023-08-10T19:00:41.574Z"
   },
   {
    "duration": 0,
    "start_time": "2023-08-10T19:00:41.601Z"
   },
   {
    "duration": 0,
    "start_time": "2023-08-10T19:00:41.602Z"
   },
   {
    "duration": 0,
    "start_time": "2023-08-10T19:00:41.603Z"
   },
   {
    "duration": 0,
    "start_time": "2023-08-10T19:00:41.604Z"
   },
   {
    "duration": 0,
    "start_time": "2023-08-10T19:00:41.605Z"
   },
   {
    "duration": 0,
    "start_time": "2023-08-10T19:00:41.606Z"
   },
   {
    "duration": 0,
    "start_time": "2023-08-10T19:00:41.607Z"
   },
   {
    "duration": 0,
    "start_time": "2023-08-10T19:00:41.608Z"
   },
   {
    "duration": 0,
    "start_time": "2023-08-10T19:00:41.609Z"
   },
   {
    "duration": 2,
    "start_time": "2023-08-10T19:00:56.326Z"
   },
   {
    "duration": 7,
    "start_time": "2023-08-10T19:00:56.330Z"
   },
   {
    "duration": 220,
    "start_time": "2023-08-10T19:00:56.338Z"
   },
   {
    "duration": 15,
    "start_time": "2023-08-10T19:00:56.559Z"
   },
   {
    "duration": 29,
    "start_time": "2023-08-10T19:00:56.576Z"
   },
   {
    "duration": 15,
    "start_time": "2023-08-10T19:00:56.607Z"
   },
   {
    "duration": 45,
    "start_time": "2023-08-10T19:00:56.623Z"
   },
   {
    "duration": 2,
    "start_time": "2023-08-10T19:00:56.670Z"
   },
   {
    "duration": 5,
    "start_time": "2023-08-10T19:00:56.673Z"
   },
   {
    "duration": 8,
    "start_time": "2023-08-10T19:00:56.679Z"
   },
   {
    "duration": 5,
    "start_time": "2023-08-10T19:00:56.689Z"
   },
   {
    "duration": 14,
    "start_time": "2023-08-10T19:00:56.696Z"
   },
   {
    "duration": 48,
    "start_time": "2023-08-10T19:00:56.712Z"
   },
   {
    "duration": 34,
    "start_time": "2023-08-10T19:00:56.763Z"
   },
   {
    "duration": 17,
    "start_time": "2023-08-10T19:00:56.798Z"
   },
   {
    "duration": 15,
    "start_time": "2023-08-10T19:00:56.816Z"
   },
   {
    "duration": 10,
    "start_time": "2023-08-10T19:00:56.833Z"
   },
   {
    "duration": 15,
    "start_time": "2023-08-10T19:00:56.845Z"
   },
   {
    "duration": 7,
    "start_time": "2023-08-10T19:06:37.773Z"
   },
   {
    "duration": 3,
    "start_time": "2023-08-10T19:07:03.308Z"
   },
   {
    "duration": 8,
    "start_time": "2023-08-10T19:07:03.313Z"
   },
   {
    "duration": 239,
    "start_time": "2023-08-10T19:07:03.322Z"
   },
   {
    "duration": 16,
    "start_time": "2023-08-10T19:07:03.563Z"
   },
   {
    "duration": 33,
    "start_time": "2023-08-10T19:07:03.581Z"
   },
   {
    "duration": 17,
    "start_time": "2023-08-10T19:07:03.615Z"
   },
   {
    "duration": 39,
    "start_time": "2023-08-10T19:07:03.634Z"
   },
   {
    "duration": 3,
    "start_time": "2023-08-10T19:07:03.675Z"
   },
   {
    "duration": 5,
    "start_time": "2023-08-10T19:07:03.680Z"
   },
   {
    "duration": 10,
    "start_time": "2023-08-10T19:07:03.688Z"
   },
   {
    "duration": 6,
    "start_time": "2023-08-10T19:07:03.700Z"
   },
   {
    "duration": 38,
    "start_time": "2023-08-10T19:07:03.708Z"
   },
   {
    "duration": 25,
    "start_time": "2023-08-10T19:07:03.748Z"
   },
   {
    "duration": 55,
    "start_time": "2023-08-10T19:07:03.774Z"
   },
   {
    "duration": 18,
    "start_time": "2023-08-10T19:07:03.831Z"
   },
   {
    "duration": 10,
    "start_time": "2023-08-10T19:07:03.851Z"
   },
   {
    "duration": 32,
    "start_time": "2023-08-10T19:07:03.863Z"
   },
   {
    "duration": 14,
    "start_time": "2023-08-10T19:07:03.897Z"
   },
   {
    "duration": 3,
    "start_time": "2023-08-10T19:07:56.392Z"
   },
   {
    "duration": 3,
    "start_time": "2023-08-10T19:07:56.416Z"
   },
   {
    "duration": 243,
    "start_time": "2023-08-10T19:07:56.421Z"
   },
   {
    "duration": 16,
    "start_time": "2023-08-10T19:07:56.666Z"
   },
   {
    "duration": 36,
    "start_time": "2023-08-10T19:07:56.684Z"
   },
   {
    "duration": 15,
    "start_time": "2023-08-10T19:07:56.723Z"
   },
   {
    "duration": 19,
    "start_time": "2023-08-10T19:07:56.760Z"
   },
   {
    "duration": 2,
    "start_time": "2023-08-10T19:07:56.781Z"
   },
   {
    "duration": 5,
    "start_time": "2023-08-10T19:07:56.786Z"
   },
   {
    "duration": 20,
    "start_time": "2023-08-10T19:07:56.793Z"
   },
   {
    "duration": 18,
    "start_time": "2023-08-10T19:07:56.816Z"
   },
   {
    "duration": 29,
    "start_time": "2023-08-10T19:07:56.836Z"
   },
   {
    "duration": 11,
    "start_time": "2023-08-10T19:07:56.868Z"
   },
   {
    "duration": 36,
    "start_time": "2023-08-10T19:07:56.881Z"
   },
   {
    "duration": 17,
    "start_time": "2023-08-10T19:07:56.919Z"
   },
   {
    "duration": 37,
    "start_time": "2023-08-10T19:07:56.938Z"
   },
   {
    "duration": 19,
    "start_time": "2023-08-10T19:07:56.977Z"
   },
   {
    "duration": 14,
    "start_time": "2023-08-10T19:07:56.998Z"
   },
   {
    "duration": 4,
    "start_time": "2023-08-10T19:09:44.925Z"
   },
   {
    "duration": 6,
    "start_time": "2023-08-10T19:09:44.931Z"
   },
   {
    "duration": 234,
    "start_time": "2023-08-10T19:09:44.938Z"
   },
   {
    "duration": 17,
    "start_time": "2023-08-10T19:09:45.174Z"
   },
   {
    "duration": 25,
    "start_time": "2023-08-10T19:09:45.194Z"
   },
   {
    "duration": 41,
    "start_time": "2023-08-10T19:09:45.220Z"
   },
   {
    "duration": 24,
    "start_time": "2023-08-10T19:09:45.263Z"
   },
   {
    "duration": 2,
    "start_time": "2023-08-10T19:09:45.289Z"
   },
   {
    "duration": 11,
    "start_time": "2023-08-10T19:09:45.294Z"
   },
   {
    "duration": 9,
    "start_time": "2023-08-10T19:09:45.308Z"
   },
   {
    "duration": 7,
    "start_time": "2023-08-10T19:09:45.319Z"
   },
   {
    "duration": 44,
    "start_time": "2023-08-10T19:09:45.328Z"
   },
   {
    "duration": 6,
    "start_time": "2023-08-10T19:09:45.374Z"
   },
   {
    "duration": 17,
    "start_time": "2023-08-10T19:09:45.383Z"
   },
   {
    "duration": 36,
    "start_time": "2023-08-10T19:09:45.402Z"
   },
   {
    "duration": 3,
    "start_time": "2023-08-10T19:09:45.458Z"
   },
   {
    "duration": 6,
    "start_time": "2023-08-10T19:09:45.464Z"
   },
   {
    "duration": 7,
    "start_time": "2023-08-10T19:09:45.472Z"
   },
   {
    "duration": 34,
    "start_time": "2023-08-10T19:11:07.973Z"
   },
   {
    "duration": 29,
    "start_time": "2023-08-10T19:11:22.374Z"
   },
   {
    "duration": 29,
    "start_time": "2023-08-10T19:12:01.176Z"
   },
   {
    "duration": 3,
    "start_time": "2023-08-10T19:53:22.203Z"
   },
   {
    "duration": 5,
    "start_time": "2023-08-10T19:53:22.208Z"
   },
   {
    "duration": 218,
    "start_time": "2023-08-10T19:53:22.214Z"
   },
   {
    "duration": 15,
    "start_time": "2023-08-10T19:53:22.434Z"
   },
   {
    "duration": 26,
    "start_time": "2023-08-10T19:53:22.450Z"
   },
   {
    "duration": 14,
    "start_time": "2023-08-10T19:53:22.477Z"
   },
   {
    "duration": 19,
    "start_time": "2023-08-10T19:53:22.493Z"
   },
   {
    "duration": 3,
    "start_time": "2023-08-10T19:53:22.514Z"
   },
   {
    "duration": 4,
    "start_time": "2023-08-10T19:53:22.519Z"
   },
   {
    "duration": 95,
    "start_time": "2023-08-10T19:53:22.525Z"
   },
   {
    "duration": 7,
    "start_time": "2023-08-10T19:53:22.622Z"
   },
   {
    "duration": 6,
    "start_time": "2023-08-10T19:53:22.631Z"
   },
   {
    "duration": 12,
    "start_time": "2023-08-10T19:53:22.660Z"
   },
   {
    "duration": 4,
    "start_time": "2023-08-10T19:53:22.673Z"
   },
   {
    "duration": 13,
    "start_time": "2023-08-10T19:53:22.679Z"
   },
   {
    "duration": 93,
    "start_time": "2023-08-10T19:53:22.694Z"
   },
   {
    "duration": 3,
    "start_time": "2023-08-10T19:53:22.788Z"
   },
   {
    "duration": 4,
    "start_time": "2023-08-10T19:53:22.793Z"
   },
   {
    "duration": 6,
    "start_time": "2023-08-10T19:53:22.798Z"
   },
   {
    "duration": 16646,
    "start_time": "2023-08-10T20:00:57.736Z"
   },
   {
    "duration": 1662,
    "start_time": "2023-08-10T20:01:14.385Z"
   },
   {
    "duration": 255,
    "start_time": "2023-08-10T20:01:16.049Z"
   },
   {
    "duration": 18,
    "start_time": "2023-08-10T20:01:16.306Z"
   },
   {
    "duration": 40,
    "start_time": "2023-08-10T20:01:16.326Z"
   },
   {
    "duration": 23,
    "start_time": "2023-08-10T20:01:16.369Z"
   },
   {
    "duration": 69,
    "start_time": "2023-08-10T20:01:16.394Z"
   },
   {
    "duration": 2782,
    "start_time": "2023-08-10T20:01:20.801Z"
   },
   {
    "duration": 1883,
    "start_time": "2023-08-10T20:01:23.586Z"
   },
   {
    "duration": 242,
    "start_time": "2023-08-10T20:01:25.471Z"
   },
   {
    "duration": 21,
    "start_time": "2023-08-10T20:01:25.715Z"
   },
   {
    "duration": 33,
    "start_time": "2023-08-10T20:01:25.738Z"
   },
   {
    "duration": 16,
    "start_time": "2023-08-10T20:01:25.773Z"
   },
   {
    "duration": 21,
    "start_time": "2023-08-10T20:01:25.790Z"
   },
   {
    "duration": 42988,
    "start_time": "2023-08-10T20:01:25.812Z"
   },
   {
    "duration": 2,
    "start_time": "2023-08-10T20:02:08.802Z"
   },
   {
    "duration": 177,
    "start_time": "2023-08-10T20:02:08.807Z"
   },
   {
    "duration": 109,
    "start_time": "2023-08-10T20:02:08.986Z"
   },
   {
    "duration": 6,
    "start_time": "2023-08-10T20:02:09.097Z"
   },
   {
    "duration": 67,
    "start_time": "2023-08-10T20:02:09.105Z"
   },
   {
    "duration": 12,
    "start_time": "2023-08-10T20:02:09.174Z"
   },
   {
    "duration": 23,
    "start_time": "2023-08-10T20:02:09.188Z"
   },
   {
    "duration": 87,
    "start_time": "2023-08-10T20:02:09.213Z"
   },
   {
    "duration": 3,
    "start_time": "2023-08-10T20:02:09.302Z"
   },
   {
    "duration": 9,
    "start_time": "2023-08-10T20:02:09.306Z"
   },
   {
    "duration": 20,
    "start_time": "2023-08-10T20:02:09.317Z"
   },
   {
    "duration": 5,
    "start_time": "2023-08-10T20:21:17.651Z"
   },
   {
    "duration": 157,
    "start_time": "2023-08-10T20:26:07.119Z"
   },
   {
    "duration": 6,
    "start_time": "2023-08-10T20:26:26.264Z"
   },
   {
    "duration": 4,
    "start_time": "2023-08-10T20:28:44.344Z"
   },
   {
    "duration": 5,
    "start_time": "2023-08-10T20:29:03.275Z"
   },
   {
    "duration": 11,
    "start_time": "2023-08-10T20:46:11.285Z"
   },
   {
    "duration": 5,
    "start_time": "2023-08-10T20:48:49.780Z"
   },
   {
    "duration": 8,
    "start_time": "2023-08-10T20:48:50.822Z"
   },
   {
    "duration": 4,
    "start_time": "2023-08-10T20:49:36.530Z"
   },
   {
    "duration": 4,
    "start_time": "2023-08-10T20:50:09.303Z"
   },
   {
    "duration": 8,
    "start_time": "2023-08-10T20:50:10.920Z"
   },
   {
    "duration": 5,
    "start_time": "2023-08-10T20:50:11.575Z"
   },
   {
    "duration": 2617,
    "start_time": "2023-08-10T20:50:30.082Z"
   },
   {
    "duration": 3,
    "start_time": "2023-08-10T20:50:32.702Z"
   },
   {
    "duration": 249,
    "start_time": "2023-08-10T20:50:32.707Z"
   },
   {
    "duration": 18,
    "start_time": "2023-08-10T20:50:32.957Z"
   },
   {
    "duration": 29,
    "start_time": "2023-08-10T20:50:32.978Z"
   },
   {
    "duration": 16,
    "start_time": "2023-08-10T20:50:33.009Z"
   },
   {
    "duration": 40,
    "start_time": "2023-08-10T20:50:33.027Z"
   },
   {
    "duration": 2,
    "start_time": "2023-08-10T20:50:33.069Z"
   },
   {
    "duration": 9,
    "start_time": "2023-08-10T20:50:33.072Z"
   },
   {
    "duration": 94,
    "start_time": "2023-08-10T20:50:33.083Z"
   },
   {
    "duration": 52,
    "start_time": "2023-08-10T20:50:33.179Z"
   },
   {
    "duration": 7,
    "start_time": "2023-08-10T20:50:33.233Z"
   },
   {
    "duration": 30,
    "start_time": "2023-08-10T20:50:33.241Z"
   },
   {
    "duration": 3,
    "start_time": "2023-08-10T20:50:33.274Z"
   },
   {
    "duration": 18,
    "start_time": "2023-08-10T20:50:33.278Z"
   },
   {
    "duration": 32,
    "start_time": "2023-08-10T20:50:33.298Z"
   },
   {
    "duration": 33,
    "start_time": "2023-08-10T20:50:33.332Z"
   },
   {
    "duration": 19,
    "start_time": "2023-08-10T20:50:33.366Z"
   },
   {
    "duration": 8,
    "start_time": "2023-08-10T20:50:33.387Z"
   },
   {
    "duration": 2646,
    "start_time": "2023-08-10T20:52:38.835Z"
   },
   {
    "duration": 3,
    "start_time": "2023-08-10T20:52:41.483Z"
   },
   {
    "duration": 246,
    "start_time": "2023-08-10T20:52:41.488Z"
   },
   {
    "duration": 16,
    "start_time": "2023-08-10T20:52:41.736Z"
   },
   {
    "duration": 29,
    "start_time": "2023-08-10T20:52:41.754Z"
   },
   {
    "duration": 16,
    "start_time": "2023-08-10T20:52:41.784Z"
   },
   {
    "duration": 23,
    "start_time": "2023-08-10T20:52:41.802Z"
   },
   {
    "duration": 42006,
    "start_time": "2023-08-10T20:52:41.827Z"
   },
   {
    "duration": 3,
    "start_time": "2023-08-10T20:53:23.836Z"
   },
   {
    "duration": 137,
    "start_time": "2023-08-10T20:53:23.861Z"
   },
   {
    "duration": 163,
    "start_time": "2023-08-10T20:53:24.000Z"
   },
   {
    "duration": 9,
    "start_time": "2023-08-10T20:53:24.166Z"
   },
   {
    "duration": 21,
    "start_time": "2023-08-10T20:53:24.179Z"
   },
   {
    "duration": 5,
    "start_time": "2023-08-10T20:53:24.203Z"
   },
   {
    "duration": 68,
    "start_time": "2023-08-10T20:53:24.211Z"
   },
   {
    "duration": 31,
    "start_time": "2023-08-10T20:53:24.281Z"
   },
   {
    "duration": 10,
    "start_time": "2023-08-10T20:53:24.314Z"
   },
   {
    "duration": 36,
    "start_time": "2023-08-10T20:53:24.326Z"
   },
   {
    "duration": 4,
    "start_time": "2023-08-10T20:53:24.364Z"
   },
   {
    "duration": 2922,
    "start_time": "2023-08-10T21:03:17.577Z"
   },
   {
    "duration": 3,
    "start_time": "2023-08-10T21:03:20.501Z"
   },
   {
    "duration": 255,
    "start_time": "2023-08-10T21:03:20.506Z"
   },
   {
    "duration": 25,
    "start_time": "2023-08-10T21:03:20.765Z"
   },
   {
    "duration": 29,
    "start_time": "2023-08-10T21:03:20.793Z"
   },
   {
    "duration": 37,
    "start_time": "2023-08-10T21:03:20.824Z"
   },
   {
    "duration": 27,
    "start_time": "2023-08-10T21:03:20.863Z"
   },
   {
    "duration": 3,
    "start_time": "2023-08-10T21:03:20.892Z"
   },
   {
    "duration": 5,
    "start_time": "2023-08-10T21:03:20.897Z"
   },
   {
    "duration": 113,
    "start_time": "2023-08-10T21:03:20.904Z"
   },
   {
    "duration": 71,
    "start_time": "2023-08-10T21:03:21.019Z"
   },
   {
    "duration": 7,
    "start_time": "2023-08-10T21:03:21.093Z"
   },
   {
    "duration": 12,
    "start_time": "2023-08-10T21:03:21.101Z"
   },
   {
    "duration": 4,
    "start_time": "2023-08-10T21:03:21.116Z"
   },
   {
    "duration": 44,
    "start_time": "2023-08-10T21:03:21.121Z"
   },
   {
    "duration": 35,
    "start_time": "2023-08-10T21:03:21.167Z"
   },
   {
    "duration": 11,
    "start_time": "2023-08-10T21:03:21.204Z"
   },
   {
    "duration": 3,
    "start_time": "2023-08-10T21:03:21.217Z"
   },
   {
    "duration": 9,
    "start_time": "2023-08-10T21:03:21.221Z"
   },
   {
    "duration": 14,
    "start_time": "2023-08-10T21:04:35.956Z"
   },
   {
    "duration": 4,
    "start_time": "2023-08-10T21:04:36.925Z"
   },
   {
    "duration": 14,
    "start_time": "2023-08-10T21:05:31.724Z"
   },
   {
    "duration": 4,
    "start_time": "2023-08-10T21:05:32.316Z"
   },
   {
    "duration": 2726,
    "start_time": "2023-08-10T21:05:45.479Z"
   },
   {
    "duration": 4,
    "start_time": "2023-08-10T21:05:48.208Z"
   },
   {
    "duration": 276,
    "start_time": "2023-08-10T21:05:48.213Z"
   },
   {
    "duration": 17,
    "start_time": "2023-08-10T21:05:48.490Z"
   },
   {
    "duration": 29,
    "start_time": "2023-08-10T21:05:48.509Z"
   },
   {
    "duration": 26,
    "start_time": "2023-08-10T21:05:48.540Z"
   },
   {
    "duration": 26,
    "start_time": "2023-08-10T21:05:48.568Z"
   },
   {
    "duration": 2,
    "start_time": "2023-08-10T21:05:48.596Z"
   },
   {
    "duration": 16,
    "start_time": "2023-08-10T21:05:48.600Z"
   },
   {
    "duration": 112,
    "start_time": "2023-08-10T21:05:48.618Z"
   },
   {
    "duration": 66,
    "start_time": "2023-08-10T21:05:48.731Z"
   },
   {
    "duration": 6,
    "start_time": "2023-08-10T21:05:48.799Z"
   },
   {
    "duration": 13,
    "start_time": "2023-08-10T21:05:48.806Z"
   },
   {
    "duration": 5,
    "start_time": "2023-08-10T21:05:48.821Z"
   },
   {
    "duration": 37,
    "start_time": "2023-08-10T21:05:48.827Z"
   },
   {
    "duration": 37,
    "start_time": "2023-08-10T21:05:48.867Z"
   },
   {
    "duration": 11,
    "start_time": "2023-08-10T21:05:48.906Z"
   },
   {
    "duration": 13,
    "start_time": "2023-08-10T21:05:48.918Z"
   },
   {
    "duration": 29,
    "start_time": "2023-08-10T21:05:48.932Z"
   },
   {
    "duration": 2896,
    "start_time": "2023-08-10T21:06:28.446Z"
   },
   {
    "duration": 4,
    "start_time": "2023-08-10T21:06:31.345Z"
   },
   {
    "duration": 337,
    "start_time": "2023-08-10T21:06:31.351Z"
   },
   {
    "duration": 17,
    "start_time": "2023-08-10T21:06:31.691Z"
   },
   {
    "duration": 59,
    "start_time": "2023-08-10T21:06:31.710Z"
   },
   {
    "duration": 23,
    "start_time": "2023-08-10T21:06:31.772Z"
   },
   {
    "duration": 37,
    "start_time": "2023-08-10T21:06:31.797Z"
   },
   {
    "duration": 43025,
    "start_time": "2023-08-10T21:06:31.836Z"
   },
   {
    "duration": 3,
    "start_time": "2023-08-10T21:07:14.863Z"
   },
   {
    "duration": 198,
    "start_time": "2023-08-10T21:07:14.869Z"
   },
   {
    "duration": 115,
    "start_time": "2023-08-10T21:07:15.069Z"
   },
   {
    "duration": 7,
    "start_time": "2023-08-10T21:07:15.186Z"
   },
   {
    "duration": 13,
    "start_time": "2023-08-10T21:07:15.195Z"
   },
   {
    "duration": 52,
    "start_time": "2023-08-10T21:07:15.210Z"
   },
   {
    "duration": 30,
    "start_time": "2023-08-10T21:07:15.263Z"
   },
   {
    "duration": 35,
    "start_time": "2023-08-10T21:07:15.295Z"
   },
   {
    "duration": 11,
    "start_time": "2023-08-10T21:07:15.332Z"
   },
   {
    "duration": 26,
    "start_time": "2023-08-10T21:07:15.345Z"
   },
   {
    "duration": 4,
    "start_time": "2023-08-10T21:07:15.373Z"
   },
   {
    "duration": 2636,
    "start_time": "2023-08-10T21:12:50.438Z"
   },
   {
    "duration": 4,
    "start_time": "2023-08-10T21:12:53.077Z"
   },
   {
    "duration": 248,
    "start_time": "2023-08-10T21:12:53.083Z"
   },
   {
    "duration": 17,
    "start_time": "2023-08-10T21:12:53.333Z"
   },
   {
    "duration": 31,
    "start_time": "2023-08-10T21:12:53.352Z"
   },
   {
    "duration": 16,
    "start_time": "2023-08-10T21:12:53.385Z"
   },
   {
    "duration": 23,
    "start_time": "2023-08-10T21:12:53.403Z"
   },
   {
    "duration": 3,
    "start_time": "2023-08-10T21:12:53.428Z"
   },
   {
    "duration": 26,
    "start_time": "2023-08-10T21:12:53.433Z"
   },
   {
    "duration": 98,
    "start_time": "2023-08-10T21:12:53.462Z"
   },
   {
    "duration": 52,
    "start_time": "2023-08-10T21:12:53.562Z"
   },
   {
    "duration": 6,
    "start_time": "2023-08-10T21:12:53.616Z"
   },
   {
    "duration": 38,
    "start_time": "2023-08-10T21:12:53.624Z"
   },
   {
    "duration": 4,
    "start_time": "2023-08-10T21:12:53.664Z"
   },
   {
    "duration": 14,
    "start_time": "2023-08-10T21:12:53.670Z"
   },
   {
    "duration": 32,
    "start_time": "2023-08-10T21:12:53.686Z"
   },
   {
    "duration": 41,
    "start_time": "2023-08-10T21:12:53.720Z"
   },
   {
    "duration": 15,
    "start_time": "2023-08-10T21:12:53.762Z"
   },
   {
    "duration": 6,
    "start_time": "2023-08-10T21:12:53.779Z"
   },
   {
    "duration": 2707,
    "start_time": "2023-08-10T21:14:00.797Z"
   },
   {
    "duration": 3,
    "start_time": "2023-08-10T21:14:03.507Z"
   },
   {
    "duration": 261,
    "start_time": "2023-08-10T21:14:03.512Z"
   },
   {
    "duration": 19,
    "start_time": "2023-08-10T21:14:03.774Z"
   },
   {
    "duration": 51,
    "start_time": "2023-08-10T21:14:03.795Z"
   },
   {
    "duration": 16,
    "start_time": "2023-08-10T21:14:03.847Z"
   },
   {
    "duration": 19,
    "start_time": "2023-08-10T21:14:03.865Z"
   },
   {
    "duration": 42586,
    "start_time": "2023-08-10T21:14:03.885Z"
   },
   {
    "duration": 5,
    "start_time": "2023-08-10T21:14:46.473Z"
   },
   {
    "duration": 187,
    "start_time": "2023-08-10T21:14:46.479Z"
   },
   {
    "duration": 104,
    "start_time": "2023-08-10T21:14:46.668Z"
   },
   {
    "duration": 6,
    "start_time": "2023-08-10T21:14:46.773Z"
   },
   {
    "duration": 13,
    "start_time": "2023-08-10T21:14:46.782Z"
   },
   {
    "duration": 4,
    "start_time": "2023-08-10T21:14:46.798Z"
   },
   {
    "duration": 69,
    "start_time": "2023-08-10T21:14:46.804Z"
   },
   {
    "duration": 31,
    "start_time": "2023-08-10T21:14:46.875Z"
   },
   {
    "duration": 11,
    "start_time": "2023-08-10T21:14:46.907Z"
   },
   {
    "duration": 57,
    "start_time": "2023-08-10T21:14:46.919Z"
   },
   {
    "duration": 4,
    "start_time": "2023-08-10T21:14:46.978Z"
   },
   {
    "duration": 2620,
    "start_time": "2023-08-10T21:18:40.068Z"
   },
   {
    "duration": 3,
    "start_time": "2023-08-10T21:18:42.691Z"
   },
   {
    "duration": 244,
    "start_time": "2023-08-10T21:18:42.696Z"
   },
   {
    "duration": 19,
    "start_time": "2023-08-10T21:18:42.942Z"
   },
   {
    "duration": 28,
    "start_time": "2023-08-10T21:18:42.964Z"
   },
   {
    "duration": 18,
    "start_time": "2023-08-10T21:18:42.994Z"
   },
   {
    "duration": 46,
    "start_time": "2023-08-10T21:18:43.014Z"
   },
   {
    "duration": 43465,
    "start_time": "2023-08-10T21:18:43.062Z"
   },
   {
    "duration": 3,
    "start_time": "2023-08-10T21:19:26.530Z"
   },
   {
    "duration": 158,
    "start_time": "2023-08-10T21:19:26.535Z"
   },
   {
    "duration": 108,
    "start_time": "2023-08-10T21:19:26.694Z"
   },
   {
    "duration": 59,
    "start_time": "2023-08-10T21:19:26.804Z"
   },
   {
    "duration": 13,
    "start_time": "2023-08-10T21:19:26.864Z"
   },
   {
    "duration": 4,
    "start_time": "2023-08-10T21:19:26.880Z"
   },
   {
    "duration": 20,
    "start_time": "2023-08-10T21:19:26.886Z"
   },
   {
    "duration": 70,
    "start_time": "2023-08-10T21:19:26.908Z"
   },
   {
    "duration": 12,
    "start_time": "2023-08-10T21:19:26.981Z"
   },
   {
    "duration": 21,
    "start_time": "2023-08-10T21:19:26.995Z"
   },
   {
    "duration": 4,
    "start_time": "2023-08-10T21:19:27.018Z"
   },
   {
    "duration": 1315,
    "start_time": "2023-08-10T21:20:21.447Z"
   },
   {
    "duration": 38617,
    "start_time": "2023-08-10T21:21:12.986Z"
   },
   {
    "duration": 31508,
    "start_time": "2023-08-10T21:22:02.961Z"
   },
   {
    "duration": 14396,
    "start_time": "2023-08-14T15:38:48.118Z"
   },
   {
    "duration": 1684,
    "start_time": "2023-08-14T15:39:02.516Z"
   },
   {
    "duration": 382,
    "start_time": "2023-08-14T15:39:04.202Z"
   },
   {
    "duration": 16,
    "start_time": "2023-08-14T15:39:04.585Z"
   },
   {
    "duration": 22,
    "start_time": "2023-08-14T15:39:04.603Z"
   },
   {
    "duration": 13,
    "start_time": "2023-08-14T15:39:04.626Z"
   },
   {
    "duration": 18,
    "start_time": "2023-08-14T15:39:04.640Z"
   },
   {
    "duration": 34495,
    "start_time": "2023-08-14T15:39:04.660Z"
   },
   {
    "duration": 32556,
    "start_time": "2023-08-14T15:39:39.158Z"
   },
   {
    "duration": 191,
    "start_time": "2023-08-14T15:40:11.717Z"
   },
   {
    "duration": 103,
    "start_time": "2023-08-14T15:40:11.910Z"
   },
   {
    "duration": 5,
    "start_time": "2023-08-14T15:40:12.014Z"
   },
   {
    "duration": 15,
    "start_time": "2023-08-14T15:40:12.021Z"
   },
   {
    "duration": 2,
    "start_time": "2023-08-14T15:40:12.038Z"
   },
   {
    "duration": 63,
    "start_time": "2023-08-14T15:40:12.042Z"
   },
   {
    "duration": 28,
    "start_time": "2023-08-14T15:40:12.106Z"
   },
   {
    "duration": 11,
    "start_time": "2023-08-14T15:40:12.136Z"
   },
   {
    "duration": 62,
    "start_time": "2023-08-14T15:40:12.149Z"
   },
   {
    "duration": 19,
    "start_time": "2023-08-14T15:40:12.213Z"
   },
   {
    "duration": 26092,
    "start_time": "2023-08-14T15:40:12.234Z"
   },
   {
    "duration": 26,
    "start_time": "2023-08-14T15:48:45.145Z"
   },
   {
    "duration": 8,
    "start_time": "2023-08-14T15:56:28.118Z"
   },
   {
    "duration": 13,
    "start_time": "2023-08-14T16:00:05.137Z"
   },
   {
    "duration": 157,
    "start_time": "2023-08-14T16:18:33.227Z"
   },
   {
    "duration": 2647,
    "start_time": "2023-08-14T16:20:07.736Z"
   },
   {
    "duration": 3,
    "start_time": "2023-08-14T16:20:10.386Z"
   },
   {
    "duration": 192,
    "start_time": "2023-08-14T16:20:10.390Z"
   },
   {
    "duration": 17,
    "start_time": "2023-08-14T16:20:10.584Z"
   },
   {
    "duration": 27,
    "start_time": "2023-08-14T16:20:10.602Z"
   },
   {
    "duration": 15,
    "start_time": "2023-08-14T16:20:10.631Z"
   },
   {
    "duration": 29,
    "start_time": "2023-08-14T16:20:10.648Z"
   },
   {
    "duration": 35773,
    "start_time": "2023-08-14T16:20:10.679Z"
   },
   {
    "duration": 32679,
    "start_time": "2023-08-14T16:20:46.454Z"
   },
   {
    "duration": 5,
    "start_time": "2023-08-14T16:21:19.136Z"
   },
   {
    "duration": 64,
    "start_time": "2023-08-14T16:21:19.142Z"
   },
   {
    "duration": 10,
    "start_time": "2023-08-14T16:21:19.208Z"
   },
   {
    "duration": 3,
    "start_time": "2023-08-14T16:21:19.219Z"
   },
   {
    "duration": 22,
    "start_time": "2023-08-14T16:21:19.223Z"
   },
   {
    "duration": 0,
    "start_time": "2023-08-14T16:21:19.246Z"
   },
   {
    "duration": 0,
    "start_time": "2023-08-14T16:21:19.299Z"
   },
   {
    "duration": 0,
    "start_time": "2023-08-14T16:21:19.300Z"
   },
   {
    "duration": 0,
    "start_time": "2023-08-14T16:21:19.301Z"
   },
   {
    "duration": 10,
    "start_time": "2023-08-14T16:24:56.591Z"
   },
   {
    "duration": 24,
    "start_time": "2023-08-14T16:25:02.798Z"
   },
   {
    "duration": 17,
    "start_time": "2023-08-14T16:25:07.120Z"
   },
   {
    "duration": 17,
    "start_time": "2023-08-14T16:25:08.359Z"
   },
   {
    "duration": 3,
    "start_time": "2023-08-14T16:25:10.184Z"
   },
   {
    "duration": 2590,
    "start_time": "2023-08-14T17:23:23.589Z"
   },
   {
    "duration": 3,
    "start_time": "2023-08-14T17:23:26.182Z"
   },
   {
    "duration": 247,
    "start_time": "2023-08-14T17:23:26.186Z"
   },
   {
    "duration": 15,
    "start_time": "2023-08-14T17:23:26.435Z"
   },
   {
    "duration": 261,
    "start_time": "2023-08-14T17:23:26.452Z"
   },
   {
    "duration": 52,
    "start_time": "2023-08-14T17:23:26.714Z"
   },
   {
    "duration": 49,
    "start_time": "2023-08-14T17:23:26.767Z"
   },
   {
    "duration": 36167,
    "start_time": "2023-08-14T17:23:26.818Z"
   },
   {
    "duration": 33053,
    "start_time": "2023-08-14T17:24:03.000Z"
   },
   {
    "duration": 6,
    "start_time": "2023-08-14T17:24:36.056Z"
   },
   {
    "duration": 45,
    "start_time": "2023-08-14T17:24:36.064Z"
   },
   {
    "duration": 4,
    "start_time": "2023-08-14T17:24:36.111Z"
   },
   {
    "duration": 83,
    "start_time": "2023-08-14T17:24:36.117Z"
   },
   {
    "duration": 31,
    "start_time": "2023-08-14T17:24:36.202Z"
   },
   {
    "duration": 67,
    "start_time": "2023-08-14T17:24:36.235Z"
   },
   {
    "duration": 10,
    "start_time": "2023-08-14T17:24:36.303Z"
   },
   {
    "duration": 13,
    "start_time": "2023-08-14T17:24:36.314Z"
   },
   {
    "duration": 17,
    "start_time": "2023-08-14T17:24:36.329Z"
   },
   {
    "duration": 54,
    "start_time": "2023-08-14T17:24:36.347Z"
   },
   {
    "duration": 9,
    "start_time": "2023-08-14T17:24:36.403Z"
   },
   {
    "duration": 8,
    "start_time": "2023-08-14T17:24:36.413Z"
   },
   {
    "duration": 9,
    "start_time": "2023-08-14T17:24:36.422Z"
   },
   {
    "duration": 7,
    "start_time": "2023-08-14T17:24:36.432Z"
   },
   {
    "duration": 6,
    "start_time": "2023-08-14T17:24:36.440Z"
   },
   {
    "duration": 12,
    "start_time": "2023-08-14T17:24:36.447Z"
   },
   {
    "duration": 7,
    "start_time": "2023-08-14T17:25:33.287Z"
   },
   {
    "duration": 7,
    "start_time": "2023-08-14T17:25:38.375Z"
   },
   {
    "duration": 7,
    "start_time": "2023-08-14T17:25:40.445Z"
   },
   {
    "duration": 7,
    "start_time": "2023-08-14T17:25:41.692Z"
   },
   {
    "duration": 7,
    "start_time": "2023-08-14T17:25:43.005Z"
   },
   {
    "duration": 7,
    "start_time": "2023-08-14T17:25:46.717Z"
   },
   {
    "duration": 7,
    "start_time": "2023-08-14T17:25:48.478Z"
   },
   {
    "duration": 6,
    "start_time": "2023-08-14T17:25:50.245Z"
   },
   {
    "duration": 6,
    "start_time": "2023-08-14T17:32:47.084Z"
   },
   {
    "duration": 8,
    "start_time": "2023-08-14T17:34:06.115Z"
   },
   {
    "duration": 126,
    "start_time": "2023-08-14T17:36:12.708Z"
   },
   {
    "duration": 7,
    "start_time": "2023-08-14T17:37:54.789Z"
   },
   {
    "duration": 8,
    "start_time": "2023-08-14T17:38:03.798Z"
   },
   {
    "duration": 7,
    "start_time": "2023-08-14T17:38:11.726Z"
   },
   {
    "duration": 92,
    "start_time": "2023-08-14T17:38:39.985Z"
   },
   {
    "duration": 7,
    "start_time": "2023-08-14T17:39:18.527Z"
   },
   {
    "duration": 6,
    "start_time": "2023-08-14T17:39:28.255Z"
   },
   {
    "duration": 6,
    "start_time": "2023-08-14T17:39:33.408Z"
   },
   {
    "duration": 8,
    "start_time": "2023-08-14T17:39:39.750Z"
   },
   {
    "duration": 7,
    "start_time": "2023-08-14T17:40:00.491Z"
   },
   {
    "duration": 6,
    "start_time": "2023-08-14T17:40:08.671Z"
   },
   {
    "duration": 144,
    "start_time": "2023-08-14T17:44:17.418Z"
   },
   {
    "duration": 7,
    "start_time": "2023-08-14T17:45:37.956Z"
   },
   {
    "duration": 7,
    "start_time": "2023-08-14T17:45:43.234Z"
   },
   {
    "duration": 7,
    "start_time": "2023-08-14T17:45:54.656Z"
   },
   {
    "duration": 7,
    "start_time": "2023-08-14T17:46:08.788Z"
   },
   {
    "duration": 7,
    "start_time": "2023-08-14T17:46:09.418Z"
   },
   {
    "duration": 7,
    "start_time": "2023-08-14T18:28:53.819Z"
   },
   {
    "duration": 8,
    "start_time": "2023-08-14T18:29:14.691Z"
   },
   {
    "duration": 7,
    "start_time": "2023-08-14T18:30:05.861Z"
   },
   {
    "duration": 7,
    "start_time": "2023-08-14T18:38:50.967Z"
   },
   {
    "duration": 6,
    "start_time": "2023-08-14T18:39:03.565Z"
   },
   {
    "duration": 7,
    "start_time": "2023-08-14T18:39:09.188Z"
   },
   {
    "duration": 8,
    "start_time": "2023-08-14T18:39:18.194Z"
   },
   {
    "duration": 109,
    "start_time": "2023-08-14T18:40:54.294Z"
   },
   {
    "duration": 4,
    "start_time": "2023-08-14T18:45:27.366Z"
   },
   {
    "duration": 4,
    "start_time": "2023-08-14T18:48:14.259Z"
   },
   {
    "duration": 4,
    "start_time": "2023-08-14T18:52:05.072Z"
   },
   {
    "duration": 4,
    "start_time": "2023-08-14T18:53:38.848Z"
   },
   {
    "duration": 4,
    "start_time": "2023-08-14T18:53:46.823Z"
   },
   {
    "duration": 7,
    "start_time": "2023-08-14T18:55:02.919Z"
   },
   {
    "duration": 79,
    "start_time": "2023-08-14T19:55:12.691Z"
   },
   {
    "duration": 1352,
    "start_time": "2023-08-14T19:55:23.850Z"
   },
   {
    "duration": 1202,
    "start_time": "2023-08-14T19:55:54.915Z"
   },
   {
    "duration": 13,
    "start_time": "2023-08-14T19:56:53.338Z"
   },
   {
    "duration": 8,
    "start_time": "2023-08-14T20:02:54.095Z"
   },
   {
    "duration": 10,
    "start_time": "2023-08-14T20:02:56.207Z"
   },
   {
    "duration": 10,
    "start_time": "2023-08-14T20:03:42.822Z"
   },
   {
    "duration": 9,
    "start_time": "2023-08-14T20:04:04.535Z"
   },
   {
    "duration": 13,
    "start_time": "2023-08-14T20:04:55.599Z"
   },
   {
    "duration": 2283,
    "start_time": "2023-08-14T20:05:13.824Z"
   },
   {
    "duration": 10,
    "start_time": "2023-08-14T20:05:48.441Z"
   },
   {
    "duration": 11,
    "start_time": "2023-08-14T20:06:04.208Z"
   },
   {
    "duration": 10,
    "start_time": "2023-08-14T20:06:26.211Z"
   },
   {
    "duration": 5,
    "start_time": "2023-08-14T20:07:05.793Z"
   },
   {
    "duration": 10,
    "start_time": "2023-08-14T20:09:33.163Z"
   },
   {
    "duration": 7,
    "start_time": "2023-08-14T20:09:52.877Z"
   },
   {
    "duration": 9,
    "start_time": "2023-08-14T20:10:27.595Z"
   },
   {
    "duration": 21,
    "start_time": "2023-08-14T20:10:36.091Z"
   },
   {
    "duration": 9,
    "start_time": "2023-08-14T20:10:54.488Z"
   },
   {
    "duration": 9,
    "start_time": "2023-08-14T20:18:46.721Z"
   },
   {
    "duration": 8,
    "start_time": "2023-08-14T20:21:08.676Z"
   },
   {
    "duration": 71,
    "start_time": "2023-08-14T20:21:47.809Z"
   },
   {
    "duration": 10,
    "start_time": "2023-08-14T20:22:09.498Z"
   },
   {
    "duration": 7,
    "start_time": "2023-08-14T20:22:24.465Z"
   },
   {
    "duration": 9,
    "start_time": "2023-08-14T20:23:09.114Z"
   },
   {
    "duration": 7,
    "start_time": "2023-08-14T20:23:30.876Z"
   },
   {
    "duration": 5,
    "start_time": "2023-08-14T20:26:21.894Z"
   },
   {
    "duration": 4,
    "start_time": "2023-08-14T20:26:29.220Z"
   },
   {
    "duration": 4,
    "start_time": "2023-08-14T20:27:49.013Z"
   },
   {
    "duration": 2668,
    "start_time": "2023-08-14T20:28:43.873Z"
   },
   {
    "duration": 3,
    "start_time": "2023-08-14T20:28:46.543Z"
   },
   {
    "duration": 208,
    "start_time": "2023-08-14T20:28:46.547Z"
   },
   {
    "duration": 16,
    "start_time": "2023-08-14T20:28:46.757Z"
   },
   {
    "duration": 30,
    "start_time": "2023-08-14T20:28:46.774Z"
   },
   {
    "duration": 14,
    "start_time": "2023-08-14T20:28:46.805Z"
   },
   {
    "duration": 18,
    "start_time": "2023-08-14T20:28:46.820Z"
   },
   {
    "duration": 35887,
    "start_time": "2023-08-14T20:28:46.840Z"
   },
   {
    "duration": 33258,
    "start_time": "2023-08-14T20:29:22.728Z"
   },
   {
    "duration": 6,
    "start_time": "2023-08-14T20:29:56.000Z"
   },
   {
    "duration": 34,
    "start_time": "2023-08-14T20:29:56.007Z"
   },
   {
    "duration": 59,
    "start_time": "2023-08-14T20:29:56.042Z"
   },
   {
    "duration": 15,
    "start_time": "2023-08-14T20:29:56.103Z"
   },
   {
    "duration": 82,
    "start_time": "2023-08-14T20:29:56.120Z"
   },
   {
    "duration": 15,
    "start_time": "2023-08-14T20:29:56.204Z"
   },
   {
    "duration": 10,
    "start_time": "2023-08-14T20:29:56.221Z"
   },
   {
    "duration": 9,
    "start_time": "2023-08-14T20:29:56.233Z"
   },
   {
    "duration": 200,
    "start_time": "2023-08-14T20:29:56.244Z"
   },
   {
    "duration": 7,
    "start_time": "2023-08-14T20:29:56.446Z"
   },
   {
    "duration": 13,
    "start_time": "2023-08-14T20:29:56.454Z"
   },
   {
    "duration": 22,
    "start_time": "2023-08-14T20:29:56.468Z"
   },
   {
    "duration": 14,
    "start_time": "2023-08-14T20:29:56.492Z"
   },
   {
    "duration": 11,
    "start_time": "2023-08-14T20:29:56.508Z"
   },
   {
    "duration": 8,
    "start_time": "2023-08-14T20:29:56.520Z"
   },
   {
    "duration": 14,
    "start_time": "2023-08-14T20:29:56.529Z"
   },
   {
    "duration": 17,
    "start_time": "2023-08-14T20:35:54.017Z"
   },
   {
    "duration": 19,
    "start_time": "2023-08-14T20:36:29.834Z"
   },
   {
    "duration": 191,
    "start_time": "2023-08-14T20:37:53.795Z"
   },
   {
    "duration": 132,
    "start_time": "2023-08-14T20:38:10.779Z"
   },
   {
    "duration": 136,
    "start_time": "2023-08-14T20:38:28.039Z"
   },
   {
    "duration": 107,
    "start_time": "2023-08-14T20:38:37.515Z"
   },
   {
    "duration": 113,
    "start_time": "2023-08-14T20:39:37.667Z"
   },
   {
    "duration": 10,
    "start_time": "2023-08-14T20:41:33.766Z"
   },
   {
    "duration": 3,
    "start_time": "2023-08-14T20:42:08.245Z"
   },
   {
    "duration": 113,
    "start_time": "2023-08-14T20:42:17.546Z"
   },
   {
    "duration": 114,
    "start_time": "2023-08-14T20:42:36.278Z"
   },
   {
    "duration": 110,
    "start_time": "2023-08-14T20:43:11.262Z"
   },
   {
    "duration": 104,
    "start_time": "2023-08-14T20:44:38.010Z"
   },
   {
    "duration": 22,
    "start_time": "2023-08-14T20:55:15.639Z"
   },
   {
    "duration": 14,
    "start_time": "2023-08-14T20:55:59.480Z"
   },
   {
    "duration": 14,
    "start_time": "2023-08-14T20:58:30.857Z"
   },
   {
    "duration": 38,
    "start_time": "2023-08-14T21:07:26.746Z"
   },
   {
    "duration": 83,
    "start_time": "2023-08-14T21:13:46.871Z"
   },
   {
    "duration": 98,
    "start_time": "2023-08-14T21:13:58.084Z"
   },
   {
    "duration": 17,
    "start_time": "2023-08-14T21:19:10.085Z"
   },
   {
    "duration": 24,
    "start_time": "2023-08-14T21:19:34.847Z"
   },
   {
    "duration": 22,
    "start_time": "2023-08-14T21:20:17.344Z"
   },
   {
    "duration": 18,
    "start_time": "2023-08-14T21:20:39.433Z"
   },
   {
    "duration": 17,
    "start_time": "2023-08-14T21:20:50.256Z"
   },
   {
    "duration": 17,
    "start_time": "2023-08-14T21:21:31.210Z"
   },
   {
    "duration": 17,
    "start_time": "2023-08-14T21:24:34.746Z"
   },
   {
    "duration": 20,
    "start_time": "2023-08-14T21:26:01.764Z"
   },
   {
    "duration": 13,
    "start_time": "2023-08-14T21:27:14.284Z"
   },
   {
    "duration": 89,
    "start_time": "2023-08-14T21:28:08.221Z"
   },
   {
    "duration": 129,
    "start_time": "2023-08-14T21:29:50.981Z"
   },
   {
    "duration": 17,
    "start_time": "2023-08-14T21:30:46.885Z"
   },
   {
    "duration": 18,
    "start_time": "2023-08-14T21:32:42.032Z"
   },
   {
    "duration": 27,
    "start_time": "2023-08-14T21:33:03.095Z"
   },
   {
    "duration": 20,
    "start_time": "2023-08-14T21:33:12.775Z"
   },
   {
    "duration": 8,
    "start_time": "2023-08-14T21:33:26.143Z"
   },
   {
    "duration": 18,
    "start_time": "2023-08-14T21:34:00.121Z"
   },
   {
    "duration": 6,
    "start_time": "2023-08-14T21:34:01.711Z"
   },
   {
    "duration": 18,
    "start_time": "2023-08-14T21:34:25.635Z"
   },
   {
    "duration": 7,
    "start_time": "2023-08-14T21:34:28.385Z"
   },
   {
    "duration": 2423,
    "start_time": "2023-08-14T21:35:38.932Z"
   },
   {
    "duration": 4,
    "start_time": "2023-08-14T21:35:41.357Z"
   },
   {
    "duration": 218,
    "start_time": "2023-08-14T21:35:41.363Z"
   },
   {
    "duration": 16,
    "start_time": "2023-08-14T21:35:41.583Z"
   },
   {
    "duration": 88,
    "start_time": "2023-08-14T21:35:41.601Z"
   },
   {
    "duration": 27,
    "start_time": "2023-08-14T21:35:41.691Z"
   },
   {
    "duration": 46,
    "start_time": "2023-08-14T21:35:41.720Z"
   },
   {
    "duration": 66,
    "start_time": "2023-08-14T21:35:41.768Z"
   },
   {
    "duration": 13,
    "start_time": "2023-08-14T21:35:41.835Z"
   },
   {
    "duration": 14,
    "start_time": "2023-08-14T21:35:41.851Z"
   },
   {
    "duration": 13,
    "start_time": "2023-08-14T21:35:41.867Z"
   },
   {
    "duration": 32,
    "start_time": "2023-08-14T21:35:41.882Z"
   },
   {
    "duration": 20,
    "start_time": "2023-08-14T21:35:41.916Z"
   },
   {
    "duration": 33,
    "start_time": "2023-08-14T21:35:41.937Z"
   },
   {
    "duration": 20,
    "start_time": "2023-08-14T21:35:41.972Z"
   },
   {
    "duration": 15,
    "start_time": "2023-08-14T21:35:41.995Z"
   },
   {
    "duration": 11,
    "start_time": "2023-08-14T21:35:42.012Z"
   },
   {
    "duration": 136,
    "start_time": "2023-08-14T21:35:42.024Z"
   },
   {
    "duration": 9,
    "start_time": "2023-08-14T21:35:42.162Z"
   },
   {
    "duration": 5,
    "start_time": "2023-08-14T21:35:42.173Z"
   },
   {
    "duration": 21,
    "start_time": "2023-08-14T21:35:42.179Z"
   },
   {
    "duration": 24,
    "start_time": "2023-08-14T21:35:42.202Z"
   },
   {
    "duration": 10,
    "start_time": "2023-08-14T21:35:42.227Z"
   },
   {
    "duration": 6,
    "start_time": "2023-08-14T21:35:42.239Z"
   },
   {
    "duration": 21,
    "start_time": "2023-08-14T21:35:42.246Z"
   },
   {
    "duration": 10,
    "start_time": "2023-08-14T21:35:42.269Z"
   },
   {
    "duration": 23,
    "start_time": "2023-08-14T21:35:42.281Z"
   },
   {
    "duration": 0,
    "start_time": "2023-08-14T21:35:42.305Z"
   },
   {
    "duration": 17,
    "start_time": "2023-08-14T21:36:21.482Z"
   },
   {
    "duration": 9,
    "start_time": "2023-08-14T21:36:22.770Z"
   },
   {
    "duration": 15,
    "start_time": "2023-08-14T21:36:39.777Z"
   },
   {
    "duration": 9,
    "start_time": "2023-08-14T21:36:41.481Z"
   },
   {
    "duration": 13,
    "start_time": "2023-08-14T21:36:54.929Z"
   },
   {
    "duration": 7,
    "start_time": "2023-08-14T21:36:57.001Z"
   },
   {
    "duration": 13,
    "start_time": "2023-08-14T21:37:04.886Z"
   },
   {
    "duration": 7,
    "start_time": "2023-08-14T21:37:05.818Z"
   },
   {
    "duration": 14,
    "start_time": "2023-08-14T21:37:12.322Z"
   },
   {
    "duration": 7,
    "start_time": "2023-08-14T21:37:12.890Z"
   },
   {
    "duration": 14,
    "start_time": "2023-08-14T21:39:31.652Z"
   },
   {
    "duration": 8,
    "start_time": "2023-08-14T21:39:42.079Z"
   },
   {
    "duration": 16,
    "start_time": "2023-08-14T21:41:48.373Z"
   },
   {
    "duration": 15,
    "start_time": "2023-08-14T21:42:23.314Z"
   },
   {
    "duration": 7,
    "start_time": "2023-08-14T21:42:27.766Z"
   },
   {
    "duration": 36,
    "start_time": "2023-08-14T21:46:06.328Z"
   },
   {
    "duration": 9,
    "start_time": "2023-08-14T21:46:40.795Z"
   },
   {
    "duration": 11,
    "start_time": "2023-08-14T21:47:19.960Z"
   },
   {
    "duration": 2627,
    "start_time": "2023-08-14T21:47:31.701Z"
   },
   {
    "duration": 3,
    "start_time": "2023-08-14T21:47:34.330Z"
   },
   {
    "duration": 206,
    "start_time": "2023-08-14T21:47:34.334Z"
   },
   {
    "duration": 15,
    "start_time": "2023-08-14T21:47:34.541Z"
   },
   {
    "duration": 32,
    "start_time": "2023-08-14T21:47:34.558Z"
   },
   {
    "duration": 17,
    "start_time": "2023-08-14T21:47:34.592Z"
   },
   {
    "duration": 30,
    "start_time": "2023-08-14T21:47:34.611Z"
   },
   {
    "duration": 2,
    "start_time": "2023-08-14T21:47:34.643Z"
   },
   {
    "duration": 11,
    "start_time": "2023-08-14T21:47:34.647Z"
   },
   {
    "duration": 7,
    "start_time": "2023-08-14T21:47:34.660Z"
   },
   {
    "duration": 15,
    "start_time": "2023-08-14T21:47:34.668Z"
   },
   {
    "duration": 6,
    "start_time": "2023-08-14T21:47:34.684Z"
   },
   {
    "duration": 27,
    "start_time": "2023-08-14T21:47:34.691Z"
   },
   {
    "duration": 33,
    "start_time": "2023-08-14T21:47:34.721Z"
   },
   {
    "duration": 14,
    "start_time": "2023-08-14T21:47:34.755Z"
   },
   {
    "duration": 14,
    "start_time": "2023-08-14T21:47:34.771Z"
   },
   {
    "duration": 14,
    "start_time": "2023-08-14T21:47:34.786Z"
   },
   {
    "duration": 131,
    "start_time": "2023-08-14T21:47:34.802Z"
   },
   {
    "duration": 7,
    "start_time": "2023-08-14T21:47:34.935Z"
   },
   {
    "duration": 21,
    "start_time": "2023-08-14T21:47:34.943Z"
   },
   {
    "duration": 14,
    "start_time": "2023-08-14T21:47:34.965Z"
   },
   {
    "duration": 9,
    "start_time": "2023-08-14T21:47:34.980Z"
   },
   {
    "duration": 70,
    "start_time": "2023-08-14T21:47:34.990Z"
   },
   {
    "duration": 41,
    "start_time": "2023-08-14T21:47:35.061Z"
   },
   {
    "duration": 24,
    "start_time": "2023-08-14T21:47:35.104Z"
   },
   {
    "duration": 14,
    "start_time": "2023-08-14T21:47:35.129Z"
   },
   {
    "duration": 40,
    "start_time": "2023-08-14T21:47:35.145Z"
   },
   {
    "duration": 13,
    "start_time": "2023-08-14T21:47:35.187Z"
   },
   {
    "duration": 5,
    "start_time": "2023-08-14T21:47:35.202Z"
   },
   {
    "duration": 2546,
    "start_time": "2023-08-14T21:49:27.218Z"
   },
   {
    "duration": 2,
    "start_time": "2023-08-14T21:49:29.767Z"
   },
   {
    "duration": 226,
    "start_time": "2023-08-14T21:49:29.771Z"
   },
   {
    "duration": 15,
    "start_time": "2023-08-14T21:49:29.999Z"
   },
   {
    "duration": 56,
    "start_time": "2023-08-14T21:49:30.017Z"
   },
   {
    "duration": 58,
    "start_time": "2023-08-14T21:49:30.075Z"
   },
   {
    "duration": 46,
    "start_time": "2023-08-14T21:49:30.134Z"
   },
   {
    "duration": 6,
    "start_time": "2023-08-14T21:49:30.182Z"
   },
   {
    "duration": 64,
    "start_time": "2023-08-14T21:49:30.190Z"
   },
   {
    "duration": 43,
    "start_time": "2023-08-14T21:49:30.256Z"
   },
   {
    "duration": 57,
    "start_time": "2023-08-14T21:49:30.301Z"
   },
   {
    "duration": 27,
    "start_time": "2023-08-14T21:49:30.359Z"
   },
   {
    "duration": 76,
    "start_time": "2023-08-14T21:49:30.388Z"
   },
   {
    "duration": 83,
    "start_time": "2023-08-14T21:49:30.467Z"
   },
   {
    "duration": 28,
    "start_time": "2023-08-14T21:49:30.552Z"
   },
   {
    "duration": 31,
    "start_time": "2023-08-14T21:49:30.581Z"
   },
   {
    "duration": 41,
    "start_time": "2023-08-14T21:49:30.614Z"
   },
   {
    "duration": 168,
    "start_time": "2023-08-14T21:49:30.657Z"
   },
   {
    "duration": 7,
    "start_time": "2023-08-14T21:49:30.827Z"
   },
   {
    "duration": 32,
    "start_time": "2023-08-14T21:49:30.835Z"
   },
   {
    "duration": 34,
    "start_time": "2023-08-14T21:49:30.869Z"
   },
   {
    "duration": 34,
    "start_time": "2023-08-14T21:49:30.905Z"
   },
   {
    "duration": 38,
    "start_time": "2023-08-14T21:49:30.940Z"
   },
   {
    "duration": 50,
    "start_time": "2023-08-14T21:49:30.980Z"
   },
   {
    "duration": 47,
    "start_time": "2023-08-14T21:49:31.032Z"
   },
   {
    "duration": 77,
    "start_time": "2023-08-14T21:49:31.081Z"
   },
   {
    "duration": 85,
    "start_time": "2023-08-14T21:49:31.159Z"
   },
   {
    "duration": 10,
    "start_time": "2023-08-14T21:49:31.245Z"
   },
   {
    "duration": 33,
    "start_time": "2023-08-14T21:49:31.256Z"
   },
   {
    "duration": 2577,
    "start_time": "2023-08-14T21:52:59.302Z"
   },
   {
    "duration": 3,
    "start_time": "2023-08-14T21:53:01.881Z"
   },
   {
    "duration": 202,
    "start_time": "2023-08-14T21:53:01.885Z"
   },
   {
    "duration": 14,
    "start_time": "2023-08-14T21:53:02.088Z"
   },
   {
    "duration": 41,
    "start_time": "2023-08-14T21:53:02.104Z"
   },
   {
    "duration": 12,
    "start_time": "2023-08-14T21:53:02.146Z"
   },
   {
    "duration": 23,
    "start_time": "2023-08-14T21:53:02.160Z"
   },
   {
    "duration": 2,
    "start_time": "2023-08-14T21:53:02.184Z"
   },
   {
    "duration": 8,
    "start_time": "2023-08-14T21:53:02.187Z"
   },
   {
    "duration": 20,
    "start_time": "2023-08-14T21:53:02.197Z"
   },
   {
    "duration": 12,
    "start_time": "2023-08-14T21:53:02.218Z"
   },
   {
    "duration": 15,
    "start_time": "2023-08-14T21:53:02.231Z"
   },
   {
    "duration": 27,
    "start_time": "2023-08-14T21:53:02.247Z"
   },
   {
    "duration": 27,
    "start_time": "2023-08-14T21:53:02.276Z"
   },
   {
    "duration": 25,
    "start_time": "2023-08-14T21:53:02.305Z"
   },
   {
    "duration": 19,
    "start_time": "2023-08-14T21:53:02.332Z"
   },
   {
    "duration": 11,
    "start_time": "2023-08-14T21:53:02.352Z"
   },
   {
    "duration": 139,
    "start_time": "2023-08-14T21:53:02.364Z"
   },
   {
    "duration": 12,
    "start_time": "2023-08-14T21:53:02.505Z"
   },
   {
    "duration": 44,
    "start_time": "2023-08-14T21:53:02.519Z"
   },
   {
    "duration": 21,
    "start_time": "2023-08-14T21:53:02.564Z"
   },
   {
    "duration": 4,
    "start_time": "2023-08-14T21:53:02.587Z"
   },
   {
    "duration": 23,
    "start_time": "2023-08-14T21:53:02.592Z"
   },
   {
    "duration": 36,
    "start_time": "2023-08-14T21:53:02.617Z"
   },
   {
    "duration": 18,
    "start_time": "2023-08-14T21:53:02.655Z"
   },
   {
    "duration": 34,
    "start_time": "2023-08-14T21:53:02.675Z"
   },
   {
    "duration": 40,
    "start_time": "2023-08-14T21:53:02.711Z"
   },
   {
    "duration": 9,
    "start_time": "2023-08-14T21:53:02.753Z"
   },
   {
    "duration": 9,
    "start_time": "2023-08-14T21:53:02.763Z"
   },
   {
    "duration": 15,
    "start_time": "2023-08-14T21:53:44.396Z"
   },
   {
    "duration": 10,
    "start_time": "2023-08-14T21:56:02.478Z"
   },
   {
    "duration": 2539,
    "start_time": "2023-08-14T21:58:26.355Z"
   },
   {
    "duration": 4,
    "start_time": "2023-08-14T21:58:28.896Z"
   },
   {
    "duration": 240,
    "start_time": "2023-08-14T21:58:28.902Z"
   },
   {
    "duration": 15,
    "start_time": "2023-08-14T21:58:29.144Z"
   },
   {
    "duration": 39,
    "start_time": "2023-08-14T21:58:29.161Z"
   },
   {
    "duration": 709,
    "start_time": "2023-08-14T21:58:29.202Z"
   },
   {
    "duration": 28,
    "start_time": "2023-08-14T21:58:29.913Z"
   },
   {
    "duration": 2,
    "start_time": "2023-08-14T21:58:29.943Z"
   },
   {
    "duration": 19,
    "start_time": "2023-08-14T21:58:29.946Z"
   },
   {
    "duration": 9,
    "start_time": "2023-08-14T21:58:29.969Z"
   },
   {
    "duration": 22,
    "start_time": "2023-08-14T21:58:29.980Z"
   },
   {
    "duration": 88,
    "start_time": "2023-08-14T21:58:30.004Z"
   },
   {
    "duration": 59,
    "start_time": "2023-08-14T21:58:30.093Z"
   },
   {
    "duration": 76,
    "start_time": "2023-08-14T21:58:30.154Z"
   },
   {
    "duration": 17,
    "start_time": "2023-08-14T21:58:30.232Z"
   },
   {
    "duration": 46,
    "start_time": "2023-08-14T21:58:30.251Z"
   },
   {
    "duration": 25,
    "start_time": "2023-08-14T21:58:30.298Z"
   },
   {
    "duration": 186,
    "start_time": "2023-08-14T21:58:30.325Z"
   },
   {
    "duration": 10,
    "start_time": "2023-08-14T21:58:30.512Z"
   },
   {
    "duration": 57,
    "start_time": "2023-08-14T21:58:30.525Z"
   },
   {
    "duration": 67,
    "start_time": "2023-08-14T21:58:30.583Z"
   },
   {
    "duration": 20,
    "start_time": "2023-08-14T21:58:30.652Z"
   },
   {
    "duration": 79,
    "start_time": "2023-08-14T21:58:30.673Z"
   },
   {
    "duration": 66,
    "start_time": "2023-08-14T21:58:30.754Z"
   },
   {
    "duration": 51,
    "start_time": "2023-08-14T21:58:30.822Z"
   },
   {
    "duration": 67,
    "start_time": "2023-08-14T21:58:30.875Z"
   },
   {
    "duration": 58,
    "start_time": "2023-08-14T21:58:30.944Z"
   },
   {
    "duration": 0,
    "start_time": "2023-08-14T21:58:31.004Z"
   },
   {
    "duration": 0,
    "start_time": "2023-08-14T21:58:31.005Z"
   },
   {
    "duration": 0,
    "start_time": "2023-08-14T21:58:31.006Z"
   },
   {
    "duration": 0,
    "start_time": "2023-08-14T21:58:31.007Z"
   },
   {
    "duration": 6,
    "start_time": "2023-08-14T21:58:48.240Z"
   },
   {
    "duration": 8,
    "start_time": "2023-08-14T21:59:56.915Z"
   },
   {
    "duration": 38,
    "start_time": "2023-08-14T22:00:39.937Z"
   },
   {
    "duration": 10,
    "start_time": "2023-08-14T22:00:41.089Z"
   },
   {
    "duration": 8,
    "start_time": "2023-08-14T22:00:43.002Z"
   },
   {
    "duration": 10,
    "start_time": "2023-08-14T22:01:42.653Z"
   },
   {
    "duration": 3,
    "start_time": "2023-08-14T22:01:54.995Z"
   },
   {
    "duration": 2410,
    "start_time": "2023-08-14T22:05:18.840Z"
   },
   {
    "duration": 3,
    "start_time": "2023-08-14T22:05:21.252Z"
   },
   {
    "duration": 213,
    "start_time": "2023-08-14T22:05:21.256Z"
   },
   {
    "duration": 14,
    "start_time": "2023-08-14T22:05:21.471Z"
   },
   {
    "duration": 33,
    "start_time": "2023-08-14T22:05:21.486Z"
   },
   {
    "duration": 18,
    "start_time": "2023-08-14T22:05:21.521Z"
   },
   {
    "duration": 21,
    "start_time": "2023-08-14T22:05:21.541Z"
   },
   {
    "duration": 13,
    "start_time": "2023-08-14T22:05:21.563Z"
   },
   {
    "duration": 9,
    "start_time": "2023-08-14T22:05:21.578Z"
   },
   {
    "duration": 14,
    "start_time": "2023-08-14T22:05:21.589Z"
   },
   {
    "duration": 21,
    "start_time": "2023-08-14T22:05:21.605Z"
   },
   {
    "duration": 5,
    "start_time": "2023-08-14T22:05:21.627Z"
   },
   {
    "duration": 23,
    "start_time": "2023-08-14T22:05:21.634Z"
   },
   {
    "duration": 30,
    "start_time": "2023-08-14T22:05:21.658Z"
   },
   {
    "duration": 24,
    "start_time": "2023-08-14T22:05:21.689Z"
   },
   {
    "duration": 12,
    "start_time": "2023-08-14T22:05:21.714Z"
   },
   {
    "duration": 5,
    "start_time": "2023-08-14T22:05:21.727Z"
   },
   {
    "duration": 129,
    "start_time": "2023-08-14T22:05:21.734Z"
   },
   {
    "duration": 8,
    "start_time": "2023-08-14T22:05:21.864Z"
   },
   {
    "duration": 16,
    "start_time": "2023-08-14T22:05:21.873Z"
   },
   {
    "duration": 13,
    "start_time": "2023-08-14T22:05:21.890Z"
   },
   {
    "duration": 14,
    "start_time": "2023-08-14T22:05:21.905Z"
   },
   {
    "duration": 14,
    "start_time": "2023-08-14T22:05:21.920Z"
   },
   {
    "duration": 12,
    "start_time": "2023-08-14T22:05:21.935Z"
   },
   {
    "duration": 13,
    "start_time": "2023-08-14T22:05:21.948Z"
   },
   {
    "duration": 8,
    "start_time": "2023-08-14T22:05:21.962Z"
   },
   {
    "duration": 6,
    "start_time": "2023-08-14T22:05:21.971Z"
   },
   {
    "duration": 3,
    "start_time": "2023-08-14T22:05:21.980Z"
   },
   {
    "duration": 16,
    "start_time": "2023-08-14T22:05:21.984Z"
   },
   {
    "duration": 6,
    "start_time": "2023-08-14T22:05:22.002Z"
   },
   {
    "duration": 72,
    "start_time": "2023-08-14T22:05:22.009Z"
   },
   {
    "duration": 9,
    "start_time": "2023-08-14T22:05:22.082Z"
   },
   {
    "duration": 8,
    "start_time": "2023-08-14T22:05:22.093Z"
   },
   {
    "duration": 8,
    "start_time": "2023-08-14T22:05:22.102Z"
   },
   {
    "duration": 6,
    "start_time": "2023-08-14T22:23:59.321Z"
   },
   {
    "duration": 6,
    "start_time": "2023-08-14T22:24:19.393Z"
   },
   {
    "duration": 5,
    "start_time": "2023-08-14T22:24:52.777Z"
   },
   {
    "duration": 7,
    "start_time": "2023-08-14T22:25:42.894Z"
   },
   {
    "duration": 7,
    "start_time": "2023-08-14T22:27:05.507Z"
   },
   {
    "duration": 5,
    "start_time": "2023-08-14T22:27:06.485Z"
   },
   {
    "duration": 8,
    "start_time": "2023-08-14T22:27:07.490Z"
   },
   {
    "duration": 6,
    "start_time": "2023-08-14T22:27:14.755Z"
   },
   {
    "duration": 2411,
    "start_time": "2023-08-14T22:27:26.827Z"
   },
   {
    "duration": 3,
    "start_time": "2023-08-14T22:27:29.240Z"
   },
   {
    "duration": 197,
    "start_time": "2023-08-14T22:27:29.245Z"
   },
   {
    "duration": 14,
    "start_time": "2023-08-14T22:27:29.444Z"
   },
   {
    "duration": 24,
    "start_time": "2023-08-14T22:27:29.460Z"
   },
   {
    "duration": 27,
    "start_time": "2023-08-14T22:27:29.485Z"
   },
   {
    "duration": 17,
    "start_time": "2023-08-14T22:27:29.513Z"
   },
   {
    "duration": 2,
    "start_time": "2023-08-14T22:27:29.531Z"
   },
   {
    "duration": 3,
    "start_time": "2023-08-14T22:27:29.535Z"
   },
   {
    "duration": 7,
    "start_time": "2023-08-14T22:27:29.540Z"
   },
   {
    "duration": 12,
    "start_time": "2023-08-14T22:27:29.549Z"
   },
   {
    "duration": 38,
    "start_time": "2023-08-14T22:27:29.562Z"
   },
   {
    "duration": 5,
    "start_time": "2023-08-14T22:27:29.602Z"
   },
   {
    "duration": 8,
    "start_time": "2023-08-14T22:27:29.611Z"
   },
   {
    "duration": 11,
    "start_time": "2023-08-14T22:27:29.620Z"
   },
   {
    "duration": 13,
    "start_time": "2023-08-14T22:27:29.632Z"
   },
   {
    "duration": 13,
    "start_time": "2023-08-14T22:27:29.646Z"
   },
   {
    "duration": 25,
    "start_time": "2023-08-14T22:27:29.660Z"
   },
   {
    "duration": 15,
    "start_time": "2023-08-14T22:27:29.700Z"
   },
   {
    "duration": 11,
    "start_time": "2023-08-14T22:27:29.716Z"
   },
   {
    "duration": 4,
    "start_time": "2023-08-14T22:27:29.728Z"
   },
   {
    "duration": 134,
    "start_time": "2023-08-14T22:27:29.733Z"
   },
   {
    "duration": 8,
    "start_time": "2023-08-14T22:27:29.868Z"
   },
   {
    "duration": 7,
    "start_time": "2023-08-14T22:27:29.877Z"
   },
   {
    "duration": 18,
    "start_time": "2023-08-14T22:27:29.885Z"
   },
   {
    "duration": 4,
    "start_time": "2023-08-14T22:27:29.904Z"
   },
   {
    "duration": 13,
    "start_time": "2023-08-14T22:27:29.910Z"
   },
   {
    "duration": 4,
    "start_time": "2023-08-14T22:27:29.924Z"
   },
   {
    "duration": 16,
    "start_time": "2023-08-14T22:27:29.929Z"
   },
   {
    "duration": 10,
    "start_time": "2023-08-14T22:27:29.946Z"
   },
   {
    "duration": 7,
    "start_time": "2023-08-14T22:27:29.957Z"
   },
   {
    "duration": 56,
    "start_time": "2023-08-14T22:27:29.965Z"
   },
   {
    "duration": 8,
    "start_time": "2023-08-14T22:27:30.023Z"
   },
   {
    "duration": 34,
    "start_time": "2023-08-14T22:27:30.032Z"
   },
   {
    "duration": 33,
    "start_time": "2023-08-14T22:27:30.067Z"
   },
   {
    "duration": 7,
    "start_time": "2023-08-14T22:28:47.516Z"
   },
   {
    "duration": 5,
    "start_time": "2023-08-14T22:29:04.364Z"
   },
   {
    "duration": 7,
    "start_time": "2023-08-14T22:29:49.679Z"
   },
   {
    "duration": 7,
    "start_time": "2023-08-14T22:30:09.386Z"
   },
   {
    "duration": 7,
    "start_time": "2023-08-14T22:31:09.207Z"
   },
   {
    "duration": 5,
    "start_time": "2023-08-14T22:31:24.646Z"
   },
   {
    "duration": 2408,
    "start_time": "2023-08-14T22:32:07.754Z"
   },
   {
    "duration": 3,
    "start_time": "2023-08-14T22:32:10.164Z"
   },
   {
    "duration": 208,
    "start_time": "2023-08-14T22:32:10.169Z"
   },
   {
    "duration": 16,
    "start_time": "2023-08-14T22:32:10.379Z"
   },
   {
    "duration": 26,
    "start_time": "2023-08-14T22:32:10.397Z"
   },
   {
    "duration": 14,
    "start_time": "2023-08-14T22:32:10.425Z"
   },
   {
    "duration": 22,
    "start_time": "2023-08-14T22:32:10.440Z"
   },
   {
    "duration": 35355,
    "start_time": "2023-08-14T22:32:10.463Z"
   },
   {
    "duration": 33134,
    "start_time": "2023-08-14T22:32:45.820Z"
   },
   {
    "duration": 6,
    "start_time": "2023-08-14T22:33:18.957Z"
   },
   {
    "duration": 39,
    "start_time": "2023-08-14T22:33:18.965Z"
   },
   {
    "duration": 7,
    "start_time": "2023-08-14T22:33:19.006Z"
   },
   {
    "duration": 9,
    "start_time": "2023-08-14T22:33:19.014Z"
   },
   {
    "duration": 75,
    "start_time": "2023-08-14T22:33:19.025Z"
   },
   {
    "duration": 7,
    "start_time": "2023-08-14T22:33:19.101Z"
   },
   {
    "duration": 18,
    "start_time": "2023-08-14T22:33:19.109Z"
   },
   {
    "duration": 12,
    "start_time": "2023-08-14T22:33:19.128Z"
   },
   {
    "duration": 58,
    "start_time": "2023-08-14T22:33:19.142Z"
   },
   {
    "duration": 8,
    "start_time": "2023-08-14T22:33:19.202Z"
   },
   {
    "duration": 9,
    "start_time": "2023-08-14T22:33:19.211Z"
   },
   {
    "duration": 17,
    "start_time": "2023-08-14T22:33:19.222Z"
   },
   {
    "duration": 61,
    "start_time": "2023-08-14T22:33:19.241Z"
   },
   {
    "duration": 23,
    "start_time": "2023-08-14T22:33:19.304Z"
   },
   {
    "duration": 63,
    "start_time": "2023-08-14T22:33:19.328Z"
   },
   {
    "duration": 16,
    "start_time": "2023-08-14T22:33:19.393Z"
   },
   {
    "duration": 15,
    "start_time": "2023-08-14T22:33:19.411Z"
   },
   {
    "duration": 4,
    "start_time": "2023-08-14T22:33:19.428Z"
   },
   {
    "duration": 157,
    "start_time": "2023-08-14T22:33:19.437Z"
   },
   {
    "duration": 10,
    "start_time": "2023-08-14T22:33:19.596Z"
   },
   {
    "duration": 8,
    "start_time": "2023-08-14T22:33:19.608Z"
   },
   {
    "duration": 16,
    "start_time": "2023-08-14T22:33:19.618Z"
   },
   {
    "duration": 23,
    "start_time": "2023-08-14T22:33:19.636Z"
   },
   {
    "duration": 10,
    "start_time": "2023-08-14T22:33:19.661Z"
   },
   {
    "duration": 8,
    "start_time": "2023-08-14T22:33:19.672Z"
   },
   {
    "duration": 36,
    "start_time": "2023-08-14T22:33:19.681Z"
   },
   {
    "duration": 14,
    "start_time": "2023-08-14T22:33:19.718Z"
   },
   {
    "duration": 13,
    "start_time": "2023-08-14T22:33:19.734Z"
   },
   {
    "duration": 38,
    "start_time": "2023-08-14T22:33:19.748Z"
   },
   {
    "duration": 9,
    "start_time": "2023-08-14T22:33:19.788Z"
   },
   {
    "duration": 15,
    "start_time": "2023-08-14T22:33:19.798Z"
   },
   {
    "duration": 21,
    "start_time": "2023-08-14T22:33:19.814Z"
   },
   {
    "duration": 7,
    "start_time": "2023-08-14T22:44:45.774Z"
   },
   {
    "duration": 6,
    "start_time": "2023-08-14T22:44:46.927Z"
   },
   {
    "duration": 18,
    "start_time": "2023-08-14T22:46:48.351Z"
   },
   {
    "duration": 22,
    "start_time": "2023-08-14T22:47:04.553Z"
   },
   {
    "duration": 17,
    "start_time": "2023-08-14T22:47:45.393Z"
   },
   {
    "duration": 17,
    "start_time": "2023-08-14T22:48:07.658Z"
   },
   {
    "duration": 12,
    "start_time": "2023-08-14T22:48:11.473Z"
   },
   {
    "duration": 18,
    "start_time": "2023-08-14T22:49:30.698Z"
   },
   {
    "duration": 11,
    "start_time": "2023-08-14T22:49:58.123Z"
   },
   {
    "duration": 2487,
    "start_time": "2023-08-14T23:03:45.239Z"
   },
   {
    "duration": 3,
    "start_time": "2023-08-14T23:03:47.728Z"
   },
   {
    "duration": 231,
    "start_time": "2023-08-14T23:03:47.732Z"
   },
   {
    "duration": 13,
    "start_time": "2023-08-14T23:03:47.965Z"
   },
   {
    "duration": 30,
    "start_time": "2023-08-14T23:03:47.979Z"
   },
   {
    "duration": 13,
    "start_time": "2023-08-14T23:03:48.011Z"
   },
   {
    "duration": 45,
    "start_time": "2023-08-14T23:03:48.025Z"
   },
   {
    "duration": 39,
    "start_time": "2023-08-14T23:03:48.071Z"
   },
   {
    "duration": 17,
    "start_time": "2023-08-14T23:03:48.112Z"
   },
   {
    "duration": 28,
    "start_time": "2023-08-14T23:03:48.131Z"
   },
   {
    "duration": 20,
    "start_time": "2023-08-14T23:03:48.160Z"
   },
   {
    "duration": 104,
    "start_time": "2023-08-14T23:03:48.182Z"
   },
   {
    "duration": 55,
    "start_time": "2023-08-14T23:03:48.287Z"
   },
   {
    "duration": 6,
    "start_time": "2023-08-14T23:03:48.344Z"
   },
   {
    "duration": 5,
    "start_time": "2023-08-14T23:03:48.352Z"
   },
   {
    "duration": 7,
    "start_time": "2023-08-14T23:03:48.358Z"
   },
   {
    "duration": 5,
    "start_time": "2023-08-14T23:03:48.367Z"
   },
   {
    "duration": 13,
    "start_time": "2023-08-14T23:03:48.374Z"
   },
   {
    "duration": 7,
    "start_time": "2023-08-14T23:03:48.400Z"
   },
   {
    "duration": 8,
    "start_time": "2023-08-14T23:03:48.409Z"
   },
   {
    "duration": 6,
    "start_time": "2023-08-14T23:03:48.419Z"
   },
   {
    "duration": 9,
    "start_time": "2023-08-14T23:03:48.426Z"
   },
   {
    "duration": 3,
    "start_time": "2023-08-14T23:03:48.436Z"
   },
   {
    "duration": 8,
    "start_time": "2023-08-14T23:03:48.441Z"
   },
   {
    "duration": 15,
    "start_time": "2023-08-14T23:03:48.451Z"
   },
   {
    "duration": 54,
    "start_time": "2023-08-14T23:03:48.467Z"
   },
   {
    "duration": 15,
    "start_time": "2023-08-14T23:03:48.523Z"
   },
   {
    "duration": 11,
    "start_time": "2023-08-14T23:03:48.542Z"
   },
   {
    "duration": 4,
    "start_time": "2023-08-14T23:03:48.555Z"
   },
   {
    "duration": 145,
    "start_time": "2023-08-14T23:03:48.560Z"
   },
   {
    "duration": 9,
    "start_time": "2023-08-14T23:03:48.706Z"
   },
   {
    "duration": 9,
    "start_time": "2023-08-14T23:03:48.716Z"
   },
   {
    "duration": 12,
    "start_time": "2023-08-14T23:03:48.727Z"
   },
   {
    "duration": 5,
    "start_time": "2023-08-14T23:03:48.740Z"
   },
   {
    "duration": 12,
    "start_time": "2023-08-14T23:03:48.746Z"
   },
   {
    "duration": 5,
    "start_time": "2023-08-14T23:03:48.759Z"
   },
   {
    "duration": 36,
    "start_time": "2023-08-14T23:03:48.765Z"
   },
   {
    "duration": 9,
    "start_time": "2023-08-14T23:03:48.803Z"
   },
   {
    "duration": 8,
    "start_time": "2023-08-14T23:03:48.814Z"
   },
   {
    "duration": 44,
    "start_time": "2023-08-14T23:03:48.823Z"
   },
   {
    "duration": 30,
    "start_time": "2023-08-14T23:03:48.869Z"
   },
   {
    "duration": 12,
    "start_time": "2023-08-14T23:03:48.901Z"
   },
   {
    "duration": 8,
    "start_time": "2023-08-14T23:03:48.915Z"
   },
   {
    "duration": 166,
    "start_time": "2023-08-14T23:08:09.895Z"
   },
   {
    "duration": 6,
    "start_time": "2023-08-14T23:08:11.662Z"
   },
   {
    "duration": 16620,
    "start_time": "2023-08-15T17:49:44.299Z"
   },
   {
    "duration": 2334,
    "start_time": "2023-08-15T17:50:00.922Z"
   },
   {
    "duration": 684,
    "start_time": "2023-08-15T17:50:03.258Z"
   },
   {
    "duration": 23,
    "start_time": "2023-08-15T17:50:03.945Z"
   },
   {
    "duration": 74,
    "start_time": "2023-08-15T17:50:03.970Z"
   },
   {
    "duration": 39,
    "start_time": "2023-08-15T17:50:04.047Z"
   },
   {
    "duration": 42,
    "start_time": "2023-08-15T17:50:04.088Z"
   },
   {
    "duration": 19,
    "start_time": "2023-08-15T17:50:04.132Z"
   },
   {
    "duration": 21,
    "start_time": "2023-08-15T17:50:04.154Z"
   },
   {
    "duration": 32,
    "start_time": "2023-08-15T17:50:04.178Z"
   },
   {
    "duration": 62,
    "start_time": "2023-08-15T17:50:04.212Z"
   },
   {
    "duration": 225,
    "start_time": "2023-08-15T17:50:04.276Z"
   },
   {
    "duration": 4,
    "start_time": "2023-08-15T17:50:04.503Z"
   },
   {
    "duration": 31,
    "start_time": "2023-08-15T17:50:04.509Z"
   },
   {
    "duration": 70,
    "start_time": "2023-08-15T17:50:04.542Z"
   },
   {
    "duration": 26,
    "start_time": "2023-08-15T17:50:04.614Z"
   },
   {
    "duration": 26,
    "start_time": "2023-08-15T17:50:04.642Z"
   },
   {
    "duration": 5,
    "start_time": "2023-08-15T17:50:04.670Z"
   },
   {
    "duration": 187,
    "start_time": "2023-08-15T17:50:04.677Z"
   },
   {
    "duration": 9,
    "start_time": "2023-08-15T17:50:04.866Z"
   },
   {
    "duration": 25,
    "start_time": "2023-08-15T17:50:04.877Z"
   },
   {
    "duration": 40,
    "start_time": "2023-08-15T17:50:04.905Z"
   },
   {
    "duration": 12,
    "start_time": "2023-08-15T17:50:04.947Z"
   },
   {
    "duration": 21,
    "start_time": "2023-08-15T17:50:04.961Z"
   },
   {
    "duration": 7,
    "start_time": "2023-08-15T17:50:04.984Z"
   },
   {
    "duration": 23,
    "start_time": "2023-08-15T17:50:04.993Z"
   },
   {
    "duration": 26,
    "start_time": "2023-08-15T17:50:05.018Z"
   },
   {
    "duration": 28,
    "start_time": "2023-08-15T17:50:05.048Z"
   },
   {
    "duration": 49,
    "start_time": "2023-08-15T17:50:05.078Z"
   },
   {
    "duration": 14,
    "start_time": "2023-08-15T17:50:05.129Z"
   },
   {
    "duration": 28,
    "start_time": "2023-08-15T17:50:05.145Z"
   },
   {
    "duration": 29,
    "start_time": "2023-08-15T17:50:05.175Z"
   },
   {
    "duration": 73,
    "start_time": "2023-08-15T17:50:32.392Z"
   },
   {
    "duration": 14,
    "start_time": "2023-08-15T17:50:34.975Z"
   },
   {
    "duration": 9,
    "start_time": "2023-08-15T17:50:36.207Z"
   },
   {
    "duration": 2828,
    "start_time": "2023-08-15T17:50:44.482Z"
   },
   {
    "duration": 4,
    "start_time": "2023-08-15T17:50:47.312Z"
   },
   {
    "duration": 284,
    "start_time": "2023-08-15T17:50:47.318Z"
   },
   {
    "duration": 19,
    "start_time": "2023-08-15T17:50:47.604Z"
   },
   {
    "duration": 63,
    "start_time": "2023-08-15T17:50:47.625Z"
   },
   {
    "duration": 16,
    "start_time": "2023-08-15T17:50:47.691Z"
   },
   {
    "duration": 39,
    "start_time": "2023-08-15T17:50:47.709Z"
   },
   {
    "duration": 3,
    "start_time": "2023-08-15T17:50:47.750Z"
   },
   {
    "duration": 13,
    "start_time": "2023-08-15T17:50:47.755Z"
   },
   {
    "duration": 21,
    "start_time": "2023-08-15T17:50:47.770Z"
   },
   {
    "duration": 18,
    "start_time": "2023-08-15T17:50:47.793Z"
   },
   {
    "duration": 203,
    "start_time": "2023-08-15T17:50:47.813Z"
   },
   {
    "duration": 8,
    "start_time": "2023-08-15T17:50:48.018Z"
   },
   {
    "duration": 32,
    "start_time": "2023-08-15T17:50:48.027Z"
   },
   {
    "duration": 53,
    "start_time": "2023-08-15T17:50:48.061Z"
   },
   {
    "duration": 19,
    "start_time": "2023-08-15T17:50:48.116Z"
   },
   {
    "duration": 23,
    "start_time": "2023-08-15T17:50:48.137Z"
   },
   {
    "duration": 19,
    "start_time": "2023-08-15T17:50:48.162Z"
   },
   {
    "duration": 150,
    "start_time": "2023-08-15T17:50:48.183Z"
   },
   {
    "duration": 9,
    "start_time": "2023-08-15T17:50:48.335Z"
   },
   {
    "duration": 17,
    "start_time": "2023-08-15T17:50:48.346Z"
   },
   {
    "duration": 28,
    "start_time": "2023-08-15T17:50:48.365Z"
   },
   {
    "duration": 17,
    "start_time": "2023-08-15T17:50:48.395Z"
   },
   {
    "duration": 23,
    "start_time": "2023-08-15T17:50:48.415Z"
   },
   {
    "duration": 24,
    "start_time": "2023-08-15T17:50:48.440Z"
   },
   {
    "duration": 47,
    "start_time": "2023-08-15T17:50:48.466Z"
   },
   {
    "duration": 41,
    "start_time": "2023-08-15T17:50:48.515Z"
   },
   {
    "duration": 16,
    "start_time": "2023-08-15T17:50:48.561Z"
   },
   {
    "duration": 71,
    "start_time": "2023-08-15T17:50:48.580Z"
   },
   {
    "duration": 16,
    "start_time": "2023-08-15T17:50:48.654Z"
   },
   {
    "duration": 28,
    "start_time": "2023-08-15T17:50:48.673Z"
   },
   {
    "duration": 24,
    "start_time": "2023-08-15T17:50:48.703Z"
   },
   {
    "duration": 9,
    "start_time": "2023-08-15T18:20:49.585Z"
   },
   {
    "duration": 12,
    "start_time": "2023-08-15T18:21:02.787Z"
   },
   {
    "duration": 2815,
    "start_time": "2023-08-15T18:22:00.270Z"
   },
   {
    "duration": 4,
    "start_time": "2023-08-15T18:22:03.089Z"
   },
   {
    "duration": 548,
    "start_time": "2023-08-15T18:22:03.095Z"
   },
   {
    "duration": 19,
    "start_time": "2023-08-15T18:22:03.646Z"
   },
   {
    "duration": 53,
    "start_time": "2023-08-15T18:22:03.667Z"
   },
   {
    "duration": 19,
    "start_time": "2023-08-15T18:22:03.722Z"
   },
   {
    "duration": 73,
    "start_time": "2023-08-15T18:22:03.743Z"
   },
   {
    "duration": 5,
    "start_time": "2023-08-15T18:22:03.818Z"
   },
   {
    "duration": 30,
    "start_time": "2023-08-15T18:22:03.825Z"
   },
   {
    "duration": 44,
    "start_time": "2023-08-15T18:22:03.859Z"
   },
   {
    "duration": 26,
    "start_time": "2023-08-15T18:22:03.904Z"
   },
   {
    "duration": 198,
    "start_time": "2023-08-15T18:22:03.932Z"
   },
   {
    "duration": 6,
    "start_time": "2023-08-15T18:22:04.132Z"
   },
   {
    "duration": 38,
    "start_time": "2023-08-15T18:22:04.140Z"
   },
   {
    "duration": 55,
    "start_time": "2023-08-15T18:22:04.180Z"
   },
   {
    "duration": 20,
    "start_time": "2023-08-15T18:22:04.237Z"
   },
   {
    "duration": 19,
    "start_time": "2023-08-15T18:22:04.259Z"
   },
   {
    "duration": 12,
    "start_time": "2023-08-15T18:22:04.280Z"
   },
   {
    "duration": 160,
    "start_time": "2023-08-15T18:22:04.294Z"
   },
   {
    "duration": 9,
    "start_time": "2023-08-15T18:22:04.458Z"
   },
   {
    "duration": 19,
    "start_time": "2023-08-15T18:22:04.469Z"
   },
   {
    "duration": 21,
    "start_time": "2023-08-15T18:22:04.490Z"
   },
   {
    "duration": 30,
    "start_time": "2023-08-15T18:22:04.513Z"
   },
   {
    "duration": 25,
    "start_time": "2023-08-15T18:22:04.545Z"
   },
   {
    "duration": 21,
    "start_time": "2023-08-15T18:22:04.572Z"
   },
   {
    "duration": 29,
    "start_time": "2023-08-15T18:22:04.595Z"
   },
   {
    "duration": 21,
    "start_time": "2023-08-15T18:22:04.626Z"
   },
   {
    "duration": 15,
    "start_time": "2023-08-15T18:22:04.650Z"
   },
   {
    "duration": 22,
    "start_time": "2023-08-15T18:22:04.667Z"
   },
   {
    "duration": 48,
    "start_time": "2023-08-15T18:22:04.691Z"
   },
   {
    "duration": 4,
    "start_time": "2023-08-15T18:22:04.741Z"
   },
   {
    "duration": 2844,
    "start_time": "2023-08-15T18:22:21.797Z"
   },
   {
    "duration": 4,
    "start_time": "2023-08-15T18:22:24.643Z"
   },
   {
    "duration": 253,
    "start_time": "2023-08-15T18:22:24.650Z"
   },
   {
    "duration": 18,
    "start_time": "2023-08-15T18:22:24.905Z"
   },
   {
    "duration": 35,
    "start_time": "2023-08-15T18:22:24.926Z"
   },
   {
    "duration": 16,
    "start_time": "2023-08-15T18:22:24.963Z"
   },
   {
    "duration": 33,
    "start_time": "2023-08-15T18:22:24.982Z"
   },
   {
    "duration": 9,
    "start_time": "2023-08-15T18:22:25.018Z"
   },
   {
    "duration": 21,
    "start_time": "2023-08-15T18:22:25.029Z"
   },
   {
    "duration": 27,
    "start_time": "2023-08-15T18:22:25.054Z"
   },
   {
    "duration": 40,
    "start_time": "2023-08-15T18:22:25.083Z"
   },
   {
    "duration": 192,
    "start_time": "2023-08-15T18:22:25.125Z"
   },
   {
    "duration": 6,
    "start_time": "2023-08-15T18:22:25.320Z"
   },
   {
    "duration": 43,
    "start_time": "2023-08-15T18:22:25.329Z"
   },
   {
    "duration": 84,
    "start_time": "2023-08-15T18:22:25.375Z"
   },
   {
    "duration": 18,
    "start_time": "2023-08-15T18:22:25.461Z"
   },
   {
    "duration": 14,
    "start_time": "2023-08-15T18:22:25.481Z"
   },
   {
    "duration": 12,
    "start_time": "2023-08-15T18:22:25.497Z"
   },
   {
    "duration": 172,
    "start_time": "2023-08-15T18:22:25.511Z"
   },
   {
    "duration": 11,
    "start_time": "2023-08-15T18:22:25.685Z"
   },
   {
    "duration": 31,
    "start_time": "2023-08-15T18:22:25.698Z"
   },
   {
    "duration": 15,
    "start_time": "2023-08-15T18:22:25.731Z"
   },
   {
    "duration": 23,
    "start_time": "2023-08-15T18:22:25.748Z"
   },
   {
    "duration": 31,
    "start_time": "2023-08-15T18:22:25.774Z"
   },
   {
    "duration": 11,
    "start_time": "2023-08-15T18:22:25.807Z"
   },
   {
    "duration": 21,
    "start_time": "2023-08-15T18:22:25.820Z"
   },
   {
    "duration": 27,
    "start_time": "2023-08-15T18:22:25.843Z"
   },
   {
    "duration": 10,
    "start_time": "2023-08-15T18:22:25.874Z"
   },
   {
    "duration": 25,
    "start_time": "2023-08-15T18:22:25.886Z"
   },
   {
    "duration": 50,
    "start_time": "2023-08-15T18:22:25.913Z"
   },
   {
    "duration": 4,
    "start_time": "2023-08-15T18:22:25.965Z"
   },
   {
    "duration": 2991,
    "start_time": "2023-08-15T18:23:11.325Z"
   },
   {
    "duration": 5,
    "start_time": "2023-08-15T18:23:14.319Z"
   },
   {
    "duration": 349,
    "start_time": "2023-08-15T18:23:14.327Z"
   },
   {
    "duration": 20,
    "start_time": "2023-08-15T18:23:14.679Z"
   },
   {
    "duration": 38,
    "start_time": "2023-08-15T18:23:14.702Z"
   },
   {
    "duration": 29,
    "start_time": "2023-08-15T18:23:14.742Z"
   },
   {
    "duration": 32,
    "start_time": "2023-08-15T18:23:14.773Z"
   },
   {
    "duration": 3,
    "start_time": "2023-08-15T18:23:14.807Z"
   },
   {
    "duration": 10,
    "start_time": "2023-08-15T18:23:14.812Z"
   },
   {
    "duration": 18,
    "start_time": "2023-08-15T18:23:14.825Z"
   },
   {
    "duration": 24,
    "start_time": "2023-08-15T18:23:14.845Z"
   },
   {
    "duration": 212,
    "start_time": "2023-08-15T18:23:14.872Z"
   },
   {
    "duration": 8,
    "start_time": "2023-08-15T18:23:15.086Z"
   },
   {
    "duration": 26,
    "start_time": "2023-08-15T18:23:15.096Z"
   },
   {
    "duration": 62,
    "start_time": "2023-08-15T18:23:15.124Z"
   },
   {
    "duration": 21,
    "start_time": "2023-08-15T18:23:15.188Z"
   },
   {
    "duration": 15,
    "start_time": "2023-08-15T18:23:15.211Z"
   },
   {
    "duration": 31,
    "start_time": "2023-08-15T18:23:15.228Z"
   },
   {
    "duration": 177,
    "start_time": "2023-08-15T18:23:15.261Z"
   },
   {
    "duration": 20,
    "start_time": "2023-08-15T18:23:15.440Z"
   },
   {
    "duration": 5,
    "start_time": "2023-08-15T18:23:15.462Z"
   },
   {
    "duration": 22,
    "start_time": "2023-08-15T18:23:15.469Z"
   },
   {
    "duration": 13,
    "start_time": "2023-08-15T18:23:15.494Z"
   },
   {
    "duration": 14,
    "start_time": "2023-08-15T18:23:15.509Z"
   },
   {
    "duration": 6,
    "start_time": "2023-08-15T18:23:15.525Z"
   },
   {
    "duration": 14,
    "start_time": "2023-08-15T18:23:15.558Z"
   },
   {
    "duration": 16,
    "start_time": "2023-08-15T18:23:15.574Z"
   },
   {
    "duration": 9,
    "start_time": "2023-08-15T18:23:15.593Z"
   },
   {
    "duration": 25,
    "start_time": "2023-08-15T18:23:15.604Z"
   },
   {
    "duration": 67,
    "start_time": "2023-08-15T18:23:15.631Z"
   },
   {
    "duration": 10,
    "start_time": "2023-08-15T18:23:15.701Z"
   },
   {
    "duration": 3068,
    "start_time": "2023-08-15T18:24:24.503Z"
   },
   {
    "duration": 7,
    "start_time": "2023-08-15T18:24:27.574Z"
   },
   {
    "duration": 380,
    "start_time": "2023-08-15T18:24:27.584Z"
   },
   {
    "duration": 19,
    "start_time": "2023-08-15T18:24:27.969Z"
   },
   {
    "duration": 46,
    "start_time": "2023-08-15T18:24:27.991Z"
   },
   {
    "duration": 184,
    "start_time": "2023-08-15T18:24:28.039Z"
   },
   {
    "duration": 42,
    "start_time": "2023-08-15T18:24:28.226Z"
   },
   {
    "duration": 15,
    "start_time": "2023-08-15T18:24:28.270Z"
   },
   {
    "duration": 53,
    "start_time": "2023-08-15T18:24:28.288Z"
   },
   {
    "duration": 40,
    "start_time": "2023-08-15T18:24:28.344Z"
   },
   {
    "duration": 57,
    "start_time": "2023-08-15T18:24:28.387Z"
   },
   {
    "duration": 283,
    "start_time": "2023-08-15T18:24:28.447Z"
   },
   {
    "duration": 8,
    "start_time": "2023-08-15T18:24:28.732Z"
   },
   {
    "duration": 29,
    "start_time": "2023-08-15T18:24:28.742Z"
   },
   {
    "duration": 45,
    "start_time": "2023-08-15T18:24:28.773Z"
   },
   {
    "duration": 48,
    "start_time": "2023-08-15T18:24:28.821Z"
   },
   {
    "duration": 20,
    "start_time": "2023-08-15T18:24:28.872Z"
   },
   {
    "duration": 14,
    "start_time": "2023-08-15T18:24:28.895Z"
   },
   {
    "duration": 194,
    "start_time": "2023-08-15T18:24:28.912Z"
   },
   {
    "duration": 11,
    "start_time": "2023-08-15T18:24:29.108Z"
   },
   {
    "duration": 6,
    "start_time": "2023-08-15T18:24:29.121Z"
   },
   {
    "duration": 31,
    "start_time": "2023-08-15T18:24:29.129Z"
   },
   {
    "duration": 7,
    "start_time": "2023-08-15T18:24:29.163Z"
   },
   {
    "duration": 12,
    "start_time": "2023-08-15T18:24:29.173Z"
   },
   {
    "duration": 8,
    "start_time": "2023-08-15T18:24:29.187Z"
   },
   {
    "duration": 26,
    "start_time": "2023-08-15T18:24:29.197Z"
   },
   {
    "duration": 39,
    "start_time": "2023-08-15T18:24:29.225Z"
   },
   {
    "duration": 9,
    "start_time": "2023-08-15T18:24:29.269Z"
   },
   {
    "duration": 11,
    "start_time": "2023-08-15T18:24:29.280Z"
   },
   {
    "duration": 91,
    "start_time": "2023-08-15T18:24:29.294Z"
   },
   {
    "duration": 6,
    "start_time": "2023-08-15T18:24:29.387Z"
   },
   {
    "duration": 233,
    "start_time": "2023-08-15T20:15:32.139Z"
   },
   {
    "duration": 2819,
    "start_time": "2023-08-15T20:15:39.666Z"
   },
   {
    "duration": 4,
    "start_time": "2023-08-15T20:15:42.487Z"
   },
   {
    "duration": 255,
    "start_time": "2023-08-15T20:15:42.492Z"
   },
   {
    "duration": 18,
    "start_time": "2023-08-15T20:15:42.750Z"
   },
   {
    "duration": 30,
    "start_time": "2023-08-15T20:15:42.770Z"
   },
   {
    "duration": 17,
    "start_time": "2023-08-15T20:15:42.802Z"
   },
   {
    "duration": 38,
    "start_time": "2023-08-15T20:15:42.821Z"
   },
   {
    "duration": 3,
    "start_time": "2023-08-15T20:15:42.862Z"
   },
   {
    "duration": 8,
    "start_time": "2023-08-15T20:15:42.867Z"
   },
   {
    "duration": 12,
    "start_time": "2023-08-15T20:15:42.878Z"
   },
   {
    "duration": 14,
    "start_time": "2023-08-15T20:15:42.892Z"
   },
   {
    "duration": 212,
    "start_time": "2023-08-15T20:15:42.909Z"
   },
   {
    "duration": 7,
    "start_time": "2023-08-15T20:15:43.123Z"
   },
   {
    "duration": 13,
    "start_time": "2023-08-15T20:15:43.132Z"
   },
   {
    "duration": 22,
    "start_time": "2023-08-15T20:15:43.147Z"
   },
   {
    "duration": 33,
    "start_time": "2023-08-15T20:15:43.171Z"
   },
   {
    "duration": 19,
    "start_time": "2023-08-15T20:15:43.206Z"
   },
   {
    "duration": 36,
    "start_time": "2023-08-15T20:15:43.227Z"
   },
   {
    "duration": 4,
    "start_time": "2023-08-15T20:15:43.265Z"
   },
   {
    "duration": 167,
    "start_time": "2023-08-15T20:15:43.271Z"
   },
   {
    "duration": 20,
    "start_time": "2023-08-15T20:15:43.440Z"
   },
   {
    "duration": 5,
    "start_time": "2023-08-15T20:15:43.461Z"
   },
   {
    "duration": 18,
    "start_time": "2023-08-15T20:15:43.467Z"
   },
   {
    "duration": 8,
    "start_time": "2023-08-15T20:15:43.487Z"
   },
   {
    "duration": 14,
    "start_time": "2023-08-15T20:15:43.496Z"
   },
   {
    "duration": 4,
    "start_time": "2023-08-15T20:15:43.512Z"
   },
   {
    "duration": 15,
    "start_time": "2023-08-15T20:15:43.518Z"
   },
   {
    "duration": 27,
    "start_time": "2023-08-15T20:15:43.535Z"
   },
   {
    "duration": 3,
    "start_time": "2023-08-15T20:15:43.564Z"
   },
   {
    "duration": 53,
    "start_time": "2023-08-15T20:15:43.568Z"
   },
   {
    "duration": 4,
    "start_time": "2023-08-15T20:15:43.623Z"
   },
   {
    "duration": 32,
    "start_time": "2023-08-15T20:15:43.628Z"
   },
   {
    "duration": 2973,
    "start_time": "2023-08-15T20:16:05.701Z"
   },
   {
    "duration": 3,
    "start_time": "2023-08-15T20:16:08.677Z"
   },
   {
    "duration": 282,
    "start_time": "2023-08-15T20:16:08.682Z"
   },
   {
    "duration": 19,
    "start_time": "2023-08-15T20:16:08.966Z"
   },
   {
    "duration": 32,
    "start_time": "2023-08-15T20:16:08.987Z"
   },
   {
    "duration": 18,
    "start_time": "2023-08-15T20:16:09.020Z"
   },
   {
    "duration": 25,
    "start_time": "2023-08-15T20:16:09.059Z"
   },
   {
    "duration": 3,
    "start_time": "2023-08-15T20:16:09.086Z"
   },
   {
    "duration": 7,
    "start_time": "2023-08-15T20:16:09.091Z"
   },
   {
    "duration": 10,
    "start_time": "2023-08-15T20:16:09.102Z"
   },
   {
    "duration": 23,
    "start_time": "2023-08-15T20:16:09.114Z"
   },
   {
    "duration": 199,
    "start_time": "2023-08-15T20:16:09.161Z"
   },
   {
    "duration": 7,
    "start_time": "2023-08-15T20:16:09.362Z"
   },
   {
    "duration": 11,
    "start_time": "2023-08-15T20:16:09.371Z"
   },
   {
    "duration": 21,
    "start_time": "2023-08-15T20:16:09.383Z"
   },
   {
    "duration": 59,
    "start_time": "2023-08-15T20:16:09.406Z"
   },
   {
    "duration": 23,
    "start_time": "2023-08-15T20:16:09.467Z"
   },
   {
    "duration": 16,
    "start_time": "2023-08-15T20:16:09.492Z"
   },
   {
    "duration": 5,
    "start_time": "2023-08-15T20:16:09.510Z"
   },
   {
    "duration": 196,
    "start_time": "2023-08-15T20:16:09.518Z"
   },
   {
    "duration": 11,
    "start_time": "2023-08-15T20:16:09.717Z"
   },
   {
    "duration": 7,
    "start_time": "2023-08-15T20:16:09.730Z"
   },
   {
    "duration": 27,
    "start_time": "2023-08-15T20:16:09.738Z"
   },
   {
    "duration": 5,
    "start_time": "2023-08-15T20:16:09.767Z"
   },
   {
    "duration": 12,
    "start_time": "2023-08-15T20:16:09.774Z"
   },
   {
    "duration": 5,
    "start_time": "2023-08-15T20:16:09.787Z"
   },
   {
    "duration": 18,
    "start_time": "2023-08-15T20:16:09.794Z"
   },
   {
    "duration": 45,
    "start_time": "2023-08-15T20:16:09.815Z"
   },
   {
    "duration": 3,
    "start_time": "2023-08-15T20:16:09.861Z"
   },
   {
    "duration": 63,
    "start_time": "2023-08-15T20:16:09.866Z"
   },
   {
    "duration": 5,
    "start_time": "2023-08-15T20:16:09.931Z"
   },
   {
    "duration": 6,
    "start_time": "2023-08-15T20:16:09.937Z"
   },
   {
    "duration": 2837,
    "start_time": "2023-08-15T20:24:50.563Z"
   },
   {
    "duration": 4,
    "start_time": "2023-08-15T20:24:53.403Z"
   },
   {
    "duration": 354,
    "start_time": "2023-08-15T20:24:53.409Z"
   },
   {
    "duration": 17,
    "start_time": "2023-08-15T20:24:53.766Z"
   },
   {
    "duration": 41,
    "start_time": "2023-08-15T20:24:53.785Z"
   },
   {
    "duration": 16,
    "start_time": "2023-08-15T20:24:53.828Z"
   },
   {
    "duration": 25,
    "start_time": "2023-08-15T20:24:53.862Z"
   },
   {
    "duration": 84,
    "start_time": "2023-08-15T20:24:53.889Z"
   },
   {
    "duration": 45,
    "start_time": "2023-08-15T20:24:53.975Z"
   },
   {
    "duration": 17,
    "start_time": "2023-08-15T20:24:54.024Z"
   },
   {
    "duration": 22,
    "start_time": "2023-08-15T20:24:54.044Z"
   },
   {
    "duration": 194,
    "start_time": "2023-08-15T20:24:54.069Z"
   },
   {
    "duration": 18,
    "start_time": "2023-08-15T20:24:54.264Z"
   },
   {
    "duration": 0,
    "start_time": "2023-08-15T20:24:54.284Z"
   },
   {
    "duration": 0,
    "start_time": "2023-08-15T20:24:54.286Z"
   },
   {
    "duration": 0,
    "start_time": "2023-08-15T20:24:54.287Z"
   },
   {
    "duration": 0,
    "start_time": "2023-08-15T20:24:54.288Z"
   },
   {
    "duration": 0,
    "start_time": "2023-08-15T20:24:54.289Z"
   },
   {
    "duration": 0,
    "start_time": "2023-08-15T20:24:54.290Z"
   },
   {
    "duration": 0,
    "start_time": "2023-08-15T20:24:54.291Z"
   },
   {
    "duration": 0,
    "start_time": "2023-08-15T20:24:54.292Z"
   },
   {
    "duration": 0,
    "start_time": "2023-08-15T20:24:54.294Z"
   },
   {
    "duration": 0,
    "start_time": "2023-08-15T20:24:54.294Z"
   },
   {
    "duration": 0,
    "start_time": "2023-08-15T20:24:54.296Z"
   },
   {
    "duration": 0,
    "start_time": "2023-08-15T20:24:54.296Z"
   },
   {
    "duration": 0,
    "start_time": "2023-08-15T20:24:54.298Z"
   },
   {
    "duration": 0,
    "start_time": "2023-08-15T20:24:54.299Z"
   },
   {
    "duration": 0,
    "start_time": "2023-08-15T20:24:54.300Z"
   },
   {
    "duration": 0,
    "start_time": "2023-08-15T20:24:54.301Z"
   },
   {
    "duration": 0,
    "start_time": "2023-08-15T20:24:54.302Z"
   },
   {
    "duration": 0,
    "start_time": "2023-08-15T20:24:54.303Z"
   },
   {
    "duration": 0,
    "start_time": "2023-08-15T20:24:54.304Z"
   },
   {
    "duration": 2785,
    "start_time": "2023-08-15T20:25:42.203Z"
   },
   {
    "duration": 3,
    "start_time": "2023-08-15T20:25:44.991Z"
   },
   {
    "duration": 348,
    "start_time": "2023-08-15T20:25:44.996Z"
   },
   {
    "duration": 21,
    "start_time": "2023-08-15T20:25:45.347Z"
   },
   {
    "duration": 42,
    "start_time": "2023-08-15T20:25:45.370Z"
   },
   {
    "duration": 19,
    "start_time": "2023-08-15T20:25:45.414Z"
   },
   {
    "duration": 38,
    "start_time": "2023-08-15T20:25:45.435Z"
   },
   {
    "duration": 8,
    "start_time": "2023-08-15T20:25:45.475Z"
   },
   {
    "duration": 9,
    "start_time": "2023-08-15T20:25:45.484Z"
   },
   {
    "duration": 14,
    "start_time": "2023-08-15T20:25:45.496Z"
   },
   {
    "duration": 19,
    "start_time": "2023-08-15T20:25:45.511Z"
   },
   {
    "duration": 197,
    "start_time": "2023-08-15T20:25:45.532Z"
   },
   {
    "duration": 18,
    "start_time": "2023-08-15T20:25:45.731Z"
   },
   {
    "duration": 0,
    "start_time": "2023-08-15T20:25:45.759Z"
   },
   {
    "duration": 0,
    "start_time": "2023-08-15T20:25:45.760Z"
   },
   {
    "duration": 0,
    "start_time": "2023-08-15T20:25:45.761Z"
   },
   {
    "duration": 0,
    "start_time": "2023-08-15T20:25:45.762Z"
   },
   {
    "duration": 0,
    "start_time": "2023-08-15T20:25:45.763Z"
   },
   {
    "duration": 0,
    "start_time": "2023-08-15T20:25:45.764Z"
   },
   {
    "duration": 0,
    "start_time": "2023-08-15T20:25:45.765Z"
   },
   {
    "duration": 0,
    "start_time": "2023-08-15T20:25:45.766Z"
   },
   {
    "duration": 0,
    "start_time": "2023-08-15T20:25:45.767Z"
   },
   {
    "duration": 0,
    "start_time": "2023-08-15T20:25:45.768Z"
   },
   {
    "duration": 0,
    "start_time": "2023-08-15T20:25:45.769Z"
   },
   {
    "duration": 0,
    "start_time": "2023-08-15T20:25:45.770Z"
   },
   {
    "duration": 0,
    "start_time": "2023-08-15T20:25:45.771Z"
   },
   {
    "duration": 0,
    "start_time": "2023-08-15T20:25:45.772Z"
   },
   {
    "duration": 0,
    "start_time": "2023-08-15T20:25:45.773Z"
   },
   {
    "duration": 0,
    "start_time": "2023-08-15T20:25:45.774Z"
   },
   {
    "duration": 0,
    "start_time": "2023-08-15T20:25:45.775Z"
   },
   {
    "duration": 0,
    "start_time": "2023-08-15T20:25:45.776Z"
   },
   {
    "duration": 0,
    "start_time": "2023-08-15T20:25:45.777Z"
   },
   {
    "duration": 2899,
    "start_time": "2023-08-15T20:26:13.747Z"
   },
   {
    "duration": 3,
    "start_time": "2023-08-15T20:26:16.649Z"
   },
   {
    "duration": 369,
    "start_time": "2023-08-15T20:26:16.655Z"
   },
   {
    "duration": 18,
    "start_time": "2023-08-15T20:26:17.027Z"
   },
   {
    "duration": 37,
    "start_time": "2023-08-15T20:26:17.047Z"
   },
   {
    "duration": 23,
    "start_time": "2023-08-15T20:26:17.087Z"
   },
   {
    "duration": 51,
    "start_time": "2023-08-15T20:26:17.113Z"
   },
   {
    "duration": 7,
    "start_time": "2023-08-15T20:26:17.167Z"
   },
   {
    "duration": 19,
    "start_time": "2023-08-15T20:26:17.176Z"
   },
   {
    "duration": 23,
    "start_time": "2023-08-15T20:26:17.199Z"
   },
   {
    "duration": 38,
    "start_time": "2023-08-15T20:26:17.223Z"
   },
   {
    "duration": 215,
    "start_time": "2023-08-15T20:26:17.263Z"
   },
   {
    "duration": 47,
    "start_time": "2023-08-15T20:26:17.480Z"
   },
   {
    "duration": 0,
    "start_time": "2023-08-15T20:26:17.529Z"
   },
   {
    "duration": 0,
    "start_time": "2023-08-15T20:26:17.530Z"
   },
   {
    "duration": 0,
    "start_time": "2023-08-15T20:26:17.531Z"
   },
   {
    "duration": 0,
    "start_time": "2023-08-15T20:26:17.533Z"
   },
   {
    "duration": 0,
    "start_time": "2023-08-15T20:26:17.536Z"
   },
   {
    "duration": 0,
    "start_time": "2023-08-15T20:26:17.560Z"
   },
   {
    "duration": 0,
    "start_time": "2023-08-15T20:26:17.561Z"
   },
   {
    "duration": 0,
    "start_time": "2023-08-15T20:26:17.562Z"
   },
   {
    "duration": 0,
    "start_time": "2023-08-15T20:26:17.563Z"
   },
   {
    "duration": 0,
    "start_time": "2023-08-15T20:26:17.564Z"
   },
   {
    "duration": 0,
    "start_time": "2023-08-15T20:26:17.565Z"
   },
   {
    "duration": 0,
    "start_time": "2023-08-15T20:26:17.565Z"
   },
   {
    "duration": 0,
    "start_time": "2023-08-15T20:26:17.567Z"
   },
   {
    "duration": 0,
    "start_time": "2023-08-15T20:26:17.568Z"
   },
   {
    "duration": 0,
    "start_time": "2023-08-15T20:26:17.569Z"
   },
   {
    "duration": 0,
    "start_time": "2023-08-15T20:26:17.570Z"
   },
   {
    "duration": 0,
    "start_time": "2023-08-15T20:26:17.570Z"
   },
   {
    "duration": 0,
    "start_time": "2023-08-15T20:26:17.571Z"
   },
   {
    "duration": 0,
    "start_time": "2023-08-15T20:26:17.572Z"
   },
   {
    "duration": 37,
    "start_time": "2023-08-15T20:27:57.845Z"
   },
   {
    "duration": 2801,
    "start_time": "2023-08-15T20:28:20.526Z"
   },
   {
    "duration": 4,
    "start_time": "2023-08-15T20:28:23.331Z"
   },
   {
    "duration": 277,
    "start_time": "2023-08-15T20:28:23.337Z"
   },
   {
    "duration": 18,
    "start_time": "2023-08-15T20:28:23.616Z"
   },
   {
    "duration": 53,
    "start_time": "2023-08-15T20:28:23.637Z"
   },
   {
    "duration": 20,
    "start_time": "2023-08-15T20:28:23.693Z"
   },
   {
    "duration": 24,
    "start_time": "2023-08-15T20:28:23.715Z"
   },
   {
    "duration": 3,
    "start_time": "2023-08-15T20:28:23.759Z"
   },
   {
    "duration": 9,
    "start_time": "2023-08-15T20:28:23.764Z"
   },
   {
    "duration": 19,
    "start_time": "2023-08-15T20:28:23.776Z"
   },
   {
    "duration": 18,
    "start_time": "2023-08-15T20:28:23.797Z"
   },
   {
    "duration": 209,
    "start_time": "2023-08-15T20:28:23.816Z"
   },
   {
    "duration": 49,
    "start_time": "2023-08-15T20:28:24.026Z"
   },
   {
    "duration": 0,
    "start_time": "2023-08-15T20:28:24.077Z"
   },
   {
    "duration": 0,
    "start_time": "2023-08-15T20:28:24.078Z"
   },
   {
    "duration": 0,
    "start_time": "2023-08-15T20:28:24.080Z"
   },
   {
    "duration": 0,
    "start_time": "2023-08-15T20:28:24.081Z"
   },
   {
    "duration": 0,
    "start_time": "2023-08-15T20:28:24.081Z"
   },
   {
    "duration": 0,
    "start_time": "2023-08-15T20:28:24.085Z"
   },
   {
    "duration": 0,
    "start_time": "2023-08-15T20:28:24.086Z"
   },
   {
    "duration": 0,
    "start_time": "2023-08-15T20:28:24.087Z"
   },
   {
    "duration": 0,
    "start_time": "2023-08-15T20:28:24.088Z"
   },
   {
    "duration": 0,
    "start_time": "2023-08-15T20:28:24.089Z"
   },
   {
    "duration": 0,
    "start_time": "2023-08-15T20:28:24.090Z"
   },
   {
    "duration": 0,
    "start_time": "2023-08-15T20:28:24.091Z"
   },
   {
    "duration": 0,
    "start_time": "2023-08-15T20:28:24.091Z"
   },
   {
    "duration": 0,
    "start_time": "2023-08-15T20:28:24.092Z"
   },
   {
    "duration": 0,
    "start_time": "2023-08-15T20:28:24.093Z"
   },
   {
    "duration": 0,
    "start_time": "2023-08-15T20:28:24.094Z"
   },
   {
    "duration": 0,
    "start_time": "2023-08-15T20:28:24.095Z"
   },
   {
    "duration": 0,
    "start_time": "2023-08-15T20:28:24.097Z"
   },
   {
    "duration": 0,
    "start_time": "2023-08-15T20:28:24.098Z"
   },
   {
    "duration": 31,
    "start_time": "2023-08-15T20:32:12.800Z"
   },
   {
    "duration": 15209,
    "start_time": "2023-08-16T17:11:17.920Z"
   },
   {
    "duration": 1798,
    "start_time": "2023-08-16T17:11:33.131Z"
   },
   {
    "duration": 415,
    "start_time": "2023-08-16T17:11:34.930Z"
   },
   {
    "duration": 19,
    "start_time": "2023-08-16T17:11:35.346Z"
   },
   {
    "duration": 112,
    "start_time": "2023-08-16T17:11:35.368Z"
   },
   {
    "duration": 14,
    "start_time": "2023-08-16T17:11:35.482Z"
   },
   {
    "duration": 21,
    "start_time": "2023-08-16T17:11:35.498Z"
   },
   {
    "duration": 37119,
    "start_time": "2023-08-16T17:11:35.521Z"
   },
   {
    "duration": 34384,
    "start_time": "2023-08-16T17:12:12.642Z"
   },
   {
    "duration": 10,
    "start_time": "2023-08-16T17:12:47.028Z"
   },
   {
    "duration": 14,
    "start_time": "2023-08-16T17:12:47.039Z"
   },
   {
    "duration": 310,
    "start_time": "2023-08-16T17:12:47.055Z"
   },
   {
    "duration": 80,
    "start_time": "2023-08-16T17:12:47.367Z"
   },
   {
    "duration": 4,
    "start_time": "2023-08-16T17:12:47.450Z"
   },
   {
    "duration": 16,
    "start_time": "2023-08-16T17:12:47.455Z"
   },
   {
    "duration": 66,
    "start_time": "2023-08-16T17:12:47.472Z"
   },
   {
    "duration": 17,
    "start_time": "2023-08-16T17:12:47.539Z"
   },
   {
    "duration": 10,
    "start_time": "2023-08-16T17:12:47.558Z"
   },
   {
    "duration": 6,
    "start_time": "2023-08-16T17:12:47.570Z"
   },
   {
    "duration": 158,
    "start_time": "2023-08-16T17:12:47.578Z"
   },
   {
    "duration": 7,
    "start_time": "2023-08-16T17:12:47.738Z"
   },
   {
    "duration": 29,
    "start_time": "2023-08-16T17:12:47.746Z"
   },
   {
    "duration": 26,
    "start_time": "2023-08-16T17:12:47.776Z"
   },
   {
    "duration": 17,
    "start_time": "2023-08-16T17:12:47.803Z"
   },
   {
    "duration": 15,
    "start_time": "2023-08-16T17:12:47.822Z"
   },
   {
    "duration": 17,
    "start_time": "2023-08-16T17:12:47.839Z"
   },
   {
    "duration": 16,
    "start_time": "2023-08-16T17:12:47.857Z"
   },
   {
    "duration": 8,
    "start_time": "2023-08-16T17:12:47.875Z"
   },
   {
    "duration": 4,
    "start_time": "2023-08-16T17:12:47.885Z"
   },
   {
    "duration": 47,
    "start_time": "2023-08-16T17:12:47.890Z"
   },
   {
    "duration": 3,
    "start_time": "2023-08-16T17:12:47.939Z"
   },
   {
    "duration": 16,
    "start_time": "2023-08-16T17:12:47.944Z"
   },
   {
    "duration": 4,
    "start_time": "2023-08-16T17:53:33.295Z"
   },
   {
    "duration": 8,
    "start_time": "2023-08-16T17:53:52.657Z"
   },
   {
    "duration": 10,
    "start_time": "2023-08-16T18:13:31.078Z"
   },
   {
    "duration": 2661,
    "start_time": "2023-08-16T18:19:36.963Z"
   },
   {
    "duration": 3,
    "start_time": "2023-08-16T18:19:39.626Z"
   },
   {
    "duration": 245,
    "start_time": "2023-08-16T18:19:39.631Z"
   },
   {
    "duration": 15,
    "start_time": "2023-08-16T18:19:39.878Z"
   },
   {
    "duration": 29,
    "start_time": "2023-08-16T18:19:39.894Z"
   },
   {
    "duration": 33,
    "start_time": "2023-08-16T18:19:39.924Z"
   },
   {
    "duration": 33,
    "start_time": "2023-08-16T18:19:39.959Z"
   },
   {
    "duration": 3,
    "start_time": "2023-08-16T18:19:39.993Z"
   },
   {
    "duration": 37,
    "start_time": "2023-08-16T18:19:39.997Z"
   },
   {
    "duration": 24,
    "start_time": "2023-08-16T18:19:40.037Z"
   },
   {
    "duration": 12,
    "start_time": "2023-08-16T18:19:40.063Z"
   },
   {
    "duration": 175,
    "start_time": "2023-08-16T18:19:40.076Z"
   },
   {
    "duration": 24,
    "start_time": "2023-08-16T18:19:40.252Z"
   },
   {
    "duration": 10,
    "start_time": "2023-08-16T18:19:40.278Z"
   },
   {
    "duration": 37,
    "start_time": "2023-08-16T18:19:40.290Z"
   },
   {
    "duration": 32,
    "start_time": "2023-08-16T18:19:40.328Z"
   },
   {
    "duration": 13,
    "start_time": "2023-08-16T18:19:40.361Z"
   },
   {
    "duration": 15,
    "start_time": "2023-08-16T18:19:40.376Z"
   },
   {
    "duration": 9,
    "start_time": "2023-08-16T18:19:40.393Z"
   },
   {
    "duration": 151,
    "start_time": "2023-08-16T18:19:40.404Z"
   },
   {
    "duration": 11,
    "start_time": "2023-08-16T18:19:40.558Z"
   },
   {
    "duration": 5,
    "start_time": "2023-08-16T18:19:40.571Z"
   },
   {
    "duration": 14,
    "start_time": "2023-08-16T18:19:40.578Z"
   },
   {
    "duration": 4,
    "start_time": "2023-08-16T18:19:40.594Z"
   },
   {
    "duration": 15,
    "start_time": "2023-08-16T18:19:40.600Z"
   },
   {
    "duration": 35,
    "start_time": "2023-08-16T18:19:40.617Z"
   },
   {
    "duration": 18,
    "start_time": "2023-08-16T18:19:40.654Z"
   },
   {
    "duration": 11,
    "start_time": "2023-08-16T18:19:40.675Z"
   },
   {
    "duration": 2,
    "start_time": "2023-08-16T18:19:40.688Z"
   },
   {
    "duration": 60,
    "start_time": "2023-08-16T18:19:40.691Z"
   },
   {
    "duration": 4,
    "start_time": "2023-08-16T18:19:40.753Z"
   },
   {
    "duration": 23,
    "start_time": "2023-08-16T18:19:40.759Z"
   },
   {
    "duration": 9,
    "start_time": "2023-08-16T18:19:40.783Z"
   },
   {
    "duration": 12,
    "start_time": "2023-08-16T18:19:40.793Z"
   },
   {
    "duration": 5,
    "start_time": "2023-08-16T18:19:40.806Z"
   },
   {
    "duration": 30,
    "start_time": "2023-08-16T18:24:27.590Z"
   },
   {
    "duration": 43,
    "start_time": "2023-08-16T18:25:03.951Z"
   },
   {
    "duration": 47,
    "start_time": "2023-08-16T18:27:11.779Z"
   },
   {
    "duration": 49,
    "start_time": "2023-08-16T18:28:48.609Z"
   },
   {
    "duration": 50,
    "start_time": "2023-08-16T18:42:35.192Z"
   },
   {
    "duration": 10,
    "start_time": "2023-08-16T18:53:31.322Z"
   },
   {
    "duration": 52,
    "start_time": "2023-08-16T18:53:34.715Z"
   },
   {
    "duration": 2611,
    "start_time": "2023-08-16T19:16:31.743Z"
   },
   {
    "duration": 4,
    "start_time": "2023-08-16T19:16:34.357Z"
   },
   {
    "duration": 349,
    "start_time": "2023-08-16T19:16:34.362Z"
   },
   {
    "duration": 18,
    "start_time": "2023-08-16T19:16:34.713Z"
   },
   {
    "duration": 57,
    "start_time": "2023-08-16T19:16:34.737Z"
   },
   {
    "duration": 15,
    "start_time": "2023-08-16T19:16:34.796Z"
   },
   {
    "duration": 46,
    "start_time": "2023-08-16T19:16:34.813Z"
   },
   {
    "duration": 9,
    "start_time": "2023-08-16T19:16:34.861Z"
   },
   {
    "duration": 41,
    "start_time": "2023-08-16T19:16:34.872Z"
   },
   {
    "duration": 33,
    "start_time": "2023-08-16T19:16:34.915Z"
   },
   {
    "duration": 35,
    "start_time": "2023-08-16T19:16:34.949Z"
   },
   {
    "duration": 191,
    "start_time": "2023-08-16T19:16:34.986Z"
   },
   {
    "duration": 28,
    "start_time": "2023-08-16T19:16:35.179Z"
   },
   {
    "duration": 8,
    "start_time": "2023-08-16T19:16:35.210Z"
   },
   {
    "duration": 36,
    "start_time": "2023-08-16T19:16:35.219Z"
   },
   {
    "duration": 48,
    "start_time": "2023-08-16T19:16:35.257Z"
   },
   {
    "duration": 14,
    "start_time": "2023-08-16T19:16:35.307Z"
   },
   {
    "duration": 39,
    "start_time": "2023-08-16T19:16:35.322Z"
   },
   {
    "duration": 29,
    "start_time": "2023-08-16T19:16:35.363Z"
   },
   {
    "duration": 164,
    "start_time": "2023-08-16T19:16:35.394Z"
   },
   {
    "duration": 8,
    "start_time": "2023-08-16T19:16:35.559Z"
   },
   {
    "duration": 24,
    "start_time": "2023-08-16T19:16:35.569Z"
   },
   {
    "duration": 28,
    "start_time": "2023-08-16T19:16:35.594Z"
   },
   {
    "duration": 26,
    "start_time": "2023-08-16T19:16:35.623Z"
   },
   {
    "duration": 29,
    "start_time": "2023-08-16T19:16:35.651Z"
   },
   {
    "duration": 15,
    "start_time": "2023-08-16T19:16:35.681Z"
   },
   {
    "duration": 54,
    "start_time": "2023-08-16T19:16:35.698Z"
   },
   {
    "duration": 55,
    "start_time": "2023-08-16T19:16:35.753Z"
   },
   {
    "duration": 25,
    "start_time": "2023-08-16T19:16:35.810Z"
   },
   {
    "duration": 63,
    "start_time": "2023-08-16T19:16:35.836Z"
   },
   {
    "duration": 7,
    "start_time": "2023-08-16T19:16:35.901Z"
   },
   {
    "duration": 21,
    "start_time": "2023-08-16T19:16:35.909Z"
   },
   {
    "duration": 35,
    "start_time": "2023-08-16T19:16:35.931Z"
   },
   {
    "duration": 26,
    "start_time": "2023-08-16T19:16:35.967Z"
   },
   {
    "duration": 92,
    "start_time": "2023-08-16T19:16:35.994Z"
   },
   {
    "duration": 3,
    "start_time": "2023-08-16T19:16:36.088Z"
   },
   {
    "duration": 6,
    "start_time": "2023-08-16T21:14:12.105Z"
   },
   {
    "duration": 1469,
    "start_time": "2023-08-16T21:16:30.612Z"
   },
   {
    "duration": 1508,
    "start_time": "2023-08-16T21:17:17.379Z"
   },
   {
    "duration": 5,
    "start_time": "2023-08-16T21:18:26.813Z"
   },
   {
    "duration": 1406,
    "start_time": "2023-08-16T21:18:28.493Z"
   },
   {
    "duration": 5,
    "start_time": "2023-08-16T21:18:58.293Z"
   },
   {
    "duration": 33,
    "start_time": "2023-08-16T21:18:59.266Z"
   },
   {
    "duration": 2595,
    "start_time": "2023-08-16T21:21:00.555Z"
   },
   {
    "duration": 3,
    "start_time": "2023-08-16T21:21:03.153Z"
   },
   {
    "duration": 238,
    "start_time": "2023-08-16T21:21:03.157Z"
   },
   {
    "duration": 16,
    "start_time": "2023-08-16T21:21:03.397Z"
   },
   {
    "duration": 46,
    "start_time": "2023-08-16T21:21:03.414Z"
   },
   {
    "duration": 14,
    "start_time": "2023-08-16T21:21:03.461Z"
   },
   {
    "duration": 45,
    "start_time": "2023-08-16T21:21:03.477Z"
   },
   {
    "duration": 2,
    "start_time": "2023-08-16T21:21:03.524Z"
   },
   {
    "duration": 29,
    "start_time": "2023-08-16T21:21:03.534Z"
   },
   {
    "duration": 28,
    "start_time": "2023-08-16T21:21:03.566Z"
   },
   {
    "duration": 35,
    "start_time": "2023-08-16T21:21:03.595Z"
   },
   {
    "duration": 189,
    "start_time": "2023-08-16T21:21:03.632Z"
   },
   {
    "duration": 27,
    "start_time": "2023-08-16T21:21:03.823Z"
   },
   {
    "duration": 7,
    "start_time": "2023-08-16T21:21:03.853Z"
   },
   {
    "duration": 29,
    "start_time": "2023-08-16T21:21:03.862Z"
   },
   {
    "duration": 29,
    "start_time": "2023-08-16T21:21:03.893Z"
   },
   {
    "duration": 18,
    "start_time": "2023-08-16T21:21:03.935Z"
   },
   {
    "duration": 17,
    "start_time": "2023-08-16T21:21:03.955Z"
   },
   {
    "duration": 5,
    "start_time": "2023-08-16T21:21:03.974Z"
   },
   {
    "duration": 161,
    "start_time": "2023-08-16T21:21:03.980Z"
   },
   {
    "duration": 9,
    "start_time": "2023-08-16T21:21:04.143Z"
   },
   {
    "duration": 43,
    "start_time": "2023-08-16T21:21:04.154Z"
   },
   {
    "duration": 42,
    "start_time": "2023-08-16T21:21:04.198Z"
   },
   {
    "duration": 5,
    "start_time": "2023-08-16T21:21:04.241Z"
   },
   {
    "duration": 8,
    "start_time": "2023-08-16T21:21:04.248Z"
   },
   {
    "duration": 12,
    "start_time": "2023-08-16T21:21:04.258Z"
   },
   {
    "duration": 13,
    "start_time": "2023-08-16T21:21:04.272Z"
   },
   {
    "duration": 14,
    "start_time": "2023-08-16T21:21:04.289Z"
   },
   {
    "duration": 3,
    "start_time": "2023-08-16T21:21:04.305Z"
   },
   {
    "duration": 55,
    "start_time": "2023-08-16T21:21:04.309Z"
   },
   {
    "duration": 4,
    "start_time": "2023-08-16T21:21:04.365Z"
   },
   {
    "duration": 10,
    "start_time": "2023-08-16T21:21:04.370Z"
   },
   {
    "duration": 15,
    "start_time": "2023-08-16T21:21:04.382Z"
   },
   {
    "duration": 14,
    "start_time": "2023-08-16T21:21:04.399Z"
   },
   {
    "duration": 61,
    "start_time": "2023-08-16T21:21:04.415Z"
   },
   {
    "duration": 6,
    "start_time": "2023-08-16T21:21:04.478Z"
   },
   {
    "duration": 68,
    "start_time": "2023-08-16T21:21:04.486Z"
   },
   {
    "duration": 31,
    "start_time": "2023-08-16T21:22:04.274Z"
   },
   {
    "duration": 35,
    "start_time": "2023-08-16T21:22:21.296Z"
   },
   {
    "duration": 33,
    "start_time": "2023-08-16T21:22:38.483Z"
   },
   {
    "duration": 2526,
    "start_time": "2023-08-16T21:22:43.123Z"
   },
   {
    "duration": 3,
    "start_time": "2023-08-16T21:22:45.651Z"
   },
   {
    "duration": 298,
    "start_time": "2023-08-16T21:22:45.655Z"
   },
   {
    "duration": 15,
    "start_time": "2023-08-16T21:22:45.955Z"
   },
   {
    "duration": 29,
    "start_time": "2023-08-16T21:22:45.972Z"
   },
   {
    "duration": 32,
    "start_time": "2023-08-16T21:22:46.002Z"
   },
   {
    "duration": 22,
    "start_time": "2023-08-16T21:22:46.035Z"
   },
   {
    "duration": 2,
    "start_time": "2023-08-16T21:22:46.058Z"
   },
   {
    "duration": 15,
    "start_time": "2023-08-16T21:22:46.062Z"
   },
   {
    "duration": 7,
    "start_time": "2023-08-16T21:22:46.079Z"
   },
   {
    "duration": 13,
    "start_time": "2023-08-16T21:22:46.087Z"
   },
   {
    "duration": 192,
    "start_time": "2023-08-16T21:22:46.102Z"
   },
   {
    "duration": 24,
    "start_time": "2023-08-16T21:22:46.296Z"
   },
   {
    "duration": 15,
    "start_time": "2023-08-16T21:22:46.322Z"
   },
   {
    "duration": 14,
    "start_time": "2023-08-16T21:22:46.338Z"
   },
   {
    "duration": 28,
    "start_time": "2023-08-16T21:22:46.354Z"
   },
   {
    "duration": 28,
    "start_time": "2023-08-16T21:22:46.384Z"
   },
   {
    "duration": 20,
    "start_time": "2023-08-16T21:22:46.414Z"
   },
   {
    "duration": 4,
    "start_time": "2023-08-16T21:22:46.436Z"
   },
   {
    "duration": 176,
    "start_time": "2023-08-16T21:22:46.442Z"
   },
   {
    "duration": 8,
    "start_time": "2023-08-16T21:22:46.619Z"
   },
   {
    "duration": 10,
    "start_time": "2023-08-16T21:22:46.628Z"
   },
   {
    "duration": 8,
    "start_time": "2023-08-16T21:22:46.639Z"
   },
   {
    "duration": 4,
    "start_time": "2023-08-16T21:22:46.649Z"
   },
   {
    "duration": 14,
    "start_time": "2023-08-16T21:22:46.654Z"
   },
   {
    "duration": 4,
    "start_time": "2023-08-16T21:22:46.669Z"
   },
   {
    "duration": 13,
    "start_time": "2023-08-16T21:22:46.675Z"
   },
   {
    "duration": 9,
    "start_time": "2023-08-16T21:22:46.690Z"
   },
   {
    "duration": 3,
    "start_time": "2023-08-16T21:22:46.700Z"
   },
   {
    "duration": 65,
    "start_time": "2023-08-16T21:22:46.704Z"
   },
   {
    "duration": 24,
    "start_time": "2023-08-16T21:22:46.771Z"
   },
   {
    "duration": 26,
    "start_time": "2023-08-16T21:22:46.797Z"
   },
   {
    "duration": 33,
    "start_time": "2023-08-16T21:22:46.825Z"
   },
   {
    "duration": 43,
    "start_time": "2023-08-16T21:22:46.860Z"
   },
   {
    "duration": 46,
    "start_time": "2023-08-16T21:22:46.905Z"
   },
   {
    "duration": 7,
    "start_time": "2023-08-16T21:22:46.953Z"
   },
   {
    "duration": 14,
    "start_time": "2023-08-16T21:22:46.961Z"
   },
   {
    "duration": 6,
    "start_time": "2023-08-16T21:23:14.766Z"
   },
   {
    "duration": 49,
    "start_time": "2023-08-16T21:23:58.428Z"
   },
   {
    "duration": 5,
    "start_time": "2023-08-16T21:24:11.010Z"
   },
   {
    "duration": 42,
    "start_time": "2023-08-16T21:24:11.490Z"
   },
   {
    "duration": 5,
    "start_time": "2023-08-16T21:40:22.116Z"
   },
   {
    "duration": 32,
    "start_time": "2023-08-16T21:40:23.922Z"
   },
   {
    "duration": 13,
    "start_time": "2023-08-16T21:41:49.378Z"
   },
   {
    "duration": 4,
    "start_time": "2023-08-16T21:46:19.879Z"
   },
   {
    "duration": 44,
    "start_time": "2023-08-16T22:01:12.036Z"
   },
   {
    "duration": 40,
    "start_time": "2023-08-16T22:01:23.251Z"
   },
   {
    "duration": 2567,
    "start_time": "2023-08-16T22:01:37.614Z"
   },
   {
    "duration": 3,
    "start_time": "2023-08-16T22:01:40.184Z"
   },
   {
    "duration": 228,
    "start_time": "2023-08-16T22:01:40.188Z"
   },
   {
    "duration": 16,
    "start_time": "2023-08-16T22:01:40.418Z"
   },
   {
    "duration": 31,
    "start_time": "2023-08-16T22:01:40.436Z"
   },
   {
    "duration": 14,
    "start_time": "2023-08-16T22:01:40.469Z"
   },
   {
    "duration": 28,
    "start_time": "2023-08-16T22:01:40.485Z"
   },
   {
    "duration": 20,
    "start_time": "2023-08-16T22:01:40.515Z"
   },
   {
    "duration": 11,
    "start_time": "2023-08-16T22:01:40.537Z"
   },
   {
    "duration": 7,
    "start_time": "2023-08-16T22:01:40.551Z"
   },
   {
    "duration": 11,
    "start_time": "2023-08-16T22:01:40.560Z"
   },
   {
    "duration": 186,
    "start_time": "2023-08-16T22:01:40.573Z"
   },
   {
    "duration": 27,
    "start_time": "2023-08-16T22:01:40.760Z"
   },
   {
    "duration": 6,
    "start_time": "2023-08-16T22:01:40.789Z"
   },
   {
    "duration": 14,
    "start_time": "2023-08-16T22:01:40.797Z"
   },
   {
    "duration": 46,
    "start_time": "2023-08-16T22:01:40.813Z"
   },
   {
    "duration": 16,
    "start_time": "2023-08-16T22:01:40.860Z"
   },
   {
    "duration": 14,
    "start_time": "2023-08-16T22:01:40.878Z"
   },
   {
    "duration": 4,
    "start_time": "2023-08-16T22:01:40.894Z"
   },
   {
    "duration": 151,
    "start_time": "2023-08-16T22:01:40.900Z"
   },
   {
    "duration": 7,
    "start_time": "2023-08-16T22:01:41.053Z"
   },
   {
    "duration": 3,
    "start_time": "2023-08-16T22:01:41.062Z"
   },
   {
    "duration": 8,
    "start_time": "2023-08-16T22:01:41.067Z"
   },
   {
    "duration": 9,
    "start_time": "2023-08-16T22:01:41.077Z"
   },
   {
    "duration": 9,
    "start_time": "2023-08-16T22:01:41.088Z"
   },
   {
    "duration": 4,
    "start_time": "2023-08-16T22:01:41.098Z"
   },
   {
    "duration": 40,
    "start_time": "2023-08-16T22:01:41.103Z"
   },
   {
    "duration": 9,
    "start_time": "2023-08-16T22:01:41.146Z"
   },
   {
    "duration": 3,
    "start_time": "2023-08-16T22:01:41.156Z"
   },
   {
    "duration": 38,
    "start_time": "2023-08-16T22:01:41.160Z"
   },
   {
    "duration": 4,
    "start_time": "2023-08-16T22:01:41.200Z"
   },
   {
    "duration": 29,
    "start_time": "2023-08-16T22:01:41.205Z"
   },
   {
    "duration": 13,
    "start_time": "2023-08-16T22:01:41.236Z"
   },
   {
    "duration": 20,
    "start_time": "2023-08-16T22:01:41.251Z"
   },
   {
    "duration": 52,
    "start_time": "2023-08-16T22:01:41.272Z"
   },
   {
    "duration": 0,
    "start_time": "2023-08-16T22:01:41.326Z"
   },
   {
    "duration": 0,
    "start_time": "2023-08-16T22:01:41.327Z"
   },
   {
    "duration": 12,
    "start_time": "2023-08-16T22:02:57.564Z"
   },
   {
    "duration": 11,
    "start_time": "2023-08-16T22:03:05.156Z"
   },
   {
    "duration": 33,
    "start_time": "2023-08-16T22:03:54.437Z"
   },
   {
    "duration": 4,
    "start_time": "2023-08-16T22:04:51.917Z"
   },
   {
    "duration": 41,
    "start_time": "2023-08-16T22:04:52.771Z"
   },
   {
    "duration": 16453,
    "start_time": "2023-08-17T11:26:24.696Z"
   },
   {
    "duration": 2116,
    "start_time": "2023-08-17T11:26:41.151Z"
   },
   {
    "duration": 929,
    "start_time": "2023-08-17T11:26:43.269Z"
   },
   {
    "duration": 24,
    "start_time": "2023-08-17T11:26:44.200Z"
   },
   {
    "duration": 56,
    "start_time": "2023-08-17T11:26:44.226Z"
   },
   {
    "duration": 16,
    "start_time": "2023-08-17T11:26:44.284Z"
   },
   {
    "duration": 22,
    "start_time": "2023-08-17T11:26:44.302Z"
   },
   {
    "duration": 3,
    "start_time": "2023-08-17T11:26:44.326Z"
   },
   {
    "duration": 27,
    "start_time": "2023-08-17T11:26:44.330Z"
   },
   {
    "duration": 10,
    "start_time": "2023-08-17T11:26:44.359Z"
   },
   {
    "duration": 16,
    "start_time": "2023-08-17T11:26:44.372Z"
   },
   {
    "duration": 227,
    "start_time": "2023-08-17T11:26:44.390Z"
   },
   {
    "duration": 27,
    "start_time": "2023-08-17T11:26:44.619Z"
   },
   {
    "duration": 9,
    "start_time": "2023-08-17T11:26:44.660Z"
   },
   {
    "duration": 19,
    "start_time": "2023-08-17T11:26:44.671Z"
   },
   {
    "duration": 56,
    "start_time": "2023-08-17T11:26:44.692Z"
   },
   {
    "duration": 27,
    "start_time": "2023-08-17T11:26:44.749Z"
   },
   {
    "duration": 13,
    "start_time": "2023-08-17T11:26:44.778Z"
   },
   {
    "duration": 4,
    "start_time": "2023-08-17T11:26:44.792Z"
   },
   {
    "duration": 172,
    "start_time": "2023-08-17T11:26:44.798Z"
   },
   {
    "duration": 11,
    "start_time": "2023-08-17T11:26:44.973Z"
   },
   {
    "duration": 7,
    "start_time": "2023-08-17T11:26:44.986Z"
   },
   {
    "duration": 20,
    "start_time": "2023-08-17T11:26:44.994Z"
   },
   {
    "duration": 39,
    "start_time": "2023-08-17T11:26:45.016Z"
   },
   {
    "duration": 36,
    "start_time": "2023-08-17T11:26:45.057Z"
   },
   {
    "duration": 25,
    "start_time": "2023-08-17T11:26:45.095Z"
   },
   {
    "duration": 14,
    "start_time": "2023-08-17T11:26:45.122Z"
   },
   {
    "duration": 13,
    "start_time": "2023-08-17T11:26:45.137Z"
   },
   {
    "duration": 17,
    "start_time": "2023-08-17T11:26:45.152Z"
   },
   {
    "duration": 43,
    "start_time": "2023-08-17T11:26:45.172Z"
   },
   {
    "duration": 5,
    "start_time": "2023-08-17T11:26:45.217Z"
   },
   {
    "duration": 8,
    "start_time": "2023-08-17T11:26:45.223Z"
   },
   {
    "duration": 13,
    "start_time": "2023-08-17T11:26:45.233Z"
   },
   {
    "duration": 15,
    "start_time": "2023-08-17T11:26:45.256Z"
   },
   {
    "duration": 60,
    "start_time": "2023-08-17T11:26:45.273Z"
   },
   {
    "duration": 8,
    "start_time": "2023-08-17T11:26:45.360Z"
   },
   {
    "duration": 238,
    "start_time": "2023-08-17T11:26:45.371Z"
   },
   {
    "duration": 17214,
    "start_time": "2023-08-21T12:07:17.295Z"
   },
   {
    "duration": 2084,
    "start_time": "2023-08-21T12:07:34.511Z"
   },
   {
    "duration": 466,
    "start_time": "2023-08-21T12:07:36.597Z"
   },
   {
    "duration": 19,
    "start_time": "2023-08-21T12:07:37.065Z"
   },
   {
    "duration": 66,
    "start_time": "2023-08-21T12:07:37.086Z"
   },
   {
    "duration": 46,
    "start_time": "2023-08-21T12:07:37.154Z"
   },
   {
    "duration": 50,
    "start_time": "2023-08-21T12:07:37.201Z"
   },
   {
    "duration": 18,
    "start_time": "2023-08-21T12:07:37.253Z"
   },
   {
    "duration": 30,
    "start_time": "2023-08-21T12:07:37.273Z"
   },
   {
    "duration": 41,
    "start_time": "2023-08-21T12:07:37.307Z"
   },
   {
    "duration": 22,
    "start_time": "2023-08-21T12:07:37.350Z"
   },
   {
    "duration": 193,
    "start_time": "2023-08-21T12:07:37.373Z"
   },
   {
    "duration": 27,
    "start_time": "2023-08-21T12:07:37.568Z"
   },
   {
    "duration": 24,
    "start_time": "2023-08-21T12:07:37.597Z"
   },
   {
    "duration": 61,
    "start_time": "2023-08-21T12:07:37.622Z"
   },
   {
    "duration": 82,
    "start_time": "2023-08-21T12:07:37.685Z"
   },
   {
    "duration": 17,
    "start_time": "2023-08-21T12:07:37.768Z"
   },
   {
    "duration": 30,
    "start_time": "2023-08-21T12:07:37.787Z"
   },
   {
    "duration": 32,
    "start_time": "2023-08-21T12:07:37.819Z"
   },
   {
    "duration": 169,
    "start_time": "2023-08-21T12:07:37.853Z"
   },
   {
    "duration": 8,
    "start_time": "2023-08-21T12:07:38.024Z"
   },
   {
    "duration": 41,
    "start_time": "2023-08-21T12:07:38.034Z"
   },
   {
    "duration": 28,
    "start_time": "2023-08-21T12:07:38.077Z"
   },
   {
    "duration": 11,
    "start_time": "2023-08-21T12:07:38.107Z"
   },
   {
    "duration": 51,
    "start_time": "2023-08-21T12:07:38.120Z"
   },
   {
    "duration": 19,
    "start_time": "2023-08-21T12:07:38.173Z"
   },
   {
    "duration": 37,
    "start_time": "2023-08-21T12:07:38.194Z"
   },
   {
    "duration": 34,
    "start_time": "2023-08-21T12:07:38.234Z"
   },
   {
    "duration": 50,
    "start_time": "2023-08-21T12:07:38.270Z"
   },
   {
    "duration": 62,
    "start_time": "2023-08-21T12:07:38.322Z"
   },
   {
    "duration": 4,
    "start_time": "2023-08-21T12:07:38.386Z"
   },
   {
    "duration": 33,
    "start_time": "2023-08-21T12:07:38.392Z"
   },
   {
    "duration": 35,
    "start_time": "2023-08-21T12:07:38.427Z"
   },
   {
    "duration": 35,
    "start_time": "2023-08-21T12:07:38.463Z"
   },
   {
    "duration": 111,
    "start_time": "2023-08-21T12:07:38.499Z"
   },
   {
    "duration": 5,
    "start_time": "2023-08-21T12:07:38.612Z"
   },
   {
    "duration": 240,
    "start_time": "2023-08-21T12:07:38.618Z"
   },
   {
    "duration": 5,
    "start_time": "2023-08-21T12:18:57.707Z"
   },
   {
    "duration": 2868,
    "start_time": "2023-08-21T12:19:10.813Z"
   },
   {
    "duration": 4,
    "start_time": "2023-08-21T12:19:13.683Z"
   },
   {
    "duration": 315,
    "start_time": "2023-08-21T12:19:13.689Z"
   },
   {
    "duration": 17,
    "start_time": "2023-08-21T12:19:14.006Z"
   },
   {
    "duration": 56,
    "start_time": "2023-08-21T12:19:14.025Z"
   },
   {
    "duration": 31,
    "start_time": "2023-08-21T12:19:14.083Z"
   },
   {
    "duration": 59,
    "start_time": "2023-08-21T12:19:14.116Z"
   },
   {
    "duration": 31,
    "start_time": "2023-08-21T12:19:14.177Z"
   },
   {
    "duration": 39,
    "start_time": "2023-08-21T12:19:14.210Z"
   },
   {
    "duration": 57,
    "start_time": "2023-08-21T12:19:14.252Z"
   },
   {
    "duration": 48,
    "start_time": "2023-08-21T12:19:14.311Z"
   },
   {
    "duration": 223,
    "start_time": "2023-08-21T12:19:14.361Z"
   },
   {
    "duration": 34,
    "start_time": "2023-08-21T12:19:14.587Z"
   },
   {
    "duration": 37,
    "start_time": "2023-08-21T12:19:14.623Z"
   },
   {
    "duration": 46,
    "start_time": "2023-08-21T12:19:14.663Z"
   },
   {
    "duration": 59,
    "start_time": "2023-08-21T12:19:14.711Z"
   },
   {
    "duration": 31,
    "start_time": "2023-08-21T12:19:14.772Z"
   },
   {
    "duration": 42,
    "start_time": "2023-08-21T12:19:14.806Z"
   },
   {
    "duration": 21,
    "start_time": "2023-08-21T12:19:14.851Z"
   },
   {
    "duration": 209,
    "start_time": "2023-08-21T12:19:14.874Z"
   },
   {
    "duration": 12,
    "start_time": "2023-08-21T12:19:15.087Z"
   },
   {
    "duration": 39,
    "start_time": "2023-08-21T12:19:15.101Z"
   },
   {
    "duration": 29,
    "start_time": "2023-08-21T12:19:15.143Z"
   },
   {
    "duration": 16,
    "start_time": "2023-08-21T12:19:15.174Z"
   },
   {
    "duration": 22,
    "start_time": "2023-08-21T12:19:15.192Z"
   },
   {
    "duration": 21,
    "start_time": "2023-08-21T12:19:15.216Z"
   },
   {
    "duration": 18,
    "start_time": "2023-08-21T12:19:15.239Z"
   },
   {
    "duration": 23,
    "start_time": "2023-08-21T12:19:15.260Z"
   },
   {
    "duration": 13,
    "start_time": "2023-08-21T12:19:15.284Z"
   },
   {
    "duration": 60,
    "start_time": "2023-08-21T12:19:15.299Z"
   },
   {
    "duration": 8,
    "start_time": "2023-08-21T12:19:15.361Z"
   },
   {
    "duration": 36,
    "start_time": "2023-08-21T12:19:15.371Z"
   },
   {
    "duration": 21,
    "start_time": "2023-08-21T12:19:15.409Z"
   },
   {
    "duration": 43,
    "start_time": "2023-08-21T12:19:15.432Z"
   },
   {
    "duration": 75,
    "start_time": "2023-08-21T12:19:15.476Z"
   },
   {
    "duration": 6,
    "start_time": "2023-08-21T12:19:15.553Z"
   },
   {
    "duration": 133,
    "start_time": "2023-08-21T12:19:15.561Z"
   },
   {
    "duration": 5,
    "start_time": "2023-08-21T12:21:22.036Z"
   },
   {
    "duration": 1430,
    "start_time": "2023-08-21T12:21:23.151Z"
   },
   {
    "duration": 3161,
    "start_time": "2023-08-21T12:21:28.958Z"
   },
   {
    "duration": 3,
    "start_time": "2023-08-21T12:21:32.121Z"
   },
   {
    "duration": 301,
    "start_time": "2023-08-21T12:21:32.126Z"
   },
   {
    "duration": 21,
    "start_time": "2023-08-21T12:21:32.430Z"
   },
   {
    "duration": 51,
    "start_time": "2023-08-21T12:21:32.453Z"
   },
   {
    "duration": 17,
    "start_time": "2023-08-21T12:21:32.506Z"
   },
   {
    "duration": 38,
    "start_time": "2023-08-21T12:21:32.525Z"
   },
   {
    "duration": 3,
    "start_time": "2023-08-21T12:21:32.565Z"
   },
   {
    "duration": 55,
    "start_time": "2023-08-21T12:21:32.569Z"
   },
   {
    "duration": 75,
    "start_time": "2023-08-21T12:21:32.627Z"
   },
   {
    "duration": 89,
    "start_time": "2023-08-21T12:21:32.704Z"
   },
   {
    "duration": 216,
    "start_time": "2023-08-21T12:21:32.795Z"
   },
   {
    "duration": 27,
    "start_time": "2023-08-21T12:21:33.013Z"
   },
   {
    "duration": 17,
    "start_time": "2023-08-21T12:21:33.042Z"
   },
   {
    "duration": 46,
    "start_time": "2023-08-21T12:21:33.060Z"
   },
   {
    "duration": 51,
    "start_time": "2023-08-21T12:21:33.108Z"
   },
   {
    "duration": 75,
    "start_time": "2023-08-21T12:21:33.160Z"
   },
   {
    "duration": 33,
    "start_time": "2023-08-21T12:21:33.237Z"
   },
   {
    "duration": 24,
    "start_time": "2023-08-21T12:21:33.272Z"
   },
   {
    "duration": 160,
    "start_time": "2023-08-21T12:21:33.298Z"
   },
   {
    "duration": 8,
    "start_time": "2023-08-21T12:21:33.460Z"
   },
   {
    "duration": 17,
    "start_time": "2023-08-21T12:21:33.470Z"
   },
   {
    "duration": 10,
    "start_time": "2023-08-21T12:21:33.489Z"
   },
   {
    "duration": 14,
    "start_time": "2023-08-21T12:21:33.502Z"
   },
   {
    "duration": 67,
    "start_time": "2023-08-21T12:21:33.519Z"
   },
   {
    "duration": 12,
    "start_time": "2023-08-21T12:21:33.588Z"
   },
   {
    "duration": 25,
    "start_time": "2023-08-21T12:21:33.602Z"
   },
   {
    "duration": 33,
    "start_time": "2023-08-21T12:21:33.630Z"
   },
   {
    "duration": 8,
    "start_time": "2023-08-21T12:21:33.665Z"
   },
   {
    "duration": 82,
    "start_time": "2023-08-21T12:21:33.675Z"
   },
   {
    "duration": 6,
    "start_time": "2023-08-21T12:21:33.759Z"
   },
   {
    "duration": 29,
    "start_time": "2023-08-21T12:21:33.767Z"
   },
   {
    "duration": 28,
    "start_time": "2023-08-21T12:21:33.802Z"
   },
   {
    "duration": 23,
    "start_time": "2023-08-21T12:21:33.832Z"
   },
   {
    "duration": 107,
    "start_time": "2023-08-21T12:21:33.857Z"
   },
   {
    "duration": 8,
    "start_time": "2023-08-21T12:21:33.966Z"
   },
   {
    "duration": 1360,
    "start_time": "2023-08-21T12:21:33.976Z"
   },
   {
    "duration": 3150,
    "start_time": "2023-08-21T12:23:56.984Z"
   },
   {
    "duration": 3,
    "start_time": "2023-08-21T12:24:00.137Z"
   },
   {
    "duration": 320,
    "start_time": "2023-08-21T12:24:00.141Z"
   },
   {
    "duration": 17,
    "start_time": "2023-08-21T12:24:00.463Z"
   },
   {
    "duration": 60,
    "start_time": "2023-08-21T12:24:00.486Z"
   },
   {
    "duration": 42,
    "start_time": "2023-08-21T12:24:00.548Z"
   },
   {
    "duration": 78,
    "start_time": "2023-08-21T12:24:00.592Z"
   },
   {
    "duration": 26,
    "start_time": "2023-08-21T12:24:00.672Z"
   },
   {
    "duration": 47,
    "start_time": "2023-08-21T12:24:00.700Z"
   },
   {
    "duration": 40,
    "start_time": "2023-08-21T12:24:00.749Z"
   },
   {
    "duration": 63,
    "start_time": "2023-08-21T12:24:00.792Z"
   },
   {
    "duration": 247,
    "start_time": "2023-08-21T12:24:00.857Z"
   },
   {
    "duration": 27,
    "start_time": "2023-08-21T12:24:01.106Z"
   },
   {
    "duration": 19,
    "start_time": "2023-08-21T12:24:01.136Z"
   },
   {
    "duration": 50,
    "start_time": "2023-08-21T12:24:01.156Z"
   },
   {
    "duration": 87,
    "start_time": "2023-08-21T12:24:01.207Z"
   },
   {
    "duration": 36,
    "start_time": "2023-08-21T12:24:01.297Z"
   },
   {
    "duration": 38,
    "start_time": "2023-08-21T12:24:01.335Z"
   },
   {
    "duration": 15,
    "start_time": "2023-08-21T12:24:01.375Z"
   },
   {
    "duration": 157,
    "start_time": "2023-08-21T12:24:01.396Z"
   },
   {
    "duration": 10,
    "start_time": "2023-08-21T12:24:01.555Z"
   },
   {
    "duration": 47,
    "start_time": "2023-08-21T12:24:01.566Z"
   },
   {
    "duration": 49,
    "start_time": "2023-08-21T12:24:01.615Z"
   },
   {
    "duration": 24,
    "start_time": "2023-08-21T12:24:01.666Z"
   },
   {
    "duration": 53,
    "start_time": "2023-08-21T12:24:01.692Z"
   },
   {
    "duration": 28,
    "start_time": "2023-08-21T12:24:01.747Z"
   },
   {
    "duration": 46,
    "start_time": "2023-08-21T12:24:01.777Z"
   },
   {
    "duration": 36,
    "start_time": "2023-08-21T12:24:01.825Z"
   },
   {
    "duration": 114,
    "start_time": "2023-08-21T12:24:01.863Z"
   },
   {
    "duration": 108,
    "start_time": "2023-08-21T12:24:01.980Z"
   },
   {
    "duration": 6,
    "start_time": "2023-08-21T12:24:02.091Z"
   },
   {
    "duration": 16,
    "start_time": "2023-08-21T12:24:02.099Z"
   },
   {
    "duration": 38,
    "start_time": "2023-08-21T12:24:02.116Z"
   },
   {
    "duration": 38,
    "start_time": "2023-08-21T12:24:02.156Z"
   },
   {
    "duration": 134,
    "start_time": "2023-08-21T12:24:02.197Z"
   },
   {
    "duration": 6,
    "start_time": "2023-08-21T12:24:02.333Z"
   },
   {
    "duration": 89,
    "start_time": "2023-08-21T12:24:02.341Z"
   },
   {
    "duration": 5,
    "start_time": "2023-08-21T12:24:37.038Z"
   },
   {
    "duration": 1222,
    "start_time": "2023-08-21T12:24:37.637Z"
   },
   {
    "duration": 5,
    "start_time": "2023-08-21T12:33:58.253Z"
   },
   {
    "duration": 1184,
    "start_time": "2023-08-21T12:33:59.164Z"
   },
   {
    "duration": 7,
    "start_time": "2023-08-21T12:34:53.014Z"
   },
   {
    "duration": 1188,
    "start_time": "2023-08-21T12:34:54.133Z"
   },
   {
    "duration": 5,
    "start_time": "2023-08-21T12:35:29.549Z"
   },
   {
    "duration": 46,
    "start_time": "2023-08-21T12:35:30.557Z"
   },
   {
    "duration": 4,
    "start_time": "2023-08-21T12:35:49.505Z"
   },
   {
    "duration": 1121,
    "start_time": "2023-08-21T12:35:50.438Z"
   },
   {
    "duration": 1082,
    "start_time": "2023-08-21T12:41:11.434Z"
   },
   {
    "duration": 6,
    "start_time": "2023-08-21T12:53:24.845Z"
   },
   {
    "duration": 33,
    "start_time": "2023-08-21T12:53:25.447Z"
   },
   {
    "duration": 5,
    "start_time": "2023-08-21T12:53:48.156Z"
   },
   {
    "duration": 35,
    "start_time": "2023-08-21T12:53:49.048Z"
   },
   {
    "duration": 5,
    "start_time": "2023-08-21T12:54:42.913Z"
   },
   {
    "duration": 1153,
    "start_time": "2023-08-21T12:54:43.549Z"
   },
   {
    "duration": 8,
    "start_time": "2023-08-21T12:55:35.123Z"
   },
   {
    "duration": 1128,
    "start_time": "2023-08-21T12:55:35.894Z"
   },
   {
    "duration": 333,
    "start_time": "2023-08-21T12:55:52.564Z"
   },
   {
    "duration": 1069,
    "start_time": "2023-08-21T12:55:53.146Z"
   },
   {
    "duration": 5,
    "start_time": "2023-08-21T12:56:13.081Z"
   },
   {
    "duration": 1221,
    "start_time": "2023-08-21T12:56:14.242Z"
   },
   {
    "duration": 5,
    "start_time": "2023-08-21T12:56:22.555Z"
   },
   {
    "duration": 1121,
    "start_time": "2023-08-21T12:56:23.633Z"
   },
   {
    "duration": 5,
    "start_time": "2023-08-21T12:56:43.531Z"
   },
   {
    "duration": 1142,
    "start_time": "2023-08-21T12:56:44.142Z"
   },
   {
    "duration": 5,
    "start_time": "2023-08-21T12:58:34.611Z"
   },
   {
    "duration": 918,
    "start_time": "2023-08-21T12:58:35.482Z"
   },
   {
    "duration": 5,
    "start_time": "2023-08-21T13:04:51.727Z"
   },
   {
    "duration": 1435,
    "start_time": "2023-08-21T13:04:52.902Z"
   },
   {
    "duration": 1349,
    "start_time": "2023-08-21T13:05:26.670Z"
   },
   {
    "duration": 6,
    "start_time": "2023-08-21T13:11:14.812Z"
   },
   {
    "duration": 1329,
    "start_time": "2023-08-21T13:11:15.730Z"
   },
   {
    "duration": 8,
    "start_time": "2023-08-21T13:26:00.725Z"
   },
   {
    "duration": 51,
    "start_time": "2023-08-21T13:26:02.420Z"
   },
   {
    "duration": 9,
    "start_time": "2023-08-21T13:28:06.361Z"
   },
   {
    "duration": 1904,
    "start_time": "2023-08-21T13:28:07.312Z"
   },
   {
    "duration": 2035,
    "start_time": "2023-08-21T13:30:30.217Z"
   },
   {
    "duration": 115,
    "start_time": "2023-08-21T13:33:03.950Z"
   },
   {
    "duration": 127,
    "start_time": "2023-08-21T13:35:25.840Z"
   },
   {
    "duration": 19,
    "start_time": "2023-08-21T13:36:37.927Z"
   },
   {
    "duration": 6,
    "start_time": "2023-08-21T13:36:48.437Z"
   },
   {
    "duration": 1729,
    "start_time": "2023-08-21T13:36:49.258Z"
   },
   {
    "duration": 1865,
    "start_time": "2023-08-21T13:38:30.986Z"
   },
   {
    "duration": 1958,
    "start_time": "2023-08-21T13:38:48.904Z"
   },
   {
    "duration": 2031,
    "start_time": "2023-08-21T13:40:35.311Z"
   },
   {
    "duration": 1695,
    "start_time": "2023-08-21T13:41:33.164Z"
   },
   {
    "duration": 1857,
    "start_time": "2023-08-21T13:41:54.860Z"
   },
   {
    "duration": 8,
    "start_time": "2023-08-21T13:47:09.546Z"
   },
   {
    "duration": 1552,
    "start_time": "2023-08-21T13:47:10.432Z"
   },
   {
    "duration": 1955,
    "start_time": "2023-08-21T14:06:15.803Z"
   },
   {
    "duration": 6,
    "start_time": "2023-08-21T14:26:29.167Z"
   },
   {
    "duration": 1924,
    "start_time": "2023-08-21T14:26:31.231Z"
   },
   {
    "duration": 1895,
    "start_time": "2023-08-21T14:28:37.353Z"
   },
   {
    "duration": 1988,
    "start_time": "2023-08-21T14:29:17.110Z"
   },
   {
    "duration": 6,
    "start_time": "2023-08-21T14:43:45.451Z"
   },
   {
    "duration": 1791,
    "start_time": "2023-08-21T14:43:46.178Z"
   },
   {
    "duration": 2023,
    "start_time": "2023-08-21T15:35:17.552Z"
   },
   {
    "duration": 26,
    "start_time": "2023-08-21T16:11:44.757Z"
   },
   {
    "duration": 33,
    "start_time": "2023-08-21T16:11:45.604Z"
   },
   {
    "duration": 12,
    "start_time": "2023-08-21T16:14:07.907Z"
   },
   {
    "duration": 4337,
    "start_time": "2023-08-21T16:16:16.672Z"
   },
   {
    "duration": 13,
    "start_time": "2023-08-21T16:16:21.012Z"
   },
   {
    "duration": 394,
    "start_time": "2023-08-21T16:16:21.030Z"
   },
   {
    "duration": 35,
    "start_time": "2023-08-21T16:16:21.426Z"
   },
   {
    "duration": 85,
    "start_time": "2023-08-21T16:16:21.466Z"
   },
   {
    "duration": 31,
    "start_time": "2023-08-21T16:16:21.553Z"
   },
   {
    "duration": 69,
    "start_time": "2023-08-21T16:16:21.586Z"
   },
   {
    "duration": 8,
    "start_time": "2023-08-21T16:16:21.659Z"
   },
   {
    "duration": 11,
    "start_time": "2023-08-21T16:16:21.673Z"
   },
   {
    "duration": 23,
    "start_time": "2023-08-21T16:16:21.690Z"
   },
   {
    "duration": 20,
    "start_time": "2023-08-21T16:16:21.722Z"
   },
   {
    "duration": 417,
    "start_time": "2023-08-21T16:16:21.747Z"
   },
   {
    "duration": 51,
    "start_time": "2023-08-21T16:16:22.166Z"
   },
   {
    "duration": 25,
    "start_time": "2023-08-21T16:16:22.233Z"
   },
   {
    "duration": 22,
    "start_time": "2023-08-21T16:16:22.260Z"
   },
   {
    "duration": 89,
    "start_time": "2023-08-21T16:16:22.285Z"
   },
   {
    "duration": 37,
    "start_time": "2023-08-21T16:16:22.376Z"
   },
   {
    "duration": 29,
    "start_time": "2023-08-21T16:16:22.415Z"
   },
   {
    "duration": 20,
    "start_time": "2023-08-21T16:16:22.446Z"
   },
   {
    "duration": 303,
    "start_time": "2023-08-21T16:16:22.468Z"
   },
   {
    "duration": 19,
    "start_time": "2023-08-21T16:16:22.773Z"
   },
   {
    "duration": 6,
    "start_time": "2023-08-21T16:16:22.798Z"
   },
   {
    "duration": 32,
    "start_time": "2023-08-21T16:16:22.810Z"
   },
   {
    "duration": 6,
    "start_time": "2023-08-21T16:16:22.848Z"
   },
   {
    "duration": 23,
    "start_time": "2023-08-21T16:16:22.860Z"
   },
   {
    "duration": 44,
    "start_time": "2023-08-21T16:16:22.885Z"
   },
   {
    "duration": 25,
    "start_time": "2023-08-21T16:16:22.940Z"
   },
   {
    "duration": 15,
    "start_time": "2023-08-21T16:16:22.967Z"
   },
   {
    "duration": 111,
    "start_time": "2023-08-21T16:16:22.985Z"
   },
   {
    "duration": 23,
    "start_time": "2023-08-21T16:16:23.102Z"
   },
   {
    "duration": 15,
    "start_time": "2023-08-21T16:16:23.136Z"
   },
   {
    "duration": 19,
    "start_time": "2023-08-21T16:16:23.153Z"
   },
   {
    "duration": 32,
    "start_time": "2023-08-21T16:16:23.174Z"
   },
   {
    "duration": 278,
    "start_time": "2023-08-21T16:16:23.208Z"
   },
   {
    "duration": 10,
    "start_time": "2023-08-21T16:16:23.494Z"
   },
   {
    "duration": 2981,
    "start_time": "2023-08-21T16:16:23.506Z"
   },
   {
    "duration": 18,
    "start_time": "2023-08-21T16:16:26.492Z"
   },
   {
    "duration": 20,
    "start_time": "2023-08-21T16:16:26.518Z"
   },
   {
    "duration": 13,
    "start_time": "2023-08-21T16:16:26.541Z"
   },
   {
    "duration": 16,
    "start_time": "2023-08-21T16:21:13.842Z"
   },
   {
    "duration": 3528,
    "start_time": "2023-08-21T16:21:57.007Z"
   },
   {
    "duration": 343,
    "start_time": "2023-08-21T16:22:00.537Z"
   },
   {
    "duration": 386,
    "start_time": "2023-08-21T16:22:00.882Z"
   },
   {
    "duration": 19,
    "start_time": "2023-08-21T16:22:01.271Z"
   },
   {
    "duration": 85,
    "start_time": "2023-08-21T16:22:01.293Z"
   },
   {
    "duration": 54,
    "start_time": "2023-08-21T16:22:01.379Z"
   },
   {
    "duration": 68,
    "start_time": "2023-08-21T16:22:01.434Z"
   },
   {
    "duration": 6,
    "start_time": "2023-08-21T16:22:01.515Z"
   },
   {
    "duration": 47,
    "start_time": "2023-08-21T16:22:01.523Z"
   },
   {
    "duration": 73,
    "start_time": "2023-08-21T16:22:01.572Z"
   },
   {
    "duration": 37,
    "start_time": "2023-08-21T16:22:01.647Z"
   },
   {
    "duration": 367,
    "start_time": "2023-08-21T16:22:01.686Z"
   },
   {
    "duration": 38,
    "start_time": "2023-08-21T16:22:02.056Z"
   },
   {
    "duration": 12,
    "start_time": "2023-08-21T16:22:02.100Z"
   },
   {
    "duration": 63,
    "start_time": "2023-08-21T16:22:02.116Z"
   },
   {
    "duration": 120,
    "start_time": "2023-08-21T16:22:02.181Z"
   },
   {
    "duration": 58,
    "start_time": "2023-08-21T16:22:02.303Z"
   },
   {
    "duration": 33,
    "start_time": "2023-08-21T16:22:02.363Z"
   },
   {
    "duration": 48,
    "start_time": "2023-08-21T16:22:02.398Z"
   },
   {
    "duration": 231,
    "start_time": "2023-08-21T16:22:02.448Z"
   },
   {
    "duration": 24,
    "start_time": "2023-08-21T16:22:02.682Z"
   },
   {
    "duration": 51,
    "start_time": "2023-08-21T16:22:02.708Z"
   },
   {
    "duration": 44,
    "start_time": "2023-08-21T16:22:02.761Z"
   },
   {
    "duration": 40,
    "start_time": "2023-08-21T16:22:02.807Z"
   },
   {
    "duration": 37,
    "start_time": "2023-08-21T16:22:02.851Z"
   },
   {
    "duration": 30,
    "start_time": "2023-08-21T16:22:02.895Z"
   },
   {
    "duration": 35,
    "start_time": "2023-08-21T16:22:02.926Z"
   },
   {
    "duration": 59,
    "start_time": "2023-08-21T16:22:02.963Z"
   },
   {
    "duration": 136,
    "start_time": "2023-08-21T16:22:03.025Z"
   },
   {
    "duration": 4,
    "start_time": "2023-08-21T16:22:03.163Z"
   },
   {
    "duration": 36,
    "start_time": "2023-08-21T16:22:03.170Z"
   },
   {
    "duration": 51,
    "start_time": "2023-08-21T16:22:03.208Z"
   },
   {
    "duration": 47,
    "start_time": "2023-08-21T16:22:03.260Z"
   },
   {
    "duration": 146,
    "start_time": "2023-08-21T16:22:03.311Z"
   },
   {
    "duration": 14,
    "start_time": "2023-08-21T16:22:03.459Z"
   },
   {
    "duration": 2444,
    "start_time": "2023-08-21T16:22:03.475Z"
   },
   {
    "duration": 24,
    "start_time": "2023-08-21T16:22:05.926Z"
   },
   {
    "duration": 91,
    "start_time": "2023-08-21T16:22:05.952Z"
   },
   {
    "duration": 45,
    "start_time": "2023-08-21T16:22:06.045Z"
   },
   {
    "duration": 84,
    "start_time": "2023-08-21T16:22:06.093Z"
   },
   {
    "duration": 20,
    "start_time": "2023-08-21T16:23:35.255Z"
   },
   {
    "duration": 235,
    "start_time": "2023-08-21T16:23:59.087Z"
   },
   {
    "duration": 4905,
    "start_time": "2023-08-21T16:24:50.564Z"
   },
   {
    "duration": 16,
    "start_time": "2023-08-21T16:24:55.476Z"
   },
   {
    "duration": 649,
    "start_time": "2023-08-21T16:24:55.506Z"
   },
   {
    "duration": 41,
    "start_time": "2023-08-21T16:24:56.157Z"
   },
   {
    "duration": 95,
    "start_time": "2023-08-21T16:24:56.204Z"
   },
   {
    "duration": 30,
    "start_time": "2023-08-21T16:24:56.304Z"
   },
   {
    "duration": 142,
    "start_time": "2023-08-21T16:24:56.338Z"
   },
   {
    "duration": 2,
    "start_time": "2023-08-21T16:24:56.483Z"
   },
   {
    "duration": 46,
    "start_time": "2023-08-21T16:24:56.488Z"
   },
   {
    "duration": 28,
    "start_time": "2023-08-21T16:24:56.537Z"
   },
   {
    "duration": 43,
    "start_time": "2023-08-21T16:24:56.571Z"
   },
   {
    "duration": 393,
    "start_time": "2023-08-21T16:24:56.623Z"
   },
   {
    "duration": 65,
    "start_time": "2023-08-21T16:24:57.023Z"
   },
   {
    "duration": 58,
    "start_time": "2023-08-21T16:24:57.098Z"
   },
   {
    "duration": 71,
    "start_time": "2023-08-21T16:24:57.168Z"
   },
   {
    "duration": 114,
    "start_time": "2023-08-21T16:24:57.247Z"
   },
   {
    "duration": 25,
    "start_time": "2023-08-21T16:24:57.372Z"
   },
   {
    "duration": 74,
    "start_time": "2023-08-21T16:24:57.403Z"
   },
   {
    "duration": 12,
    "start_time": "2023-08-21T16:24:57.491Z"
   },
   {
    "duration": 267,
    "start_time": "2023-08-21T16:24:57.515Z"
   },
   {
    "duration": 21,
    "start_time": "2023-08-21T16:24:57.789Z"
   },
   {
    "duration": 11,
    "start_time": "2023-08-21T16:24:57.816Z"
   },
   {
    "duration": 46,
    "start_time": "2023-08-21T16:24:57.835Z"
   },
   {
    "duration": 30,
    "start_time": "2023-08-21T16:24:57.883Z"
   },
   {
    "duration": 51,
    "start_time": "2023-08-21T16:24:57.933Z"
   },
   {
    "duration": 14,
    "start_time": "2023-08-21T16:24:58.000Z"
   },
   {
    "duration": 77,
    "start_time": "2023-08-21T16:24:58.020Z"
   },
   {
    "duration": 27,
    "start_time": "2023-08-21T16:24:58.101Z"
   },
   {
    "duration": 137,
    "start_time": "2023-08-21T16:24:58.132Z"
   },
   {
    "duration": 14,
    "start_time": "2023-08-21T16:24:58.275Z"
   },
   {
    "duration": 61,
    "start_time": "2023-08-21T16:24:58.295Z"
   },
   {
    "duration": 94,
    "start_time": "2023-08-21T16:24:58.363Z"
   },
   {
    "duration": 34,
    "start_time": "2023-08-21T16:24:58.463Z"
   },
   {
    "duration": 142,
    "start_time": "2023-08-21T16:24:58.503Z"
   },
   {
    "duration": 11,
    "start_time": "2023-08-21T16:24:58.652Z"
   },
   {
    "duration": 2445,
    "start_time": "2023-08-21T16:24:58.670Z"
   },
   {
    "duration": 23,
    "start_time": "2023-08-21T16:25:01.120Z"
   },
   {
    "duration": 280,
    "start_time": "2023-08-21T16:25:01.150Z"
   },
   {
    "duration": 161,
    "start_time": "2023-08-21T16:25:01.432Z"
   },
   {
    "duration": 380,
    "start_time": "2023-08-21T16:25:01.602Z"
   },
   {
    "duration": 282,
    "start_time": "2023-08-21T16:39:14.102Z"
   },
   {
    "duration": 4800,
    "start_time": "2023-08-21T16:46:59.746Z"
   },
   {
    "duration": 11,
    "start_time": "2023-08-21T16:47:04.550Z"
   },
   {
    "duration": 515,
    "start_time": "2023-08-21T16:47:04.566Z"
   },
   {
    "duration": 32,
    "start_time": "2023-08-21T16:47:05.083Z"
   },
   {
    "duration": 79,
    "start_time": "2023-08-21T16:47:05.122Z"
   },
   {
    "duration": 31,
    "start_time": "2023-08-21T16:47:05.207Z"
   },
   {
    "duration": 49,
    "start_time": "2023-08-21T16:47:05.244Z"
   },
   {
    "duration": 8,
    "start_time": "2023-08-21T16:47:05.305Z"
   },
   {
    "duration": 62,
    "start_time": "2023-08-21T16:47:05.324Z"
   },
   {
    "duration": 95,
    "start_time": "2023-08-21T16:47:05.388Z"
   },
   {
    "duration": 68,
    "start_time": "2023-08-21T16:47:05.485Z"
   },
   {
    "duration": 479,
    "start_time": "2023-08-21T16:47:05.557Z"
   },
   {
    "duration": 53,
    "start_time": "2023-08-21T16:47:06.038Z"
   },
   {
    "duration": 68,
    "start_time": "2023-08-21T16:47:06.099Z"
   },
   {
    "duration": 50,
    "start_time": "2023-08-21T16:47:06.171Z"
   },
   {
    "duration": 109,
    "start_time": "2023-08-21T16:47:06.232Z"
   },
   {
    "duration": 55,
    "start_time": "2023-08-21T16:47:06.354Z"
   },
   {
    "duration": 85,
    "start_time": "2023-08-21T16:47:06.424Z"
   },
   {
    "duration": 28,
    "start_time": "2023-08-21T16:47:06.525Z"
   },
   {
    "duration": 443,
    "start_time": "2023-08-21T16:47:06.577Z"
   },
   {
    "duration": 20,
    "start_time": "2023-08-21T16:47:07.027Z"
   },
   {
    "duration": 30,
    "start_time": "2023-08-21T16:47:07.052Z"
   },
   {
    "duration": 31,
    "start_time": "2023-08-21T16:47:07.093Z"
   },
   {
    "duration": 15,
    "start_time": "2023-08-21T16:47:07.139Z"
   },
   {
    "duration": 19,
    "start_time": "2023-08-21T16:47:07.159Z"
   },
   {
    "duration": 83,
    "start_time": "2023-08-21T16:47:07.180Z"
   },
   {
    "duration": 82,
    "start_time": "2023-08-21T16:47:07.269Z"
   },
   {
    "duration": 40,
    "start_time": "2023-08-21T16:47:07.365Z"
   },
   {
    "duration": 154,
    "start_time": "2023-08-21T16:47:07.407Z"
   },
   {
    "duration": 5,
    "start_time": "2023-08-21T16:47:07.563Z"
   },
   {
    "duration": 70,
    "start_time": "2023-08-21T16:47:07.574Z"
   },
   {
    "duration": 41,
    "start_time": "2023-08-21T16:47:07.649Z"
   },
   {
    "duration": 27,
    "start_time": "2023-08-21T16:47:07.698Z"
   },
   {
    "duration": 122,
    "start_time": "2023-08-21T16:47:07.732Z"
   },
   {
    "duration": 11,
    "start_time": "2023-08-21T16:47:07.859Z"
   },
   {
    "duration": 2624,
    "start_time": "2023-08-21T16:47:07.879Z"
   },
   {
    "duration": 24,
    "start_time": "2023-08-21T16:47:10.509Z"
   },
   {
    "duration": 57,
    "start_time": "2023-08-21T16:47:10.540Z"
   },
   {
    "duration": 74,
    "start_time": "2023-08-21T16:47:10.603Z"
   },
   {
    "duration": 501,
    "start_time": "2023-08-21T16:47:10.687Z"
   },
   {
    "duration": 17049,
    "start_time": "2023-08-22T18:17:22.296Z"
   },
   {
    "duration": 9140,
    "start_time": "2023-08-22T18:17:39.348Z"
   },
   {
    "duration": 2334,
    "start_time": "2023-08-22T18:17:48.494Z"
   },
   {
    "duration": 528,
    "start_time": "2023-08-22T18:17:50.829Z"
   },
   {
    "duration": 23,
    "start_time": "2023-08-22T18:17:51.359Z"
   },
   {
    "duration": 47,
    "start_time": "2023-08-22T18:17:51.384Z"
   },
   {
    "duration": 22,
    "start_time": "2023-08-22T18:17:51.434Z"
   },
   {
    "duration": 48,
    "start_time": "2023-08-22T18:17:51.458Z"
   },
   {
    "duration": 3,
    "start_time": "2023-08-22T18:17:51.509Z"
   },
   {
    "duration": 11,
    "start_time": "2023-08-22T18:17:51.514Z"
   },
   {
    "duration": 12,
    "start_time": "2023-08-22T18:17:51.527Z"
   },
   {
    "duration": 18,
    "start_time": "2023-08-22T18:17:51.541Z"
   },
   {
    "duration": 247,
    "start_time": "2023-08-22T18:17:51.581Z"
   },
   {
    "duration": 31,
    "start_time": "2023-08-22T18:17:51.831Z"
   },
   {
    "duration": 27,
    "start_time": "2023-08-22T18:17:51.864Z"
   },
   {
    "duration": 27,
    "start_time": "2023-08-22T18:17:51.894Z"
   },
   {
    "duration": 38,
    "start_time": "2023-08-22T18:17:51.923Z"
   },
   {
    "duration": 32,
    "start_time": "2023-08-22T18:17:51.964Z"
   },
   {
    "duration": 17,
    "start_time": "2023-08-22T18:17:52.001Z"
   },
   {
    "duration": 8,
    "start_time": "2023-08-22T18:17:52.020Z"
   },
   {
    "duration": 225,
    "start_time": "2023-08-22T18:17:52.030Z"
   },
   {
    "duration": 12,
    "start_time": "2023-08-22T18:17:52.257Z"
   },
   {
    "duration": 8,
    "start_time": "2023-08-22T18:17:52.281Z"
   },
   {
    "duration": 14,
    "start_time": "2023-08-22T18:17:52.295Z"
   },
   {
    "duration": 9,
    "start_time": "2023-08-22T18:17:52.311Z"
   },
   {
    "duration": 18,
    "start_time": "2023-08-22T18:17:52.323Z"
   },
   {
    "duration": 19,
    "start_time": "2023-08-22T18:17:52.344Z"
   },
   {
    "duration": 22,
    "start_time": "2023-08-22T18:17:52.365Z"
   },
   {
    "duration": 33,
    "start_time": "2023-08-22T18:17:52.389Z"
   },
   {
    "duration": 73,
    "start_time": "2023-08-22T18:17:52.425Z"
   },
   {
    "duration": 5,
    "start_time": "2023-08-22T18:17:52.508Z"
   },
   {
    "duration": 157,
    "start_time": "2023-08-22T18:17:52.515Z"
   },
   {
    "duration": 49,
    "start_time": "2023-08-22T18:17:52.674Z"
   },
   {
    "duration": 113,
    "start_time": "2023-08-22T18:17:52.725Z"
   },
   {
    "duration": 111,
    "start_time": "2023-08-22T18:17:52.840Z"
   },
   {
    "duration": 5,
    "start_time": "2023-08-22T18:17:52.953Z"
   },
   {
    "duration": 1873,
    "start_time": "2023-08-22T18:17:52.961Z"
   },
   {
    "duration": 12,
    "start_time": "2023-08-22T18:17:54.838Z"
   },
   {
    "duration": 14,
    "start_time": "2023-08-22T18:17:54.852Z"
   },
   {
    "duration": 12,
    "start_time": "2023-08-22T18:17:54.881Z"
   },
   {
    "duration": 1652,
    "start_time": "2023-08-22T18:17:54.898Z"
   },
   {
    "duration": 89,
    "start_time": "2023-08-22T18:21:05.232Z"
   },
   {
    "duration": 222,
    "start_time": "2023-08-22T18:21:15.189Z"
   },
   {
    "duration": 3388,
    "start_time": "2023-08-22T18:21:34.282Z"
   },
   {
    "duration": 2599,
    "start_time": "2023-08-22T18:21:37.673Z"
   },
   {
    "duration": 4,
    "start_time": "2023-08-22T18:21:40.275Z"
   },
   {
    "duration": 264,
    "start_time": "2023-08-22T18:21:40.282Z"
   },
   {
    "duration": 18,
    "start_time": "2023-08-22T18:21:40.548Z"
   },
   {
    "duration": 56,
    "start_time": "2023-08-22T18:21:40.567Z"
   },
   {
    "duration": 21,
    "start_time": "2023-08-22T18:21:40.625Z"
   },
   {
    "duration": 60,
    "start_time": "2023-08-22T18:21:40.648Z"
   },
   {
    "duration": 3,
    "start_time": "2023-08-22T18:21:40.710Z"
   },
   {
    "duration": 14,
    "start_time": "2023-08-22T18:21:40.717Z"
   },
   {
    "duration": 12,
    "start_time": "2023-08-22T18:21:40.733Z"
   },
   {
    "duration": 17,
    "start_time": "2023-08-22T18:21:40.747Z"
   },
   {
    "duration": 256,
    "start_time": "2023-08-22T18:21:40.785Z"
   },
   {
    "duration": 44,
    "start_time": "2023-08-22T18:21:41.043Z"
   },
   {
    "duration": 6,
    "start_time": "2023-08-22T18:21:41.093Z"
   },
   {
    "duration": 17,
    "start_time": "2023-08-22T18:21:41.101Z"
   },
   {
    "duration": 40,
    "start_time": "2023-08-22T18:21:41.120Z"
   },
   {
    "duration": 52,
    "start_time": "2023-08-22T18:21:41.162Z"
   },
   {
    "duration": 15,
    "start_time": "2023-08-22T18:21:41.218Z"
   },
   {
    "duration": 6,
    "start_time": "2023-08-22T18:21:41.235Z"
   },
   {
    "duration": 232,
    "start_time": "2023-08-22T18:21:41.243Z"
   },
   {
    "duration": 17,
    "start_time": "2023-08-22T18:21:41.478Z"
   },
   {
    "duration": 13,
    "start_time": "2023-08-22T18:21:41.497Z"
   },
   {
    "duration": 15,
    "start_time": "2023-08-22T18:21:41.512Z"
   },
   {
    "duration": 6,
    "start_time": "2023-08-22T18:21:41.529Z"
   },
   {
    "duration": 19,
    "start_time": "2023-08-22T18:21:41.537Z"
   },
   {
    "duration": 28,
    "start_time": "2023-08-22T18:21:41.558Z"
   },
   {
    "duration": 20,
    "start_time": "2023-08-22T18:21:41.591Z"
   },
   {
    "duration": 16,
    "start_time": "2023-08-22T18:21:41.613Z"
   },
   {
    "duration": 87,
    "start_time": "2023-08-22T18:21:41.632Z"
   },
   {
    "duration": 6,
    "start_time": "2023-08-22T18:21:41.722Z"
   },
   {
    "duration": 4,
    "start_time": "2023-08-22T18:21:41.732Z"
   },
   {
    "duration": 13,
    "start_time": "2023-08-22T18:21:41.740Z"
   },
   {
    "duration": 36,
    "start_time": "2023-08-22T18:21:41.756Z"
   },
   {
    "duration": 69,
    "start_time": "2023-08-22T18:21:41.797Z"
   },
   {
    "duration": 21,
    "start_time": "2023-08-22T18:21:41.868Z"
   },
   {
    "duration": 1741,
    "start_time": "2023-08-22T18:21:41.896Z"
   },
   {
    "duration": 14,
    "start_time": "2023-08-22T18:21:43.640Z"
   },
   {
    "duration": 35,
    "start_time": "2023-08-22T18:21:43.657Z"
   },
   {
    "duration": 27,
    "start_time": "2023-08-22T18:21:43.697Z"
   },
   {
    "duration": 1760,
    "start_time": "2023-08-22T18:21:43.726Z"
   },
   {
    "duration": 44,
    "start_time": "2023-08-22T18:24:42.129Z"
   },
   {
    "duration": 3539,
    "start_time": "2023-08-22T18:28:16.134Z"
   },
   {
    "duration": 2636,
    "start_time": "2023-08-22T18:28:19.677Z"
   },
   {
    "duration": 4,
    "start_time": "2023-08-22T18:28:22.316Z"
   },
   {
    "duration": 299,
    "start_time": "2023-08-22T18:28:22.322Z"
   },
   {
    "duration": 29,
    "start_time": "2023-08-22T18:28:22.624Z"
   },
   {
    "duration": 86,
    "start_time": "2023-08-22T18:28:22.655Z"
   },
   {
    "duration": 33,
    "start_time": "2023-08-22T18:28:22.743Z"
   },
   {
    "duration": 47,
    "start_time": "2023-08-22T18:28:22.778Z"
   },
   {
    "duration": 7,
    "start_time": "2023-08-22T18:28:22.827Z"
   },
   {
    "duration": 26,
    "start_time": "2023-08-22T18:28:22.837Z"
   },
   {
    "duration": 46,
    "start_time": "2023-08-22T18:28:22.865Z"
   },
   {
    "duration": 205,
    "start_time": "2023-08-22T18:28:22.913Z"
   },
   {
    "duration": 286,
    "start_time": "2023-08-22T18:28:23.120Z"
   },
   {
    "duration": 37,
    "start_time": "2023-08-22T18:28:23.410Z"
   },
   {
    "duration": 7,
    "start_time": "2023-08-22T18:28:23.449Z"
   },
   {
    "duration": 48,
    "start_time": "2023-08-22T18:28:23.457Z"
   },
   {
    "duration": 47,
    "start_time": "2023-08-22T18:28:23.507Z"
   },
   {
    "duration": 16,
    "start_time": "2023-08-22T18:28:23.557Z"
   },
   {
    "duration": 28,
    "start_time": "2023-08-22T18:28:23.575Z"
   },
   {
    "duration": 6,
    "start_time": "2023-08-22T18:28:23.605Z"
   },
   {
    "duration": 189,
    "start_time": "2023-08-22T18:28:23.612Z"
   },
   {
    "duration": 13,
    "start_time": "2023-08-22T18:28:23.803Z"
   },
   {
    "duration": 8,
    "start_time": "2023-08-22T18:28:23.818Z"
   },
   {
    "duration": 22,
    "start_time": "2023-08-22T18:28:23.828Z"
   },
   {
    "duration": 9,
    "start_time": "2023-08-22T18:28:23.852Z"
   },
   {
    "duration": 26,
    "start_time": "2023-08-22T18:28:23.864Z"
   },
   {
    "duration": 10,
    "start_time": "2023-08-22T18:28:23.892Z"
   },
   {
    "duration": 27,
    "start_time": "2023-08-22T18:28:23.904Z"
   },
   {
    "duration": 14,
    "start_time": "2023-08-22T18:28:23.933Z"
   },
   {
    "duration": 90,
    "start_time": "2023-08-22T18:28:23.950Z"
   },
   {
    "duration": 44,
    "start_time": "2023-08-22T18:28:24.043Z"
   },
   {
    "duration": 174,
    "start_time": "2023-08-22T18:28:24.093Z"
   },
   {
    "duration": 15,
    "start_time": "2023-08-22T18:28:24.270Z"
   },
   {
    "duration": 19,
    "start_time": "2023-08-22T18:28:24.288Z"
   },
   {
    "duration": 20,
    "start_time": "2023-08-22T18:28:24.316Z"
   },
   {
    "duration": 95,
    "start_time": "2023-08-22T18:28:24.338Z"
   },
   {
    "duration": 8,
    "start_time": "2023-08-22T18:28:24.435Z"
   },
   {
    "duration": 1885,
    "start_time": "2023-08-22T18:28:24.445Z"
   },
   {
    "duration": 11,
    "start_time": "2023-08-22T18:28:26.332Z"
   },
   {
    "duration": 28,
    "start_time": "2023-08-22T18:28:26.345Z"
   },
   {
    "duration": 12,
    "start_time": "2023-08-22T18:28:26.390Z"
   },
   {
    "duration": 1761,
    "start_time": "2023-08-22T18:28:26.405Z"
   },
   {
    "duration": 63,
    "start_time": "2023-08-22T18:28:28.168Z"
   },
   {
    "duration": 7,
    "start_time": "2023-08-22T18:29:10.952Z"
   },
   {
    "duration": 9,
    "start_time": "2023-08-22T18:29:44.233Z"
   },
   {
    "duration": 17,
    "start_time": "2023-08-22T18:42:22.215Z"
   },
   {
    "duration": 3554,
    "start_time": "2023-08-22T18:43:29.653Z"
   },
   {
    "duration": 2604,
    "start_time": "2023-08-22T18:43:33.211Z"
   },
   {
    "duration": 4,
    "start_time": "2023-08-22T18:43:35.818Z"
   },
   {
    "duration": 246,
    "start_time": "2023-08-22T18:43:35.824Z"
   },
   {
    "duration": 31,
    "start_time": "2023-08-22T18:43:36.072Z"
   },
   {
    "duration": 43,
    "start_time": "2023-08-22T18:43:36.108Z"
   },
   {
    "duration": 22,
    "start_time": "2023-08-22T18:43:36.153Z"
   },
   {
    "duration": 34,
    "start_time": "2023-08-22T18:43:36.184Z"
   },
   {
    "duration": 3,
    "start_time": "2023-08-22T18:43:36.220Z"
   },
   {
    "duration": 5,
    "start_time": "2023-08-22T18:43:36.224Z"
   },
   {
    "duration": 9,
    "start_time": "2023-08-22T18:43:36.231Z"
   },
   {
    "duration": 13,
    "start_time": "2023-08-22T18:43:36.241Z"
   },
   {
    "duration": 292,
    "start_time": "2023-08-22T18:43:36.285Z"
   },
   {
    "duration": 42,
    "start_time": "2023-08-22T18:43:36.580Z"
   },
   {
    "duration": 5,
    "start_time": "2023-08-22T18:43:36.625Z"
   },
   {
    "duration": 13,
    "start_time": "2023-08-22T18:43:36.632Z"
   },
   {
    "duration": 55,
    "start_time": "2023-08-22T18:43:36.647Z"
   },
   {
    "duration": 20,
    "start_time": "2023-08-22T18:43:36.704Z"
   },
   {
    "duration": 12,
    "start_time": "2023-08-22T18:43:36.726Z"
   },
   {
    "duration": 5,
    "start_time": "2023-08-22T18:43:36.740Z"
   },
   {
    "duration": 184,
    "start_time": "2023-08-22T18:43:36.747Z"
   },
   {
    "duration": 14,
    "start_time": "2023-08-22T18:43:36.933Z"
   },
   {
    "duration": 7,
    "start_time": "2023-08-22T18:43:36.949Z"
   },
   {
    "duration": 31,
    "start_time": "2023-08-22T18:43:36.959Z"
   },
   {
    "duration": 6,
    "start_time": "2023-08-22T18:43:36.992Z"
   },
   {
    "duration": 62,
    "start_time": "2023-08-22T18:43:37.002Z"
   },
   {
    "duration": 57,
    "start_time": "2023-08-22T18:43:37.066Z"
   },
   {
    "duration": 26,
    "start_time": "2023-08-22T18:43:37.126Z"
   },
   {
    "duration": 14,
    "start_time": "2023-08-22T18:43:37.154Z"
   },
   {
    "duration": 101,
    "start_time": "2023-08-22T18:43:37.171Z"
   },
   {
    "duration": 19,
    "start_time": "2023-08-22T18:43:37.274Z"
   },
   {
    "duration": 10,
    "start_time": "2023-08-22T18:43:37.294Z"
   },
   {
    "duration": 12,
    "start_time": "2023-08-22T18:43:37.306Z"
   },
   {
    "duration": 27,
    "start_time": "2023-08-22T18:43:37.320Z"
   },
   {
    "duration": 155,
    "start_time": "2023-08-22T18:43:37.350Z"
   },
   {
    "duration": 55,
    "start_time": "2023-08-22T18:43:37.507Z"
   },
   {
    "duration": 6,
    "start_time": "2023-08-22T18:43:37.564Z"
   },
   {
    "duration": 1748,
    "start_time": "2023-08-22T18:43:37.584Z"
   },
   {
    "duration": 13,
    "start_time": "2023-08-22T18:43:39.334Z"
   },
   {
    "duration": 15,
    "start_time": "2023-08-22T18:43:39.349Z"
   },
   {
    "duration": 13,
    "start_time": "2023-08-22T18:43:39.386Z"
   },
   {
    "duration": 1575,
    "start_time": "2023-08-22T18:43:39.401Z"
   },
   {
    "duration": 689,
    "start_time": "2023-08-22T18:43:40.978Z"
   },
   {
    "duration": 88,
    "start_time": "2023-08-22T19:59:13.620Z"
   },
   {
    "duration": 3747,
    "start_time": "2023-08-22T20:02:05.855Z"
   },
   {
    "duration": 2848,
    "start_time": "2023-08-22T20:02:09.606Z"
   },
   {
    "duration": 89,
    "start_time": "2023-08-22T20:02:12.457Z"
   },
   {
    "duration": 261,
    "start_time": "2023-08-22T20:02:12.549Z"
   },
   {
    "duration": 18,
    "start_time": "2023-08-22T20:02:12.812Z"
   },
   {
    "duration": 36,
    "start_time": "2023-08-22T20:02:12.833Z"
   },
   {
    "duration": 24,
    "start_time": "2023-08-22T20:02:12.871Z"
   },
   {
    "duration": 35,
    "start_time": "2023-08-22T20:02:12.897Z"
   },
   {
    "duration": 5,
    "start_time": "2023-08-22T20:02:12.934Z"
   },
   {
    "duration": 8,
    "start_time": "2023-08-22T20:02:12.942Z"
   },
   {
    "duration": 29,
    "start_time": "2023-08-22T20:02:12.953Z"
   },
   {
    "duration": 45,
    "start_time": "2023-08-22T20:02:12.985Z"
   },
   {
    "duration": 291,
    "start_time": "2023-08-22T20:02:13.032Z"
   },
   {
    "duration": 41,
    "start_time": "2023-08-22T20:02:13.325Z"
   },
   {
    "duration": 18,
    "start_time": "2023-08-22T20:02:13.368Z"
   },
   {
    "duration": 19,
    "start_time": "2023-08-22T20:02:13.389Z"
   },
   {
    "duration": 39,
    "start_time": "2023-08-22T20:02:13.411Z"
   },
   {
    "duration": 45,
    "start_time": "2023-08-22T20:02:13.453Z"
   },
   {
    "duration": 19,
    "start_time": "2023-08-22T20:02:13.501Z"
   },
   {
    "duration": 6,
    "start_time": "2023-08-22T20:02:13.522Z"
   },
   {
    "duration": 242,
    "start_time": "2023-08-22T20:02:13.530Z"
   },
   {
    "duration": 16,
    "start_time": "2023-08-22T20:02:13.775Z"
   },
   {
    "duration": 5,
    "start_time": "2023-08-22T20:02:13.793Z"
   },
   {
    "duration": 17,
    "start_time": "2023-08-22T20:02:13.801Z"
   },
   {
    "duration": 7,
    "start_time": "2023-08-22T20:02:13.820Z"
   },
   {
    "duration": 10,
    "start_time": "2023-08-22T20:02:13.829Z"
   },
   {
    "duration": 6,
    "start_time": "2023-08-22T20:02:13.841Z"
   },
   {
    "duration": 19,
    "start_time": "2023-08-22T20:02:13.883Z"
   },
   {
    "duration": 15,
    "start_time": "2023-08-22T20:02:13.904Z"
   },
   {
    "duration": 128,
    "start_time": "2023-08-22T20:02:13.922Z"
   },
   {
    "duration": 11,
    "start_time": "2023-08-22T20:02:14.052Z"
   },
   {
    "duration": 18,
    "start_time": "2023-08-22T20:02:14.065Z"
   },
   {
    "duration": 8,
    "start_time": "2023-08-22T20:02:14.086Z"
   },
   {
    "duration": 14,
    "start_time": "2023-08-22T20:02:14.096Z"
   },
   {
    "duration": 13,
    "start_time": "2023-08-22T20:02:14.112Z"
   },
   {
    "duration": 77,
    "start_time": "2023-08-22T20:02:14.127Z"
   },
   {
    "duration": 7,
    "start_time": "2023-08-22T20:02:14.207Z"
   },
   {
    "duration": 2379,
    "start_time": "2023-08-22T20:02:14.217Z"
   },
   {
    "duration": 13,
    "start_time": "2023-08-22T20:02:16.598Z"
   },
   {
    "duration": 11,
    "start_time": "2023-08-22T20:02:16.613Z"
   },
   {
    "duration": 9,
    "start_time": "2023-08-22T20:02:16.626Z"
   },
   {
    "duration": 2199,
    "start_time": "2023-08-22T20:02:16.637Z"
   },
   {
    "duration": 679,
    "start_time": "2023-08-22T20:02:18.841Z"
   },
   {
    "duration": 285,
    "start_time": "2023-08-22T20:02:19.523Z"
   },
   {
    "duration": 20854,
    "start_time": "2023-08-22T20:02:47.756Z"
   },
   {
    "duration": 22411,
    "start_time": "2023-08-22T20:03:45.369Z"
   },
   {
    "duration": 20027,
    "start_time": "2023-08-22T20:07:32.668Z"
   },
   {
    "duration": 20699,
    "start_time": "2023-08-22T20:08:58.210Z"
   },
   {
    "duration": 183924,
    "start_time": "2023-08-22T20:21:34.798Z"
   },
   {
    "duration": 52836,
    "start_time": "2023-08-22T20:26:05.708Z"
   },
   {
    "duration": 5098,
    "start_time": "2023-08-22T20:34:41.998Z"
   },
   {
    "duration": 4743,
    "start_time": "2023-08-22T20:35:21.744Z"
   },
   {
    "duration": 197,
    "start_time": "2023-08-22T20:43:23.520Z"
   },
   {
    "duration": 208,
    "start_time": "2023-08-22T20:50:00.522Z"
   },
   {
    "duration": 2898,
    "start_time": "2023-08-22T20:53:41.632Z"
   },
   {
    "duration": 2394,
    "start_time": "2023-08-22T20:53:44.534Z"
   },
   {
    "duration": 4,
    "start_time": "2023-08-22T20:53:46.930Z"
   },
   {
    "duration": 257,
    "start_time": "2023-08-22T20:53:46.936Z"
   },
   {
    "duration": 25,
    "start_time": "2023-08-22T20:53:47.195Z"
   },
   {
    "duration": 63,
    "start_time": "2023-08-22T20:53:47.222Z"
   },
   {
    "duration": 25,
    "start_time": "2023-08-22T20:53:47.287Z"
   },
   {
    "duration": 32,
    "start_time": "2023-08-22T20:53:47.316Z"
   },
   {
    "duration": 3,
    "start_time": "2023-08-22T20:53:47.351Z"
   },
   {
    "duration": 4,
    "start_time": "2023-08-22T20:53:47.380Z"
   },
   {
    "duration": 10,
    "start_time": "2023-08-22T20:53:47.387Z"
   },
   {
    "duration": 14,
    "start_time": "2023-08-22T20:53:47.399Z"
   },
   {
    "duration": 211,
    "start_time": "2023-08-22T20:53:47.415Z"
   },
   {
    "duration": 40,
    "start_time": "2023-08-22T20:53:47.628Z"
   },
   {
    "duration": 17,
    "start_time": "2023-08-22T20:53:47.670Z"
   },
   {
    "duration": 13,
    "start_time": "2023-08-22T20:53:47.688Z"
   },
   {
    "duration": 35,
    "start_time": "2023-08-22T20:53:47.703Z"
   },
   {
    "duration": 14,
    "start_time": "2023-08-22T20:53:47.740Z"
   },
   {
    "duration": 12,
    "start_time": "2023-08-22T20:53:47.781Z"
   },
   {
    "duration": 5,
    "start_time": "2023-08-22T20:53:47.795Z"
   },
   {
    "duration": 159,
    "start_time": "2023-08-22T20:53:47.802Z"
   },
   {
    "duration": 9,
    "start_time": "2023-08-22T20:53:47.963Z"
   },
   {
    "duration": 5,
    "start_time": "2023-08-22T20:53:47.981Z"
   },
   {
    "duration": 11,
    "start_time": "2023-08-22T20:53:47.988Z"
   },
   {
    "duration": 4,
    "start_time": "2023-08-22T20:53:48.001Z"
   },
   {
    "duration": 9,
    "start_time": "2023-08-22T20:53:48.007Z"
   },
   {
    "duration": 5,
    "start_time": "2023-08-22T20:53:48.019Z"
   },
   {
    "duration": 56,
    "start_time": "2023-08-22T20:53:48.028Z"
   },
   {
    "duration": 12,
    "start_time": "2023-08-22T20:53:48.086Z"
   },
   {
    "duration": 86,
    "start_time": "2023-08-22T20:53:48.099Z"
   },
   {
    "duration": 8,
    "start_time": "2023-08-22T20:53:48.187Z"
   },
   {
    "duration": 6,
    "start_time": "2023-08-22T20:53:48.197Z"
   },
   {
    "duration": 3,
    "start_time": "2023-08-22T20:53:48.205Z"
   },
   {
    "duration": 15,
    "start_time": "2023-08-22T20:53:48.210Z"
   },
   {
    "duration": 11,
    "start_time": "2023-08-22T20:53:48.227Z"
   },
   {
    "duration": 84,
    "start_time": "2023-08-22T20:53:48.240Z"
   },
   {
    "duration": 8,
    "start_time": "2023-08-22T20:53:48.326Z"
   },
   {
    "duration": 1491,
    "start_time": "2023-08-22T20:53:48.336Z"
   },
   {
    "duration": 10,
    "start_time": "2023-08-22T20:53:49.829Z"
   },
   {
    "duration": 11,
    "start_time": "2023-08-22T20:53:49.841Z"
   },
   {
    "duration": 28,
    "start_time": "2023-08-22T20:53:49.853Z"
   },
   {
    "duration": 1266,
    "start_time": "2023-08-22T20:53:49.883Z"
   },
   {
    "duration": 773,
    "start_time": "2023-08-22T20:53:51.151Z"
   },
   {
    "duration": 6101,
    "start_time": "2023-08-22T20:53:51.926Z"
   },
   {
    "duration": 49496,
    "start_time": "2023-08-22T20:53:58.029Z"
   },
   {
    "duration": 4466,
    "start_time": "2023-08-22T20:54:47.527Z"
   },
   {
    "duration": 263,
    "start_time": "2023-08-22T20:54:51.995Z"
   },
   {
    "duration": 1814,
    "start_time": "2023-08-22T21:01:14.159Z"
   },
   {
    "duration": 3602,
    "start_time": "2023-08-22T21:01:36.613Z"
   },
   {
    "duration": 2949,
    "start_time": "2023-08-22T21:01:40.222Z"
   },
   {
    "duration": 4,
    "start_time": "2023-08-22T21:01:43.174Z"
   },
   {
    "duration": 316,
    "start_time": "2023-08-22T21:01:43.181Z"
   },
   {
    "duration": 22,
    "start_time": "2023-08-22T21:01:43.499Z"
   },
   {
    "duration": 42,
    "start_time": "2023-08-22T21:01:43.522Z"
   },
   {
    "duration": 42,
    "start_time": "2023-08-22T21:01:43.566Z"
   },
   {
    "duration": 40,
    "start_time": "2023-08-22T21:01:43.610Z"
   },
   {
    "duration": 2,
    "start_time": "2023-08-22T21:01:43.652Z"
   },
   {
    "duration": 15,
    "start_time": "2023-08-22T21:01:43.657Z"
   },
   {
    "duration": 21,
    "start_time": "2023-08-22T21:01:43.673Z"
   },
   {
    "duration": 29,
    "start_time": "2023-08-22T21:01:43.696Z"
   },
   {
    "duration": 260,
    "start_time": "2023-08-22T21:01:43.730Z"
   },
   {
    "duration": 39,
    "start_time": "2023-08-22T21:01:43.996Z"
   },
   {
    "duration": 8,
    "start_time": "2023-08-22T21:01:44.037Z"
   },
   {
    "duration": 17,
    "start_time": "2023-08-22T21:01:44.046Z"
   },
   {
    "duration": 58,
    "start_time": "2023-08-22T21:01:44.065Z"
   },
   {
    "duration": 23,
    "start_time": "2023-08-22T21:01:44.125Z"
   },
   {
    "duration": 18,
    "start_time": "2023-08-22T21:01:44.150Z"
   },
   {
    "duration": 14,
    "start_time": "2023-08-22T21:01:44.170Z"
   },
   {
    "duration": 220,
    "start_time": "2023-08-22T21:01:44.192Z"
   },
   {
    "duration": 13,
    "start_time": "2023-08-22T21:01:44.414Z"
   },
   {
    "duration": 21,
    "start_time": "2023-08-22T21:01:44.433Z"
   },
   {
    "duration": 15,
    "start_time": "2023-08-22T21:01:44.456Z"
   },
   {
    "duration": 27,
    "start_time": "2023-08-22T21:01:44.472Z"
   },
   {
    "duration": 20,
    "start_time": "2023-08-22T21:01:44.510Z"
   },
   {
    "duration": 6,
    "start_time": "2023-08-22T21:01:44.536Z"
   },
   {
    "duration": 27,
    "start_time": "2023-08-22T21:01:44.547Z"
   },
   {
    "duration": 23,
    "start_time": "2023-08-22T21:01:44.575Z"
   },
   {
    "duration": 97,
    "start_time": "2023-08-22T21:01:44.600Z"
   },
   {
    "duration": 22,
    "start_time": "2023-08-22T21:01:44.699Z"
   },
   {
    "duration": 10,
    "start_time": "2023-08-22T21:01:44.723Z"
   },
   {
    "duration": 17,
    "start_time": "2023-08-22T21:01:44.735Z"
   },
   {
    "duration": 52,
    "start_time": "2023-08-22T21:01:44.753Z"
   },
   {
    "duration": 24,
    "start_time": "2023-08-22T21:01:44.807Z"
   },
   {
    "duration": 98,
    "start_time": "2023-08-22T21:01:44.833Z"
   },
   {
    "duration": 9,
    "start_time": "2023-08-22T21:01:44.933Z"
   },
   {
    "duration": 2201,
    "start_time": "2023-08-22T21:01:44.944Z"
   },
   {
    "duration": 17,
    "start_time": "2023-08-22T21:01:47.147Z"
   },
   {
    "duration": 22,
    "start_time": "2023-08-22T21:01:47.169Z"
   },
   {
    "duration": 24,
    "start_time": "2023-08-22T21:01:47.195Z"
   },
   {
    "duration": 1777,
    "start_time": "2023-08-22T21:01:47.225Z"
   },
   {
    "duration": 682,
    "start_time": "2023-08-22T21:01:49.008Z"
   },
   {
    "duration": 7501,
    "start_time": "2023-08-22T21:01:49.696Z"
   },
   {
    "duration": 62176,
    "start_time": "2023-08-22T21:01:57.202Z"
   },
   {
    "duration": 5007,
    "start_time": "2023-08-22T21:02:59.380Z"
   },
   {
    "duration": 285,
    "start_time": "2023-08-22T21:03:04.406Z"
   },
   {
    "duration": 1863,
    "start_time": "2023-08-22T21:03:04.693Z"
   },
   {
    "duration": 2025,
    "start_time": "2023-08-22T21:03:12.826Z"
   },
   {
    "duration": 16821,
    "start_time": "2023-08-23T13:42:30.086Z"
   },
   {
    "duration": 6484,
    "start_time": "2023-08-23T13:42:46.910Z"
   },
   {
    "duration": 2130,
    "start_time": "2023-08-23T13:42:53.396Z"
   },
   {
    "duration": 873,
    "start_time": "2023-08-23T13:42:55.528Z"
   },
   {
    "duration": 20,
    "start_time": "2023-08-23T13:42:56.403Z"
   },
   {
    "duration": 27,
    "start_time": "2023-08-23T13:42:56.425Z"
   },
   {
    "duration": 17,
    "start_time": "2023-08-23T13:42:56.459Z"
   },
   {
    "duration": 37,
    "start_time": "2023-08-23T13:42:56.478Z"
   },
   {
    "duration": 3,
    "start_time": "2023-08-23T13:42:56.517Z"
   },
   {
    "duration": 8,
    "start_time": "2023-08-23T13:42:56.522Z"
   },
   {
    "duration": 10,
    "start_time": "2023-08-23T13:42:56.531Z"
   },
   {
    "duration": 25,
    "start_time": "2023-08-23T13:42:56.542Z"
   },
   {
    "duration": 193,
    "start_time": "2023-08-23T13:42:56.569Z"
   },
   {
    "duration": 28,
    "start_time": "2023-08-23T13:42:56.764Z"
   },
   {
    "duration": 5,
    "start_time": "2023-08-23T13:42:56.793Z"
   },
   {
    "duration": 20,
    "start_time": "2023-08-23T13:42:56.800Z"
   },
   {
    "duration": 61,
    "start_time": "2023-08-23T13:42:56.822Z"
   },
   {
    "duration": 18,
    "start_time": "2023-08-23T13:42:56.885Z"
   },
   {
    "duration": 14,
    "start_time": "2023-08-23T13:42:56.905Z"
   },
   {
    "duration": 14,
    "start_time": "2023-08-23T13:42:56.921Z"
   },
   {
    "duration": 164,
    "start_time": "2023-08-23T13:42:56.937Z"
   },
   {
    "duration": 9,
    "start_time": "2023-08-23T13:42:57.103Z"
   },
   {
    "duration": 4,
    "start_time": "2023-08-23T13:42:57.113Z"
   },
   {
    "duration": 11,
    "start_time": "2023-08-23T13:42:57.119Z"
   },
   {
    "duration": 4,
    "start_time": "2023-08-23T13:42:57.132Z"
   },
   {
    "duration": 8,
    "start_time": "2023-08-23T13:42:57.160Z"
   },
   {
    "duration": 6,
    "start_time": "2023-08-23T13:42:57.170Z"
   },
   {
    "duration": 15,
    "start_time": "2023-08-23T13:42:57.179Z"
   },
   {
    "duration": 19,
    "start_time": "2023-08-23T13:42:57.196Z"
   },
   {
    "duration": 92,
    "start_time": "2023-08-23T13:42:57.217Z"
   },
   {
    "duration": 7,
    "start_time": "2023-08-23T13:42:57.311Z"
   },
   {
    "duration": 8,
    "start_time": "2023-08-23T13:42:57.320Z"
   },
   {
    "duration": 5,
    "start_time": "2023-08-23T13:42:57.330Z"
   },
   {
    "duration": 24,
    "start_time": "2023-08-23T13:42:57.336Z"
   },
   {
    "duration": 11,
    "start_time": "2023-08-23T13:42:57.362Z"
   },
   {
    "duration": 84,
    "start_time": "2023-08-23T13:42:57.375Z"
   },
   {
    "duration": 5,
    "start_time": "2023-08-23T13:42:57.461Z"
   },
   {
    "duration": 1510,
    "start_time": "2023-08-23T13:42:57.468Z"
   },
   {
    "duration": 11,
    "start_time": "2023-08-23T13:42:58.980Z"
   },
   {
    "duration": 47,
    "start_time": "2023-08-23T13:42:58.993Z"
   },
   {
    "duration": 14,
    "start_time": "2023-08-23T13:42:59.041Z"
   },
   {
    "duration": 1219,
    "start_time": "2023-08-23T13:42:59.056Z"
   },
   {
    "duration": 566,
    "start_time": "2023-08-23T13:43:00.276Z"
   },
   {
    "duration": 5762,
    "start_time": "2023-08-23T13:43:00.845Z"
   },
   {
    "duration": 48630,
    "start_time": "2023-08-23T13:43:06.609Z"
   },
   {
    "duration": 5636,
    "start_time": "2023-08-23T13:43:55.241Z"
   },
   {
    "duration": 294,
    "start_time": "2023-08-23T13:44:00.960Z"
   },
   {
    "duration": 1516,
    "start_time": "2023-08-23T13:44:01.258Z"
   },
   {
    "duration": 1554,
    "start_time": "2023-08-23T14:14:10.271Z"
   },
   {
    "duration": 1559,
    "start_time": "2023-08-23T14:14:55.752Z"
   },
   {
    "duration": 209,
    "start_time": "2023-08-23T14:18:59.713Z"
   },
   {
    "duration": 40,
    "start_time": "2023-08-23T14:32:55.501Z"
   },
   {
    "duration": 7,
    "start_time": "2023-08-23T14:37:57.757Z"
   },
   {
    "duration": 7,
    "start_time": "2023-08-23T14:39:24.149Z"
   },
   {
    "duration": 6,
    "start_time": "2023-08-23T14:39:37.005Z"
   },
   {
    "duration": 6,
    "start_time": "2023-08-23T14:39:41.781Z"
   },
   {
    "duration": 7,
    "start_time": "2023-08-23T14:40:09.599Z"
   },
   {
    "duration": 5,
    "start_time": "2023-08-23T14:42:06.520Z"
   },
   {
    "duration": 8,
    "start_time": "2023-08-23T14:42:22.022Z"
   },
   {
    "duration": 6,
    "start_time": "2023-08-23T14:42:28.574Z"
   },
   {
    "duration": 7,
    "start_time": "2023-08-23T14:42:38.511Z"
   },
   {
    "duration": 8,
    "start_time": "2023-08-23T14:43:19.104Z"
   },
   {
    "duration": 9,
    "start_time": "2023-08-23T14:43:23.997Z"
   },
   {
    "duration": 6,
    "start_time": "2023-08-23T14:43:30.872Z"
   },
   {
    "duration": 7,
    "start_time": "2023-08-23T14:43:35.376Z"
   },
   {
    "duration": 6,
    "start_time": "2023-08-23T14:43:40.352Z"
   },
   {
    "duration": 7,
    "start_time": "2023-08-23T14:43:48.043Z"
   },
   {
    "duration": 7,
    "start_time": "2023-08-23T14:44:38.435Z"
   },
   {
    "duration": 7,
    "start_time": "2023-08-23T14:44:46.694Z"
   },
   {
    "duration": 8,
    "start_time": "2023-08-23T14:44:54.265Z"
   },
   {
    "duration": 44,
    "start_time": "2023-08-23T14:52:48.783Z"
   },
   {
    "duration": 114,
    "start_time": "2023-08-23T14:55:23.066Z"
   },
   {
    "duration": 39,
    "start_time": "2023-08-23T14:55:33.280Z"
   },
   {
    "duration": 2738,
    "start_time": "2023-08-23T15:31:16.689Z"
   },
   {
    "duration": 2334,
    "start_time": "2023-08-23T15:31:19.430Z"
   },
   {
    "duration": 7,
    "start_time": "2023-08-23T15:31:21.767Z"
   },
   {
    "duration": 240,
    "start_time": "2023-08-23T15:31:21.776Z"
   },
   {
    "duration": 19,
    "start_time": "2023-08-23T15:31:22.018Z"
   },
   {
    "duration": 51,
    "start_time": "2023-08-23T15:31:22.040Z"
   },
   {
    "duration": 21,
    "start_time": "2023-08-23T15:31:22.093Z"
   },
   {
    "duration": 25,
    "start_time": "2023-08-23T15:31:22.116Z"
   },
   {
    "duration": 3,
    "start_time": "2023-08-23T15:31:22.158Z"
   },
   {
    "duration": 4,
    "start_time": "2023-08-23T15:31:22.165Z"
   },
   {
    "duration": 11,
    "start_time": "2023-08-23T15:31:22.171Z"
   },
   {
    "duration": 15,
    "start_time": "2023-08-23T15:31:22.183Z"
   },
   {
    "duration": 250,
    "start_time": "2023-08-23T15:31:22.200Z"
   },
   {
    "duration": 34,
    "start_time": "2023-08-23T15:31:22.452Z"
   },
   {
    "duration": 10,
    "start_time": "2023-08-23T15:31:22.488Z"
   },
   {
    "duration": 24,
    "start_time": "2023-08-23T15:31:22.499Z"
   },
   {
    "duration": 51,
    "start_time": "2023-08-23T15:31:22.525Z"
   },
   {
    "duration": 19,
    "start_time": "2023-08-23T15:31:22.578Z"
   },
   {
    "duration": 14,
    "start_time": "2023-08-23T15:31:22.599Z"
   },
   {
    "duration": 5,
    "start_time": "2023-08-23T15:31:22.615Z"
   },
   {
    "duration": 368,
    "start_time": "2023-08-23T15:31:22.621Z"
   },
   {
    "duration": 10,
    "start_time": "2023-08-23T15:31:22.992Z"
   },
   {
    "duration": 6,
    "start_time": "2023-08-23T15:31:23.004Z"
   },
   {
    "duration": 23,
    "start_time": "2023-08-23T15:31:23.011Z"
   },
   {
    "duration": 5,
    "start_time": "2023-08-23T15:31:23.037Z"
   },
   {
    "duration": 13,
    "start_time": "2023-08-23T15:31:23.060Z"
   },
   {
    "duration": 11,
    "start_time": "2023-08-23T15:31:23.075Z"
   },
   {
    "duration": 28,
    "start_time": "2023-08-23T15:31:23.090Z"
   },
   {
    "duration": 20,
    "start_time": "2023-08-23T15:31:23.120Z"
   },
   {
    "duration": 69,
    "start_time": "2023-08-23T15:31:23.142Z"
   },
   {
    "duration": 8,
    "start_time": "2023-08-23T15:31:23.213Z"
   },
   {
    "duration": 12,
    "start_time": "2023-08-23T15:31:23.222Z"
   },
   {
    "duration": 8,
    "start_time": "2023-08-23T15:31:23.235Z"
   },
   {
    "duration": 16,
    "start_time": "2023-08-23T15:31:23.246Z"
   },
   {
    "duration": 20,
    "start_time": "2023-08-23T15:31:23.265Z"
   },
   {
    "duration": 78,
    "start_time": "2023-08-23T15:31:23.287Z"
   },
   {
    "duration": 5,
    "start_time": "2023-08-23T15:31:23.367Z"
   },
   {
    "duration": 1688,
    "start_time": "2023-08-23T15:31:23.374Z"
   },
   {
    "duration": 18,
    "start_time": "2023-08-23T15:31:25.064Z"
   },
   {
    "duration": 37,
    "start_time": "2023-08-23T15:31:25.084Z"
   },
   {
    "duration": 9,
    "start_time": "2023-08-23T15:31:25.123Z"
   },
   {
    "duration": 1448,
    "start_time": "2023-08-23T15:31:25.134Z"
   },
   {
    "duration": 578,
    "start_time": "2023-08-23T15:31:26.584Z"
   },
   {
    "duration": 6072,
    "start_time": "2023-08-23T15:31:27.163Z"
   },
   {
    "duration": 52051,
    "start_time": "2023-08-23T15:31:33.237Z"
   },
   {
    "duration": 4600,
    "start_time": "2023-08-23T15:32:25.290Z"
   },
   {
    "duration": 335,
    "start_time": "2023-08-23T15:32:29.892Z"
   },
   {
    "duration": 1581,
    "start_time": "2023-08-23T15:32:30.230Z"
   },
   {
    "duration": 58,
    "start_time": "2023-08-23T15:32:31.814Z"
   },
   {
    "duration": 208,
    "start_time": "2023-08-23T15:32:31.874Z"
   },
   {
    "duration": 29,
    "start_time": "2023-08-23T15:35:35.370Z"
   },
   {
    "duration": 2480,
    "start_time": "2023-08-23T16:43:49.528Z"
   },
   {
    "duration": 1991,
    "start_time": "2023-08-23T16:43:52.011Z"
   },
   {
    "duration": 1851,
    "start_time": "2023-08-23T16:43:54.004Z"
   },
   {
    "duration": 251,
    "start_time": "2023-08-23T16:43:55.858Z"
   },
   {
    "duration": 20,
    "start_time": "2023-08-23T16:43:56.111Z"
   },
   {
    "duration": 44,
    "start_time": "2023-08-23T16:43:56.133Z"
   },
   {
    "duration": 17,
    "start_time": "2023-08-23T16:43:56.179Z"
   },
   {
    "duration": 26,
    "start_time": "2023-08-23T16:43:56.197Z"
   },
   {
    "duration": 42393,
    "start_time": "2023-08-23T16:43:56.225Z"
   },
   {
    "duration": 39129,
    "start_time": "2023-08-23T16:44:38.623Z"
   },
   {
    "duration": 7,
    "start_time": "2023-08-23T16:45:17.760Z"
   },
   {
    "duration": 16,
    "start_time": "2023-08-23T16:45:17.769Z"
   },
   {
    "duration": 389,
    "start_time": "2023-08-23T16:45:17.786Z"
   },
   {
    "duration": 28,
    "start_time": "2023-08-23T16:45:18.177Z"
   },
   {
    "duration": 10,
    "start_time": "2023-08-23T16:45:18.207Z"
   },
   {
    "duration": 13,
    "start_time": "2023-08-23T16:45:18.259Z"
   },
   {
    "duration": 37,
    "start_time": "2023-08-23T16:45:18.274Z"
   },
   {
    "duration": 21,
    "start_time": "2023-08-23T16:45:18.313Z"
   },
   {
    "duration": 34,
    "start_time": "2023-08-23T16:45:18.336Z"
   },
   {
    "duration": 5,
    "start_time": "2023-08-23T16:45:18.371Z"
   },
   {
    "duration": 142,
    "start_time": "2023-08-23T16:45:18.378Z"
   },
   {
    "duration": 8,
    "start_time": "2023-08-23T16:45:18.522Z"
   },
   {
    "duration": 8,
    "start_time": "2023-08-23T16:45:18.532Z"
   },
   {
    "duration": 28,
    "start_time": "2023-08-23T16:45:18.541Z"
   },
   {
    "duration": 4,
    "start_time": "2023-08-23T16:45:18.571Z"
   },
   {
    "duration": 8,
    "start_time": "2023-08-23T16:45:18.576Z"
   },
   {
    "duration": 4,
    "start_time": "2023-08-23T16:45:18.586Z"
   },
   {
    "duration": 14,
    "start_time": "2023-08-23T16:45:18.593Z"
   },
   {
    "duration": 18,
    "start_time": "2023-08-23T16:45:18.609Z"
   },
   {
    "duration": 83,
    "start_time": "2023-08-23T16:45:18.629Z"
   },
   {
    "duration": 8,
    "start_time": "2023-08-23T16:45:18.714Z"
   },
   {
    "duration": 9,
    "start_time": "2023-08-23T16:45:18.723Z"
   },
   {
    "duration": 8,
    "start_time": "2023-08-23T16:45:18.733Z"
   },
   {
    "duration": 20,
    "start_time": "2023-08-23T16:45:18.742Z"
   },
   {
    "duration": 771,
    "start_time": "2023-08-23T16:45:18.764Z"
   },
   {
    "duration": 62,
    "start_time": "2023-08-23T16:45:19.537Z"
   },
   {
    "duration": 6,
    "start_time": "2023-08-23T16:45:19.601Z"
   },
   {
    "duration": 1404,
    "start_time": "2023-08-23T16:45:19.608Z"
   },
   {
    "duration": 13,
    "start_time": "2023-08-23T16:45:21.013Z"
   },
   {
    "duration": 15,
    "start_time": "2023-08-23T16:45:21.029Z"
   },
   {
    "duration": 12,
    "start_time": "2023-08-23T16:45:21.058Z"
   },
   {
    "duration": 1446,
    "start_time": "2023-08-23T16:45:21.072Z"
   },
   {
    "duration": 580,
    "start_time": "2023-08-23T16:45:22.520Z"
   },
   {
    "duration": 5746,
    "start_time": "2023-08-23T16:45:23.102Z"
   },
   {
    "duration": 49556,
    "start_time": "2023-08-23T16:45:28.850Z"
   },
   {
    "duration": 5153,
    "start_time": "2023-08-23T16:46:18.408Z"
   },
   {
    "duration": 259,
    "start_time": "2023-08-23T16:46:23.563Z"
   },
   {
    "duration": 1510,
    "start_time": "2023-08-23T16:46:23.824Z"
   },
   {
    "duration": 51,
    "start_time": "2023-08-23T16:46:25.337Z"
   },
   {
    "duration": 17032,
    "start_time": "2023-08-24T16:34:51.627Z"
   },
   {
    "duration": 8120,
    "start_time": "2023-08-24T16:35:08.661Z"
   },
   {
    "duration": 2100,
    "start_time": "2023-08-24T16:35:16.783Z"
   },
   {
    "duration": 431,
    "start_time": "2023-08-24T16:35:18.885Z"
   },
   {
    "duration": 18,
    "start_time": "2023-08-24T16:35:19.317Z"
   },
   {
    "duration": 1083,
    "start_time": "2023-08-24T16:35:19.337Z"
   },
   {
    "duration": 849,
    "start_time": "2023-08-24T16:35:20.422Z"
   },
   {
    "duration": 131,
    "start_time": "2023-08-24T16:35:21.273Z"
   },
   {
    "duration": 39750,
    "start_time": "2023-08-24T16:35:21.406Z"
   },
   {
    "duration": 37680,
    "start_time": "2023-08-24T16:36:01.160Z"
   },
   {
    "duration": 6,
    "start_time": "2023-08-24T16:36:38.851Z"
   },
   {
    "duration": 21,
    "start_time": "2023-08-24T16:36:38.859Z"
   },
   {
    "duration": 384,
    "start_time": "2023-08-24T16:36:38.882Z"
   },
   {
    "duration": 26,
    "start_time": "2023-08-24T16:36:39.268Z"
   },
   {
    "duration": 59,
    "start_time": "2023-08-24T16:36:39.295Z"
   },
   {
    "duration": 12,
    "start_time": "2023-08-24T16:36:39.356Z"
   },
   {
    "duration": 35,
    "start_time": "2023-08-24T16:36:39.370Z"
   },
   {
    "duration": 52,
    "start_time": "2023-08-24T16:36:39.407Z"
   },
   {
    "duration": 13,
    "start_time": "2023-08-24T16:36:39.461Z"
   },
   {
    "duration": 4,
    "start_time": "2023-08-24T16:36:39.476Z"
   },
   {
    "duration": 154,
    "start_time": "2023-08-24T16:36:39.482Z"
   },
   {
    "duration": 15,
    "start_time": "2023-08-24T16:36:39.637Z"
   },
   {
    "duration": 4,
    "start_time": "2023-08-24T16:36:39.654Z"
   },
   {
    "duration": 10,
    "start_time": "2023-08-24T16:36:39.660Z"
   },
   {
    "duration": 4,
    "start_time": "2023-08-24T16:36:39.671Z"
   },
   {
    "duration": 9,
    "start_time": "2023-08-24T16:36:39.677Z"
   },
   {
    "duration": 4,
    "start_time": "2023-08-24T16:36:39.688Z"
   },
   {
    "duration": 18,
    "start_time": "2023-08-24T16:36:39.695Z"
   },
   {
    "duration": 42,
    "start_time": "2023-08-24T16:36:39.714Z"
   },
   {
    "duration": 61,
    "start_time": "2023-08-24T16:36:39.758Z"
   },
   {
    "duration": 8,
    "start_time": "2023-08-24T16:36:39.821Z"
   },
   {
    "duration": 22,
    "start_time": "2023-08-24T16:36:39.831Z"
   },
   {
    "duration": 16,
    "start_time": "2023-08-24T16:36:39.855Z"
   },
   {
    "duration": 14,
    "start_time": "2023-08-24T16:36:39.873Z"
   },
   {
    "duration": 35,
    "start_time": "2023-08-24T16:36:39.889Z"
   },
   {
    "duration": 60,
    "start_time": "2023-08-24T16:36:39.925Z"
   },
   {
    "duration": 5,
    "start_time": "2023-08-24T16:36:39.987Z"
   },
   {
    "duration": 1423,
    "start_time": "2023-08-24T16:36:39.994Z"
   },
   {
    "duration": 10,
    "start_time": "2023-08-24T16:36:41.419Z"
   },
   {
    "duration": 21,
    "start_time": "2023-08-24T16:36:41.431Z"
   },
   {
    "duration": 9,
    "start_time": "2023-08-24T16:36:41.453Z"
   },
   {
    "duration": 1250,
    "start_time": "2023-08-24T16:36:41.463Z"
   },
   {
    "duration": 564,
    "start_time": "2023-08-24T16:36:42.715Z"
   },
   {
    "duration": 5421,
    "start_time": "2023-08-24T16:36:43.280Z"
   },
   {
    "duration": 45310,
    "start_time": "2023-08-24T16:36:48.703Z"
   },
   {
    "duration": 4059,
    "start_time": "2023-08-24T16:37:34.014Z"
   },
   {
    "duration": 287,
    "start_time": "2023-08-24T16:37:38.156Z"
   },
   {
    "duration": 1437,
    "start_time": "2023-08-24T16:37:38.451Z"
   },
   {
    "duration": 39,
    "start_time": "2023-08-24T16:37:39.890Z"
   },
   {
    "duration": 63,
    "start_time": "2023-08-24T17:43:30.598Z"
   },
   {
    "duration": 2829,
    "start_time": "2023-08-24T17:43:51.852Z"
   },
   {
    "duration": 2279,
    "start_time": "2023-08-24T17:43:54.684Z"
   },
   {
    "duration": 5,
    "start_time": "2023-08-24T17:43:56.965Z"
   },
   {
    "duration": 224,
    "start_time": "2023-08-24T17:43:56.972Z"
   },
   {
    "duration": 17,
    "start_time": "2023-08-24T17:43:57.198Z"
   },
   {
    "duration": 46,
    "start_time": "2023-08-24T17:43:57.218Z"
   },
   {
    "duration": 22,
    "start_time": "2023-08-24T17:43:57.267Z"
   },
   {
    "duration": 20,
    "start_time": "2023-08-24T17:43:57.291Z"
   },
   {
    "duration": 2,
    "start_time": "2023-08-24T17:43:57.313Z"
   },
   {
    "duration": 5,
    "start_time": "2023-08-24T17:43:57.318Z"
   },
   {
    "duration": 29,
    "start_time": "2023-08-24T17:43:57.324Z"
   },
   {
    "duration": 22,
    "start_time": "2023-08-24T17:43:57.356Z"
   },
   {
    "duration": 194,
    "start_time": "2023-08-24T17:43:57.379Z"
   },
   {
    "duration": 8,
    "start_time": "2023-08-24T17:43:57.574Z"
   },
   {
    "duration": 13,
    "start_time": "2023-08-24T17:43:57.584Z"
   },
   {
    "duration": 56,
    "start_time": "2023-08-24T17:43:57.598Z"
   },
   {
    "duration": 58,
    "start_time": "2023-08-24T17:43:57.656Z"
   },
   {
    "duration": 36,
    "start_time": "2023-08-24T17:43:57.716Z"
   },
   {
    "duration": 4,
    "start_time": "2023-08-24T17:43:57.754Z"
   },
   {
    "duration": 149,
    "start_time": "2023-08-24T17:43:57.760Z"
   },
   {
    "duration": 8,
    "start_time": "2023-08-24T17:43:57.911Z"
   },
   {
    "duration": 4,
    "start_time": "2023-08-24T17:43:57.921Z"
   },
   {
    "duration": 29,
    "start_time": "2023-08-24T17:43:57.927Z"
   },
   {
    "duration": 11,
    "start_time": "2023-08-24T17:43:57.958Z"
   },
   {
    "duration": 9,
    "start_time": "2023-08-24T17:43:57.971Z"
   },
   {
    "duration": 6,
    "start_time": "2023-08-24T17:43:57.982Z"
   },
   {
    "duration": 19,
    "start_time": "2023-08-24T17:43:57.990Z"
   },
   {
    "duration": 16,
    "start_time": "2023-08-24T17:43:58.014Z"
   },
   {
    "duration": 67,
    "start_time": "2023-08-24T17:43:58.053Z"
   },
   {
    "duration": 8,
    "start_time": "2023-08-24T17:43:58.124Z"
   },
   {
    "duration": 6,
    "start_time": "2023-08-24T17:43:58.133Z"
   },
   {
    "duration": 3,
    "start_time": "2023-08-24T17:43:58.152Z"
   },
   {
    "duration": 27,
    "start_time": "2023-08-24T17:43:58.156Z"
   },
   {
    "duration": 10,
    "start_time": "2023-08-24T17:43:58.186Z"
   },
   {
    "duration": 88,
    "start_time": "2023-08-24T17:43:58.198Z"
   },
   {
    "duration": 9,
    "start_time": "2023-08-24T17:43:58.288Z"
   },
   {
    "duration": 1522,
    "start_time": "2023-08-24T17:43:58.299Z"
   },
   {
    "duration": 11,
    "start_time": "2023-08-24T17:43:59.823Z"
   },
   {
    "duration": 24,
    "start_time": "2023-08-24T17:43:59.836Z"
   },
   {
    "duration": 8,
    "start_time": "2023-08-24T17:43:59.862Z"
   },
   {
    "duration": 1162,
    "start_time": "2023-08-24T17:43:59.873Z"
   },
   {
    "duration": 516,
    "start_time": "2023-08-24T17:44:01.037Z"
   },
   {
    "duration": 5391,
    "start_time": "2023-08-24T17:44:01.555Z"
   },
   {
    "duration": 44040,
    "start_time": "2023-08-24T17:44:06.947Z"
   },
   {
    "duration": 4165,
    "start_time": "2023-08-24T17:44:50.989Z"
   },
   {
    "duration": 330,
    "start_time": "2023-08-24T17:44:55.163Z"
   },
   {
    "duration": 1473,
    "start_time": "2023-08-24T17:44:55.495Z"
   },
   {
    "duration": 37,
    "start_time": "2023-08-24T17:44:56.970Z"
   },
   {
    "duration": 2877,
    "start_time": "2023-08-24T17:45:55.364Z"
   },
   {
    "duration": 2324,
    "start_time": "2023-08-24T17:45:58.244Z"
   },
   {
    "duration": 5,
    "start_time": "2023-08-24T17:46:00.571Z"
   },
   {
    "duration": 218,
    "start_time": "2023-08-24T17:46:00.579Z"
   },
   {
    "duration": 17,
    "start_time": "2023-08-24T17:46:00.799Z"
   },
   {
    "duration": 73,
    "start_time": "2023-08-24T17:46:00.817Z"
   },
   {
    "duration": 16,
    "start_time": "2023-08-24T17:46:00.892Z"
   },
   {
    "duration": 21,
    "start_time": "2023-08-24T17:46:00.909Z"
   },
   {
    "duration": 7,
    "start_time": "2023-08-24T17:46:00.933Z"
   },
   {
    "duration": 33,
    "start_time": "2023-08-24T17:46:00.943Z"
   },
   {
    "duration": 35,
    "start_time": "2023-08-24T17:46:00.978Z"
   },
   {
    "duration": 40,
    "start_time": "2023-08-24T17:46:01.014Z"
   },
   {
    "duration": 247,
    "start_time": "2023-08-24T17:46:01.056Z"
   },
   {
    "duration": 7,
    "start_time": "2023-08-24T17:46:01.305Z"
   },
   {
    "duration": 61,
    "start_time": "2023-08-24T17:46:01.314Z"
   },
   {
    "duration": 78,
    "start_time": "2023-08-24T17:46:01.377Z"
   },
   {
    "duration": 47,
    "start_time": "2023-08-24T17:46:01.457Z"
   },
   {
    "duration": 41,
    "start_time": "2023-08-24T17:46:01.506Z"
   },
   {
    "duration": 47,
    "start_time": "2023-08-24T17:46:01.548Z"
   },
   {
    "duration": 199,
    "start_time": "2023-08-24T17:46:01.597Z"
   },
   {
    "duration": 8,
    "start_time": "2023-08-24T17:46:01.798Z"
   },
   {
    "duration": 586,
    "start_time": "2023-08-24T17:46:01.808Z"
   },
   {
    "duration": 23,
    "start_time": "2023-08-24T17:46:02.396Z"
   },
   {
    "duration": 13,
    "start_time": "2023-08-24T17:46:02.421Z"
   },
   {
    "duration": 14,
    "start_time": "2023-08-24T17:46:02.436Z"
   },
   {
    "duration": 4,
    "start_time": "2023-08-24T17:46:02.452Z"
   },
   {
    "duration": 19,
    "start_time": "2023-08-24T17:46:02.458Z"
   },
   {
    "duration": 13,
    "start_time": "2023-08-24T17:46:02.482Z"
   },
   {
    "duration": 90,
    "start_time": "2023-08-24T17:46:02.497Z"
   },
   {
    "duration": 7,
    "start_time": "2023-08-24T17:46:02.589Z"
   },
   {
    "duration": 6,
    "start_time": "2023-08-24T17:46:02.597Z"
   },
   {
    "duration": 11,
    "start_time": "2023-08-24T17:46:02.605Z"
   },
   {
    "duration": 11,
    "start_time": "2023-08-24T17:46:02.618Z"
   },
   {
    "duration": 23,
    "start_time": "2023-08-24T17:46:02.630Z"
   },
   {
    "duration": 52,
    "start_time": "2023-08-24T17:46:02.654Z"
   },
   {
    "duration": 5,
    "start_time": "2023-08-24T17:46:02.707Z"
   },
   {
    "duration": 1409,
    "start_time": "2023-08-24T17:46:02.714Z"
   },
   {
    "duration": 11,
    "start_time": "2023-08-24T17:46:04.125Z"
   },
   {
    "duration": 21,
    "start_time": "2023-08-24T17:46:04.137Z"
   },
   {
    "duration": 7,
    "start_time": "2023-08-24T17:46:04.160Z"
   },
   {
    "duration": 1176,
    "start_time": "2023-08-24T17:46:04.169Z"
   },
   {
    "duration": 499,
    "start_time": "2023-08-24T17:46:05.352Z"
   },
   {
    "duration": 5487,
    "start_time": "2023-08-24T17:46:05.853Z"
   },
   {
    "duration": 44788,
    "start_time": "2023-08-24T17:46:11.341Z"
   },
   {
    "duration": 3822,
    "start_time": "2023-08-24T17:46:56.131Z"
   },
   {
    "duration": 245,
    "start_time": "2023-08-24T17:46:59.958Z"
   },
   {
    "duration": 1449,
    "start_time": "2023-08-24T17:47:00.204Z"
   },
   {
    "duration": 54,
    "start_time": "2023-08-24T17:47:01.655Z"
   },
   {
    "duration": 21,
    "start_time": "2023-08-24T17:48:27.911Z"
   },
   {
    "duration": 2623,
    "start_time": "2023-08-24T17:48:32.388Z"
   },
   {
    "duration": 2218,
    "start_time": "2023-08-24T17:48:35.014Z"
   },
   {
    "duration": 4,
    "start_time": "2023-08-24T17:48:37.235Z"
   },
   {
    "duration": 208,
    "start_time": "2023-08-24T17:48:37.240Z"
   },
   {
    "duration": 16,
    "start_time": "2023-08-24T17:48:37.450Z"
   },
   {
    "duration": 27,
    "start_time": "2023-08-24T17:48:37.467Z"
   },
   {
    "duration": 16,
    "start_time": "2023-08-24T17:48:37.495Z"
   },
   {
    "duration": 40,
    "start_time": "2023-08-24T17:48:37.512Z"
   },
   {
    "duration": 2,
    "start_time": "2023-08-24T17:48:37.554Z"
   },
   {
    "duration": 4,
    "start_time": "2023-08-24T17:48:37.558Z"
   },
   {
    "duration": 10,
    "start_time": "2023-08-24T17:48:37.563Z"
   },
   {
    "duration": 10,
    "start_time": "2023-08-24T17:48:37.575Z"
   },
   {
    "duration": 193,
    "start_time": "2023-08-24T17:48:37.587Z"
   },
   {
    "duration": 6,
    "start_time": "2023-08-24T17:48:37.783Z"
   },
   {
    "duration": 13,
    "start_time": "2023-08-24T17:48:37.790Z"
   },
   {
    "duration": 30,
    "start_time": "2023-08-24T17:48:37.804Z"
   },
   {
    "duration": 37,
    "start_time": "2023-08-24T17:48:37.835Z"
   },
   {
    "duration": 12,
    "start_time": "2023-08-24T17:48:37.873Z"
   },
   {
    "duration": 3,
    "start_time": "2023-08-24T17:48:37.887Z"
   },
   {
    "duration": 150,
    "start_time": "2023-08-24T17:48:37.891Z"
   },
   {
    "duration": 16,
    "start_time": "2023-08-24T17:48:38.042Z"
   },
   {
    "duration": 6,
    "start_time": "2023-08-24T17:48:38.059Z"
   },
   {
    "duration": 9,
    "start_time": "2023-08-24T17:48:38.066Z"
   },
   {
    "duration": 5,
    "start_time": "2023-08-24T17:48:38.077Z"
   },
   {
    "duration": 8,
    "start_time": "2023-08-24T17:48:38.083Z"
   },
   {
    "duration": 5,
    "start_time": "2023-08-24T17:48:38.092Z"
   },
   {
    "duration": 18,
    "start_time": "2023-08-24T17:48:38.098Z"
   },
   {
    "duration": 36,
    "start_time": "2023-08-24T17:48:38.117Z"
   },
   {
    "duration": 70,
    "start_time": "2023-08-24T17:48:38.155Z"
   },
   {
    "duration": 9,
    "start_time": "2023-08-24T17:48:38.227Z"
   },
   {
    "duration": 5,
    "start_time": "2023-08-24T17:48:38.251Z"
   },
   {
    "duration": 10,
    "start_time": "2023-08-24T17:48:38.258Z"
   },
   {
    "duration": 19,
    "start_time": "2023-08-24T17:48:38.270Z"
   },
   {
    "duration": 11,
    "start_time": "2023-08-24T17:48:38.291Z"
   },
   {
    "duration": 75,
    "start_time": "2023-08-24T17:48:38.304Z"
   },
   {
    "duration": 8,
    "start_time": "2023-08-24T17:48:38.381Z"
   },
   {
    "duration": 1392,
    "start_time": "2023-08-24T17:48:38.391Z"
   },
   {
    "duration": 10,
    "start_time": "2023-08-24T17:48:39.784Z"
   },
   {
    "duration": 17,
    "start_time": "2023-08-24T17:48:39.796Z"
   },
   {
    "duration": 10,
    "start_time": "2023-08-24T17:48:39.814Z"
   },
   {
    "duration": 1040,
    "start_time": "2023-08-24T17:48:39.827Z"
   },
   {
    "duration": 475,
    "start_time": "2023-08-24T17:48:40.869Z"
   },
   {
    "duration": 5395,
    "start_time": "2023-08-24T17:48:41.346Z"
   },
   {
    "duration": 43398,
    "start_time": "2023-08-24T17:48:46.742Z"
   },
   {
    "duration": 3734,
    "start_time": "2023-08-24T17:49:30.141Z"
   },
   {
    "duration": 245,
    "start_time": "2023-08-24T17:49:33.952Z"
   },
   {
    "duration": 1456,
    "start_time": "2023-08-24T17:49:34.199Z"
   },
   {
    "duration": 41,
    "start_time": "2023-08-24T17:49:35.657Z"
   },
   {
    "duration": 1596,
    "start_time": "2023-08-24T17:50:06.015Z"
   },
   {
    "duration": 2626,
    "start_time": "2023-08-24T17:50:11.897Z"
   },
   {
    "duration": 2253,
    "start_time": "2023-08-24T17:50:14.526Z"
   },
   {
    "duration": 5,
    "start_time": "2023-08-24T17:50:16.781Z"
   },
   {
    "duration": 232,
    "start_time": "2023-08-24T17:50:16.787Z"
   },
   {
    "duration": 22,
    "start_time": "2023-08-24T17:50:17.022Z"
   },
   {
    "duration": 37,
    "start_time": "2023-08-24T17:50:17.045Z"
   },
   {
    "duration": 16,
    "start_time": "2023-08-24T17:50:17.083Z"
   },
   {
    "duration": 27,
    "start_time": "2023-08-24T17:50:17.101Z"
   },
   {
    "duration": 3,
    "start_time": "2023-08-24T17:50:17.130Z"
   },
   {
    "duration": 20,
    "start_time": "2023-08-24T17:50:17.134Z"
   },
   {
    "duration": 13,
    "start_time": "2023-08-24T17:50:17.155Z"
   },
   {
    "duration": 13,
    "start_time": "2023-08-24T17:50:17.169Z"
   },
   {
    "duration": 191,
    "start_time": "2023-08-24T17:50:17.184Z"
   },
   {
    "duration": 5,
    "start_time": "2023-08-24T17:50:17.379Z"
   },
   {
    "duration": 13,
    "start_time": "2023-08-24T17:50:17.386Z"
   },
   {
    "duration": 30,
    "start_time": "2023-08-24T17:50:17.401Z"
   },
   {
    "duration": 22,
    "start_time": "2023-08-24T17:50:17.453Z"
   },
   {
    "duration": 11,
    "start_time": "2023-08-24T17:50:17.477Z"
   },
   {
    "duration": 24,
    "start_time": "2023-08-24T17:50:17.490Z"
   },
   {
    "duration": 144,
    "start_time": "2023-08-24T17:50:17.516Z"
   },
   {
    "duration": 8,
    "start_time": "2023-08-24T17:50:17.661Z"
   },
   {
    "duration": 5,
    "start_time": "2023-08-24T17:50:17.670Z"
   },
   {
    "duration": 8,
    "start_time": "2023-08-24T17:50:17.676Z"
   },
   {
    "duration": 18,
    "start_time": "2023-08-24T17:50:17.686Z"
   },
   {
    "duration": 19,
    "start_time": "2023-08-24T17:50:17.706Z"
   },
   {
    "duration": 10,
    "start_time": "2023-08-24T17:50:17.726Z"
   },
   {
    "duration": 21,
    "start_time": "2023-08-24T17:50:17.737Z"
   },
   {
    "duration": 15,
    "start_time": "2023-08-24T17:50:17.759Z"
   },
   {
    "duration": 62,
    "start_time": "2023-08-24T17:50:17.776Z"
   },
   {
    "duration": 15,
    "start_time": "2023-08-24T17:50:17.840Z"
   },
   {
    "duration": 5,
    "start_time": "2023-08-24T17:50:17.857Z"
   },
   {
    "duration": 14,
    "start_time": "2023-08-24T17:50:17.863Z"
   },
   {
    "duration": 31,
    "start_time": "2023-08-24T17:50:17.878Z"
   },
   {
    "duration": 25,
    "start_time": "2023-08-24T17:50:17.911Z"
   },
   {
    "duration": 102,
    "start_time": "2023-08-24T17:50:17.938Z"
   },
   {
    "duration": 9,
    "start_time": "2023-08-24T17:50:18.042Z"
   },
   {
    "duration": 1432,
    "start_time": "2023-08-24T17:50:18.052Z"
   },
   {
    "duration": 11,
    "start_time": "2023-08-24T17:50:19.487Z"
   },
   {
    "duration": 15,
    "start_time": "2023-08-24T17:50:19.499Z"
   },
   {
    "duration": 9,
    "start_time": "2023-08-24T17:50:19.515Z"
   },
   {
    "duration": 1077,
    "start_time": "2023-08-24T17:50:19.528Z"
   },
   {
    "duration": 514,
    "start_time": "2023-08-24T17:50:20.607Z"
   },
   {
    "duration": 5326,
    "start_time": "2023-08-24T17:50:21.123Z"
   },
   {
    "duration": 42749,
    "start_time": "2023-08-24T17:50:26.453Z"
   },
   {
    "duration": 3649,
    "start_time": "2023-08-24T17:51:09.204Z"
   },
   {
    "duration": 243,
    "start_time": "2023-08-24T17:51:12.855Z"
   },
   {
    "duration": 1418,
    "start_time": "2023-08-24T17:51:13.100Z"
   },
   {
    "duration": 59,
    "start_time": "2023-08-24T17:51:14.520Z"
   },
   {
    "duration": 2674,
    "start_time": "2023-08-24T17:51:26.996Z"
   },
   {
    "duration": 2318,
    "start_time": "2023-08-24T17:51:29.672Z"
   },
   {
    "duration": 5,
    "start_time": "2023-08-24T17:51:31.992Z"
   },
   {
    "duration": 225,
    "start_time": "2023-08-24T17:51:31.998Z"
   },
   {
    "duration": 21,
    "start_time": "2023-08-24T17:51:32.225Z"
   },
   {
    "duration": 49,
    "start_time": "2023-08-24T17:51:32.248Z"
   },
   {
    "duration": 20,
    "start_time": "2023-08-24T17:51:32.299Z"
   },
   {
    "duration": 37,
    "start_time": "2023-08-24T17:51:32.321Z"
   },
   {
    "duration": 5,
    "start_time": "2023-08-24T17:51:32.360Z"
   },
   {
    "duration": 14,
    "start_time": "2023-08-24T17:51:32.367Z"
   },
   {
    "duration": 26,
    "start_time": "2023-08-24T17:51:32.383Z"
   },
   {
    "duration": 21,
    "start_time": "2023-08-24T17:51:32.411Z"
   },
   {
    "duration": 195,
    "start_time": "2023-08-24T17:51:32.434Z"
   },
   {
    "duration": 6,
    "start_time": "2023-08-24T17:51:32.632Z"
   },
   {
    "duration": 450,
    "start_time": "2023-08-24T17:51:32.639Z"
   },
   {
    "duration": 28,
    "start_time": "2023-08-24T17:51:33.091Z"
   },
   {
    "duration": 21,
    "start_time": "2023-08-24T17:51:33.120Z"
   },
   {
    "duration": 11,
    "start_time": "2023-08-24T17:51:33.143Z"
   },
   {
    "duration": 4,
    "start_time": "2023-08-24T17:51:33.156Z"
   },
   {
    "duration": 135,
    "start_time": "2023-08-24T17:51:33.162Z"
   },
   {
    "duration": 11,
    "start_time": "2023-08-24T17:51:33.299Z"
   },
   {
    "duration": 19,
    "start_time": "2023-08-24T17:51:33.312Z"
   },
   {
    "duration": 19,
    "start_time": "2023-08-24T17:51:33.333Z"
   },
   {
    "duration": 5,
    "start_time": "2023-08-24T17:51:33.354Z"
   },
   {
    "duration": 27,
    "start_time": "2023-08-24T17:51:33.361Z"
   },
   {
    "duration": 8,
    "start_time": "2023-08-24T17:51:33.389Z"
   },
   {
    "duration": 25,
    "start_time": "2023-08-24T17:51:33.399Z"
   },
   {
    "duration": 12,
    "start_time": "2023-08-24T17:51:33.425Z"
   },
   {
    "duration": 61,
    "start_time": "2023-08-24T17:51:33.438Z"
   },
   {
    "duration": 7,
    "start_time": "2023-08-24T17:51:33.500Z"
   },
   {
    "duration": 6,
    "start_time": "2023-08-24T17:51:33.509Z"
   },
   {
    "duration": 4,
    "start_time": "2023-08-24T17:51:33.517Z"
   },
   {
    "duration": 37,
    "start_time": "2023-08-24T17:51:33.523Z"
   },
   {
    "duration": 11,
    "start_time": "2023-08-24T17:51:33.562Z"
   },
   {
    "duration": 52,
    "start_time": "2023-08-24T17:51:33.574Z"
   },
   {
    "duration": 27,
    "start_time": "2023-08-24T17:51:33.628Z"
   },
   {
    "duration": 1385,
    "start_time": "2023-08-24T17:51:33.657Z"
   },
   {
    "duration": 14,
    "start_time": "2023-08-24T17:51:35.044Z"
   },
   {
    "duration": 29,
    "start_time": "2023-08-24T17:51:35.059Z"
   },
   {
    "duration": 15,
    "start_time": "2023-08-24T17:51:35.090Z"
   },
   {
    "duration": 1193,
    "start_time": "2023-08-24T17:51:35.110Z"
   },
   {
    "duration": 517,
    "start_time": "2023-08-24T17:51:36.304Z"
   },
   {
    "duration": 5271,
    "start_time": "2023-08-24T17:51:36.823Z"
   },
   {
    "duration": 42190,
    "start_time": "2023-08-24T17:51:42.096Z"
   },
   {
    "duration": 3586,
    "start_time": "2023-08-24T17:52:24.288Z"
   },
   {
    "duration": 248,
    "start_time": "2023-08-24T17:52:27.955Z"
   },
   {
    "duration": 1433,
    "start_time": "2023-08-24T17:52:28.204Z"
   },
   {
    "duration": 46,
    "start_time": "2023-08-24T17:52:29.639Z"
   },
   {
    "duration": 2697,
    "start_time": "2023-08-24T17:53:43.959Z"
   },
   {
    "duration": 2279,
    "start_time": "2023-08-24T17:53:46.658Z"
   },
   {
    "duration": 4,
    "start_time": "2023-08-24T17:53:48.939Z"
   },
   {
    "duration": 195,
    "start_time": "2023-08-24T17:53:48.945Z"
   },
   {
    "duration": 16,
    "start_time": "2023-08-24T17:53:49.142Z"
   },
   {
    "duration": 27,
    "start_time": "2023-08-24T17:53:49.160Z"
   },
   {
    "duration": 14,
    "start_time": "2023-08-24T17:53:49.189Z"
   },
   {
    "duration": 19,
    "start_time": "2023-08-24T17:53:49.204Z"
   },
   {
    "duration": 2,
    "start_time": "2023-08-24T17:53:49.225Z"
   },
   {
    "duration": 23,
    "start_time": "2023-08-24T17:53:49.229Z"
   },
   {
    "duration": 8,
    "start_time": "2023-08-24T17:53:49.255Z"
   },
   {
    "duration": 11,
    "start_time": "2023-08-24T17:53:49.264Z"
   },
   {
    "duration": 182,
    "start_time": "2023-08-24T17:53:49.276Z"
   },
   {
    "duration": 5,
    "start_time": "2023-08-24T17:53:49.462Z"
   },
   {
    "duration": 14,
    "start_time": "2023-08-24T17:53:49.469Z"
   },
   {
    "duration": 26,
    "start_time": "2023-08-24T17:53:49.485Z"
   },
   {
    "duration": 43,
    "start_time": "2023-08-24T17:53:49.512Z"
   },
   {
    "duration": 17,
    "start_time": "2023-08-24T17:53:49.557Z"
   },
   {
    "duration": 0,
    "start_time": "2023-08-24T17:53:49.576Z"
   },
   {
    "duration": 0,
    "start_time": "2023-08-24T17:53:49.577Z"
   },
   {
    "duration": 0,
    "start_time": "2023-08-24T17:53:49.578Z"
   },
   {
    "duration": 0,
    "start_time": "2023-08-24T17:53:49.579Z"
   },
   {
    "duration": 0,
    "start_time": "2023-08-24T17:53:49.581Z"
   },
   {
    "duration": 0,
    "start_time": "2023-08-24T17:53:49.582Z"
   },
   {
    "duration": 0,
    "start_time": "2023-08-24T17:53:49.583Z"
   },
   {
    "duration": 0,
    "start_time": "2023-08-24T17:53:49.584Z"
   },
   {
    "duration": 0,
    "start_time": "2023-08-24T17:53:49.585Z"
   },
   {
    "duration": 0,
    "start_time": "2023-08-24T17:53:49.586Z"
   },
   {
    "duration": 0,
    "start_time": "2023-08-24T17:53:49.587Z"
   },
   {
    "duration": 0,
    "start_time": "2023-08-24T17:53:49.588Z"
   },
   {
    "duration": 0,
    "start_time": "2023-08-24T17:53:49.588Z"
   },
   {
    "duration": 0,
    "start_time": "2023-08-24T17:53:49.590Z"
   },
   {
    "duration": 0,
    "start_time": "2023-08-24T17:53:49.591Z"
   },
   {
    "duration": 0,
    "start_time": "2023-08-24T17:53:49.592Z"
   },
   {
    "duration": 0,
    "start_time": "2023-08-24T17:53:49.593Z"
   },
   {
    "duration": 0,
    "start_time": "2023-08-24T17:53:49.594Z"
   },
   {
    "duration": 0,
    "start_time": "2023-08-24T17:53:49.595Z"
   },
   {
    "duration": 0,
    "start_time": "2023-08-24T17:53:49.596Z"
   },
   {
    "duration": 0,
    "start_time": "2023-08-24T17:53:49.597Z"
   },
   {
    "duration": 0,
    "start_time": "2023-08-24T17:53:49.598Z"
   },
   {
    "duration": 0,
    "start_time": "2023-08-24T17:53:49.599Z"
   },
   {
    "duration": 0,
    "start_time": "2023-08-24T17:53:49.600Z"
   },
   {
    "duration": 0,
    "start_time": "2023-08-24T17:53:49.601Z"
   },
   {
    "duration": 0,
    "start_time": "2023-08-24T17:53:49.602Z"
   },
   {
    "duration": 0,
    "start_time": "2023-08-24T17:53:49.603Z"
   },
   {
    "duration": 0,
    "start_time": "2023-08-24T17:53:49.604Z"
   },
   {
    "duration": 0,
    "start_time": "2023-08-24T17:53:49.653Z"
   },
   {
    "duration": 0,
    "start_time": "2023-08-24T17:53:49.654Z"
   },
   {
    "duration": 0,
    "start_time": "2023-08-24T17:53:49.655Z"
   },
   {
    "duration": 2648,
    "start_time": "2023-08-24T17:54:42.817Z"
   },
   {
    "duration": 2176,
    "start_time": "2023-08-24T17:54:45.467Z"
   },
   {
    "duration": 5,
    "start_time": "2023-08-24T17:54:47.645Z"
   },
   {
    "duration": 214,
    "start_time": "2023-08-24T17:54:47.651Z"
   },
   {
    "duration": 16,
    "start_time": "2023-08-24T17:54:47.866Z"
   },
   {
    "duration": 27,
    "start_time": "2023-08-24T17:54:47.884Z"
   },
   {
    "duration": 16,
    "start_time": "2023-08-24T17:54:47.912Z"
   },
   {
    "duration": 42,
    "start_time": "2023-08-24T17:54:47.930Z"
   },
   {
    "duration": 3,
    "start_time": "2023-08-24T17:54:47.974Z"
   },
   {
    "duration": 6,
    "start_time": "2023-08-24T17:54:47.980Z"
   },
   {
    "duration": 20,
    "start_time": "2023-08-24T17:54:47.988Z"
   },
   {
    "duration": 14,
    "start_time": "2023-08-24T17:54:48.009Z"
   },
   {
    "duration": 199,
    "start_time": "2023-08-24T17:54:48.025Z"
   },
   {
    "duration": 4,
    "start_time": "2023-08-24T17:54:48.226Z"
   },
   {
    "duration": 25,
    "start_time": "2023-08-24T17:54:48.231Z"
   },
   {
    "duration": 26,
    "start_time": "2023-08-24T17:54:48.258Z"
   },
   {
    "duration": 23,
    "start_time": "2023-08-24T17:54:48.286Z"
   },
   {
    "duration": 541,
    "start_time": "2023-08-24T17:54:48.311Z"
   },
   {
    "duration": 0,
    "start_time": "2023-08-24T17:54:48.854Z"
   },
   {
    "duration": 0,
    "start_time": "2023-08-24T17:54:48.854Z"
   },
   {
    "duration": 0,
    "start_time": "2023-08-24T17:54:48.856Z"
   },
   {
    "duration": 0,
    "start_time": "2023-08-24T17:54:48.856Z"
   },
   {
    "duration": 0,
    "start_time": "2023-08-24T17:54:48.857Z"
   },
   {
    "duration": 0,
    "start_time": "2023-08-24T17:54:48.859Z"
   },
   {
    "duration": 0,
    "start_time": "2023-08-24T17:54:48.859Z"
   },
   {
    "duration": 0,
    "start_time": "2023-08-24T17:54:48.860Z"
   },
   {
    "duration": 0,
    "start_time": "2023-08-24T17:54:48.861Z"
   },
   {
    "duration": 0,
    "start_time": "2023-08-24T17:54:48.862Z"
   },
   {
    "duration": 0,
    "start_time": "2023-08-24T17:54:48.863Z"
   },
   {
    "duration": 0,
    "start_time": "2023-08-24T17:54:48.864Z"
   },
   {
    "duration": 0,
    "start_time": "2023-08-24T17:54:48.865Z"
   },
   {
    "duration": 0,
    "start_time": "2023-08-24T17:54:48.866Z"
   },
   {
    "duration": 0,
    "start_time": "2023-08-24T17:54:48.867Z"
   },
   {
    "duration": 0,
    "start_time": "2023-08-24T17:54:48.868Z"
   },
   {
    "duration": 0,
    "start_time": "2023-08-24T17:54:48.869Z"
   },
   {
    "duration": 0,
    "start_time": "2023-08-24T17:54:48.870Z"
   },
   {
    "duration": 0,
    "start_time": "2023-08-24T17:54:48.871Z"
   },
   {
    "duration": 0,
    "start_time": "2023-08-24T17:54:48.872Z"
   },
   {
    "duration": 0,
    "start_time": "2023-08-24T17:54:48.873Z"
   },
   {
    "duration": 0,
    "start_time": "2023-08-24T17:54:48.874Z"
   },
   {
    "duration": 0,
    "start_time": "2023-08-24T17:54:48.875Z"
   },
   {
    "duration": 0,
    "start_time": "2023-08-24T17:54:48.876Z"
   },
   {
    "duration": 0,
    "start_time": "2023-08-24T17:54:48.877Z"
   },
   {
    "duration": 0,
    "start_time": "2023-08-24T17:54:48.878Z"
   },
   {
    "duration": 0,
    "start_time": "2023-08-24T17:54:48.879Z"
   },
   {
    "duration": 0,
    "start_time": "2023-08-24T17:54:48.880Z"
   },
   {
    "duration": 0,
    "start_time": "2023-08-24T17:54:48.881Z"
   },
   {
    "duration": 0,
    "start_time": "2023-08-24T17:54:48.882Z"
   },
   {
    "duration": 0,
    "start_time": "2023-08-24T17:54:48.883Z"
   },
   {
    "duration": 2793,
    "start_time": "2023-08-24T17:55:30.355Z"
   },
   {
    "duration": 2179,
    "start_time": "2023-08-24T17:55:33.151Z"
   },
   {
    "duration": 4,
    "start_time": "2023-08-24T17:55:35.333Z"
   },
   {
    "duration": 280,
    "start_time": "2023-08-24T17:55:35.339Z"
   },
   {
    "duration": 19,
    "start_time": "2023-08-24T17:55:35.621Z"
   },
   {
    "duration": 34,
    "start_time": "2023-08-24T17:55:35.642Z"
   },
   {
    "duration": 14,
    "start_time": "2023-08-24T17:55:35.678Z"
   },
   {
    "duration": 20,
    "start_time": "2023-08-24T17:55:35.694Z"
   },
   {
    "duration": 2,
    "start_time": "2023-08-24T17:55:35.715Z"
   },
   {
    "duration": 21,
    "start_time": "2023-08-24T17:55:35.719Z"
   },
   {
    "duration": 14,
    "start_time": "2023-08-24T17:55:35.742Z"
   },
   {
    "duration": 29,
    "start_time": "2023-08-24T17:55:35.758Z"
   },
   {
    "duration": 192,
    "start_time": "2023-08-24T17:55:35.789Z"
   },
   {
    "duration": 4,
    "start_time": "2023-08-24T17:55:35.983Z"
   },
   {
    "duration": 67,
    "start_time": "2023-08-24T17:55:35.989Z"
   },
   {
    "duration": 25,
    "start_time": "2023-08-24T17:55:36.058Z"
   },
   {
    "duration": 21,
    "start_time": "2023-08-24T17:55:36.085Z"
   },
   {
    "duration": 535,
    "start_time": "2023-08-24T17:55:36.107Z"
   },
   {
    "duration": 0,
    "start_time": "2023-08-24T17:55:36.644Z"
   },
   {
    "duration": 0,
    "start_time": "2023-08-24T17:55:36.645Z"
   },
   {
    "duration": 0,
    "start_time": "2023-08-24T17:55:36.646Z"
   },
   {
    "duration": 0,
    "start_time": "2023-08-24T17:55:36.647Z"
   },
   {
    "duration": 0,
    "start_time": "2023-08-24T17:55:36.648Z"
   },
   {
    "duration": 0,
    "start_time": "2023-08-24T17:55:36.649Z"
   },
   {
    "duration": 0,
    "start_time": "2023-08-24T17:55:36.650Z"
   },
   {
    "duration": 0,
    "start_time": "2023-08-24T17:55:36.651Z"
   },
   {
    "duration": 0,
    "start_time": "2023-08-24T17:55:36.652Z"
   },
   {
    "duration": 0,
    "start_time": "2023-08-24T17:55:36.654Z"
   },
   {
    "duration": 0,
    "start_time": "2023-08-24T17:55:36.654Z"
   },
   {
    "duration": 0,
    "start_time": "2023-08-24T17:55:36.655Z"
   },
   {
    "duration": 0,
    "start_time": "2023-08-24T17:55:36.656Z"
   },
   {
    "duration": 0,
    "start_time": "2023-08-24T17:55:36.657Z"
   },
   {
    "duration": 0,
    "start_time": "2023-08-24T17:55:36.658Z"
   },
   {
    "duration": 0,
    "start_time": "2023-08-24T17:55:36.659Z"
   },
   {
    "duration": 0,
    "start_time": "2023-08-24T17:55:36.660Z"
   },
   {
    "duration": 0,
    "start_time": "2023-08-24T17:55:36.660Z"
   },
   {
    "duration": 0,
    "start_time": "2023-08-24T17:55:36.661Z"
   },
   {
    "duration": 0,
    "start_time": "2023-08-24T17:55:36.663Z"
   },
   {
    "duration": 0,
    "start_time": "2023-08-24T17:55:36.664Z"
   },
   {
    "duration": 0,
    "start_time": "2023-08-24T17:55:36.664Z"
   },
   {
    "duration": 0,
    "start_time": "2023-08-24T17:55:36.665Z"
   },
   {
    "duration": 0,
    "start_time": "2023-08-24T17:55:36.667Z"
   },
   {
    "duration": 0,
    "start_time": "2023-08-24T17:55:36.667Z"
   },
   {
    "duration": 0,
    "start_time": "2023-08-24T17:55:36.668Z"
   },
   {
    "duration": 0,
    "start_time": "2023-08-24T17:55:36.669Z"
   },
   {
    "duration": 0,
    "start_time": "2023-08-24T17:55:36.670Z"
   },
   {
    "duration": 0,
    "start_time": "2023-08-24T17:55:36.671Z"
   },
   {
    "duration": 0,
    "start_time": "2023-08-24T17:55:36.672Z"
   },
   {
    "duration": 0,
    "start_time": "2023-08-24T17:55:36.673Z"
   },
   {
    "duration": 852,
    "start_time": "2023-08-24T18:00:54.100Z"
   },
   {
    "duration": 1593,
    "start_time": "2023-08-24T18:01:43.340Z"
   },
   {
    "duration": 850,
    "start_time": "2023-08-24T18:02:20.142Z"
   },
   {
    "duration": 838,
    "start_time": "2023-08-24T18:03:04.152Z"
   },
   {
    "duration": 891,
    "start_time": "2023-08-24T18:03:34.615Z"
   },
   {
    "duration": 339,
    "start_time": "2023-08-24T18:15:59.910Z"
   },
   {
    "duration": 692,
    "start_time": "2023-08-24T18:16:12.392Z"
   },
   {
    "duration": 184,
    "start_time": "2023-08-24T18:17:32.162Z"
   },
   {
    "duration": 771,
    "start_time": "2023-08-24T18:19:35.893Z"
   },
   {
    "duration": 485,
    "start_time": "2023-08-24T18:20:56.721Z"
   },
   {
    "duration": 723,
    "start_time": "2023-08-24T18:25:30.062Z"
   },
   {
    "duration": 446,
    "start_time": "2023-08-24T18:25:33.590Z"
   },
   {
    "duration": 760,
    "start_time": "2023-08-24T18:29:03.897Z"
   },
   {
    "duration": 539,
    "start_time": "2023-08-24T18:29:38.007Z"
   },
   {
    "duration": 188,
    "start_time": "2023-08-24T18:33:44.913Z"
   },
   {
    "duration": 753,
    "start_time": "2023-08-24T18:34:44.842Z"
   },
   {
    "duration": 138,
    "start_time": "2023-08-24T18:35:35.099Z"
   },
   {
    "duration": 926,
    "start_time": "2023-08-24T18:37:47.050Z"
   },
   {
    "duration": 19,
    "start_time": "2023-08-24T18:38:05.411Z"
   },
   {
    "duration": 135,
    "start_time": "2023-08-24T18:52:04.174Z"
   },
   {
    "duration": 215,
    "start_time": "2023-08-24T18:52:32.357Z"
   },
   {
    "duration": 139,
    "start_time": "2023-08-24T18:54:08.748Z"
   },
   {
    "duration": 16301,
    "start_time": "2023-08-25T07:19:32.133Z"
   },
   {
    "duration": 6553,
    "start_time": "2023-08-25T07:19:48.436Z"
   },
   {
    "duration": 2048,
    "start_time": "2023-08-25T07:19:54.991Z"
   },
   {
    "duration": 890,
    "start_time": "2023-08-25T07:19:57.040Z"
   },
   {
    "duration": 26,
    "start_time": "2023-08-25T07:19:57.933Z"
   },
   {
    "duration": 103,
    "start_time": "2023-08-25T07:19:57.961Z"
   },
   {
    "duration": 37,
    "start_time": "2023-08-25T07:19:58.066Z"
   },
   {
    "duration": 101,
    "start_time": "2023-08-25T07:19:58.105Z"
   },
   {
    "duration": 2,
    "start_time": "2023-08-25T07:19:58.208Z"
   },
   {
    "duration": 16,
    "start_time": "2023-08-25T07:19:58.212Z"
   },
   {
    "duration": 12,
    "start_time": "2023-08-25T07:19:58.229Z"
   },
   {
    "duration": 12,
    "start_time": "2023-08-25T07:19:58.243Z"
   },
   {
    "duration": 181,
    "start_time": "2023-08-25T07:19:58.257Z"
   },
   {
    "duration": 5,
    "start_time": "2023-08-25T07:19:58.441Z"
   },
   {
    "duration": 18,
    "start_time": "2023-08-25T07:19:58.455Z"
   },
   {
    "duration": 42,
    "start_time": "2023-08-25T07:19:58.475Z"
   },
   {
    "duration": 54,
    "start_time": "2023-08-25T07:19:58.518Z"
   },
   {
    "duration": 925,
    "start_time": "2023-08-25T07:19:58.574Z"
   },
   {
    "duration": 505,
    "start_time": "2023-08-25T07:19:59.500Z"
   },
   {
    "duration": 190,
    "start_time": "2023-08-25T07:20:00.006Z"
   },
   {
    "duration": 19,
    "start_time": "2023-08-25T07:20:00.198Z"
   },
   {
    "duration": 51,
    "start_time": "2023-08-25T07:20:00.220Z"
   },
   {
    "duration": 297,
    "start_time": "2023-08-25T07:20:00.273Z"
   },
   {
    "duration": 11,
    "start_time": "2023-08-25T07:20:00.572Z"
   },
   {
    "duration": 74,
    "start_time": "2023-08-25T07:20:00.585Z"
   },
   {
    "duration": 44,
    "start_time": "2023-08-25T07:20:00.661Z"
   },
   {
    "duration": 31,
    "start_time": "2023-08-25T07:20:00.707Z"
   },
   {
    "duration": 58,
    "start_time": "2023-08-25T07:20:00.740Z"
   },
   {
    "duration": 31,
    "start_time": "2023-08-25T07:20:00.799Z"
   },
   {
    "duration": 59,
    "start_time": "2023-08-25T07:20:00.833Z"
   },
   {
    "duration": 55,
    "start_time": "2023-08-25T07:20:00.894Z"
   },
   {
    "duration": 107,
    "start_time": "2023-08-25T07:20:00.951Z"
   },
   {
    "duration": 9,
    "start_time": "2023-08-25T07:20:01.060Z"
   },
   {
    "duration": 32,
    "start_time": "2023-08-25T07:20:01.071Z"
   },
   {
    "duration": 33,
    "start_time": "2023-08-25T07:20:01.105Z"
   },
   {
    "duration": 66,
    "start_time": "2023-08-25T07:20:01.140Z"
   },
   {
    "duration": 29,
    "start_time": "2023-08-25T07:20:01.208Z"
   },
   {
    "duration": 132,
    "start_time": "2023-08-25T07:20:01.238Z"
   },
   {
    "duration": 6,
    "start_time": "2023-08-25T07:20:01.372Z"
   },
   {
    "duration": 1613,
    "start_time": "2023-08-25T07:20:01.380Z"
   },
   {
    "duration": 14,
    "start_time": "2023-08-25T07:20:02.997Z"
   },
   {
    "duration": 39,
    "start_time": "2023-08-25T07:20:03.013Z"
   },
   {
    "duration": 26,
    "start_time": "2023-08-25T07:20:03.054Z"
   },
   {
    "duration": 1645,
    "start_time": "2023-08-25T07:20:03.082Z"
   },
   {
    "duration": 648,
    "start_time": "2023-08-25T07:20:04.729Z"
   },
   {
    "duration": 5471,
    "start_time": "2023-08-25T07:20:05.379Z"
   },
   {
    "duration": 45497,
    "start_time": "2023-08-25T07:20:10.855Z"
   },
   {
    "duration": 4205,
    "start_time": "2023-08-25T07:20:56.353Z"
   },
   {
    "duration": 268,
    "start_time": "2023-08-25T07:21:00.562Z"
   },
   {
    "duration": 1394,
    "start_time": "2023-08-25T07:21:00.832Z"
   },
   {
    "duration": 53,
    "start_time": "2023-08-25T07:21:02.227Z"
   },
   {
    "duration": 183,
    "start_time": "2023-08-25T07:37:52.531Z"
   },
   {
    "duration": 191,
    "start_time": "2023-08-25T07:38:16.390Z"
   },
   {
    "duration": 167,
    "start_time": "2023-08-25T07:39:42.803Z"
   },
   {
    "duration": 188,
    "start_time": "2023-08-25T07:40:32.347Z"
   },
   {
    "duration": 293,
    "start_time": "2023-08-25T08:06:24.732Z"
   },
   {
    "duration": 3,
    "start_time": "2023-08-25T08:18:18.674Z"
   },
   {
    "duration": 15,
    "start_time": "2023-08-25T08:27:11.138Z"
   },
   {
    "duration": 14,
    "start_time": "2023-08-25T08:27:43.379Z"
   },
   {
    "duration": 3,
    "start_time": "2023-08-25T08:27:55.329Z"
   },
   {
    "duration": 1178,
    "start_time": "2023-08-25T08:27:56.810Z"
   },
   {
    "duration": 1273,
    "start_time": "2023-08-25T08:29:06.860Z"
   },
   {
    "duration": 1106,
    "start_time": "2023-08-25T08:30:34.369Z"
   },
   {
    "duration": 1281,
    "start_time": "2023-08-25T08:37:11.625Z"
   },
   {
    "duration": 1204,
    "start_time": "2023-08-25T08:44:28.566Z"
   },
   {
    "duration": 123,
    "start_time": "2023-08-25T08:45:30.841Z"
   },
   {
    "duration": 1259,
    "start_time": "2023-08-25T08:45:50.483Z"
   },
   {
    "duration": 1256,
    "start_time": "2023-08-25T08:46:20.307Z"
   },
   {
    "duration": 448,
    "start_time": "2023-08-25T08:49:23.218Z"
   },
   {
    "duration": 1277,
    "start_time": "2023-08-25T08:50:14.465Z"
   },
   {
    "duration": 16,
    "start_time": "2023-08-25T08:50:42.178Z"
   },
   {
    "duration": 1203,
    "start_time": "2023-08-25T08:50:52.634Z"
   },
   {
    "duration": 1395,
    "start_time": "2023-08-25T08:52:55.692Z"
   },
   {
    "duration": 15,
    "start_time": "2023-08-25T08:55:43.932Z"
   },
   {
    "duration": 2676,
    "start_time": "2023-08-25T08:55:52.698Z"
   },
   {
    "duration": 2169,
    "start_time": "2023-08-25T08:55:55.376Z"
   },
   {
    "duration": 5,
    "start_time": "2023-08-25T08:55:57.547Z"
   },
   {
    "duration": 243,
    "start_time": "2023-08-25T08:55:57.554Z"
   },
   {
    "duration": 16,
    "start_time": "2023-08-25T08:55:57.799Z"
   },
   {
    "duration": 44,
    "start_time": "2023-08-25T08:55:57.817Z"
   },
   {
    "duration": 18,
    "start_time": "2023-08-25T08:55:57.863Z"
   },
   {
    "duration": 40,
    "start_time": "2023-08-25T08:55:57.882Z"
   },
   {
    "duration": 2,
    "start_time": "2023-08-25T08:55:57.924Z"
   },
   {
    "duration": 7,
    "start_time": "2023-08-25T08:55:57.928Z"
   },
   {
    "duration": 16,
    "start_time": "2023-08-25T08:55:57.936Z"
   },
   {
    "duration": 21,
    "start_time": "2023-08-25T08:55:57.954Z"
   },
   {
    "duration": 171,
    "start_time": "2023-08-25T08:55:57.977Z"
   },
   {
    "duration": 13,
    "start_time": "2023-08-25T08:55:58.149Z"
   },
   {
    "duration": 31,
    "start_time": "2023-08-25T08:55:58.163Z"
   },
   {
    "duration": 37,
    "start_time": "2023-08-25T08:55:58.195Z"
   },
   {
    "duration": 34,
    "start_time": "2023-08-25T08:55:58.234Z"
   },
   {
    "duration": 895,
    "start_time": "2023-08-25T08:55:58.271Z"
   },
   {
    "duration": 517,
    "start_time": "2023-08-25T08:55:59.170Z"
   },
   {
    "duration": 189,
    "start_time": "2023-08-25T08:55:59.689Z"
   },
   {
    "duration": 4,
    "start_time": "2023-08-25T08:55:59.880Z"
   },
   {
    "duration": 1214,
    "start_time": "2023-08-25T08:55:59.886Z"
   },
   {
    "duration": 13,
    "start_time": "2023-08-25T08:56:01.101Z"
   },
   {
    "duration": 19,
    "start_time": "2023-08-25T08:56:01.116Z"
   },
   {
    "duration": 180,
    "start_time": "2023-08-25T08:56:01.137Z"
   },
   {
    "duration": 9,
    "start_time": "2023-08-25T08:56:01.319Z"
   },
   {
    "duration": 58,
    "start_time": "2023-08-25T08:56:01.329Z"
   },
   {
    "duration": 36,
    "start_time": "2023-08-25T08:56:01.390Z"
   },
   {
    "duration": 48,
    "start_time": "2023-08-25T08:56:01.428Z"
   },
   {
    "duration": 28,
    "start_time": "2023-08-25T08:56:01.479Z"
   },
   {
    "duration": 38,
    "start_time": "2023-08-25T08:56:01.509Z"
   },
   {
    "duration": 37,
    "start_time": "2023-08-25T08:56:01.550Z"
   },
   {
    "duration": 43,
    "start_time": "2023-08-25T08:56:01.589Z"
   },
   {
    "duration": 103,
    "start_time": "2023-08-25T08:56:01.633Z"
   },
   {
    "duration": 8,
    "start_time": "2023-08-25T08:56:01.738Z"
   },
   {
    "duration": 40,
    "start_time": "2023-08-25T08:56:01.748Z"
   },
   {
    "duration": 23,
    "start_time": "2023-08-25T08:56:01.790Z"
   },
   {
    "duration": 34,
    "start_time": "2023-08-25T08:56:01.815Z"
   },
   {
    "duration": 42,
    "start_time": "2023-08-25T08:56:01.850Z"
   },
   {
    "duration": 84,
    "start_time": "2023-08-25T08:56:01.893Z"
   },
   {
    "duration": 6,
    "start_time": "2023-08-25T08:56:01.979Z"
   },
   {
    "duration": 1609,
    "start_time": "2023-08-25T08:56:01.986Z"
   },
   {
    "duration": 13,
    "start_time": "2023-08-25T08:56:03.597Z"
   },
   {
    "duration": 17,
    "start_time": "2023-08-25T08:56:03.612Z"
   },
   {
    "duration": 8,
    "start_time": "2023-08-25T08:56:03.631Z"
   },
   {
    "duration": 1238,
    "start_time": "2023-08-25T08:56:03.657Z"
   },
   {
    "duration": 549,
    "start_time": "2023-08-25T08:56:04.897Z"
   },
   {
    "duration": 5503,
    "start_time": "2023-08-25T08:56:05.447Z"
   },
   {
    "duration": 47520,
    "start_time": "2023-08-25T08:56:10.955Z"
   },
   {
    "duration": 4090,
    "start_time": "2023-08-25T08:56:58.477Z"
   },
   {
    "duration": 257,
    "start_time": "2023-08-25T08:57:02.569Z"
   },
   {
    "duration": 1552,
    "start_time": "2023-08-25T08:57:02.828Z"
   },
   {
    "duration": 36,
    "start_time": "2023-08-25T08:57:04.382Z"
   },
   {
    "duration": 26,
    "start_time": "2023-08-25T08:57:07.245Z"
   },
   {
    "duration": 1364,
    "start_time": "2023-08-25T09:13:03.508Z"
   },
   {
    "duration": 1166,
    "start_time": "2023-08-25T09:13:44.808Z"
   },
   {
    "duration": 1365,
    "start_time": "2023-08-25T09:14:21.577Z"
   },
   {
    "duration": 1202,
    "start_time": "2023-08-25T09:15:59.087Z"
   },
   {
    "duration": 1371,
    "start_time": "2023-08-25T09:16:39.190Z"
   },
   {
    "duration": 1229,
    "start_time": "2023-08-25T09:16:50.787Z"
   },
   {
    "duration": 1398,
    "start_time": "2023-08-25T09:17:01.722Z"
   },
   {
    "duration": 1136,
    "start_time": "2023-08-25T09:17:09.584Z"
   },
   {
    "duration": 1332,
    "start_time": "2023-08-25T09:17:16.656Z"
   },
   {
    "duration": 268,
    "start_time": "2023-08-25T09:23:29.079Z"
   },
   {
    "duration": 19,
    "start_time": "2023-08-25T09:26:39.407Z"
   },
   {
    "duration": 17,
    "start_time": "2023-08-25T09:26:58.617Z"
   },
   {
    "duration": 19,
    "start_time": "2023-08-25T09:27:56.390Z"
   },
   {
    "duration": 18,
    "start_time": "2023-08-25T09:28:10.747Z"
   },
   {
    "duration": 1254,
    "start_time": "2023-08-25T09:28:40.365Z"
   },
   {
    "duration": 1449,
    "start_time": "2023-08-25T09:30:28.818Z"
   },
   {
    "duration": 1206,
    "start_time": "2023-08-25T09:35:56.931Z"
   },
   {
    "duration": 1390,
    "start_time": "2023-08-25T09:36:04.947Z"
   },
   {
    "duration": 1194,
    "start_time": "2023-08-25T09:36:15.292Z"
   },
   {
    "duration": 5,
    "start_time": "2023-08-25T09:44:53.718Z"
   },
   {
    "duration": 4101,
    "start_time": "2023-08-25T09:44:55.127Z"
   },
   {
    "duration": 149,
    "start_time": "2023-08-25T10:08:15.538Z"
   },
   {
    "duration": 4,
    "start_time": "2023-08-25T10:08:25.315Z"
   },
   {
    "duration": 138,
    "start_time": "2023-08-25T10:08:26.670Z"
   },
   {
    "duration": 118,
    "start_time": "2023-08-25T10:10:03.750Z"
   },
   {
    "duration": 163,
    "start_time": "2023-08-25T10:19:22.918Z"
   },
   {
    "duration": 148,
    "start_time": "2023-08-25T10:29:07.391Z"
   },
   {
    "duration": 191,
    "start_time": "2023-08-25T10:29:30.682Z"
   },
   {
    "duration": 824,
    "start_time": "2023-08-25T10:30:11.093Z"
   },
   {
    "duration": 2855,
    "start_time": "2023-08-25T10:31:47.825Z"
   },
   {
    "duration": 2236,
    "start_time": "2023-08-25T10:31:50.683Z"
   },
   {
    "duration": 4,
    "start_time": "2023-08-25T10:31:52.922Z"
   },
   {
    "duration": 221,
    "start_time": "2023-08-25T10:31:52.928Z"
   },
   {
    "duration": 26,
    "start_time": "2023-08-25T10:31:53.151Z"
   },
   {
    "duration": 31,
    "start_time": "2023-08-25T10:31:53.183Z"
   },
   {
    "duration": 16,
    "start_time": "2023-08-25T10:31:53.216Z"
   },
   {
    "duration": 45,
    "start_time": "2023-08-25T10:31:53.233Z"
   },
   {
    "duration": 6,
    "start_time": "2023-08-25T10:31:53.285Z"
   },
   {
    "duration": 14,
    "start_time": "2023-08-25T10:31:53.294Z"
   },
   {
    "duration": 81,
    "start_time": "2023-08-25T10:31:53.310Z"
   },
   {
    "duration": 12,
    "start_time": "2023-08-25T10:31:53.393Z"
   },
   {
    "duration": 197,
    "start_time": "2023-08-25T10:31:53.407Z"
   },
   {
    "duration": 7,
    "start_time": "2023-08-25T10:31:53.605Z"
   },
   {
    "duration": 22,
    "start_time": "2023-08-25T10:31:53.614Z"
   },
   {
    "duration": 41,
    "start_time": "2023-08-25T10:31:53.638Z"
   },
   {
    "duration": 26,
    "start_time": "2023-08-25T10:31:53.685Z"
   },
   {
    "duration": 5,
    "start_time": "2023-08-25T10:31:53.713Z"
   },
   {
    "duration": 182,
    "start_time": "2023-08-25T10:31:53.720Z"
   },
   {
    "duration": 0,
    "start_time": "2023-08-25T10:31:53.904Z"
   },
   {
    "duration": 0,
    "start_time": "2023-08-25T10:31:53.905Z"
   },
   {
    "duration": 0,
    "start_time": "2023-08-25T10:31:53.906Z"
   },
   {
    "duration": 0,
    "start_time": "2023-08-25T10:31:53.908Z"
   },
   {
    "duration": 0,
    "start_time": "2023-08-25T10:31:53.909Z"
   },
   {
    "duration": 0,
    "start_time": "2023-08-25T10:31:53.911Z"
   },
   {
    "duration": 0,
    "start_time": "2023-08-25T10:31:53.912Z"
   },
   {
    "duration": 0,
    "start_time": "2023-08-25T10:31:53.913Z"
   },
   {
    "duration": 0,
    "start_time": "2023-08-25T10:31:53.914Z"
   },
   {
    "duration": 0,
    "start_time": "2023-08-25T10:31:53.916Z"
   },
   {
    "duration": 0,
    "start_time": "2023-08-25T10:31:53.917Z"
   },
   {
    "duration": 0,
    "start_time": "2023-08-25T10:31:53.918Z"
   },
   {
    "duration": 0,
    "start_time": "2023-08-25T10:31:53.919Z"
   },
   {
    "duration": 0,
    "start_time": "2023-08-25T10:31:53.920Z"
   },
   {
    "duration": 0,
    "start_time": "2023-08-25T10:31:53.922Z"
   },
   {
    "duration": 0,
    "start_time": "2023-08-25T10:31:53.923Z"
   },
   {
    "duration": 0,
    "start_time": "2023-08-25T10:31:53.961Z"
   },
   {
    "duration": 0,
    "start_time": "2023-08-25T10:31:53.962Z"
   },
   {
    "duration": 0,
    "start_time": "2023-08-25T10:31:53.963Z"
   },
   {
    "duration": 0,
    "start_time": "2023-08-25T10:31:53.963Z"
   },
   {
    "duration": 0,
    "start_time": "2023-08-25T10:31:53.964Z"
   },
   {
    "duration": 0,
    "start_time": "2023-08-25T10:31:53.965Z"
   },
   {
    "duration": 0,
    "start_time": "2023-08-25T10:31:53.965Z"
   },
   {
    "duration": 0,
    "start_time": "2023-08-25T10:31:53.966Z"
   },
   {
    "duration": 0,
    "start_time": "2023-08-25T10:31:53.968Z"
   },
   {
    "duration": 0,
    "start_time": "2023-08-25T10:31:53.968Z"
   },
   {
    "duration": 0,
    "start_time": "2023-08-25T10:31:53.969Z"
   },
   {
    "duration": 0,
    "start_time": "2023-08-25T10:31:53.970Z"
   },
   {
    "duration": 0,
    "start_time": "2023-08-25T10:31:53.970Z"
   },
   {
    "duration": 0,
    "start_time": "2023-08-25T10:31:53.974Z"
   },
   {
    "duration": 0,
    "start_time": "2023-08-25T10:31:53.975Z"
   },
   {
    "duration": 0,
    "start_time": "2023-08-25T10:31:53.978Z"
   },
   {
    "duration": 0,
    "start_time": "2023-08-25T10:31:53.979Z"
   },
   {
    "duration": 0,
    "start_time": "2023-08-25T10:31:53.983Z"
   },
   {
    "duration": 166,
    "start_time": "2023-08-25T10:33:20.143Z"
   },
   {
    "duration": 164,
    "start_time": "2023-08-25T10:33:53.822Z"
   },
   {
    "duration": 838,
    "start_time": "2023-08-25T10:35:04.983Z"
   },
   {
    "duration": 7322,
    "start_time": "2023-08-25T10:36:03.980Z"
   },
   {
    "duration": 7157,
    "start_time": "2023-08-25T10:40:26.138Z"
   },
   {
    "duration": 2750,
    "start_time": "2023-08-25T10:43:15.853Z"
   },
   {
    "duration": 2267,
    "start_time": "2023-08-25T10:43:18.606Z"
   },
   {
    "duration": 4,
    "start_time": "2023-08-25T10:43:20.875Z"
   },
   {
    "duration": 277,
    "start_time": "2023-08-25T10:43:20.881Z"
   },
   {
    "duration": 23,
    "start_time": "2023-08-25T10:43:21.162Z"
   },
   {
    "duration": 82,
    "start_time": "2023-08-25T10:43:21.187Z"
   },
   {
    "duration": 18,
    "start_time": "2023-08-25T10:43:21.271Z"
   },
   {
    "duration": 31,
    "start_time": "2023-08-25T10:43:21.290Z"
   },
   {
    "duration": 2,
    "start_time": "2023-08-25T10:43:21.323Z"
   },
   {
    "duration": 18,
    "start_time": "2023-08-25T10:43:21.328Z"
   },
   {
    "duration": 23,
    "start_time": "2023-08-25T10:43:21.348Z"
   },
   {
    "duration": 19,
    "start_time": "2023-08-25T10:43:21.373Z"
   },
   {
    "duration": 248,
    "start_time": "2023-08-25T10:43:21.394Z"
   },
   {
    "duration": 8,
    "start_time": "2023-08-25T10:43:21.644Z"
   },
   {
    "duration": 60,
    "start_time": "2023-08-25T10:43:21.654Z"
   },
   {
    "duration": 32,
    "start_time": "2023-08-25T10:43:21.716Z"
   },
   {
    "duration": 30,
    "start_time": "2023-08-25T10:43:21.750Z"
   },
   {
    "duration": 4,
    "start_time": "2023-08-25T10:43:21.781Z"
   },
   {
    "duration": 7050,
    "start_time": "2023-08-25T10:43:21.786Z"
   },
   {
    "duration": 6,
    "start_time": "2023-08-25T10:43:28.838Z"
   },
   {
    "duration": 3263,
    "start_time": "2023-08-25T10:43:28.855Z"
   },
   {
    "duration": 14,
    "start_time": "2023-08-25T10:43:32.120Z"
   },
   {
    "duration": 35,
    "start_time": "2023-08-25T10:43:32.136Z"
   },
   {
    "duration": 10,
    "start_time": "2023-08-25T10:43:32.173Z"
   },
   {
    "duration": 10,
    "start_time": "2023-08-25T10:43:32.184Z"
   },
   {
    "duration": 15,
    "start_time": "2023-08-25T10:43:32.196Z"
   },
   {
    "duration": 5,
    "start_time": "2023-08-25T10:43:32.213Z"
   },
   {
    "duration": 28,
    "start_time": "2023-08-25T10:43:32.222Z"
   },
   {
    "duration": 41,
    "start_time": "2023-08-25T10:43:32.252Z"
   },
   {
    "duration": 37,
    "start_time": "2023-08-25T10:43:32.294Z"
   },
   {
    "duration": 46,
    "start_time": "2023-08-25T10:43:32.333Z"
   },
   {
    "duration": 99,
    "start_time": "2023-08-25T10:43:32.381Z"
   },
   {
    "duration": 9,
    "start_time": "2023-08-25T10:43:32.484Z"
   },
   {
    "duration": 15,
    "start_time": "2023-08-25T10:43:32.496Z"
   },
   {
    "duration": 25,
    "start_time": "2023-08-25T10:43:32.513Z"
   },
   {
    "duration": 19,
    "start_time": "2023-08-25T10:43:32.540Z"
   },
   {
    "duration": 169,
    "start_time": "2023-08-25T10:43:32.561Z"
   },
   {
    "duration": 72,
    "start_time": "2023-08-25T10:43:32.731Z"
   },
   {
    "duration": 6,
    "start_time": "2023-08-25T10:43:32.805Z"
   },
   {
    "duration": 1594,
    "start_time": "2023-08-25T10:43:32.813Z"
   },
   {
    "duration": 13,
    "start_time": "2023-08-25T10:43:34.409Z"
   },
   {
    "duration": 17,
    "start_time": "2023-08-25T10:43:34.424Z"
   },
   {
    "duration": 10,
    "start_time": "2023-08-25T10:43:34.456Z"
   },
   {
    "duration": 1356,
    "start_time": "2023-08-25T10:43:34.468Z"
   },
   {
    "duration": 596,
    "start_time": "2023-08-25T10:43:35.826Z"
   },
   {
    "duration": 5883,
    "start_time": "2023-08-25T10:43:36.424Z"
   },
   {
    "duration": 49214,
    "start_time": "2023-08-25T10:43:42.309Z"
   },
   {
    "duration": 4633,
    "start_time": "2023-08-25T10:44:31.525Z"
   },
   {
    "duration": 268,
    "start_time": "2023-08-25T10:44:36.160Z"
   },
   {
    "duration": 1546,
    "start_time": "2023-08-25T10:44:36.433Z"
   },
   {
    "duration": 41,
    "start_time": "2023-08-25T10:44:37.981Z"
   },
   {
    "duration": 6,
    "start_time": "2023-08-25T11:03:14.219Z"
   },
   {
    "duration": 3117,
    "start_time": "2023-08-25T11:38:56.734Z"
   },
   {
    "duration": 2494,
    "start_time": "2023-08-25T11:38:59.855Z"
   },
   {
    "duration": 15,
    "start_time": "2023-08-25T11:39:02.352Z"
   },
   {
    "duration": 282,
    "start_time": "2023-08-25T11:39:02.372Z"
   },
   {
    "duration": 23,
    "start_time": "2023-08-25T11:39:02.656Z"
   },
   {
    "duration": 38,
    "start_time": "2023-08-25T11:39:02.681Z"
   },
   {
    "duration": 45,
    "start_time": "2023-08-25T11:39:02.721Z"
   },
   {
    "duration": 27,
    "start_time": "2023-08-25T11:39:02.775Z"
   },
   {
    "duration": 7,
    "start_time": "2023-08-25T11:39:02.804Z"
   },
   {
    "duration": 21,
    "start_time": "2023-08-25T11:39:02.813Z"
   },
   {
    "duration": 14,
    "start_time": "2023-08-25T11:39:02.836Z"
   },
   {
    "duration": 45,
    "start_time": "2023-08-25T11:39:02.852Z"
   },
   {
    "duration": 215,
    "start_time": "2023-08-25T11:39:02.898Z"
   },
   {
    "duration": 8,
    "start_time": "2023-08-25T11:39:03.115Z"
   },
   {
    "duration": 21,
    "start_time": "2023-08-25T11:39:03.125Z"
   },
   {
    "duration": 47,
    "start_time": "2023-08-25T11:39:03.148Z"
   },
   {
    "duration": 27,
    "start_time": "2023-08-25T11:39:03.198Z"
   },
   {
    "duration": 9,
    "start_time": "2023-08-25T11:39:03.227Z"
   },
   {
    "duration": 7772,
    "start_time": "2023-08-25T11:39:03.238Z"
   },
   {
    "duration": 4,
    "start_time": "2023-08-25T11:39:11.012Z"
   },
   {
    "duration": 3495,
    "start_time": "2023-08-25T11:39:11.017Z"
   },
   {
    "duration": 15,
    "start_time": "2023-08-25T11:39:14.515Z"
   },
   {
    "duration": 5,
    "start_time": "2023-08-25T11:39:14.532Z"
   },
   {
    "duration": 14,
    "start_time": "2023-08-25T11:39:14.558Z"
   },
   {
    "duration": 26,
    "start_time": "2023-08-25T11:39:14.573Z"
   },
   {
    "duration": 11,
    "start_time": "2023-08-25T11:39:14.601Z"
   },
   {
    "duration": 4,
    "start_time": "2023-08-25T11:39:14.614Z"
   },
   {
    "duration": 11,
    "start_time": "2023-08-25T11:39:14.621Z"
   },
   {
    "duration": 4,
    "start_time": "2023-08-25T11:39:14.634Z"
   },
   {
    "duration": 37,
    "start_time": "2023-08-25T11:39:14.640Z"
   },
   {
    "duration": 17,
    "start_time": "2023-08-25T11:39:14.686Z"
   },
   {
    "duration": 84,
    "start_time": "2023-08-25T11:39:14.705Z"
   },
   {
    "duration": 11,
    "start_time": "2023-08-25T11:39:14.790Z"
   },
   {
    "duration": 11,
    "start_time": "2023-08-25T11:39:14.803Z"
   },
   {
    "duration": 22,
    "start_time": "2023-08-25T11:39:14.815Z"
   },
   {
    "duration": 20,
    "start_time": "2023-08-25T11:39:14.839Z"
   },
   {
    "duration": 37,
    "start_time": "2023-08-25T11:39:14.861Z"
   },
   {
    "duration": 73,
    "start_time": "2023-08-25T11:39:14.900Z"
   },
   {
    "duration": 7,
    "start_time": "2023-08-25T11:39:14.975Z"
   },
   {
    "duration": 1958,
    "start_time": "2023-08-25T11:39:14.984Z"
   },
   {
    "duration": 24,
    "start_time": "2023-08-25T11:39:16.945Z"
   },
   {
    "duration": 18,
    "start_time": "2023-08-25T11:39:16.976Z"
   },
   {
    "duration": 21,
    "start_time": "2023-08-25T11:39:16.998Z"
   },
   {
    "duration": 1519,
    "start_time": "2023-08-25T11:39:17.022Z"
   },
   {
    "duration": 711,
    "start_time": "2023-08-25T11:39:18.543Z"
   },
   {
    "duration": 154,
    "start_time": "2023-08-25T11:39:19.258Z"
   },
   {
    "duration": 0,
    "start_time": "2023-08-25T11:39:19.414Z"
   },
   {
    "duration": 0,
    "start_time": "2023-08-25T11:39:19.420Z"
   },
   {
    "duration": 0,
    "start_time": "2023-08-25T11:39:19.424Z"
   },
   {
    "duration": 0,
    "start_time": "2023-08-25T11:39:19.426Z"
   },
   {
    "duration": 0,
    "start_time": "2023-08-25T11:39:19.427Z"
   },
   {
    "duration": 0,
    "start_time": "2023-08-25T11:39:19.429Z"
   },
   {
    "duration": 88,
    "start_time": "2023-08-25T11:40:06.899Z"
   },
   {
    "duration": 87,
    "start_time": "2023-08-25T11:40:47.242Z"
   },
   {
    "duration": 5,
    "start_time": "2023-08-25T11:40:59.912Z"
   },
   {
    "duration": 101641,
    "start_time": "2023-08-25T11:41:23.278Z"
   },
   {
    "duration": 93,
    "start_time": "2023-08-25T11:49:43.694Z"
   },
   {
    "duration": 638,
    "start_time": "2023-08-25T11:49:57.085Z"
   },
   {
    "duration": 2998,
    "start_time": "2023-08-25T11:50:35.327Z"
   },
   {
    "duration": 2369,
    "start_time": "2023-08-25T11:50:38.328Z"
   },
   {
    "duration": 4,
    "start_time": "2023-08-25T11:50:40.700Z"
   },
   {
    "duration": 243,
    "start_time": "2023-08-25T11:50:40.706Z"
   },
   {
    "duration": 26,
    "start_time": "2023-08-25T11:50:40.951Z"
   },
   {
    "duration": 37,
    "start_time": "2023-08-25T11:50:40.983Z"
   },
   {
    "duration": 17,
    "start_time": "2023-08-25T11:50:41.022Z"
   },
   {
    "duration": 37,
    "start_time": "2023-08-25T11:50:41.041Z"
   },
   {
    "duration": 2,
    "start_time": "2023-08-25T11:50:41.080Z"
   },
   {
    "duration": 24,
    "start_time": "2023-08-25T11:50:41.086Z"
   },
   {
    "duration": 9,
    "start_time": "2023-08-25T11:50:41.112Z"
   },
   {
    "duration": 13,
    "start_time": "2023-08-25T11:50:41.123Z"
   },
   {
    "duration": 204,
    "start_time": "2023-08-25T11:50:41.138Z"
   },
   {
    "duration": 9,
    "start_time": "2023-08-25T11:50:41.345Z"
   },
   {
    "duration": 24,
    "start_time": "2023-08-25T11:50:41.369Z"
   },
   {
    "duration": 29,
    "start_time": "2023-08-25T11:50:41.399Z"
   },
   {
    "duration": 32,
    "start_time": "2023-08-25T11:50:41.430Z"
   },
   {
    "duration": 8,
    "start_time": "2023-08-25T11:50:41.463Z"
   },
   {
    "duration": 7793,
    "start_time": "2023-08-25T11:50:41.473Z"
   },
   {
    "duration": 3,
    "start_time": "2023-08-25T11:50:49.268Z"
   },
   {
    "duration": 3499,
    "start_time": "2023-08-25T11:50:49.274Z"
   },
   {
    "duration": 24,
    "start_time": "2023-08-25T11:50:52.777Z"
   },
   {
    "duration": 6,
    "start_time": "2023-08-25T11:50:52.804Z"
   },
   {
    "duration": 13,
    "start_time": "2023-08-25T11:50:52.811Z"
   },
   {
    "duration": 6,
    "start_time": "2023-08-25T11:50:52.826Z"
   },
   {
    "duration": 21,
    "start_time": "2023-08-25T11:50:52.834Z"
   },
   {
    "duration": 10,
    "start_time": "2023-08-25T11:50:52.862Z"
   },
   {
    "duration": 22,
    "start_time": "2023-08-25T11:50:52.875Z"
   },
   {
    "duration": 12,
    "start_time": "2023-08-25T11:50:52.899Z"
   },
   {
    "duration": 24,
    "start_time": "2023-08-25T11:50:52.913Z"
   },
   {
    "duration": 39,
    "start_time": "2023-08-25T11:50:52.939Z"
   },
   {
    "duration": 116,
    "start_time": "2023-08-25T11:50:52.980Z"
   },
   {
    "duration": 8,
    "start_time": "2023-08-25T11:50:53.099Z"
   },
   {
    "duration": 22,
    "start_time": "2023-08-25T11:50:53.109Z"
   },
   {
    "duration": 14,
    "start_time": "2023-08-25T11:50:53.133Z"
   },
   {
    "duration": 30,
    "start_time": "2023-08-25T11:50:53.149Z"
   },
   {
    "duration": 34,
    "start_time": "2023-08-25T11:50:53.186Z"
   },
   {
    "duration": 247,
    "start_time": "2023-08-25T11:50:53.222Z"
   },
   {
    "duration": 7,
    "start_time": "2023-08-25T11:50:53.470Z"
   },
   {
    "duration": 1835,
    "start_time": "2023-08-25T11:50:53.479Z"
   },
   {
    "duration": 12,
    "start_time": "2023-08-25T11:50:55.318Z"
   },
   {
    "duration": 37,
    "start_time": "2023-08-25T11:50:55.332Z"
   },
   {
    "duration": 11,
    "start_time": "2023-08-25T11:50:55.381Z"
   },
   {
    "duration": 1325,
    "start_time": "2023-08-25T11:50:55.394Z"
   },
   {
    "duration": 598,
    "start_time": "2023-08-25T11:50:56.721Z"
   },
   {
    "duration": 93171,
    "start_time": "2023-08-25T11:50:57.321Z"
   },
   {
    "duration": 629,
    "start_time": "2023-08-25T11:52:30.494Z"
   },
   {
    "duration": 6017,
    "start_time": "2023-08-25T11:52:31.125Z"
   },
   {
    "duration": 50866,
    "start_time": "2023-08-25T11:52:37.144Z"
   },
   {
    "duration": 4450,
    "start_time": "2023-08-25T11:53:28.012Z"
   },
   {
    "duration": 248,
    "start_time": "2023-08-25T11:53:32.464Z"
   },
   {
    "duration": 1730,
    "start_time": "2023-08-25T11:53:32.714Z"
   },
   {
    "duration": 60,
    "start_time": "2023-08-25T11:53:34.446Z"
   },
   {
    "duration": 2861,
    "start_time": "2023-08-25T12:02:32.187Z"
   },
   {
    "duration": 2285,
    "start_time": "2023-08-25T12:02:35.051Z"
   },
   {
    "duration": 2029,
    "start_time": "2023-08-25T12:02:37.339Z"
   },
   {
    "duration": 255,
    "start_time": "2023-08-25T12:02:39.370Z"
   },
   {
    "duration": 21,
    "start_time": "2023-08-25T12:02:39.628Z"
   },
   {
    "duration": 38,
    "start_time": "2023-08-25T12:02:39.656Z"
   },
   {
    "duration": 17,
    "start_time": "2023-08-25T12:02:39.696Z"
   },
   {
    "duration": 26,
    "start_time": "2023-08-25T12:02:39.715Z"
   },
   {
    "duration": 24,
    "start_time": "2023-08-25T12:02:39.743Z"
   },
   {
    "duration": 74,
    "start_time": "2023-08-25T12:02:39.781Z"
   },
   {
    "duration": 16,
    "start_time": "2023-08-25T12:02:39.859Z"
   },
   {
    "duration": 37,
    "start_time": "2023-08-25T12:02:39.877Z"
   },
   {
    "duration": 210,
    "start_time": "2023-08-25T12:02:39.916Z"
   },
   {
    "duration": 4,
    "start_time": "2023-08-25T12:02:40.129Z"
   },
   {
    "duration": 114,
    "start_time": "2023-08-25T12:02:40.135Z"
   },
   {
    "duration": 45,
    "start_time": "2023-08-25T12:02:40.251Z"
   },
   {
    "duration": 32,
    "start_time": "2023-08-25T12:02:40.297Z"
   },
   {
    "duration": 3,
    "start_time": "2023-08-25T12:02:40.331Z"
   },
   {
    "duration": 7480,
    "start_time": "2023-08-25T12:02:40.336Z"
   },
   {
    "duration": 4,
    "start_time": "2023-08-25T12:02:47.818Z"
   },
   {
    "duration": 3431,
    "start_time": "2023-08-25T12:02:47.824Z"
   },
   {
    "duration": 34,
    "start_time": "2023-08-25T12:02:51.261Z"
   },
   {
    "duration": 6,
    "start_time": "2023-08-25T12:02:51.301Z"
   },
   {
    "duration": 32,
    "start_time": "2023-08-25T12:02:51.309Z"
   },
   {
    "duration": 37,
    "start_time": "2023-08-25T12:02:51.343Z"
   },
   {
    "duration": 11,
    "start_time": "2023-08-25T12:02:51.385Z"
   },
   {
    "duration": 15,
    "start_time": "2023-08-25T12:02:51.398Z"
   },
   {
    "duration": 16,
    "start_time": "2023-08-25T12:02:51.415Z"
   },
   {
    "duration": 12,
    "start_time": "2023-08-25T12:02:51.433Z"
   },
   {
    "duration": 39,
    "start_time": "2023-08-25T12:02:51.447Z"
   },
   {
    "duration": 33,
    "start_time": "2023-08-25T12:02:51.491Z"
   },
   {
    "duration": 101,
    "start_time": "2023-08-25T12:02:51.526Z"
   },
   {
    "duration": 7,
    "start_time": "2023-08-25T12:02:51.629Z"
   },
   {
    "duration": 7,
    "start_time": "2023-08-25T12:02:51.638Z"
   },
   {
    "duration": 34,
    "start_time": "2023-08-25T12:02:51.646Z"
   },
   {
    "duration": 12,
    "start_time": "2023-08-25T12:02:51.688Z"
   },
   {
    "duration": 10,
    "start_time": "2023-08-25T12:02:51.701Z"
   },
   {
    "duration": 72,
    "start_time": "2023-08-25T12:02:51.712Z"
   },
   {
    "duration": 6,
    "start_time": "2023-08-25T12:02:51.791Z"
   },
   {
    "duration": 1876,
    "start_time": "2023-08-25T12:02:51.799Z"
   },
   {
    "duration": 14,
    "start_time": "2023-08-25T12:02:53.686Z"
   },
   {
    "duration": 28,
    "start_time": "2023-08-25T12:02:53.702Z"
   },
   {
    "duration": 22,
    "start_time": "2023-08-25T12:02:53.732Z"
   },
   {
    "duration": 1470,
    "start_time": "2023-08-25T12:02:53.756Z"
   },
   {
    "duration": 616,
    "start_time": "2023-08-25T12:02:55.229Z"
   },
   {
    "duration": 91844,
    "start_time": "2023-08-25T12:02:55.847Z"
   },
   {
    "duration": 592,
    "start_time": "2023-08-25T12:04:27.693Z"
   },
   {
    "duration": 6080,
    "start_time": "2023-08-25T12:04:28.287Z"
   },
   {
    "duration": 50745,
    "start_time": "2023-08-25T12:04:34.368Z"
   },
   {
    "duration": 4446,
    "start_time": "2023-08-25T12:05:25.115Z"
   },
   {
    "duration": 269,
    "start_time": "2023-08-25T12:05:29.562Z"
   },
   {
    "duration": 1692,
    "start_time": "2023-08-25T12:05:29.833Z"
   },
   {
    "duration": 60,
    "start_time": "2023-08-25T12:05:31.527Z"
   },
   {
    "duration": 179,
    "start_time": "2023-08-25T12:05:31.590Z"
   },
   {
    "duration": 596,
    "start_time": "2023-08-25T12:08:54.882Z"
   },
   {
    "duration": 2998,
    "start_time": "2023-08-25T12:09:53.711Z"
   },
   {
    "duration": 2483,
    "start_time": "2023-08-25T12:09:56.711Z"
   },
   {
    "duration": 9,
    "start_time": "2023-08-25T12:09:59.197Z"
   },
   {
    "duration": 242,
    "start_time": "2023-08-25T12:09:59.209Z"
   },
   {
    "duration": 32,
    "start_time": "2023-08-25T12:09:59.452Z"
   },
   {
    "duration": 38,
    "start_time": "2023-08-25T12:09:59.486Z"
   },
   {
    "duration": 16,
    "start_time": "2023-08-25T12:09:59.526Z"
   },
   {
    "duration": 43,
    "start_time": "2023-08-25T12:09:59.544Z"
   },
   {
    "duration": 3,
    "start_time": "2023-08-25T12:09:59.590Z"
   },
   {
    "duration": 3,
    "start_time": "2023-08-25T12:09:59.596Z"
   },
   {
    "duration": 13,
    "start_time": "2023-08-25T12:09:59.600Z"
   },
   {
    "duration": 17,
    "start_time": "2023-08-25T12:09:59.614Z"
   },
   {
    "duration": 197,
    "start_time": "2023-08-25T12:09:59.633Z"
   },
   {
    "duration": 7,
    "start_time": "2023-08-25T12:09:59.832Z"
   },
   {
    "duration": 31,
    "start_time": "2023-08-25T12:09:59.841Z"
   },
   {
    "duration": 39,
    "start_time": "2023-08-25T12:09:59.873Z"
   },
   {
    "duration": 26,
    "start_time": "2023-08-25T12:09:59.914Z"
   },
   {
    "duration": 4,
    "start_time": "2023-08-25T12:09:59.942Z"
   },
   {
    "duration": 7296,
    "start_time": "2023-08-25T12:09:59.948Z"
   },
   {
    "duration": 3,
    "start_time": "2023-08-25T12:10:07.245Z"
   },
   {
    "duration": 3288,
    "start_time": "2023-08-25T12:10:07.257Z"
   },
   {
    "duration": 35,
    "start_time": "2023-08-25T12:10:10.548Z"
   },
   {
    "duration": 5,
    "start_time": "2023-08-25T12:10:10.586Z"
   },
   {
    "duration": 26,
    "start_time": "2023-08-25T12:10:10.593Z"
   },
   {
    "duration": 6,
    "start_time": "2023-08-25T12:10:10.621Z"
   },
   {
    "duration": 8,
    "start_time": "2023-08-25T12:10:10.629Z"
   },
   {
    "duration": 7,
    "start_time": "2023-08-25T12:10:10.639Z"
   },
   {
    "duration": 33,
    "start_time": "2023-08-25T12:10:10.650Z"
   },
   {
    "duration": 6,
    "start_time": "2023-08-25T12:10:10.685Z"
   },
   {
    "duration": 21,
    "start_time": "2023-08-25T12:10:10.693Z"
   },
   {
    "duration": 17,
    "start_time": "2023-08-25T12:10:10.715Z"
   },
   {
    "duration": 87,
    "start_time": "2023-08-25T12:10:10.734Z"
   },
   {
    "duration": 9,
    "start_time": "2023-08-25T12:10:10.823Z"
   },
   {
    "duration": 47,
    "start_time": "2023-08-25T12:10:10.834Z"
   },
   {
    "duration": 9,
    "start_time": "2023-08-25T12:10:10.883Z"
   },
   {
    "duration": 43,
    "start_time": "2023-08-25T12:10:10.894Z"
   },
   {
    "duration": 32,
    "start_time": "2023-08-25T12:10:10.939Z"
   },
   {
    "duration": 58,
    "start_time": "2023-08-25T12:10:10.973Z"
   },
   {
    "duration": 6,
    "start_time": "2023-08-25T12:10:11.033Z"
   },
   {
    "duration": 1703,
    "start_time": "2023-08-25T12:10:11.041Z"
   },
   {
    "duration": 24,
    "start_time": "2023-08-25T12:10:12.746Z"
   },
   {
    "duration": 22,
    "start_time": "2023-08-25T12:10:12.771Z"
   },
   {
    "duration": 10,
    "start_time": "2023-08-25T12:10:12.795Z"
   },
   {
    "duration": 1312,
    "start_time": "2023-08-25T12:10:12.807Z"
   },
   {
    "duration": 570,
    "start_time": "2023-08-25T12:10:14.121Z"
   },
   {
    "duration": 93247,
    "start_time": "2023-08-25T12:10:14.692Z"
   },
   {
    "duration": 619,
    "start_time": "2023-08-25T12:11:47.942Z"
   },
   {
    "duration": 5849,
    "start_time": "2023-08-25T12:11:48.571Z"
   },
   {
    "duration": 48969,
    "start_time": "2023-08-25T12:11:54.422Z"
   },
   {
    "duration": 4066,
    "start_time": "2023-08-25T12:12:43.393Z"
   },
   {
    "duration": 251,
    "start_time": "2023-08-25T12:12:47.461Z"
   },
   {
    "duration": 1730,
    "start_time": "2023-08-25T12:12:47.714Z"
   },
   {
    "duration": 59,
    "start_time": "2023-08-25T12:12:49.446Z"
   },
   {
    "duration": 16,
    "start_time": "2023-08-25T12:13:31.910Z"
   },
   {
    "duration": 149852,
    "start_time": "2023-08-25T12:24:12.843Z"
   },
   {
    "duration": 14,
    "start_time": "2023-08-25T12:35:25.610Z"
   },
   {
    "duration": 95795,
    "start_time": "2023-08-25T12:37:37.435Z"
   },
   {
    "duration": 206081,
    "start_time": "2023-08-25T12:43:14.630Z"
   },
   {
    "duration": 2766,
    "start_time": "2023-08-25T13:11:07.948Z"
   },
   {
    "duration": 2254,
    "start_time": "2023-08-25T13:11:10.717Z"
   },
   {
    "duration": 1935,
    "start_time": "2023-08-25T13:11:12.973Z"
   },
   {
    "duration": 260,
    "start_time": "2023-08-25T13:11:14.910Z"
   },
   {
    "duration": 22,
    "start_time": "2023-08-25T13:11:15.172Z"
   },
   {
    "duration": 46,
    "start_time": "2023-08-25T13:11:15.196Z"
   },
   {
    "duration": 25,
    "start_time": "2023-08-25T13:11:15.244Z"
   },
   {
    "duration": 33,
    "start_time": "2023-08-25T13:11:15.271Z"
   },
   {
    "duration": 5,
    "start_time": "2023-08-25T13:11:15.306Z"
   },
   {
    "duration": 23,
    "start_time": "2023-08-25T13:11:15.314Z"
   },
   {
    "duration": 13,
    "start_time": "2023-08-25T13:11:15.339Z"
   },
   {
    "duration": 17,
    "start_time": "2023-08-25T13:11:15.354Z"
   },
   {
    "duration": 205,
    "start_time": "2023-08-25T13:11:15.373Z"
   },
   {
    "duration": 5,
    "start_time": "2023-08-25T13:11:15.580Z"
   },
   {
    "duration": 30,
    "start_time": "2023-08-25T13:11:15.586Z"
   },
   {
    "duration": 60,
    "start_time": "2023-08-25T13:11:15.618Z"
   },
   {
    "duration": 35,
    "start_time": "2023-08-25T13:11:15.680Z"
   },
   {
    "duration": 3,
    "start_time": "2023-08-25T13:11:15.717Z"
   },
   {
    "duration": 7370,
    "start_time": "2023-08-25T13:11:15.721Z"
   },
   {
    "duration": 3,
    "start_time": "2023-08-25T13:11:23.093Z"
   },
   {
    "duration": 3278,
    "start_time": "2023-08-25T13:11:23.098Z"
   },
   {
    "duration": 16,
    "start_time": "2023-08-25T13:11:26.378Z"
   },
   {
    "duration": 5,
    "start_time": "2023-08-25T13:11:26.397Z"
   },
   {
    "duration": 27,
    "start_time": "2023-08-25T13:11:26.403Z"
   },
   {
    "duration": 6,
    "start_time": "2023-08-25T13:11:26.432Z"
   },
   {
    "duration": 28,
    "start_time": "2023-08-25T13:11:26.440Z"
   },
   {
    "duration": 5,
    "start_time": "2023-08-25T13:11:26.470Z"
   },
   {
    "duration": 39,
    "start_time": "2023-08-25T13:11:26.479Z"
   },
   {
    "duration": 11,
    "start_time": "2023-08-25T13:11:26.521Z"
   },
   {
    "duration": 19,
    "start_time": "2023-08-25T13:11:26.533Z"
   },
   {
    "duration": 27,
    "start_time": "2023-08-25T13:11:26.554Z"
   },
   {
    "duration": 75,
    "start_time": "2023-08-25T13:11:26.582Z"
   },
   {
    "duration": 16,
    "start_time": "2023-08-25T13:11:26.658Z"
   },
   {
    "duration": 29,
    "start_time": "2023-08-25T13:11:26.676Z"
   },
   {
    "duration": 39,
    "start_time": "2023-08-25T13:11:26.707Z"
   },
   {
    "duration": 46,
    "start_time": "2023-08-25T13:11:26.748Z"
   },
   {
    "duration": 81,
    "start_time": "2023-08-25T13:11:26.796Z"
   },
   {
    "duration": 99,
    "start_time": "2023-08-25T13:11:26.879Z"
   },
   {
    "duration": 6,
    "start_time": "2023-08-25T13:11:26.980Z"
   },
   {
    "duration": 1781,
    "start_time": "2023-08-25T13:11:26.989Z"
   },
   {
    "duration": 14,
    "start_time": "2023-08-25T13:11:28.773Z"
   },
   {
    "duration": 31,
    "start_time": "2023-08-25T13:11:28.788Z"
   },
   {
    "duration": 14,
    "start_time": "2023-08-25T13:11:28.824Z"
   },
   {
    "duration": 1439,
    "start_time": "2023-08-25T13:11:28.840Z"
   },
   {
    "duration": 632,
    "start_time": "2023-08-25T13:11:30.282Z"
   },
   {
    "duration": 152393,
    "start_time": "2023-08-25T13:11:30.916Z"
   },
   {
    "duration": 221708,
    "start_time": "2023-08-25T13:14:03.311Z"
   },
   {
    "duration": 468654,
    "start_time": "2023-08-25T13:17:45.021Z"
   },
   {
    "duration": 315,
    "start_time": "2023-08-25T13:25:33.679Z"
   },
   {
    "duration": 1738,
    "start_time": "2023-08-25T13:25:33.997Z"
   },
   {
    "duration": 64,
    "start_time": "2023-08-25T13:25:35.737Z"
   },
   {
    "duration": 160,
    "start_time": "2023-08-25T13:36:21.962Z"
   },
   {
    "duration": 276,
    "start_time": "2023-08-25T13:36:29.003Z"
   },
   {
    "duration": 66,
    "start_time": "2023-08-25T13:37:06.585Z"
   },
   {
    "duration": 71,
    "start_time": "2023-08-25T13:37:38.623Z"
   },
   {
    "duration": 2916,
    "start_time": "2023-08-25T13:38:08.615Z"
   },
   {
    "duration": 2489,
    "start_time": "2023-08-25T13:38:11.534Z"
   },
   {
    "duration": 4,
    "start_time": "2023-08-25T13:38:14.025Z"
   },
   {
    "duration": 248,
    "start_time": "2023-08-25T13:38:14.033Z"
   },
   {
    "duration": 20,
    "start_time": "2023-08-25T13:38:14.288Z"
   },
   {
    "duration": 31,
    "start_time": "2023-08-25T13:38:14.310Z"
   },
   {
    "duration": 28,
    "start_time": "2023-08-25T13:38:14.343Z"
   },
   {
    "duration": 20,
    "start_time": "2023-08-25T13:38:14.377Z"
   },
   {
    "duration": 2,
    "start_time": "2023-08-25T13:38:14.399Z"
   },
   {
    "duration": 32,
    "start_time": "2023-08-25T13:38:14.404Z"
   },
   {
    "duration": 10,
    "start_time": "2023-08-25T13:38:14.438Z"
   },
   {
    "duration": 24,
    "start_time": "2023-08-25T13:38:14.450Z"
   },
   {
    "duration": 192,
    "start_time": "2023-08-25T13:38:14.476Z"
   },
   {
    "duration": 10,
    "start_time": "2023-08-25T13:38:14.680Z"
   },
   {
    "duration": 40,
    "start_time": "2023-08-25T13:38:14.691Z"
   },
   {
    "duration": 78,
    "start_time": "2023-08-25T13:38:14.733Z"
   },
   {
    "duration": 26,
    "start_time": "2023-08-25T13:38:14.813Z"
   },
   {
    "duration": 5,
    "start_time": "2023-08-25T13:38:14.841Z"
   },
   {
    "duration": 7571,
    "start_time": "2023-08-25T13:38:14.848Z"
   },
   {
    "duration": 3,
    "start_time": "2023-08-25T13:38:22.422Z"
   },
   {
    "duration": 3406,
    "start_time": "2023-08-25T13:38:22.427Z"
   },
   {
    "duration": 26,
    "start_time": "2023-08-25T13:38:25.834Z"
   },
   {
    "duration": 15,
    "start_time": "2023-08-25T13:38:25.868Z"
   },
   {
    "duration": 20,
    "start_time": "2023-08-25T13:38:25.887Z"
   },
   {
    "duration": 5,
    "start_time": "2023-08-25T13:38:25.909Z"
   },
   {
    "duration": 24,
    "start_time": "2023-08-25T13:38:25.916Z"
   },
   {
    "duration": 43,
    "start_time": "2023-08-25T13:38:25.942Z"
   },
   {
    "duration": 13,
    "start_time": "2023-08-25T13:38:25.990Z"
   },
   {
    "duration": 5,
    "start_time": "2023-08-25T13:38:26.005Z"
   },
   {
    "duration": 23,
    "start_time": "2023-08-25T13:38:26.011Z"
   },
   {
    "duration": 22,
    "start_time": "2023-08-25T13:38:26.036Z"
   },
   {
    "duration": 82,
    "start_time": "2023-08-25T13:38:26.066Z"
   },
   {
    "duration": 9,
    "start_time": "2023-08-25T13:38:26.150Z"
   },
   {
    "duration": 14,
    "start_time": "2023-08-25T13:38:26.168Z"
   },
   {
    "duration": 46,
    "start_time": "2023-08-25T13:38:26.184Z"
   },
   {
    "duration": 34,
    "start_time": "2023-08-25T13:38:26.232Z"
   },
   {
    "duration": 21,
    "start_time": "2023-08-25T13:38:26.268Z"
   },
   {
    "duration": 63,
    "start_time": "2023-08-25T13:38:26.291Z"
   },
   {
    "duration": 12,
    "start_time": "2023-08-25T13:38:26.356Z"
   },
   {
    "duration": 1779,
    "start_time": "2023-08-25T13:38:26.374Z"
   },
   {
    "duration": 15,
    "start_time": "2023-08-25T13:38:28.160Z"
   },
   {
    "duration": 28,
    "start_time": "2023-08-25T13:38:28.179Z"
   },
   {
    "duration": 23,
    "start_time": "2023-08-25T13:38:28.209Z"
   },
   {
    "duration": 1588,
    "start_time": "2023-08-25T13:38:28.234Z"
   },
   {
    "duration": 665,
    "start_time": "2023-08-25T13:38:29.825Z"
   },
   {
    "duration": 151837,
    "start_time": "2023-08-25T13:38:30.493Z"
   },
   {
    "duration": 213900,
    "start_time": "2023-08-25T13:41:02.332Z"
   },
   {
    "duration": 78,
    "start_time": "2023-08-25T13:44:36.234Z"
   },
   {
    "duration": 0,
    "start_time": "2023-08-25T13:44:36.313Z"
   },
   {
    "duration": 0,
    "start_time": "2023-08-25T13:44:36.315Z"
   },
   {
    "duration": 0,
    "start_time": "2023-08-25T13:44:36.316Z"
   },
   {
    "duration": 116641,
    "start_time": "2023-08-25T13:47:36.820Z"
   },
   {
    "duration": 188041,
    "start_time": "2023-08-25T13:49:42.619Z"
   },
   {
    "duration": 15,
    "start_time": "2023-08-25T14:05:51.531Z"
   },
   {
    "duration": 177655,
    "start_time": "2023-08-25T14:06:22.117Z"
   },
   {
    "duration": 66389,
    "start_time": "2023-08-25T14:20:15.586Z"
   },
   {
    "duration": 223789,
    "start_time": "2023-08-25T14:25:31.890Z"
   },
   {
    "duration": 237332,
    "start_time": "2023-08-25T14:43:09.946Z"
   },
   {
    "duration": 151,
    "start_time": "2023-08-25T14:52:24.935Z"
   },
   {
    "duration": 1536,
    "start_time": "2023-08-25T14:52:30.005Z"
   },
   {
    "duration": 262,
    "start_time": "2023-08-25T14:52:37.133Z"
   },
   {
    "duration": 231,
    "start_time": "2023-08-25T14:59:56.730Z"
   },
   {
    "duration": 2653,
    "start_time": "2023-08-25T15:14:10.330Z"
   },
   {
    "duration": 2157,
    "start_time": "2023-08-25T15:14:12.985Z"
   },
   {
    "duration": 1934,
    "start_time": "2023-08-25T15:14:15.145Z"
   },
   {
    "duration": 257,
    "start_time": "2023-08-25T15:14:17.081Z"
   },
   {
    "duration": 27,
    "start_time": "2023-08-25T15:14:17.340Z"
   },
   {
    "duration": 26,
    "start_time": "2023-08-25T15:14:17.369Z"
   },
   {
    "duration": 21,
    "start_time": "2023-08-25T15:14:17.398Z"
   },
   {
    "duration": 42,
    "start_time": "2023-08-25T15:14:17.421Z"
   },
   {
    "duration": 42502,
    "start_time": "2023-08-25T15:14:17.465Z"
   },
   {
    "duration": 40187,
    "start_time": "2023-08-25T15:14:59.971Z"
   },
   {
    "duration": 7,
    "start_time": "2023-08-25T15:15:40.160Z"
   },
   {
    "duration": 20,
    "start_time": "2023-08-25T15:15:40.168Z"
   },
   {
    "duration": 369,
    "start_time": "2023-08-25T15:15:40.190Z"
   },
   {
    "duration": 5,
    "start_time": "2023-08-25T15:15:40.560Z"
   },
   {
    "duration": 25,
    "start_time": "2023-08-25T15:15:40.567Z"
   },
   {
    "duration": 35,
    "start_time": "2023-08-25T15:15:40.594Z"
   },
   {
    "duration": 53,
    "start_time": "2023-08-25T15:15:40.631Z"
   },
   {
    "duration": 3,
    "start_time": "2023-08-25T15:15:40.686Z"
   },
   {
    "duration": 6476,
    "start_time": "2023-08-25T15:15:40.691Z"
   },
   {
    "duration": 3,
    "start_time": "2023-08-25T15:15:47.169Z"
   },
   {
    "duration": 3099,
    "start_time": "2023-08-25T15:15:47.174Z"
   },
   {
    "duration": 14,
    "start_time": "2023-08-25T15:15:50.275Z"
   },
   {
    "duration": 45,
    "start_time": "2023-08-25T15:15:50.291Z"
   },
   {
    "duration": 21,
    "start_time": "2023-08-25T15:15:50.338Z"
   },
   {
    "duration": 5,
    "start_time": "2023-08-25T15:15:50.361Z"
   },
   {
    "duration": 10,
    "start_time": "2023-08-25T15:15:50.368Z"
   },
   {
    "duration": 13,
    "start_time": "2023-08-25T15:15:50.380Z"
   },
   {
    "duration": 18,
    "start_time": "2023-08-25T15:15:50.396Z"
   },
   {
    "duration": 16,
    "start_time": "2023-08-25T15:15:50.416Z"
   },
   {
    "duration": 18,
    "start_time": "2023-08-25T15:15:50.434Z"
   },
   {
    "duration": 45,
    "start_time": "2023-08-25T15:15:50.454Z"
   },
   {
    "duration": 64,
    "start_time": "2023-08-25T15:15:50.501Z"
   },
   {
    "duration": 8,
    "start_time": "2023-08-25T15:15:50.567Z"
   },
   {
    "duration": 23,
    "start_time": "2023-08-25T15:15:50.577Z"
   },
   {
    "duration": 4,
    "start_time": "2023-08-25T15:15:50.601Z"
   },
   {
    "duration": 26,
    "start_time": "2023-08-25T15:15:50.606Z"
   },
   {
    "duration": 23,
    "start_time": "2023-08-25T15:15:50.634Z"
   },
   {
    "duration": 66,
    "start_time": "2023-08-25T15:15:50.658Z"
   },
   {
    "duration": 6,
    "start_time": "2023-08-25T15:15:50.725Z"
   },
   {
    "duration": 1488,
    "start_time": "2023-08-25T15:15:50.733Z"
   },
   {
    "duration": 11,
    "start_time": "2023-08-25T15:15:52.223Z"
   },
   {
    "duration": 27,
    "start_time": "2023-08-25T15:15:52.236Z"
   },
   {
    "duration": 52,
    "start_time": "2023-08-25T15:15:52.265Z"
   },
   {
    "duration": 1386,
    "start_time": "2023-08-25T15:15:52.319Z"
   },
   {
    "duration": 592,
    "start_time": "2023-08-25T15:15:53.706Z"
   },
   {
    "duration": 85586,
    "start_time": "2023-08-25T15:15:54.300Z"
   },
   {
    "duration": 195802,
    "start_time": "2023-08-25T15:17:19.887Z"
   },
   {
    "duration": 234165,
    "start_time": "2023-08-25T15:20:35.691Z"
   },
   {
    "duration": 253,
    "start_time": "2023-08-25T15:24:29.858Z"
   },
   {
    "duration": 1506,
    "start_time": "2023-08-25T15:24:30.113Z"
   },
   {
    "duration": 240,
    "start_time": "2023-08-25T15:24:31.621Z"
   },
   {
    "duration": 36,
    "start_time": "2023-08-25T15:24:31.863Z"
   }
  ],
  "kernelspec": {
   "display_name": "Python 3 (ipykernel)",
   "language": "python",
   "name": "python3"
  },
  "language_info": {
   "codemirror_mode": {
    "name": "ipython",
    "version": 3
   },
   "file_extension": ".py",
   "mimetype": "text/x-python",
   "name": "python",
   "nbconvert_exporter": "python",
   "pygments_lexer": "ipython3",
   "version": "3.9.5"
  },
  "toc": {
   "base_numbering": 1,
   "nav_menu": {},
   "number_sections": true,
   "sideBar": true,
   "skip_h1_title": true,
   "title_cell": "Table of Contents",
   "title_sidebar": "Contents",
   "toc_cell": false,
   "toc_position": {
    "height": "calc(100% - 180px)",
    "left": "10px",
    "top": "150px",
    "width": "238.797px"
   },
   "toc_section_display": true,
   "toc_window_display": true
  }
 },
 "nbformat": 4,
 "nbformat_minor": 2
}
